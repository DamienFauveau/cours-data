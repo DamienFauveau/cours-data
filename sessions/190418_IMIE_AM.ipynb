{
 "cells": [
  {
   "cell_type": "markdown",
   "metadata": {},
   "source": [
    "# 0. Import des modules"
   ]
  },
  {
   "cell_type": "code",
   "execution_count": 3,
   "metadata": {},
   "outputs": [
    {
     "name": "stderr",
     "output_type": "stream",
     "text": [
      "/home/girardea/anaconda3/lib/python3.6/importlib/_bootstrap.py:219: RuntimeWarning: numpy.ufunc size changed, may indicate binary incompatibility. Expected 216, got 192\n",
      "  return f(*args, **kwds)\n",
      "/home/girardea/anaconda3/lib/python3.6/importlib/_bootstrap.py:219: RuntimeWarning: numpy.dtype size changed, may indicate binary incompatibility. Expected 96, got 88\n",
      "  return f(*args, **kwds)\n",
      "/home/girardea/anaconda3/lib/python3.6/importlib/_bootstrap.py:219: RuntimeWarning: numpy.ufunc size changed, may indicate binary incompatibility. Expected 216, got 192\n",
      "  return f(*args, **kwds)\n"
     ]
    }
   ],
   "source": [
    "# pour faire des graphes\n",
    "%matplotlib inline\n",
    "import matplotlib.pyplot as plt\n",
    "\n",
    "# pour faire des calculs (nombres aléatoires)\n",
    "import numpy as np\n",
    "\n",
    "# pour faire des graphes de stats\n",
    "import seaborn as sns\n",
    "sns.set()"
   ]
  },
  {
   "cell_type": "markdown",
   "metadata": {},
   "source": [
    "# 1. Générer des nombres aléatoires\n",
    "\n",
    "## 1.1. Pile ou face"
   ]
  },
  {
   "cell_type": "code",
   "execution_count": 4,
   "metadata": {},
   "outputs": [
    {
     "data": {
      "text/plain": [
       "'Face'"
      ]
     },
     "execution_count": 4,
     "metadata": {},
     "output_type": "execute_result"
    }
   ],
   "source": [
    "np.random.choice(['Pile', 'Face'], p=[0.1, 0.9])"
   ]
  },
  {
   "cell_type": "markdown",
   "metadata": {},
   "source": [
    "Sur 100 tirages, combien de \"pile\" ?"
   ]
  },
  {
   "cell_type": "code",
   "execution_count": 5,
   "metadata": {},
   "outputs": [
    {
     "name": "stdout",
     "output_type": "stream",
     "text": [
      "J'ai obtenu 49 'pile'.\n"
     ]
    }
   ],
   "source": [
    "cnt = 0\n",
    "for i in range(100):\n",
    "    if np.random.choice(['Pile', 'Face']) == 'Pile':\n",
    "        cnt += 1\n",
    "        \n",
    "print(f\"J'ai obtenu {cnt} 'pile'.\")"
   ]
  },
  {
   "cell_type": "markdown",
   "metadata": {},
   "source": [
    "En une ligne :"
   ]
  },
  {
   "cell_type": "code",
   "execution_count": 6,
   "metadata": {},
   "outputs": [
    {
     "data": {
      "text/plain": [
       "52"
      ]
     },
     "execution_count": 6,
     "metadata": {},
     "output_type": "execute_result"
    }
   ],
   "source": [
    "np.sum([np.random.choice(['Pile', 'Face']) == 'Pile' for i in range(100)])"
   ]
  },
  {
   "cell_type": "code",
   "execution_count": 7,
   "metadata": {},
   "outputs": [
    {
     "data": {
      "text/plain": [
       "51"
      ]
     },
     "execution_count": 7,
     "metadata": {},
     "output_type": "execute_result"
    }
   ],
   "source": [
    "np.sum(np.random.choice(['Pile', 'Face'], size=100) == 'Pile')"
   ]
  },
  {
   "cell_type": "markdown",
   "metadata": {},
   "source": [
    "On en fait une fonction."
   ]
  },
  {
   "cell_type": "code",
   "execution_count": 8,
   "metadata": {},
   "outputs": [
    {
     "name": "stdout",
     "output_type": "stream",
     "text": [
      "52\n",
      "51\n",
      "49\n",
      "51\n",
      "46\n"
     ]
    }
   ],
   "source": [
    "def nb_piles(nb_tirages=100, p=None):\n",
    "    return np.sum(np.random.choice(['Pile', 'Face'], size=nb_tirages, p=p) == 'Pile')\n",
    "\n",
    "for i in range(5):\n",
    "    print(nb_piles())"
   ]
  },
  {
   "cell_type": "code",
   "execution_count": 9,
   "metadata": {},
   "outputs": [
    {
     "name": "stderr",
     "output_type": "stream",
     "text": [
      "/home/girardea/anaconda3/lib/python3.6/site-packages/scipy/stats/stats.py:1713: FutureWarning: Using a non-tuple sequence for multidimensional indexing is deprecated; use `arr[tuple(seq)]` instead of `arr[seq]`. In the future this will be interpreted as an array index, `arr[np.array(seq)]`, which will result either in an error or a different result.\n",
      "  return np.add.reduce(sorted[indexer] * weights, axis=axis) / sumval\n"
     ]
    },
    {
     "data": {
      "text/plain": [
       "<matplotlib.axes._subplots.AxesSubplot at 0x7f0c14c560b8>"
      ]
     },
     "execution_count": 9,
     "metadata": {},
     "output_type": "execute_result"
    },
    {
     "data": {
      "image/png": "[encoded data removed]",
      "text/plain": [
       "<Figure size 432x288 with 1 Axes>"
      ]
     },
     "metadata": {},
     "output_type": "display_data"
    }
   ],
   "source": [
    "stats = [nb_piles(p=[0.8, 0.2]) for i in range(10000)]\n",
    "\n",
    "sns.distplot(stats)"
   ]
  },
  {
   "cell_type": "code",
   "execution_count": 10,
   "metadata": {},
   "outputs": [
    {
     "data": {
      "text/plain": [
       "'Pierre'"
      ]
     },
     "execution_count": 10,
     "metadata": {},
     "output_type": "execute_result"
    }
   ],
   "source": [
    "np.random.choice(['Pierre', 'Feuille', 'Ciseaux'])"
   ]
  },
  {
   "cell_type": "markdown",
   "metadata": {},
   "source": [
    "## 1.2. Loi uniforme"
   ]
  },
  {
   "cell_type": "code",
   "execution_count": 11,
   "metadata": {},
   "outputs": [
    {
     "data": {
      "text/plain": [
       "0.21355310318049625"
      ]
     },
     "execution_count": 11,
     "metadata": {},
     "output_type": "execute_result"
    }
   ],
   "source": [
    "np.random.uniform()"
   ]
  },
  {
   "cell_type": "code",
   "execution_count": 12,
   "metadata": {},
   "outputs": [
    {
     "name": "stderr",
     "output_type": "stream",
     "text": [
      "/home/girardea/anaconda3/lib/python3.6/site-packages/scipy/stats/stats.py:1713: FutureWarning: Using a non-tuple sequence for multidimensional indexing is deprecated; use `arr[tuple(seq)]` instead of `arr[seq]`. In the future this will be interpreted as an array index, `arr[np.array(seq)]`, which will result either in an error or a different result.\n",
      "  return np.add.reduce(sorted[indexer] * weights, axis=axis) / sumval\n"
     ]
    },
    {
     "data": {
      "text/plain": [
       "<matplotlib.axes._subplots.AxesSubplot at 0x7f0c12af0128>"
      ]
     },
     "execution_count": 12,
     "metadata": {},
     "output_type": "execute_result"
    },
    {
     "data": {
      "image/png": "[encoded data removed]",
      "text/plain": [
       "<Figure size 432x288 with 1 Axes>"
      ]
     },
     "metadata": {},
     "output_type": "display_data"
    }
   ],
   "source": [
    "stats = np.random.uniform(size=10000)\n",
    "\n",
    "sns.distplot(stats, kde=False)"
   ]
  },
  {
   "cell_type": "markdown",
   "metadata": {},
   "source": [
    "## 1.3. Loi exponentielle\n",
    "\n",
    "Cela représente le temps entre deux requêtes à un serveur."
   ]
  },
  {
   "cell_type": "code",
   "execution_count": 13,
   "metadata": {},
   "outputs": [
    {
     "data": {
      "text/plain": [
       "array([0.11319245, 1.45079576, 0.44933692, 0.13919201, 1.36500825])"
      ]
     },
     "execution_count": 13,
     "metadata": {},
     "output_type": "execute_result"
    }
   ],
   "source": [
    "inter = np.random.exponential(size=5)\n",
    "inter"
   ]
  },
  {
   "cell_type": "code",
   "execution_count": 14,
   "metadata": {},
   "outputs": [
    {
     "data": {
      "text/plain": [
       "array([0.11319245, 1.56398822, 2.01332514, 2.15251715, 3.51752539])"
      ]
     },
     "execution_count": 14,
     "metadata": {},
     "output_type": "execute_result"
    }
   ],
   "source": [
    "inter.cumsum()"
   ]
  },
  {
   "cell_type": "code",
   "execution_count": 15,
   "metadata": {},
   "outputs": [
    {
     "data": {
      "text/plain": [
       "array([1.11319245, 2.56398822, 3.01332514, 3.15251715, 4.51752539])"
      ]
     },
     "execution_count": 15,
     "metadata": {},
     "output_type": "execute_result"
    }
   ],
   "source": [
    "fin = inter.cumsum() + 1.0\n",
    "fin"
   ]
  },
  {
   "cell_type": "code",
   "execution_count": 16,
   "metadata": {},
   "outputs": [
    {
     "name": "stdout",
     "output_type": "stream",
     "text": [
      "0 0.113192454984102\n",
      "1 1.450795763300324\n",
      "2 0.4493369199208958\n",
      "3 0.1391920079542221\n",
      "4 1.3650082486114334\n"
     ]
    }
   ],
   "source": [
    "for idx, val in enumerate(inter):\n",
    "    print(idx, val)"
   ]
  },
  {
   "cell_type": "code",
   "execution_count": 17,
   "metadata": {},
   "outputs": [
    {
     "data": {
      "text/plain": [
       "<matplotlib.collections.PathCollection at 0x7f0c12a705c0>"
      ]
     },
     "execution_count": 17,
     "metadata": {},
     "output_type": "execute_result"
    },
    {
     "data": {
      "image/png": "[encoded data removed]",
      "text/plain": [
       "<Figure size 432x288 with 1 Axes>"
      ]
     },
     "metadata": {},
     "output_type": "display_data"
    }
   ],
   "source": [
    "plt.scatter(x=[0, 1, 2], y=[3, 1, 4])"
   ]
  },
  {
   "cell_type": "code",
   "execution_count": 18,
   "metadata": {},
   "outputs": [
    {
     "data": {
      "text/plain": [
       "6"
      ]
     },
     "execution_count": 18,
     "metadata": {},
     "output_type": "execute_result"
    }
   ],
   "source": [
    "def plus_one(x):\n",
    "    return x + 1\n",
    "\n",
    "plus_one(5)"
   ]
  },
  {
   "cell_type": "code",
   "execution_count": 19,
   "metadata": {},
   "outputs": [
    {
     "data": {
      "text/plain": [
       "120"
      ]
     },
     "execution_count": 19,
     "metadata": {},
     "output_type": "execute_result"
    }
   ],
   "source": [
    "def factoriel(n):\n",
    "    if n == 1:\n",
    "        return n\n",
    "    return n * factoriel(n-1)\n",
    "\n",
    "factoriel(5)"
   ]
  },
  {
   "cell_type": "code",
   "execution_count": 20,
   "metadata": {
    "scrolled": false
   },
   "outputs": [
    {
     "data": {
      "text/plain": [
       "<matplotlib.collections.PathCollection at 0x7f0c129e39e8>"
      ]
     },
     "execution_count": 20,
     "metadata": {},
     "output_type": "execute_result"
    },
    {
     "data": {
      "image/png": "[encoded data removed]",
      "text/plain": [
       "<Figure size 432x288 with 1 Axes>"
      ]
     },
     "metadata": {},
     "output_type": "display_data"
    }
   ],
   "source": [
    "def temps_attente(n):\n",
    "    \"\"\"Calcule le temps d'attente pour la requête n\"\"\"\n",
    "    if n == 0:\n",
    "        stats.append(tempsCalcul)\n",
    "        return tempsCalcul\n",
    "    \n",
    "    temps = np.random.exponential()\n",
    "    \n",
    "    if temps > tempsCalcul:\n",
    "        res = tempsCalcul + max(temps_attente(n - 1) - temps, 0)\n",
    "    else:\n",
    "        res = temps_attente(n - 1) + tempsCalcul - temps\n",
    "    \n",
    "    stats.append(res)\n",
    "    return res\n",
    "\n",
    "tempsCalcul = 1.2\n",
    "stats = []\n",
    "\n",
    "temps_attente(100)\n",
    "\n",
    "plt.scatter(x=range(len(stats)), y=stats)"
   ]
  },
  {
   "cell_type": "code",
   "execution_count": 21,
   "metadata": {},
   "outputs": [
    {
     "data": {
      "text/plain": [
       "<matplotlib.collections.PathCollection at 0x7f0c129bee48>"
      ]
     },
     "execution_count": 21,
     "metadata": {},
     "output_type": "execute_result"
    },
    {
     "data": {
      "image/png": "[encoded data removed]",
      "text/plain": [
       "<Figure size 432x288 with 1 Axes>"
      ]
     },
     "metadata": {},
     "output_type": "display_data"
    }
   ],
   "source": [
    "tempsCalcul = 0.2\n",
    "stats = []\n",
    "\n",
    "temps_attente(100)\n",
    "\n",
    "plt.scatter(x=range(len(stats)), y=stats)"
   ]
  },
  {
   "cell_type": "markdown",
   "metadata": {},
   "source": [
    "# 2. Régression (pour de la prévision)"
   ]
  },
  {
   "cell_type": "code",
   "execution_count": 22,
   "metadata": {
    "scrolled": true
   },
   "outputs": [
    {
     "data": {
      "text/plain": [
       "<matplotlib.collections.PathCollection at 0x7f0c12a43978>"
      ]
     },
     "execution_count": 22,
     "metadata": {},
     "output_type": "execute_result"
    },
    {
     "data": {
      "image/png": "[encoded data removed]",
      "text/plain": [
       "<Figure size 432x288 with 1 Axes>"
      ]
     },
     "metadata": {},
     "output_type": "display_data"
    }
   ],
   "source": [
    "nb = 1000\n",
    "\n",
    "x = np.random.uniform(low=0.0, high=15.0, size=nb)\n",
    "y = 4.0 * np.sin(x) + np.random.normal(size=nb)\n",
    "\n",
    "plt.scatter(x, y)"
   ]
  },
  {
   "cell_type": "code",
   "execution_count": 23,
   "metadata": {},
   "outputs": [
    {
     "name": "stderr",
     "output_type": "stream",
     "text": [
      "/home/girardea/anaconda3/lib/python3.6/importlib/_bootstrap.py:219: RuntimeWarning: numpy.ufunc size changed, may indicate binary incompatibility. Expected 216, got 192\n",
      "  return f(*args, **kwds)\n"
     ]
    },
    {
     "name": "stdout",
     "output_type": "stream",
     "text": [
      "R2-score : -0.019759989944185152\n"
     ]
    },
    {
     "data": {
      "text/plain": [
       "[<matplotlib.lines.Line2D at 0x7f0c12938860>]"
      ]
     },
     "execution_count": 23,
     "metadata": {},
     "output_type": "execute_result"
    },
    {
     "data": {
      "image/png": "[encoded data removed]",
      "text/plain": [
       "<Figure size 432x288 with 1 Axes>"
      ]
     },
     "metadata": {},
     "output_type": "display_data"
    }
   ],
   "source": [
    "from sklearn.linear_model import LinearRegression\n",
    "from sklearn.model_selection import train_test_split\n",
    "from sklearn.metrics import r2_score\n",
    "\n",
    "# Définir X et y\n",
    "X = x.reshape(-1, 1) # pour transformer une colonne en tableau\n",
    "y = y\n",
    "\n",
    "# split\n",
    "X_train, X_test, y_train, y_test = train_test_split(X, y, test_size=0.3)\n",
    "\n",
    "# instanciation du régresseur\n",
    "reg = LinearRegression()\n",
    "\n",
    "# apprentissage\n",
    "reg.fit(X_train, y_train)\n",
    "\n",
    "# prédiction\n",
    "y_pred = reg.predict(X_test)\n",
    "\n",
    "# calcul du score\n",
    "print(\"R2-score :\", r2_score(y_test, y_pred))\n",
    "\n",
    "# plot\n",
    "plt.scatter(X_test, y_test)\n",
    "plt.plot(X_test, y_pred, color='red')"
   ]
  },
  {
   "cell_type": "code",
   "execution_count": 24,
   "metadata": {},
   "outputs": [
    {
     "name": "stdout",
     "output_type": "stream",
     "text": [
      "R2-score : 0.8769528324144679\n"
     ]
    },
    {
     "name": "stderr",
     "output_type": "stream",
     "text": [
      "/home/girardea/anaconda3/lib/python3.6/site-packages/sklearn/svm/base.py:196: FutureWarning: The default value of gamma will change from 'auto' to 'scale' in version 0.22 to account better for unscaled features. Set gamma explicitly to 'auto' or 'scale' to avoid this warning.\n",
      "  \"avoid this warning.\", FutureWarning)\n"
     ]
    },
    {
     "data": {
      "text/plain": [
       "<matplotlib.collections.PathCollection at 0x7f0c04fc0710>"
      ]
     },
     "execution_count": 24,
     "metadata": {},
     "output_type": "execute_result"
    },
    {
     "data": {
      "image/png": "[encoded data removed]",
      "text/plain": [
       "<Figure size 432x288 with 1 Axes>"
      ]
     },
     "metadata": {},
     "output_type": "display_data"
    }
   ],
   "source": [
    "from sklearn.svm import SVR\n",
    "\n",
    "# instanciation du régresseur\n",
    "reg = SVR()\n",
    "\n",
    "# apprentissage\n",
    "reg.fit(X_train, y_train)\n",
    "\n",
    "# prédiction\n",
    "y_pred = reg.predict(X_test)\n",
    "\n",
    "# calcul du score\n",
    "print(\"R2-score :\", r2_score(y_test, y_pred))\n",
    "\n",
    "# plot\n",
    "plt.scatter(X_test, y_test)\n",
    "plt.scatter(X_test, y_pred, color='red')"
   ]
  },
  {
   "cell_type": "code",
   "execution_count": 25,
   "metadata": {},
   "outputs": [
    {
     "name": "stdout",
     "output_type": "stream",
     "text": [
      "R2-score : 0.8752718347844067\n"
     ]
    },
    {
     "data": {
      "text/plain": [
       "<matplotlib.collections.PathCollection at 0x7f0c04fa9b38>"
      ]
     },
     "execution_count": 25,
     "metadata": {},
     "output_type": "execute_result"
    },
    {
     "data": {
      "image/png": "[encoded data removed]",
      "text/plain": [
       "<Figure size 432x288 with 1 Axes>"
      ]
     },
     "metadata": {},
     "output_type": "display_data"
    }
   ],
   "source": [
    "from sklearn.neighbors import KNeighborsRegressor\n",
    "\n",
    "# instanciation du régresseur\n",
    "reg = KNeighborsRegressor(n_neighbors=10)\n",
    "\n",
    "# apprentissage\n",
    "reg.fit(X_train, y_train)\n",
    "\n",
    "# prédiction\n",
    "y_pred = reg.predict(X_test)\n",
    "\n",
    "# calcul du score\n",
    "print(\"R2-score :\", r2_score(y_test, y_pred))\n",
    "\n",
    "# plot\n",
    "plt.scatter(X_test, y_test)\n",
    "plt.scatter(X_test, y_pred, color='red')"
   ]
  },
  {
   "cell_type": "code",
   "execution_count": 26,
   "metadata": {},
   "outputs": [
    {
     "name": "stdout",
     "output_type": "stream",
     "text": [
      "Score : 0.87 +/- 0.02\n"
     ]
    }
   ],
   "source": [
    "def score_func(X, y, reg, nb_splits=10):\n",
    "    \"\"\"Rend la liste des scores du régresseur reg sur le problème X, y\"\"\"\n",
    "    scores = []\n",
    "    \n",
    "    # boucle sur les splits possibles\n",
    "    for i in range(nb_splits):\n",
    "        # split\n",
    "        X_train, X_test, y_train, y_test = train_test_split(X, y, test_size=0.3)\n",
    "\n",
    "        # apprentissage\n",
    "        reg.fit(X_train, y_train)\n",
    "\n",
    "        # prédiction\n",
    "        y_pred = reg.predict(X_test)\n",
    "\n",
    "        # calcul du score\n",
    "        scores.append(r2_score(y_test, y_pred))\n",
    "        \n",
    "    return scores\n",
    "\n",
    "scores = score_func(X, y, KNeighborsRegressor(), nb_splits=5)\n",
    "print(f\"Score : {np.mean(scores):.2f} +/- {2 * np.std(scores):.2f}\")"
   ]
  },
  {
   "cell_type": "markdown",
   "metadata": {},
   "source": [
    "# 3. Données réelles\n",
    "\n",
    "Données issues d'une [compétition Kaggle](https://www.kaggle.com/c/house-prices-advanced-regression-techniques) sur les prix de l'immobilier sur San Francisco."
   ]
  },
  {
   "cell_type": "code",
   "execution_count": 27,
   "metadata": {},
   "outputs": [],
   "source": [
    "import pandas as pd"
   ]
  },
  {
   "cell_type": "code",
   "execution_count": 28,
   "metadata": {},
   "outputs": [],
   "source": [
    "url = \"https://tinyurl.com/y2fm4but\""
   ]
  },
  {
   "cell_type": "code",
   "execution_count": 29,
   "metadata": {},
   "outputs": [
    {
     "name": "stdout",
     "output_type": "stream",
     "text": [
      "<class 'pandas.core.frame.DataFrame'>\n",
      "RangeIndex: 1460 entries, 0 to 1459\n",
      "Data columns (total 81 columns):\n",
      "Id               1460 non-null int64\n",
      "MSSubClass       1460 non-null int64\n",
      "MSZoning         1460 non-null object\n",
      "LotFrontage      1201 non-null float64\n",
      "LotArea          1460 non-null int64\n",
      "Street           1460 non-null object\n",
      "Alley            91 non-null object\n",
      "LotShape         1460 non-null object\n",
      "LandContour      1460 non-null object\n",
      "Utilities        1460 non-null object\n",
      "LotConfig        1460 non-null object\n",
      "LandSlope        1460 non-null object\n",
      "Neighborhood     1460 non-null object\n",
      "Condition1       1460 non-null object\n",
      "Condition2       1460 non-null object\n",
      "BldgType         1460 non-null object\n",
      "HouseStyle       1460 non-null object\n",
      "OverallQual      1460 non-null int64\n",
      "OverallCond      1460 non-null int64\n",
      "YearBuilt        1460 non-null int64\n",
      "YearRemodAdd     1460 non-null int64\n",
      "RoofStyle        1460 non-null object\n",
      "RoofMatl         1460 non-null object\n",
      "Exterior1st      1460 non-null object\n",
      "Exterior2nd      1460 non-null object\n",
      "MasVnrType       1452 non-null object\n",
      "MasVnrArea       1452 non-null float64\n",
      "ExterQual        1460 non-null object\n",
      "ExterCond        1460 non-null object\n",
      "Foundation       1460 non-null object\n",
      "BsmtQual         1423 non-null object\n",
      "BsmtCond         1423 non-null object\n",
      "BsmtExposure     1422 non-null object\n",
      "BsmtFinType1     1423 non-null object\n",
      "BsmtFinSF1       1460 non-null int64\n",
      "BsmtFinType2     1422 non-null object\n",
      "BsmtFinSF2       1460 non-null int64\n",
      "BsmtUnfSF        1460 non-null int64\n",
      "TotalBsmtSF      1460 non-null int64\n",
      "Heating          1460 non-null object\n",
      "HeatingQC        1460 non-null object\n",
      "CentralAir       1460 non-null object\n",
      "Electrical       1459 non-null object\n",
      "1stFlrSF         1460 non-null int64\n",
      "2ndFlrSF         1460 non-null int64\n",
      "LowQualFinSF     1460 non-null int64\n",
      "GrLivArea        1460 non-null int64\n",
      "BsmtFullBath     1460 non-null int64\n",
      "BsmtHalfBath     1460 non-null int64\n",
      "FullBath         1460 non-null int64\n",
      "HalfBath         1460 non-null int64\n",
      "BedroomAbvGr     1460 non-null int64\n",
      "KitchenAbvGr     1460 non-null int64\n",
      "KitchenQual      1460 non-null object\n",
      "TotRmsAbvGrd     1460 non-null int64\n",
      "Functional       1460 non-null object\n",
      "Fireplaces       1460 non-null int64\n",
      "FireplaceQu      770 non-null object\n",
      "GarageType       1379 non-null object\n",
      "GarageYrBlt      1379 non-null float64\n",
      "GarageFinish     1379 non-null object\n",
      "GarageCars       1460 non-null int64\n",
      "GarageArea       1460 non-null int64\n",
      "GarageQual       1379 non-null object\n",
      "GarageCond       1379 non-null object\n",
      "PavedDrive       1460 non-null object\n",
      "WoodDeckSF       1460 non-null int64\n",
      "OpenPorchSF      1460 non-null int64\n",
      "EnclosedPorch    1460 non-null int64\n",
      "3SsnPorch        1460 non-null int64\n",
      "ScreenPorch      1460 non-null int64\n",
      "PoolArea         1460 non-null int64\n",
      "PoolQC           7 non-null object\n",
      "Fence            281 non-null object\n",
      "MiscFeature      54 non-null object\n",
      "MiscVal          1460 non-null int64\n",
      "MoSold           1460 non-null int64\n",
      "YrSold           1460 non-null int64\n",
      "SaleType         1460 non-null object\n",
      "SaleCondition    1460 non-null object\n",
      "SalePrice        1460 non-null int64\n",
      "dtypes: float64(3), int64(35), object(43)\n",
      "memory usage: 924.0+ KB\n"
     ]
    },
    {
     "data": {
      "text/html": [
       "<div>\n",
       "<style scoped>\n",
       "    .dataframe tbody tr th:only-of-type {\n",
       "        vertical-align: middle;\n",
       "    }\n",
       "\n",
       "    .dataframe tbody tr th {\n",
       "        vertical-align: top;\n",
       "    }\n",
       "\n",
       "    .dataframe thead th {\n",
       "        text-align: right;\n",
       "    }\n",
       "</style>\n",
       "<table border=\"1\" class=\"dataframe\">\n",
       "  <thead>\n",
       "    <tr style=\"text-align: right;\">\n",
       "      <th></th>\n",
       "      <th>Id</th>\n",
       "      <th>MSSubClass</th>\n",
       "      <th>MSZoning</th>\n",
       "      <th>LotFrontage</th>\n",
       "      <th>LotArea</th>\n",
       "      <th>Street</th>\n",
       "      <th>Alley</th>\n",
       "      <th>LotShape</th>\n",
       "      <th>LandContour</th>\n",
       "      <th>Utilities</th>\n",
       "      <th>...</th>\n",
       "      <th>PoolArea</th>\n",
       "      <th>PoolQC</th>\n",
       "      <th>Fence</th>\n",
       "      <th>MiscFeature</th>\n",
       "      <th>MiscVal</th>\n",
       "      <th>MoSold</th>\n",
       "      <th>YrSold</th>\n",
       "      <th>SaleType</th>\n",
       "      <th>SaleCondition</th>\n",
       "      <th>SalePrice</th>\n",
       "    </tr>\n",
       "  </thead>\n",
       "  <tbody>\n",
       "    <tr>\n",
       "      <th>215</th>\n",
       "      <td>216</td>\n",
       "      <td>20</td>\n",
       "      <td>RL</td>\n",
       "      <td>72.0</td>\n",
       "      <td>10011</td>\n",
       "      <td>Pave</td>\n",
       "      <td>NaN</td>\n",
       "      <td>IR1</td>\n",
       "      <td>Lvl</td>\n",
       "      <td>AllPub</td>\n",
       "      <td>...</td>\n",
       "      <td>0</td>\n",
       "      <td>NaN</td>\n",
       "      <td>MnPrv</td>\n",
       "      <td>NaN</td>\n",
       "      <td>0</td>\n",
       "      <td>5</td>\n",
       "      <td>2006</td>\n",
       "      <td>WD</td>\n",
       "      <td>Normal</td>\n",
       "      <td>134450</td>\n",
       "    </tr>\n",
       "    <tr>\n",
       "      <th>476</th>\n",
       "      <td>477</td>\n",
       "      <td>20</td>\n",
       "      <td>RL</td>\n",
       "      <td>75.0</td>\n",
       "      <td>13125</td>\n",
       "      <td>Pave</td>\n",
       "      <td>NaN</td>\n",
       "      <td>Reg</td>\n",
       "      <td>Lvl</td>\n",
       "      <td>AllPub</td>\n",
       "      <td>...</td>\n",
       "      <td>0</td>\n",
       "      <td>NaN</td>\n",
       "      <td>NaN</td>\n",
       "      <td>NaN</td>\n",
       "      <td>0</td>\n",
       "      <td>4</td>\n",
       "      <td>2008</td>\n",
       "      <td>WD</td>\n",
       "      <td>Normal</td>\n",
       "      <td>208900</td>\n",
       "    </tr>\n",
       "    <tr>\n",
       "      <th>600</th>\n",
       "      <td>601</td>\n",
       "      <td>60</td>\n",
       "      <td>RL</td>\n",
       "      <td>74.0</td>\n",
       "      <td>10927</td>\n",
       "      <td>Pave</td>\n",
       "      <td>NaN</td>\n",
       "      <td>Reg</td>\n",
       "      <td>Lvl</td>\n",
       "      <td>AllPub</td>\n",
       "      <td>...</td>\n",
       "      <td>0</td>\n",
       "      <td>NaN</td>\n",
       "      <td>NaN</td>\n",
       "      <td>NaN</td>\n",
       "      <td>0</td>\n",
       "      <td>6</td>\n",
       "      <td>2006</td>\n",
       "      <td>WD</td>\n",
       "      <td>Normal</td>\n",
       "      <td>275000</td>\n",
       "    </tr>\n",
       "    <tr>\n",
       "      <th>166</th>\n",
       "      <td>167</td>\n",
       "      <td>20</td>\n",
       "      <td>RL</td>\n",
       "      <td>NaN</td>\n",
       "      <td>10708</td>\n",
       "      <td>Pave</td>\n",
       "      <td>NaN</td>\n",
       "      <td>IR1</td>\n",
       "      <td>Lvl</td>\n",
       "      <td>AllPub</td>\n",
       "      <td>...</td>\n",
       "      <td>0</td>\n",
       "      <td>NaN</td>\n",
       "      <td>GdWo</td>\n",
       "      <td>NaN</td>\n",
       "      <td>0</td>\n",
       "      <td>11</td>\n",
       "      <td>2009</td>\n",
       "      <td>COD</td>\n",
       "      <td>Normal</td>\n",
       "      <td>190000</td>\n",
       "    </tr>\n",
       "    <tr>\n",
       "      <th>29</th>\n",
       "      <td>30</td>\n",
       "      <td>30</td>\n",
       "      <td>RM</td>\n",
       "      <td>60.0</td>\n",
       "      <td>6324</td>\n",
       "      <td>Pave</td>\n",
       "      <td>NaN</td>\n",
       "      <td>IR1</td>\n",
       "      <td>Lvl</td>\n",
       "      <td>AllPub</td>\n",
       "      <td>...</td>\n",
       "      <td>0</td>\n",
       "      <td>NaN</td>\n",
       "      <td>NaN</td>\n",
       "      <td>NaN</td>\n",
       "      <td>0</td>\n",
       "      <td>5</td>\n",
       "      <td>2008</td>\n",
       "      <td>WD</td>\n",
       "      <td>Normal</td>\n",
       "      <td>68500</td>\n",
       "    </tr>\n",
       "  </tbody>\n",
       "</table>\n",
       "<p>5 rows × 81 columns</p>\n",
       "</div>"
      ],
      "text/plain": [
       "      Id  MSSubClass MSZoning  LotFrontage  LotArea Street Alley LotShape  \\\n",
       "215  216          20       RL         72.0    10011   Pave   NaN      IR1   \n",
       "476  477          20       RL         75.0    13125   Pave   NaN      Reg   \n",
       "600  601          60       RL         74.0    10927   Pave   NaN      Reg   \n",
       "166  167          20       RL          NaN    10708   Pave   NaN      IR1   \n",
       "29    30          30       RM         60.0     6324   Pave   NaN      IR1   \n",
       "\n",
       "    LandContour Utilities  ... PoolArea PoolQC  Fence MiscFeature MiscVal  \\\n",
       "215         Lvl    AllPub  ...        0    NaN  MnPrv         NaN       0   \n",
       "476         Lvl    AllPub  ...        0    NaN    NaN         NaN       0   \n",
       "600         Lvl    AllPub  ...        0    NaN    NaN         NaN       0   \n",
       "166         Lvl    AllPub  ...        0    NaN   GdWo         NaN       0   \n",
       "29          Lvl    AllPub  ...        0    NaN    NaN         NaN       0   \n",
       "\n",
       "    MoSold YrSold  SaleType  SaleCondition  SalePrice  \n",
       "215      5   2006        WD         Normal     134450  \n",
       "476      4   2008        WD         Normal     208900  \n",
       "600      6   2006        WD         Normal     275000  \n",
       "166     11   2009       COD         Normal     190000  \n",
       "29       5   2008        WD         Normal      68500  \n",
       "\n",
       "[5 rows x 81 columns]"
      ]
     },
     "execution_count": 29,
     "metadata": {},
     "output_type": "execute_result"
    }
   ],
   "source": [
    "df = pd.read_csv(url)\n",
    "\n",
    "df.info()\n",
    "\n",
    "df.sample(5)"
   ]
  },
  {
   "cell_type": "code",
   "execution_count": 30,
   "metadata": {},
   "outputs": [
    {
     "data": {
      "text/plain": [
       "[(0, 1), Text(0.5, 1.0, 'Pourcentage de cellules vides')]"
      ]
     },
     "execution_count": 30,
     "metadata": {},
     "output_type": "execute_result"
    },
    {
     "data": {
      "image/png": "[encoded data removed]",
      "text/plain": [
       "<Figure size 432x1152 with 1 Axes>"
      ]
     },
     "metadata": {},
     "output_type": "display_data"
    }
   ],
   "source": [
    "_, ax = plt.subplots(figsize=(6, 16))\n",
    "\n",
    "df.isnull().mean().plot.barh(ax=ax)\n",
    "\n",
    "ax.set(\n",
    "    title=\"Pourcentage de cellules vides\",\n",
    "    xlim=(0, 1)\n",
    ")"
   ]
  },
  {
   "cell_type": "markdown",
   "metadata": {},
   "source": [
    "## 3.1. Valeurs vides\n",
    "\n",
    "1. Plus de 20% de valeurs vides : on vire ces colonnes.\n",
    "2. Garage et sous-sol (Bsmt) : on remplace les vides par NA.\n",
    "3. LotFrontage : on remplace les celluls vides par 0.\n",
    "4. MasVnrXXX : on vire les 8 lignes où c'est vide."
   ]
  },
  {
   "cell_type": "code",
   "execution_count": 31,
   "metadata": {},
   "outputs": [],
   "source": [
    "# 1a. Plus de 20% de valeurs vides : on vire ces colonnes.\n",
    "for col in df.columns:\n",
    "    if df[col].isnull().mean() > 0.2:\n",
    "        df = df.drop(columns=[col])"
   ]
  },
  {
   "cell_type": "code",
   "execution_count": 32,
   "metadata": {},
   "outputs": [],
   "source": [
    "# 1b. Plus de 20% de valeurs vides : on vire ces colonnes.\n",
    "df = df.dropna(axis='columns', thresh=0.8 * len(df))"
   ]
  },
  {
   "cell_type": "code",
   "execution_count": 33,
   "metadata": {
    "scrolled": true
   },
   "outputs": [],
   "source": [
    "# 2. Garage et sous-sol (Bsmt) : on remplace les vides par NA.\n",
    "cols = [\n",
    "    col for col in df.columns\n",
    "    if col.startswith('Bsmt') or col.startswith('Garage')\n",
    "]\n",
    "\n",
    "df.loc[:, cols] = df.loc[:, cols].fillna('NA')"
   ]
  },
  {
   "cell_type": "code",
   "execution_count": 34,
   "metadata": {},
   "outputs": [],
   "source": [
    "# 3. LotFrontage : on remplace les cellules vides par 0.\n",
    "df.loc[:, ['LotFrontage']] = df.loc[:, ['LotFrontage']].fillna(0.0)"
   ]
  },
  {
   "cell_type": "code",
   "execution_count": 35,
   "metadata": {},
   "outputs": [],
   "source": [
    "# 4. MasVnrXXX : on vire les 8 lignes où c'est vide.\n",
    "c = df['MasVnrArea'].notnull() & df['MasVnrType'].notnull()\n",
    "df = df.loc[c]"
   ]
  },
  {
   "cell_type": "code",
   "execution_count": 36,
   "metadata": {},
   "outputs": [],
   "source": [
    "# 5. On vire la ligne où Electrical est vide\n",
    "c = df['Electrical'].notnull()\n",
    "df = df.loc[c]"
   ]
  },
  {
   "cell_type": "code",
   "execution_count": 37,
   "metadata": {},
   "outputs": [
    {
     "data": {
      "text/plain": [
       "False"
      ]
     },
     "execution_count": 37,
     "metadata": {},
     "output_type": "execute_result"
    }
   ],
   "source": [
    "# On vérifie les cellules vides du tableau\n",
    "df.isnull().any().any()"
   ]
  },
  {
   "cell_type": "code",
   "execution_count": 38,
   "metadata": {},
   "outputs": [
    {
     "data": {
      "text/plain": [
       "1451"
      ]
     },
     "execution_count": 38,
     "metadata": {},
     "output_type": "execute_result"
    }
   ],
   "source": [
    "# On vérifie le nombre d'échantillons\n",
    "len(df)"
   ]
  },
  {
   "cell_type": "markdown",
   "metadata": {},
   "source": [
    "## 3.2. Exploration visuelle"
   ]
  },
  {
   "cell_type": "code",
   "execution_count": 39,
   "metadata": {},
   "outputs": [
    {
     "name": "stderr",
     "output_type": "stream",
     "text": [
      "/home/girardea/anaconda3/lib/python3.6/site-packages/scipy/stats/stats.py:1713: FutureWarning: Using a non-tuple sequence for multidimensional indexing is deprecated; use `arr[tuple(seq)]` instead of `arr[seq]`. In the future this will be interpreted as an array index, `arr[np.array(seq)]`, which will result either in an error or a different result.\n",
      "  return np.add.reduce(sorted[indexer] * weights, axis=axis) / sumval\n"
     ]
    },
    {
     "data": {
      "text/plain": [
       "<matplotlib.axes._subplots.AxesSubplot at 0x7f0c04ed25f8>"
      ]
     },
     "execution_count": 39,
     "metadata": {},
     "output_type": "execute_result"
    },
    {
     "data": {
      "image/png": "[encoded data removed]",
      "text/plain": [
       "<Figure size 432x288 with 1 Axes>"
      ]
     },
     "metadata": {},
     "output_type": "display_data"
    }
   ],
   "source": [
    "sns.distplot(df['SalePrice'])"
   ]
  },
  {
   "cell_type": "code",
   "execution_count": 40,
   "metadata": {},
   "outputs": [
    {
     "data": {
      "text/html": [
       "<div>\n",
       "<style scoped>\n",
       "    .dataframe tbody tr th:only-of-type {\n",
       "        vertical-align: middle;\n",
       "    }\n",
       "\n",
       "    .dataframe tbody tr th {\n",
       "        vertical-align: top;\n",
       "    }\n",
       "\n",
       "    .dataframe thead th {\n",
       "        text-align: right;\n",
       "    }\n",
       "</style>\n",
       "<table border=\"1\" class=\"dataframe\">\n",
       "  <thead>\n",
       "    <tr style=\"text-align: right;\">\n",
       "      <th></th>\n",
       "      <th>SalePrice</th>\n",
       "    </tr>\n",
       "  </thead>\n",
       "  <tbody>\n",
       "    <tr>\n",
       "      <th>count</th>\n",
       "      <td>1451.000000</td>\n",
       "    </tr>\n",
       "    <tr>\n",
       "      <th>mean</th>\n",
       "      <td>180624.101999</td>\n",
       "    </tr>\n",
       "    <tr>\n",
       "      <th>std</th>\n",
       "      <td>79312.128273</td>\n",
       "    </tr>\n",
       "    <tr>\n",
       "      <th>min</th>\n",
       "      <td>34900.000000</td>\n",
       "    </tr>\n",
       "    <tr>\n",
       "      <th>25%</th>\n",
       "      <td>129900.000000</td>\n",
       "    </tr>\n",
       "    <tr>\n",
       "      <th>50%</th>\n",
       "      <td>162500.000000</td>\n",
       "    </tr>\n",
       "    <tr>\n",
       "      <th>75%</th>\n",
       "      <td>214000.000000</td>\n",
       "    </tr>\n",
       "    <tr>\n",
       "      <th>max</th>\n",
       "      <td>755000.000000</td>\n",
       "    </tr>\n",
       "  </tbody>\n",
       "</table>\n",
       "</div>"
      ],
      "text/plain": [
       "           SalePrice\n",
       "count    1451.000000\n",
       "mean   180624.101999\n",
       "std     79312.128273\n",
       "min     34900.000000\n",
       "25%    129900.000000\n",
       "50%    162500.000000\n",
       "75%    214000.000000\n",
       "max    755000.000000"
      ]
     },
     "execution_count": 40,
     "metadata": {},
     "output_type": "execute_result"
    }
   ],
   "source": [
    "df[['SalePrice']].describe()"
   ]
  },
  {
   "cell_type": "code",
   "execution_count": 41,
   "metadata": {},
   "outputs": [],
   "source": [
    "import matplotlib.pyplot as plt"
   ]
  },
  {
   "cell_type": "code",
   "execution_count": 42,
   "metadata": {},
   "outputs": [
    {
     "data": {
      "text/plain": [
       "<matplotlib.collections.PathCollection at 0x7f0c045d4898>"
      ]
     },
     "execution_count": 42,
     "metadata": {},
     "output_type": "execute_result"
    },
    {
     "data": {
      "image/png": "[encoded data removed]",
      "text/plain": [
       "<Figure size 432x288 with 1 Axes>"
      ]
     },
     "metadata": {},
     "output_type": "display_data"
    }
   ],
   "source": [
    "plt.scatter(df['LotArea'], df['SalePrice'])"
   ]
  },
  {
   "cell_type": "code",
   "execution_count": 43,
   "metadata": {},
   "outputs": [
    {
     "data": {
      "text/plain": [
       "<matplotlib.collections.PathCollection at 0x7f0c045aad30>"
      ]
     },
     "execution_count": 43,
     "metadata": {},
     "output_type": "execute_result"
    },
    {
     "data": {
      "image/png": "[encoded data removed]",
      "text/plain": [
       "<Figure size 432x288 with 1 Axes>"
      ]
     },
     "metadata": {},
     "output_type": "display_data"
    }
   ],
   "source": [
    "plt.scatter(df['GrLivArea'], df['SalePrice'])"
   ]
  },
  {
   "cell_type": "code",
   "execution_count": 44,
   "metadata": {},
   "outputs": [],
   "source": [
    "# On vire les points aberrants\n",
    "c = (df['SalePrice'] < 200000) & (df['GrLivArea'] > 4000)\n",
    "\n",
    "df = df.loc[~c]"
   ]
  },
  {
   "cell_type": "code",
   "execution_count": 45,
   "metadata": {},
   "outputs": [
    {
     "data": {
      "text/plain": [
       "<matplotlib.collections.PathCollection at 0x7f0c044550b8>"
      ]
     },
     "execution_count": 45,
     "metadata": {},
     "output_type": "execute_result"
    },
    {
     "data": {
      "image/png": "[encoded data removed]",
      "text/plain": [
       "<Figure size 432x288 with 1 Axes>"
      ]
     },
     "metadata": {},
     "output_type": "display_data"
    }
   ],
   "source": [
    "plt.scatter(df['GrLivArea'], df['SalePrice'])"
   ]
  },
  {
   "cell_type": "markdown",
   "metadata": {},
   "source": [
    "# 3.3. Régression simple"
   ]
  },
  {
   "cell_type": "code",
   "execution_count": 46,
   "metadata": {},
   "outputs": [],
   "source": [
    "from sklearn.metrics import mean_squared_log_error"
   ]
  },
  {
   "cell_type": "code",
   "execution_count": 47,
   "metadata": {},
   "outputs": [
    {
     "name": "stdout",
     "output_type": "stream",
     "text": [
      "RMSLE-score : 0.29170907485597886\n"
     ]
    },
    {
     "data": {
      "text/plain": [
       "[<matplotlib.lines.Line2D at 0x7f0c044fae80>]"
      ]
     },
     "execution_count": 47,
     "metadata": {},
     "output_type": "execute_result"
    },
    {
     "data": {
      "image/png": "[encoded data removed]",
      "text/plain": [
       "<Figure size 432x288 with 1 Axes>"
      ]
     },
     "metadata": {},
     "output_type": "display_data"
    }
   ],
   "source": [
    "# Définir X et y\n",
    "X = df[['GrLivArea']]\n",
    "y = df['SalePrice']\n",
    "\n",
    "# split\n",
    "X_train, X_test, y_train, y_test = train_test_split(X, y, test_size=0.3)\n",
    "\n",
    "# instanciation du régresseur\n",
    "reg = LinearRegression()\n",
    "\n",
    "# apprentissage\n",
    "reg.fit(X_train, y_train)\n",
    "\n",
    "# prédiction\n",
    "y_pred = reg.predict(X_test)\n",
    "\n",
    "# calcul du score\n",
    "print(\"RMSLE-score :\", np.sqrt(mean_squared_log_error(y_test, y_pred)))\n",
    "\n",
    "# plot\n",
    "plt.scatter(X_test, y_test)\n",
    "plt.plot(X_test, y_pred, color='red')"
   ]
  },
  {
   "cell_type": "code",
   "execution_count": 48,
   "metadata": {},
   "outputs": [],
   "source": [
    "def score_func(X, y, reg, nb_splits=10):\n",
    "    \"\"\"Rend la liste des scores du régresseur reg sur le problème X, y\"\"\"\n",
    "    scores = []\n",
    "    \n",
    "    # boucle sur les splits possibles\n",
    "    for i in range(nb_splits):\n",
    "        # split\n",
    "        X_train, X_test, y_train, y_test = train_test_split(X, y, test_size=0.3)\n",
    "\n",
    "        # apprentissage\n",
    "        reg.fit(X_train, y_train)\n",
    "\n",
    "        # prédiction\n",
    "        y_pred = reg.predict(X_test)\n",
    "        \n",
    "        # correction\n",
    "        y_pred = np.maximum(y_pred, 0)\n",
    "\n",
    "        # calcul du score\n",
    "        scores.append(np.sqrt(mean_squared_log_error(y_test, y_pred)))\n",
    "        \n",
    "    return scores"
   ]
  },
  {
   "cell_type": "code",
   "execution_count": 49,
   "metadata": {},
   "outputs": [
    {
     "name": "stdout",
     "output_type": "stream",
     "text": [
      "0.27 +/- 0.01 (cpu_time: 0.005 sec.)\n"
     ]
    }
   ],
   "source": [
    "import time\n",
    "\n",
    "def score_stats(X, y, reg, nb_splits=10):\n",
    "    tt = time.time()\n",
    "    scores = score_func(X, y, reg, nb_splits)\n",
    "    \n",
    "    duration = (time.time() - tt) / nb_splits\n",
    "    \n",
    "    print(\n",
    "        f\"{np.mean(scores):.2f} +/- {2 * np.std(scores):.2f}\"\n",
    "        f\" (cpu_time: {duration:.3f} sec.)\"\n",
    "    )\n",
    "\n",
    "score_stats(df[['GrLivArea']], y,LinearRegression() , nb_splits=10)"
   ]
  },
  {
   "cell_type": "code",
   "execution_count": 50,
   "metadata": {},
   "outputs": [
    {
     "name": "stdout",
     "output_type": "stream",
     "text": [
      "0.29 +/- 0.38 (cpu_time: 0.010 sec.)\n"
     ]
    }
   ],
   "source": [
    "X = df.select_dtypes(include=['int64', 'float64']) \\\n",
    "      .drop(columns=['SalePrice'])\n",
    "y = df['SalePrice']\n",
    "\n",
    "score_stats(X, y, LinearRegression(), nb_splits=10)"
   ]
  },
  {
   "cell_type": "code",
   "execution_count": 51,
   "metadata": {
    "scrolled": true
   },
   "outputs": [
    {
     "name": "stdout",
     "output_type": "stream",
     "text": [
      "0.40 +/- 0.03 (cpu_time: 0.125 sec.)\n"
     ]
    }
   ],
   "source": [
    "from sklearn.svm import SVR\n",
    "\n",
    "X = df.select_dtypes(include=['int64', 'float64']) \\\n",
    "      .drop(columns=['SalePrice'])\n",
    "y = df['SalePrice']\n",
    "\n",
    "score_stats(X, y, SVR(gamma='auto'), nb_splits=10)"
   ]
  },
  {
   "cell_type": "code",
   "execution_count": 52,
   "metadata": {},
   "outputs": [
    {
     "name": "stderr",
     "output_type": "stream",
     "text": [
      "/home/girardea/anaconda3/lib/python3.6/importlib/_bootstrap.py:219: RuntimeWarning: numpy.ufunc size changed, may indicate binary incompatibility. Expected 216, got 192\n",
      "  return f(*args, **kwds)\n"
     ]
    }
   ],
   "source": [
    "from sklearn.ensemble import AdaBoostRegressor, ExtraTreesRegressor, RandomForestRegressor"
   ]
  },
  {
   "cell_type": "code",
   "execution_count": 53,
   "metadata": {},
   "outputs": [
    {
     "name": "stdout",
     "output_type": "stream",
     "text": [
      "linear\n",
      "0.33 +/- 0.41 (cpu_time: 0.011 sec.)\n",
      "svm\n",
      "0.40 +/- 0.03 (cpu_time: 0.125 sec.)\n",
      "KNN\n",
      "0.24 +/- 0.02 (cpu_time: 0.015 sec.)\n",
      "ada\n",
      "0.20 +/- 0.03 (cpu_time: 0.187 sec.)\n",
      "extra\n",
      "0.14 +/- 0.02 (cpu_time: 0.626 sec.)\n",
      "rf\n",
      "0.15 +/- 0.01 (cpu_time: 1.030 sec.)\n"
     ]
    }
   ],
   "source": [
    "for name, reg in [\n",
    "    ('linear', LinearRegression()),\n",
    "    ('svm', SVR(gamma='auto')),\n",
    "    ('KNN', KNeighborsRegressor()),\n",
    "    ('ada', AdaBoostRegressor()),\n",
    "    ('extra', ExtraTreesRegressor(n_estimators=100)),\n",
    "    ('rf', RandomForestRegressor(n_estimators=100))\n",
    "]:\n",
    "    print(name)\n",
    "    score_stats(X, y, reg, nb_splits=10)"
   ]
  },
  {
   "cell_type": "markdown",
   "metadata": {},
   "source": [
    "## 3.4. Pipelines\n",
    "\n",
    "### 3.4.1. Mise à l'échelle (scaling)"
   ]
  },
  {
   "cell_type": "code",
   "execution_count": 54,
   "metadata": {},
   "outputs": [],
   "source": [
    "import warnings\n",
    "warnings.filterwarnings(\"ignore\")"
   ]
  },
  {
   "cell_type": "code",
   "execution_count": 55,
   "metadata": {},
   "outputs": [],
   "source": [
    "from sklearn.pipeline import Pipeline\n",
    "from sklearn.preprocessing import StandardScaler, QuantileTransformer"
   ]
  },
  {
   "cell_type": "code",
   "execution_count": 56,
   "metadata": {},
   "outputs": [
    {
     "name": "stdout",
     "output_type": "stream",
     "text": [
      "linear\n",
      "0.22 +/- 0.05 (cpu_time: 0.120 sec.)\n",
      "svm\n",
      "0.40 +/- 0.03 (cpu_time: 0.242 sec.)\n",
      "KNN\n",
      "0.18 +/- 0.01 (cpu_time: 0.128 sec.)\n",
      "ada\n",
      "0.19 +/- 0.02 (cpu_time: 0.321 sec.)\n",
      "extra\n",
      "0.14 +/- 0.02 (cpu_time: 0.765 sec.)\n",
      "rf\n",
      "0.14 +/- 0.02 (cpu_time: 1.118 sec.)\n"
     ]
    }
   ],
   "source": [
    "for name, reg in [\n",
    "    ('linear', LinearRegression()),\n",
    "    ('svm', SVR(gamma='auto')),\n",
    "    ('KNN', KNeighborsRegressor()),\n",
    "    ('ada', AdaBoostRegressor()),\n",
    "    ('extra', ExtraTreesRegressor(n_estimators=100)),\n",
    "    ('rf', RandomForestRegressor(n_estimators=100))\n",
    "]:\n",
    "    print(name)\n",
    "    \n",
    "    pipe = Pipeline(steps=[\n",
    "        ('scaler', QuantileTransformer()),\n",
    "        ('reg', reg)\n",
    "    ])\n",
    "    score_stats(X, y, pipe, nb_splits=10)"
   ]
  },
  {
   "cell_type": "code",
   "execution_count": 57,
   "metadata": {},
   "outputs": [
    {
     "data": {
      "text/html": [
       "<div>\n",
       "<style scoped>\n",
       "    .dataframe tbody tr th:only-of-type {\n",
       "        vertical-align: middle;\n",
       "    }\n",
       "\n",
       "    .dataframe tbody tr th {\n",
       "        vertical-align: top;\n",
       "    }\n",
       "\n",
       "    .dataframe thead th {\n",
       "        text-align: right;\n",
       "    }\n",
       "</style>\n",
       "<table border=\"1\" class=\"dataframe\">\n",
       "  <thead>\n",
       "    <tr style=\"text-align: right;\">\n",
       "      <th></th>\n",
       "      <th>161</th>\n",
       "      <th>270</th>\n",
       "      <th>660</th>\n",
       "    </tr>\n",
       "  </thead>\n",
       "  <tbody>\n",
       "    <tr>\n",
       "      <th>MSZoning</th>\n",
       "      <td>RL</td>\n",
       "      <td>FV</td>\n",
       "      <td>RL</td>\n",
       "    </tr>\n",
       "    <tr>\n",
       "      <th>Street</th>\n",
       "      <td>Pave</td>\n",
       "      <td>Pave</td>\n",
       "      <td>Pave</td>\n",
       "    </tr>\n",
       "    <tr>\n",
       "      <th>LotShape</th>\n",
       "      <td>IR1</td>\n",
       "      <td>Reg</td>\n",
       "      <td>Reg</td>\n",
       "    </tr>\n",
       "    <tr>\n",
       "      <th>LandContour</th>\n",
       "      <td>Lvl</td>\n",
       "      <td>Lvl</td>\n",
       "      <td>Lvl</td>\n",
       "    </tr>\n",
       "    <tr>\n",
       "      <th>Utilities</th>\n",
       "      <td>AllPub</td>\n",
       "      <td>AllPub</td>\n",
       "      <td>AllPub</td>\n",
       "    </tr>\n",
       "    <tr>\n",
       "      <th>LotConfig</th>\n",
       "      <td>Inside</td>\n",
       "      <td>Inside</td>\n",
       "      <td>CulDSac</td>\n",
       "    </tr>\n",
       "    <tr>\n",
       "      <th>LandSlope</th>\n",
       "      <td>Gtl</td>\n",
       "      <td>Gtl</td>\n",
       "      <td>Gtl</td>\n",
       "    </tr>\n",
       "    <tr>\n",
       "      <th>Neighborhood</th>\n",
       "      <td>NridgHt</td>\n",
       "      <td>Somerst</td>\n",
       "      <td>NWAmes</td>\n",
       "    </tr>\n",
       "    <tr>\n",
       "      <th>Condition1</th>\n",
       "      <td>Norm</td>\n",
       "      <td>Norm</td>\n",
       "      <td>Norm</td>\n",
       "    </tr>\n",
       "    <tr>\n",
       "      <th>Condition2</th>\n",
       "      <td>Norm</td>\n",
       "      <td>Norm</td>\n",
       "      <td>Norm</td>\n",
       "    </tr>\n",
       "    <tr>\n",
       "      <th>BldgType</th>\n",
       "      <td>1Fam</td>\n",
       "      <td>1Fam</td>\n",
       "      <td>1Fam</td>\n",
       "    </tr>\n",
       "    <tr>\n",
       "      <th>HouseStyle</th>\n",
       "      <td>2Story</td>\n",
       "      <td>2Story</td>\n",
       "      <td>2Story</td>\n",
       "    </tr>\n",
       "    <tr>\n",
       "      <th>RoofStyle</th>\n",
       "      <td>Gable</td>\n",
       "      <td>Gable</td>\n",
       "      <td>Gable</td>\n",
       "    </tr>\n",
       "    <tr>\n",
       "      <th>RoofMatl</th>\n",
       "      <td>CompShg</td>\n",
       "      <td>CompShg</td>\n",
       "      <td>CompShg</td>\n",
       "    </tr>\n",
       "    <tr>\n",
       "      <th>Exterior1st</th>\n",
       "      <td>VinylSd</td>\n",
       "      <td>VinylSd</td>\n",
       "      <td>Plywood</td>\n",
       "    </tr>\n",
       "    <tr>\n",
       "      <th>Exterior2nd</th>\n",
       "      <td>VinylSd</td>\n",
       "      <td>VinylSd</td>\n",
       "      <td>Plywood</td>\n",
       "    </tr>\n",
       "    <tr>\n",
       "      <th>MasVnrType</th>\n",
       "      <td>BrkFace</td>\n",
       "      <td>None</td>\n",
       "      <td>BrkFace</td>\n",
       "    </tr>\n",
       "    <tr>\n",
       "      <th>ExterQual</th>\n",
       "      <td>Gd</td>\n",
       "      <td>Gd</td>\n",
       "      <td>TA</td>\n",
       "    </tr>\n",
       "    <tr>\n",
       "      <th>ExterCond</th>\n",
       "      <td>TA</td>\n",
       "      <td>TA</td>\n",
       "      <td>TA</td>\n",
       "    </tr>\n",
       "    <tr>\n",
       "      <th>Foundation</th>\n",
       "      <td>PConc</td>\n",
       "      <td>PConc</td>\n",
       "      <td>CBlock</td>\n",
       "    </tr>\n",
       "    <tr>\n",
       "      <th>BsmtQual</th>\n",
       "      <td>Ex</td>\n",
       "      <td>Gd</td>\n",
       "      <td>Gd</td>\n",
       "    </tr>\n",
       "    <tr>\n",
       "      <th>BsmtCond</th>\n",
       "      <td>TA</td>\n",
       "      <td>TA</td>\n",
       "      <td>TA</td>\n",
       "    </tr>\n",
       "    <tr>\n",
       "      <th>BsmtExposure</th>\n",
       "      <td>Av</td>\n",
       "      <td>Mn</td>\n",
       "      <td>No</td>\n",
       "    </tr>\n",
       "    <tr>\n",
       "      <th>BsmtFinType1</th>\n",
       "      <td>GLQ</td>\n",
       "      <td>Unf</td>\n",
       "      <td>Unf</td>\n",
       "    </tr>\n",
       "    <tr>\n",
       "      <th>BsmtFinType2</th>\n",
       "      <td>Unf</td>\n",
       "      <td>Unf</td>\n",
       "      <td>Unf</td>\n",
       "    </tr>\n",
       "    <tr>\n",
       "      <th>Heating</th>\n",
       "      <td>GasA</td>\n",
       "      <td>GasA</td>\n",
       "      <td>GasA</td>\n",
       "    </tr>\n",
       "    <tr>\n",
       "      <th>HeatingQC</th>\n",
       "      <td>Ex</td>\n",
       "      <td>Gd</td>\n",
       "      <td>TA</td>\n",
       "    </tr>\n",
       "    <tr>\n",
       "      <th>CentralAir</th>\n",
       "      <td>Y</td>\n",
       "      <td>Y</td>\n",
       "      <td>Y</td>\n",
       "    </tr>\n",
       "    <tr>\n",
       "      <th>Electrical</th>\n",
       "      <td>SBrkr</td>\n",
       "      <td>SBrkr</td>\n",
       "      <td>SBrkr</td>\n",
       "    </tr>\n",
       "    <tr>\n",
       "      <th>KitchenQual</th>\n",
       "      <td>Ex</td>\n",
       "      <td>Gd</td>\n",
       "      <td>TA</td>\n",
       "    </tr>\n",
       "    <tr>\n",
       "      <th>Functional</th>\n",
       "      <td>Typ</td>\n",
       "      <td>Typ</td>\n",
       "      <td>Typ</td>\n",
       "    </tr>\n",
       "    <tr>\n",
       "      <th>GarageType</th>\n",
       "      <td>BuiltIn</td>\n",
       "      <td>Attchd</td>\n",
       "      <td>Attchd</td>\n",
       "    </tr>\n",
       "    <tr>\n",
       "      <th>GarageYrBlt</th>\n",
       "      <td>2003</td>\n",
       "      <td>2006</td>\n",
       "      <td>1976</td>\n",
       "    </tr>\n",
       "    <tr>\n",
       "      <th>GarageFinish</th>\n",
       "      <td>Fin</td>\n",
       "      <td>RFn</td>\n",
       "      <td>RFn</td>\n",
       "    </tr>\n",
       "    <tr>\n",
       "      <th>GarageQual</th>\n",
       "      <td>TA</td>\n",
       "      <td>TA</td>\n",
       "      <td>TA</td>\n",
       "    </tr>\n",
       "    <tr>\n",
       "      <th>GarageCond</th>\n",
       "      <td>TA</td>\n",
       "      <td>TA</td>\n",
       "      <td>TA</td>\n",
       "    </tr>\n",
       "    <tr>\n",
       "      <th>PavedDrive</th>\n",
       "      <td>Y</td>\n",
       "      <td>Y</td>\n",
       "      <td>Y</td>\n",
       "    </tr>\n",
       "    <tr>\n",
       "      <th>SaleType</th>\n",
       "      <td>WD</td>\n",
       "      <td>New</td>\n",
       "      <td>WD</td>\n",
       "    </tr>\n",
       "    <tr>\n",
       "      <th>SaleCondition</th>\n",
       "      <td>Normal</td>\n",
       "      <td>Partial</td>\n",
       "      <td>Normal</td>\n",
       "    </tr>\n",
       "  </tbody>\n",
       "</table>\n",
       "</div>"
      ],
      "text/plain": [
       "                   161      270      660\n",
       "MSZoning            RL       FV       RL\n",
       "Street            Pave     Pave     Pave\n",
       "LotShape           IR1      Reg      Reg\n",
       "LandContour        Lvl      Lvl      Lvl\n",
       "Utilities       AllPub   AllPub   AllPub\n",
       "LotConfig       Inside   Inside  CulDSac\n",
       "LandSlope          Gtl      Gtl      Gtl\n",
       "Neighborhood   NridgHt  Somerst   NWAmes\n",
       "Condition1        Norm     Norm     Norm\n",
       "Condition2        Norm     Norm     Norm\n",
       "BldgType          1Fam     1Fam     1Fam\n",
       "HouseStyle      2Story   2Story   2Story\n",
       "RoofStyle        Gable    Gable    Gable\n",
       "RoofMatl       CompShg  CompShg  CompShg\n",
       "Exterior1st    VinylSd  VinylSd  Plywood\n",
       "Exterior2nd    VinylSd  VinylSd  Plywood\n",
       "MasVnrType     BrkFace     None  BrkFace\n",
       "ExterQual           Gd       Gd       TA\n",
       "ExterCond           TA       TA       TA\n",
       "Foundation       PConc    PConc   CBlock\n",
       "BsmtQual            Ex       Gd       Gd\n",
       "BsmtCond            TA       TA       TA\n",
       "BsmtExposure        Av       Mn       No\n",
       "BsmtFinType1       GLQ      Unf      Unf\n",
       "BsmtFinType2       Unf      Unf      Unf\n",
       "Heating           GasA     GasA     GasA\n",
       "HeatingQC           Ex       Gd       TA\n",
       "CentralAir           Y        Y        Y\n",
       "Electrical       SBrkr    SBrkr    SBrkr\n",
       "KitchenQual         Ex       Gd       TA\n",
       "Functional         Typ      Typ      Typ\n",
       "GarageType     BuiltIn   Attchd   Attchd\n",
       "GarageYrBlt       2003     2006     1976\n",
       "GarageFinish       Fin      RFn      RFn\n",
       "GarageQual          TA       TA       TA\n",
       "GarageCond          TA       TA       TA\n",
       "PavedDrive           Y        Y        Y\n",
       "SaleType            WD      New       WD\n",
       "SaleCondition   Normal  Partial   Normal"
      ]
     },
     "execution_count": 57,
     "metadata": {},
     "output_type": "execute_result"
    }
   ],
   "source": [
    "df.select_dtypes(exclude=['float64', 'int64']).sample(3).transpose()"
   ]
  },
  {
   "cell_type": "markdown",
   "metadata": {},
   "source": [
    "### 3.4.2. Encodage de catégories"
   ]
  },
  {
   "cell_type": "code",
   "execution_count": 62,
   "metadata": {},
   "outputs": [],
   "source": [
    "from sklearn.preprocessing import OneHotEncoder"
   ]
  },
  {
   "cell_type": "code",
   "execution_count": 68,
   "metadata": {},
   "outputs": [
    {
     "data": {
      "text/plain": [
       "array([[0., 0., 1.],\n",
       "       [0., 1., 0.],\n",
       "       [0., 0., 1.],\n",
       "       [1., 0., 0.],\n",
       "       [0., 0., 1.],\n",
       "       [1., 0., 0.]])"
      ]
     },
     "execution_count": 68,
     "metadata": {},
     "output_type": "execute_result"
    }
   ],
   "source": [
    "# le \"reshape\" sert juste à transformer une colonne en tableau\n",
    "categories = np.array(['H', 'F', 'H', 'E', 'H', 'E']).reshape(-1, 1)\n",
    "\n",
    "pre = OneHotEncoder(sparse=False)\n",
    "\n",
    "pre.fit_transform(categories)"
   ]
  },
  {
   "cell_type": "code",
   "execution_count": 87,
   "metadata": {},
   "outputs": [],
   "source": [
    "from sklearn.compose import ColumnTransformer\n",
    "from sklearn.tree import DecisionTreeRegressor"
   ]
  },
  {
   "cell_type": "code",
   "execution_count": 88,
   "metadata": {},
   "outputs": [
    {
     "name": "stdout",
     "output_type": "stream",
     "text": [
      "0.21 +/- 0.02 (cpu_time: 0.145 sec.)\n"
     ]
    }
   ],
   "source": [
    "# Noms des colonnes qui contiennent des chaines de caractères (object)\n",
    "str_cols = df.select_dtypes(exclude=['int64', 'float64']).columns\n",
    "\n",
    "# Forcer l'encodage en chaine de caractères\n",
    "for col in str_cols:\n",
    "    df[col] = df[col].astype(str)\n",
    "\n",
    "X = df.drop(columns=['SalePrice'])\n",
    "y = df['SalePrice']\n",
    "\n",
    "# 1ère brique : encodage des colonnes catégorielles\n",
    "enc = ColumnTransformer(transformers=[\n",
    "    ('enc', OneHotEncoder(\n",
    "        categories=[X[col].unique() for col in str_cols]),\n",
    "     str_cols)\n",
    "    ],\n",
    "    remainder=\"passthrough\"\n",
    ")\n",
    "\n",
    "# Pipeline\n",
    "pipe = Pipeline(steps=[\n",
    "    ('encoding', enc),\n",
    "    ('scaling', StandardScaler(with_mean=False)),\n",
    "    ('reg', DecisionTreeRegressor())\n",
    "])\n",
    "\n",
    "score_stats(X, y, pipe)"
   ]
  },
  {
   "cell_type": "code",
   "execution_count": null,
   "metadata": {},
   "outputs": [],
   "source": [
    "def eval_columns(df, list_of_columns, reg=DecisionTreeRegressor()):\n",
    "    \"\"\"Evalue le score de chaque colonne dans la liste\"\"\"\n",
    "    \n",
    "    X = df.drop(columns=['SalePrice']).loc[:, list_of_columns]\n",
    "    y = df['SalePrice']\n",
    "    \n",
    "    # Noms des colonnes qui contiennent des chaines de caractères (object)\n",
    "    str_cols = X.select_dtypes(exclude=['int64', 'float64']).columns\n",
    "\n",
    "    # Forcer l'encodage en chaine de caractères\n",
    "    for col in str_cols:\n",
    "        X[col] = X[col].astype(str)\n",
    "\n",
    "    # 1ère brique : encodage des colonnes catégorielles\n",
    "    enc = ColumnTransformer(transformers=[\n",
    "        ('enc', OneHotEncoder(\n",
    "            categories=[X[col].unique() for col in str_cols]),\n",
    "         str_cols)\n",
    "        ],\n",
    "        remainder=\"passthrough\"\n",
    "    )\n",
    "\n",
    "    # Pipeline\n",
    "    pipe = Pipeline(steps=[\n",
    "        ('encoding', enc),\n",
    "        ('scaling', StandardScaler(with_mean=False)),\n",
    "        ('reg', reg)\n",
    "    ])\n",
    "\n",
    "    return score_func(X, y, pipe)"
   ]
  },
  {
   "cell_type": "code",
   "execution_count": 95,
   "metadata": {},
   "outputs": [
    {
     "name": "stdout",
     "output_type": "stream",
     "text": [
      "Best score yet: 0.555 +/- 0.043 (column Id)\n",
      "Best score yet: 0.336 +/- 0.016 (column MSSubClass)\n",
      "Best score yet: 0.272 +/- 0.025 (column Neighborhood)\n",
      "Best score yet: 0.233 +/- 0.016 (column OverallQual)\n"
     ]
    }
   ],
   "source": [
    "best_score = 1.0\n",
    "\n",
    "for col in df.columns:\n",
    "    if col == 'SalePrice':\n",
    "        continue\n",
    "    \n",
    "    scores = eval_columns(df, [col])\n",
    "    \n",
    "    if np.mean(scores) < best_score:\n",
    "        print(\n",
    "            f\"Best score yet: {np.mean(scores):.3f} \"\n",
    "            f\"+/- {2*np.std(scores):.3f}\"\n",
    "            f\" (column {col})\")\n",
    "        best_score = np.mean(scores)"
   ]
  },
  {
   "cell_type": "code",
   "execution_count": 96,
   "metadata": {},
   "outputs": [
    {
     "name": "stdout",
     "output_type": "stream",
     "text": [
      "Best score yet: 0.320 +/- 0.016 (column Id)\n",
      "Best score yet: 0.221 +/- 0.016 (column MSSubClass)\n",
      "Best score yet: 0.217 +/- 0.013 (column MSZoning)\n",
      "Best score yet: 0.208 +/- 0.024 (column Neighborhood)\n",
      "Best score yet: 0.208 +/- 0.017 (column GarageCars)\n"
     ]
    }
   ],
   "source": [
    "best_score = 1.0\n",
    "\n",
    "for col in df.columns:\n",
    "    if (col == 'SalePrice') or (col == 'OverallQual'):\n",
    "        continue\n",
    "    \n",
    "    scores = eval_columns(df, ['OverallQual', col])\n",
    "    \n",
    "    if np.mean(scores) < best_score:\n",
    "        print(\n",
    "            f\"Best score yet: {np.mean(scores):.3f} \"\n",
    "            f\"+/- {2*np.std(scores):.3f}\"\n",
    "            f\" (column {col})\")\n",
    "        best_score = np.mean(scores)"
   ]
  },
  {
   "cell_type": "code",
   "execution_count": 102,
   "metadata": {},
   "outputs": [
    {
     "name": "stdout",
     "output_type": "stream",
     "text": [
      "Adding column OverallQual (score: 0.234)\n",
      "Adding column GarageCars (score: 0.205)\n",
      "Adding column Neighborhood (score: 0.204)\n",
      "Adding column PoolArea (score: 0.198)\n",
      "Adding column KitchenAbvGr (score: 0.200)\n",
      "Adding column FullBath (score: 0.197)\n",
      "Adding column BldgType (score: 0.199)\n",
      "Adding column Condition2 (score: 0.196)\n",
      "Adding column LandSlope (score: 0.199)\n",
      "Adding column 3SsnPorch (score: 0.200)\n"
     ]
    }
   ],
   "source": [
    "nb_cols_max = 10\n",
    "list_of_columns = []\n",
    "\n",
    "for i in range(nb_cols_max):\n",
    "    best_col = \"\"\n",
    "    best_score = 1.0\n",
    "\n",
    "    for col in df.columns:\n",
    "        if (col == 'SalePrice') or (col in list_of_columns):\n",
    "            continue\n",
    "\n",
    "        scores = eval_columns(df, list_of_columns + [col], reg=RandomForestRegressor())\n",
    "\n",
    "        if np.mean(scores) < best_score:\n",
    "            best_col = col\n",
    "            best_score = np.mean(scores)\n",
    "    \n",
    "    print(f\"Adding column {best_col} (score: {best_score:.3f})\")\n",
    "    list_of_columns.append(best_col)"
   ]
  },
  {
   "cell_type": "code",
   "execution_count": null,
   "metadata": {},
   "outputs": [],
   "source": []
  }
 ],
 "metadata": {
  "kernelspec": {
   "display_name": "Python 3",
   "language": "python",
   "name": "python3"
  },
  "language_info": {
   "codemirror_mode": {
    "name": "ipython",
    "version": 3
   },
   "file_extension": ".py",
   "mimetype": "text/x-python",
   "name": "python",
   "nbconvert_exporter": "python",
   "pygments_lexer": "ipython3",
   "version": "3.6.8"
  }
 },
 "nbformat": 4,
 "nbformat_minor": 2
}
