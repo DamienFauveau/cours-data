{
 "cells": [
  {
   "cell_type": "markdown",
   "metadata": {},
   "source": [
    "# 0. Import des modules"
   ]
  },
  {
   "cell_type": "code",
   "execution_count": 1,
   "metadata": {},
   "outputs": [],
   "source": [
    "# pour faire des graphes\n",
    "%matplotlib inline\n",
    "import matplotlib.pyplot as plt\n",
    "\n",
    "# pour faire des calculs (nombres aléatoires)\n",
    "import numpy as np\n",
    "\n",
    "# pour faire des graphes de stats\n",
    "import seaborn as sns\n",
    "sns.set()"
   ]
  },
  {
   "cell_type": "markdown",
   "metadata": {},
   "source": [
    "# 1. Générer des nombres aléatoires\n",
    "\n",
    "## 1.1. Pile ou face"
   ]
  },
  {
   "cell_type": "code",
   "execution_count": 8,
   "metadata": {},
   "outputs": [
    {
     "data": {
      "text/plain": [
       "'Pile'"
      ]
     },
     "execution_count": 8,
     "metadata": {},
     "output_type": "execute_result"
    }
   ],
   "source": [
    "np.random.choice(['Pile', 'Face'], p=[0.1, 0.9])"
   ]
  },
  {
   "cell_type": "markdown",
   "metadata": {},
   "source": [
    "Sur 100 tirages, combien de \"pile\" ?"
   ]
  },
  {
   "cell_type": "code",
   "execution_count": 10,
   "metadata": {},
   "outputs": [
    {
     "name": "stdout",
     "output_type": "stream",
     "text": [
      "J'ai obtenu 49 'pile'.\n"
     ]
    }
   ],
   "source": [
    "cnt = 0\n",
    "for i in range(100):\n",
    "    if np.random.choice(['Pile', 'Face']) == 'Pile':\n",
    "        cnt += 1\n",
    "        \n",
    "print(f\"J'ai obtenu {cnt} 'pile'.\")"
   ]
  },
  {
   "cell_type": "markdown",
   "metadata": {},
   "source": [
    "En une ligne :"
   ]
  },
  {
   "cell_type": "code",
   "execution_count": 12,
   "metadata": {},
   "outputs": [
    {
     "data": {
      "text/plain": [
       "47"
      ]
     },
     "execution_count": 12,
     "metadata": {},
     "output_type": "execute_result"
    }
   ],
   "source": [
    "np.sum([np.random.choice(['Pile', 'Face']) == 'Pile' for i in range(100)])"
   ]
  },
  {
   "cell_type": "code",
   "execution_count": 14,
   "metadata": {},
   "outputs": [
    {
     "data": {
      "text/plain": [
       "53"
      ]
     },
     "execution_count": 14,
     "metadata": {},
     "output_type": "execute_result"
    }
   ],
   "source": [
    "np.sum(np.random.choice(['Pile', 'Face'], size=100) == 'Pile')"
   ]
  },
  {
   "cell_type": "markdown",
   "metadata": {},
   "source": [
    "On en fait une fonction."
   ]
  },
  {
   "cell_type": "code",
   "execution_count": 24,
   "metadata": {},
   "outputs": [
    {
     "name": "stdout",
     "output_type": "stream",
     "text": [
      "50\n",
      "47\n",
      "46\n",
      "58\n",
      "54\n"
     ]
    }
   ],
   "source": [
    "def nb_piles(nb_tirages=100, p=None):\n",
    "    return np.sum(np.random.choice(['Pile', 'Face'], size=nb_tirages, p=p) == 'Pile')\n",
    "\n",
    "for i in range(5):\n",
    "    print(nb_piles())"
   ]
  },
  {
   "cell_type": "code",
   "execution_count": 25,
   "metadata": {},
   "outputs": [
    {
     "name": "stderr",
     "output_type": "stream",
     "text": [
      "/home/girardea/anaconda3/lib/python3.6/site-packages/scipy/stats/stats.py:1713: FutureWarning: Using a non-tuple sequence for multidimensional indexing is deprecated; use `arr[tuple(seq)]` instead of `arr[seq]`. In the future this will be interpreted as an array index, `arr[np.array(seq)]`, which will result either in an error or a different result.\n",
      "  return np.add.reduce(sorted[indexer] * weights, axis=axis) / sumval\n"
     ]
    },
    {
     "data": {
      "text/plain": [
       "<matplotlib.axes._subplots.AxesSubplot at 0x7f5845290a90>"
      ]
     },
     "execution_count": 25,
     "metadata": {},
     "output_type": "execute_result"
    },
    {
     "data": {
      "image/png": "[encoded data removed]",
      "text/plain": [
       "<Figure size 432x288 with 1 Axes>"
      ]
     },
     "metadata": {},
     "output_type": "display_data"
    }
   ],
   "source": [
    "stats = [nb_piles(p=[0.8, 0.2]) for i in range(10000)]\n",
    "\n",
    "sns.distplot(stats)"
   ]
  },
  {
   "cell_type": "code",
   "execution_count": 26,
   "metadata": {},
   "outputs": [
    {
     "data": {
      "text/plain": [
       "'Feuille'"
      ]
     },
     "execution_count": 26,
     "metadata": {},
     "output_type": "execute_result"
    }
   ],
   "source": [
    "np.random.choice(['Pierre', 'Feuille', 'Ciseaux'])"
   ]
  },
  {
   "cell_type": "markdown",
   "metadata": {},
   "source": [
    "## 1.2. Loi uniforme"
   ]
  },
  {
   "cell_type": "code",
   "execution_count": 27,
   "metadata": {},
   "outputs": [
    {
     "data": {
      "text/plain": [
       "0.5171371762694122"
      ]
     },
     "execution_count": 27,
     "metadata": {},
     "output_type": "execute_result"
    }
   ],
   "source": [
    "np.random.uniform()"
   ]
  },
  {
   "cell_type": "code",
   "execution_count": 29,
   "metadata": {},
   "outputs": [
    {
     "name": "stderr",
     "output_type": "stream",
     "text": [
      "/home/girardea/anaconda3/lib/python3.6/site-packages/scipy/stats/stats.py:1713: FutureWarning: Using a non-tuple sequence for multidimensional indexing is deprecated; use `arr[tuple(seq)]` instead of `arr[seq]`. In the future this will be interpreted as an array index, `arr[np.array(seq)]`, which will result either in an error or a different result.\n",
      "  return np.add.reduce(sorted[indexer] * weights, axis=axis) / sumval\n"
     ]
    },
    {
     "data": {
      "text/plain": [
       "<matplotlib.axes._subplots.AxesSubplot at 0x7f58452ef2b0>"
      ]
     },
     "execution_count": 29,
     "metadata": {},
     "output_type": "execute_result"
    },
    {
     "data": {
      "image/png": "[encoded data removed]",
      "text/plain": [
       "<Figure size 432x288 with 1 Axes>"
      ]
     },
     "metadata": {},
     "output_type": "display_data"
    }
   ],
   "source": [
    "stats = np.random.uniform(size=10000)\n",
    "\n",
    "sns.distplot(stats, kde=False)"
   ]
  },
  {
   "cell_type": "markdown",
   "metadata": {},
   "source": [
    "## 1.3. Loi exponentielle\n",
    "\n",
    "Cela représente le temps entre deux requêtes à un serveur."
   ]
  },
  {
   "cell_type": "code",
   "execution_count": 32,
   "metadata": {},
   "outputs": [
    {
     "data": {
      "text/plain": [
       "array([2.42962795, 1.01620549, 0.97249329, 0.68012817, 3.20533766])"
      ]
     },
     "execution_count": 32,
     "metadata": {},
     "output_type": "execute_result"
    }
   ],
   "source": [
    "inter = np.random.exponential(size=5)\n",
    "inter"
   ]
  },
  {
   "cell_type": "code",
   "execution_count": 33,
   "metadata": {},
   "outputs": [
    {
     "data": {
      "text/plain": [
       "array([2.42962795, 3.44583343, 4.41832672, 5.09845489, 8.30379254])"
      ]
     },
     "execution_count": 33,
     "metadata": {},
     "output_type": "execute_result"
    }
   ],
   "source": [
    "inter.cumsum()"
   ]
  },
  {
   "cell_type": "code",
   "execution_count": 35,
   "metadata": {},
   "outputs": [
    {
     "data": {
      "text/plain": [
       "array([3.42962795, 4.44583343, 5.41832672, 6.09845489, 9.30379254])"
      ]
     },
     "execution_count": 35,
     "metadata": {},
     "output_type": "execute_result"
    }
   ],
   "source": [
    "fin = inter.cumsum() + 1.0\n",
    "fin"
   ]
  },
  {
   "cell_type": "code",
   "execution_count": 36,
   "metadata": {},
   "outputs": [
    {
     "name": "stdout",
     "output_type": "stream",
     "text": [
      "0 2.429627945579207\n",
      "1 1.0162054852699938\n",
      "2 0.9724932866243811\n",
      "3 0.680128168604842\n",
      "4 3.205337658916321\n"
     ]
    }
   ],
   "source": [
    "for idx, val in enumerate(inter):\n",
    "    print(idx, val)"
   ]
  },
  {
   "cell_type": "code",
   "execution_count": 38,
   "metadata": {},
   "outputs": [
    {
     "data": {
      "text/plain": [
       "<matplotlib.collections.PathCollection at 0x7f5844f71978>"
      ]
     },
     "execution_count": 38,
     "metadata": {},
     "output_type": "execute_result"
    },
    {
     "data": {
      "image/png": "[encoded data removed]",
      "text/plain": [
       "<Figure size 432x288 with 1 Axes>"
      ]
     },
     "metadata": {},
     "output_type": "display_data"
    }
   ],
   "source": [
    "plt.scatter(x=[0, 1, 2], y=[3, 1, 4])"
   ]
  },
  {
   "cell_type": "code",
   "execution_count": 40,
   "metadata": {},
   "outputs": [
    {
     "data": {
      "text/plain": [
       "6"
      ]
     },
     "execution_count": 40,
     "metadata": {},
     "output_type": "execute_result"
    }
   ],
   "source": [
    "def plus_one(x):\n",
    "    return x + 1\n",
    "\n",
    "plus_one(5)"
   ]
  },
  {
   "cell_type": "code",
   "execution_count": 41,
   "metadata": {},
   "outputs": [
    {
     "data": {
      "text/plain": [
       "120"
      ]
     },
     "execution_count": 41,
     "metadata": {},
     "output_type": "execute_result"
    }
   ],
   "source": [
    "def factoriel(n):\n",
    "    if n == 1:\n",
    "        return n\n",
    "    return n * factoriel(n-1)\n",
    "\n",
    "factoriel(5)"
   ]
  },
  {
   "cell_type": "code",
   "execution_count": 60,
   "metadata": {
    "scrolled": false
   },
   "outputs": [
    {
     "data": {
      "text/plain": [
       "<matplotlib.collections.PathCollection at 0x7f5844e0ef98>"
      ]
     },
     "execution_count": 60,
     "metadata": {},
     "output_type": "execute_result"
    },
    {
     "data": {
      "image/png": "[encoded data removed]",
      "text/plain": [
       "<Figure size 432x288 with 1 Axes>"
      ]
     },
     "metadata": {},
     "output_type": "display_data"
    }
   ],
   "source": [
    "def temps_attente(n):\n",
    "    \"\"\"Calcule le temps d'attente pour la requête n\"\"\"\n",
    "    if n == 0:\n",
    "        stats.append(tempsCalcul)\n",
    "        return tempsCalcul\n",
    "    \n",
    "    temps = np.random.exponential()\n",
    "    \n",
    "    if temps > tempsCalcul:\n",
    "        res = tempsCalcul + max(temps_attente(n - 1) - temps, 0)\n",
    "    else:\n",
    "        res = temps_attente(n - 1) + tempsCalcul - temps\n",
    "    \n",
    "    stats.append(res)\n",
    "    return res\n",
    "\n",
    "tempsCalcul = 1.2\n",
    "stats = []\n",
    "\n",
    "temps_attente(100)\n",
    "\n",
    "plt.scatter(x=range(len(stats)), y=stats)"
   ]
  },
  {
   "cell_type": "code",
   "execution_count": 63,
   "metadata": {},
   "outputs": [
    {
     "data": {
      "text/plain": [
       "<matplotlib.collections.PathCollection at 0x7f5844d03c18>"
      ]
     },
     "execution_count": 63,
     "metadata": {},
     "output_type": "execute_result"
    },
    {
     "data": {
      "image/png": "[encoded data removed]",
      "text/plain": [
       "<Figure size 432x288 with 1 Axes>"
      ]
     },
     "metadata": {},
     "output_type": "display_data"
    }
   ],
   "source": [
    "tempsCalcul = 0.2\n",
    "stats = []\n",
    "\n",
    "temps_attente(100)\n",
    "\n",
    "plt.scatter(x=range(len(stats)), y=stats)"
   ]
  },
  {
   "cell_type": "markdown",
   "metadata": {},
   "source": [
    "# 2. Régression (pour de la prévision)"
   ]
  },
  {
   "cell_type": "code",
   "execution_count": 66,
   "metadata": {
    "scrolled": true
   },
   "outputs": [
    {
     "data": {
      "text/plain": [
       "<matplotlib.collections.PathCollection at 0x7f5844c14fd0>"
      ]
     },
     "execution_count": 66,
     "metadata": {},
     "output_type": "execute_result"
    },
    {
     "data": {
      "image/png": "[encoded data removed]",
      "text/plain": [
       "<Figure size 432x288 with 1 Axes>"
      ]
     },
     "metadata": {},
     "output_type": "display_data"
    }
   ],
   "source": [
    "nb = 1000\n",
    "\n",
    "x = np.random.uniform(low=0.0, high=15.0, size=nb)\n",
    "y = 4.0 * np.sin(x) + np.random.normal(size=nb)\n",
    "\n",
    "plt.scatter(x, y)"
   ]
  },
  {
   "cell_type": "code",
   "execution_count": 71,
   "metadata": {},
   "outputs": [
    {
     "name": "stdout",
     "output_type": "stream",
     "text": [
      "R2-score : -0.008640733826358549\n"
     ]
    },
    {
     "data": {
      "text/plain": [
       "[<matplotlib.lines.Line2D at 0x7f5835ca02b0>]"
      ]
     },
     "execution_count": 71,
     "metadata": {},
     "output_type": "execute_result"
    },
    {
     "data": {
      "image/png": "[encoded data removed]",
      "text/plain": [
       "<Figure size 432x288 with 1 Axes>"
      ]
     },
     "metadata": {},
     "output_type": "display_data"
    }
   ],
   "source": [
    "from sklearn.linear_model import LinearRegression\n",
    "from sklearn.model_selection import train_test_split\n",
    "from sklearn.metrics import r2_score\n",
    "\n",
    "# Définir X et y\n",
    "X = x.reshape(-1, 1) # pour transformer une colonne en tableau\n",
    "y = y\n",
    "\n",
    "# split\n",
    "X_train, X_test, y_train, y_test = train_test_split(X, y, test_size=0.3)\n",
    "\n",
    "# instanciation du régresseur\n",
    "reg = LinearRegression()\n",
    "\n",
    "# apprentissage\n",
    "reg.fit(X_train, y_train)\n",
    "\n",
    "# prédiction\n",
    "y_pred = reg.predict(X_test)\n",
    "\n",
    "# calcul du score\n",
    "print(\"R2-score :\", r2_score(y_test, y_pred))\n",
    "\n",
    "# plot\n",
    "plt.scatter(X_test, y_test)\n",
    "plt.plot(X_test, y_pred, color='red')"
   ]
  },
  {
   "cell_type": "code",
   "execution_count": 72,
   "metadata": {},
   "outputs": [
    {
     "name": "stdout",
     "output_type": "stream",
     "text": [
      "R2-score : 0.8793763871687624\n"
     ]
    },
    {
     "name": "stderr",
     "output_type": "stream",
     "text": [
      "/home/girardea/anaconda3/lib/python3.6/site-packages/sklearn/svm/base.py:196: FutureWarning: The default value of gamma will change from 'auto' to 'scale' in version 0.22 to account better for unscaled features. Set gamma explicitly to 'auto' or 'scale' to avoid this warning.\n",
      "  \"avoid this warning.\", FutureWarning)\n"
     ]
    },
    {
     "data": {
      "text/plain": [
       "<matplotlib.collections.PathCollection at 0x7f5835cab358>"
      ]
     },
     "execution_count": 72,
     "metadata": {},
     "output_type": "execute_result"
    },
    {
     "data": {
      "image/png": "[encoded data removed]",
      "text/plain": [
       "<Figure size 432x288 with 1 Axes>"
      ]
     },
     "metadata": {},
     "output_type": "display_data"
    }
   ],
   "source": [
    "from sklearn.svm import SVR\n",
    "\n",
    "# instanciation du régresseur\n",
    "reg = SVR()\n",
    "\n",
    "# apprentissage\n",
    "reg.fit(X_train, y_train)\n",
    "\n",
    "# prédiction\n",
    "y_pred = reg.predict(X_test)\n",
    "\n",
    "# calcul du score\n",
    "print(\"R2-score :\", r2_score(y_test, y_pred))\n",
    "\n",
    "# plot\n",
    "plt.scatter(X_test, y_test)\n",
    "plt.scatter(X_test, y_pred, color='red')"
   ]
  },
  {
   "cell_type": "code",
   "execution_count": 76,
   "metadata": {},
   "outputs": [
    {
     "name": "stdout",
     "output_type": "stream",
     "text": [
      "R2-score : 0.875024913403274\n"
     ]
    },
    {
     "data": {
      "text/plain": [
       "<matplotlib.collections.PathCollection at 0x7f5835a9f5f8>"
      ]
     },
     "execution_count": 76,
     "metadata": {},
     "output_type": "execute_result"
    },
    {
     "data": {
      "image/png": "[encoded data removed]",
      "text/plain": [
       "<Figure size 432x288 with 1 Axes>"
      ]
     },
     "metadata": {},
     "output_type": "display_data"
    }
   ],
   "source": [
    "from sklearn.neighbors import KNeighborsRegressor\n",
    "\n",
    "# instanciation du régresseur\n",
    "reg = KNeighborsRegressor(n_neighbors=10)\n",
    "\n",
    "# apprentissage\n",
    "reg.fit(X_train, y_train)\n",
    "\n",
    "# prédiction\n",
    "y_pred = reg.predict(X_test)\n",
    "\n",
    "# calcul du score\n",
    "print(\"R2-score :\", r2_score(y_test, y_pred))\n",
    "\n",
    "# plot\n",
    "plt.scatter(X_test, y_test)\n",
    "plt.scatter(X_test, y_pred, color='red')"
   ]
  },
  {
   "cell_type": "code",
   "execution_count": 81,
   "metadata": {},
   "outputs": [
    {
     "name": "stdout",
     "output_type": "stream",
     "text": [
      "Score : 0.86 +/- 0.01\n"
     ]
    }
   ],
   "source": [
    "def score_func(X, y, reg, nb_splits=10):\n",
    "    \"\"\"Rend la liste des scores du régresseur reg sur le problème X, y\"\"\"\n",
    "    scores = []\n",
    "    \n",
    "    # boucle sur les splits possibles\n",
    "    for i in range(nb_splits):\n",
    "        # split\n",
    "        X_train, X_test, y_train, y_test = train_test_split(X, y, test_size=0.3)\n",
    "\n",
    "        # apprentissage\n",
    "        reg.fit(X_train, y_train)\n",
    "\n",
    "        # prédiction\n",
    "        y_pred = reg.predict(X_test)\n",
    "\n",
    "        # calcul du score\n",
    "        scores.append(r2_score(y_test, y_pred))\n",
    "        \n",
    "    return scores\n",
    "\n",
    "scores = score_func(X, y, KNeighborsRegressor(), nb_splits=5)\n",
    "print(f\"Score : {np.mean(scores):.2f} +/- {2 * np.std(scores):.2f}\")"
   ]
  },
  {
   "cell_type": "code",
   "execution_count": null,
   "metadata": {},
   "outputs": [],
   "source": []
  }
 ],
 "metadata": {
  "kernelspec": {
   "display_name": "Python 3",
   "language": "python",
   "name": "python3"
  },
  "language_info": {
   "codemirror_mode": {
    "name": "ipython",
    "version": 3
   },
   "file_extension": ".py",
   "mimetype": "text/x-python",
   "name": "python",
   "nbconvert_exporter": "python",
   "pygments_lexer": "ipython3",
   "version": "3.6.8"
  }
 },
 "nbformat": 4,
 "nbformat_minor": 2
}
