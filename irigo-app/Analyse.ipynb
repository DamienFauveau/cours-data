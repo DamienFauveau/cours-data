{
 "cells": [
  {
   "cell_type": "markdown",
   "metadata": {},
   "source": [
    "# Import des modules nécessaires"
   ]
  },
  {
   "cell_type": "markdown",
   "metadata": {},
   "source": [
    "## Modules externes"
   ]
  },
  {
   "cell_type": "code",
   "execution_count": 1,
   "metadata": {},
   "outputs": [],
   "source": [
    "# pour faire de beaux graphiques\n",
    "%matplotlib inline\n",
    "import matplotlib.pyplot as plt\n",
    "\n",
    "# pour gérer les tables en Python\n",
    "import pandas as pd\n",
    "\n",
    "# pour faire d'encore plus beaux graphiques\n",
    "import seaborn as sns"
   ]
  },
  {
   "cell_type": "markdown",
   "metadata": {},
   "source": [
    "## Modules internes"
   ]
  },
  {
   "cell_type": "code",
   "execution_count": 2,
   "metadata": {},
   "outputs": [],
   "source": [
    "from db import Etape, Ligne, Session, Trajet"
   ]
  },
  {
   "cell_type": "markdown",
   "metadata": {},
   "source": [
    "# Récupérer les données (écarts, déjà)"
   ]
  },
  {
   "cell_type": "code",
   "execution_count": 3,
   "metadata": {},
   "outputs": [],
   "source": [
    "session = Session()\n",
    "\n",
    "ecarts = [req[0] for req in session.query(Etape.ecart).all()]\n",
    "\n",
    "session.close()"
   ]
  },
  {
   "cell_type": "code",
   "execution_count": 4,
   "metadata": {},
   "outputs": [
    {
     "name": "stdout",
     "output_type": "stream",
     "text": [
      "[818, 18, 0, 107, -129, 157, 142, -11, 30]\n"
     ]
    }
   ],
   "source": [
    "print(ecarts)"
   ]
  },
  {
   "cell_type": "markdown",
   "metadata": {},
   "source": [
    "# Analyse"
   ]
  },
  {
   "cell_type": "markdown",
   "metadata": {},
   "source": [
    "Je vous donne quelques pistes. L'idée est d'essayer de trouver un indicateurs qui vous semble refléter la qualité de l'exploitation du réseau à cet instant, à partir de tous les écarts des bus.\n",
    "\n",
    "Pour plus de graphiques et d'analyses statistiques, je vous conseille d'aller voir [le site de `seaborn`](https://seaborn.pydata.org/examples/)."
   ]
  },
  {
   "cell_type": "code",
   "execution_count": 5,
   "metadata": {},
   "outputs": [
    {
     "name": "stderr",
     "output_type": "stream",
     "text": [
      "/usr/local/lib/python3.6/dist-packages/matplotlib/axes/_axes.py:6448: UserWarning: The 'normed' kwarg is deprecated, and has been replaced by the 'density' kwarg.\n",
      "  warnings.warn(\"The 'normed' kwarg is deprecated, and has been \"\n"
     ]
    },
    {
     "data": {
      "text/plain": [
       "[Text(0,0.5,'nombre de véhicules'),\n",
       " Text(0.5,0,'retard en secondes'),\n",
       " Text(0.5,1,'Quels retards sur le réseau Irigo ?')]"
      ]
     },
     "execution_count": 5,
     "metadata": {},
     "output_type": "execute_result"
    },
    {
     "data": {
      "image/png": "[encoded data removed]",
      "text/plain": [
       "<Figure size 432x288 with 1 Axes>"
      ]
     },
     "metadata": {},
     "output_type": "display_data"
    }
   ],
   "source": [
    "ax = sns.distplot(ecarts, kde=False)\n",
    "\n",
    "ax.set(\n",
    "    title=\"Quels retards sur le réseau Irigo ?\",\n",
    "    xlabel='retard en secondes',\n",
    "    ylabel='nombre de véhicules'\n",
    ")"
   ]
  },
  {
   "cell_type": "markdown",
   "metadata": {},
   "source": [
    "Maintenant essayez de l'afficher en minutes.\n",
    "\n",
    "Puis, réfléchissez à quel nombre pourrait refléter, en résumé, la situation : le max des retards ? la moyenne des retards ? la moyenne des valeurs absolues des retards ?"
   ]
  },
  {
   "cell_type": "markdown",
   "metadata": {},
   "source": [
    "# Récupérer toutes les données"
   ]
  },
  {
   "cell_type": "code",
   "execution_count": 6,
   "metadata": {
    "scrolled": true
   },
   "outputs": [
    {
     "data": {
      "text/html": [
       "<div>\n",
       "<style scoped>\n",
       "    .dataframe tbody tr th:only-of-type {\n",
       "        vertical-align: middle;\n",
       "    }\n",
       "\n",
       "    .dataframe tbody tr th {\n",
       "        vertical-align: top;\n",
       "    }\n",
       "\n",
       "    .dataframe thead th {\n",
       "        text-align: right;\n",
       "    }\n",
       "</style>\n",
       "<table border=\"1\" class=\"dataframe\">\n",
       "  <thead>\n",
       "    <tr style=\"text-align: right;\">\n",
       "      <th></th>\n",
       "      <th>ecart</th>\n",
       "      <th>id_ligne</th>\n",
       "    </tr>\n",
       "  </thead>\n",
       "  <tbody>\n",
       "    <tr>\n",
       "      <th>0</th>\n",
       "      <td>818</td>\n",
       "      <td>268435472</td>\n",
       "    </tr>\n",
       "    <tr>\n",
       "      <th>1</th>\n",
       "      <td>18</td>\n",
       "      <td>268435471</td>\n",
       "    </tr>\n",
       "    <tr>\n",
       "      <th>2</th>\n",
       "      <td>0</td>\n",
       "      <td>268435471</td>\n",
       "    </tr>\n",
       "    <tr>\n",
       "      <th>3</th>\n",
       "      <td>107</td>\n",
       "      <td>268435472</td>\n",
       "    </tr>\n",
       "    <tr>\n",
       "      <th>4</th>\n",
       "      <td>-129</td>\n",
       "      <td>268435474</td>\n",
       "    </tr>\n",
       "    <tr>\n",
       "      <th>5</th>\n",
       "      <td>157</td>\n",
       "      <td>268435472</td>\n",
       "    </tr>\n",
       "    <tr>\n",
       "      <th>6</th>\n",
       "      <td>142</td>\n",
       "      <td>268435473</td>\n",
       "    </tr>\n",
       "    <tr>\n",
       "      <th>7</th>\n",
       "      <td>-11</td>\n",
       "      <td>268435471</td>\n",
       "    </tr>\n",
       "    <tr>\n",
       "      <th>8</th>\n",
       "      <td>30</td>\n",
       "      <td>268435471</td>\n",
       "    </tr>\n",
       "  </tbody>\n",
       "</table>\n",
       "</div>"
      ],
      "text/plain": [
       "   ecart   id_ligne\n",
       "0    818  268435472\n",
       "1     18  268435471\n",
       "2      0  268435471\n",
       "3    107  268435472\n",
       "4   -129  268435474\n",
       "5    157  268435472\n",
       "6    142  268435473\n",
       "7    -11  268435471\n",
       "8     30  268435471"
      ]
     },
     "execution_count": 6,
     "metadata": {},
     "output_type": "execute_result"
    }
   ],
   "source": [
    "# Voici comment on fait un join\n",
    "query = session.query(Etape.ecart, Trajet.id_ligne).select_from(Etape).join(Trajet)\n",
    "\n",
    "pd.read_sql_query(query.statement, query.session.bind)"
   ]
  },
  {
   "cell_type": "markdown",
   "metadata": {},
   "source": [
    "Et si je veux relier ça à la ligne elle-même ? J'ai en quelque sorte besoin de jointures en chaine Etape <-> Trajet <-> Ligne. C'est pas plus compliqué !"
   ]
  },
  {
   "cell_type": "code",
   "execution_count": 13,
   "metadata": {},
   "outputs": [
    {
     "data": {
      "text/html": [
       "<div>\n",
       "<style scoped>\n",
       "    .dataframe tbody tr th:only-of-type {\n",
       "        vertical-align: middle;\n",
       "    }\n",
       "\n",
       "    .dataframe tbody tr th {\n",
       "        vertical-align: top;\n",
       "    }\n",
       "\n",
       "    .dataframe thead th {\n",
       "        text-align: right;\n",
       "    }\n",
       "</style>\n",
       "<table border=\"1\" class=\"dataframe\">\n",
       "  <thead>\n",
       "    <tr style=\"text-align: right;\">\n",
       "      <th></th>\n",
       "      <th>ecart</th>\n",
       "      <th>nom_ligne</th>\n",
       "    </tr>\n",
       "  </thead>\n",
       "  <tbody>\n",
       "    <tr>\n",
       "      <th>0</th>\n",
       "      <td>818</td>\n",
       "      <td>SOIR LAC MAINE &lt;&gt; CITE CHABADA</td>\n",
       "    </tr>\n",
       "    <tr>\n",
       "      <th>1</th>\n",
       "      <td>18</td>\n",
       "      <td>ARDENNE &lt;&gt; ROSERAIE</td>\n",
       "    </tr>\n",
       "    <tr>\n",
       "      <th>2</th>\n",
       "      <td>0</td>\n",
       "      <td>ARDENNE &lt;&gt; ROSERAIE</td>\n",
       "    </tr>\n",
       "    <tr>\n",
       "      <th>3</th>\n",
       "      <td>107</td>\n",
       "      <td>SOIR LAC MAINE &lt;&gt; CITE CHABADA</td>\n",
       "    </tr>\n",
       "    <tr>\n",
       "      <th>4</th>\n",
       "      <td>-129</td>\n",
       "      <td>SOIR MAIRIE PONTS CE &lt;&gt; AVRILLE</td>\n",
       "    </tr>\n",
       "    <tr>\n",
       "      <th>5</th>\n",
       "      <td>157</td>\n",
       "      <td>SOIR LAC MAINE &lt;&gt; CITE CHABADA</td>\n",
       "    </tr>\n",
       "    <tr>\n",
       "      <th>6</th>\n",
       "      <td>142</td>\n",
       "      <td>SOIR TRELAZE &lt;&gt;  LORRAINE</td>\n",
       "    </tr>\n",
       "    <tr>\n",
       "      <th>7</th>\n",
       "      <td>-11</td>\n",
       "      <td>ARDENNE &lt;&gt; ROSERAIE</td>\n",
       "    </tr>\n",
       "    <tr>\n",
       "      <th>8</th>\n",
       "      <td>30</td>\n",
       "      <td>ARDENNE &lt;&gt; ROSERAIE</td>\n",
       "    </tr>\n",
       "  </tbody>\n",
       "</table>\n",
       "</div>"
      ],
      "text/plain": [
       "   ecart                        nom_ligne\n",
       "0    818   SOIR LAC MAINE <> CITE CHABADA\n",
       "1     18              ARDENNE <> ROSERAIE\n",
       "2      0              ARDENNE <> ROSERAIE\n",
       "3    107   SOIR LAC MAINE <> CITE CHABADA\n",
       "4   -129  SOIR MAIRIE PONTS CE <> AVRILLE\n",
       "5    157   SOIR LAC MAINE <> CITE CHABADA\n",
       "6    142        SOIR TRELAZE <>  LORRAINE\n",
       "7    -11              ARDENNE <> ROSERAIE\n",
       "8     30              ARDENNE <> ROSERAIE"
      ]
     },
     "execution_count": 13,
     "metadata": {},
     "output_type": "execute_result"
    }
   ],
   "source": [
    "# Voici comment on fait un join\n",
    "query = session.query(Etape.ecart, Ligne.nom_ligne).select_from(Etape).join(Trajet).join(Ligne)\n",
    "\n",
    "df = pd.read_sql_query(query.statement, query.session.bind)\n",
    "\n",
    "df"
   ]
  },
  {
   "cell_type": "code",
   "execution_count": 14,
   "metadata": {},
   "outputs": [
    {
     "data": {
      "text/html": [
       "<div>\n",
       "<style scoped>\n",
       "    .dataframe tbody tr th:only-of-type {\n",
       "        vertical-align: middle;\n",
       "    }\n",
       "\n",
       "    .dataframe tbody tr th {\n",
       "        vertical-align: top;\n",
       "    }\n",
       "\n",
       "    .dataframe thead th {\n",
       "        text-align: right;\n",
       "    }\n",
       "</style>\n",
       "<table border=\"1\" class=\"dataframe\">\n",
       "  <thead>\n",
       "    <tr style=\"text-align: right;\">\n",
       "      <th></th>\n",
       "      <th>ecart</th>\n",
       "    </tr>\n",
       "    <tr>\n",
       "      <th>nom_ligne</th>\n",
       "      <th></th>\n",
       "    </tr>\n",
       "  </thead>\n",
       "  <tbody>\n",
       "    <tr>\n",
       "      <th>ARDENNE &lt;&gt; ROSERAIE</th>\n",
       "      <td>37</td>\n",
       "    </tr>\n",
       "    <tr>\n",
       "      <th>SOIR LAC MAINE &lt;&gt; CITE CHABADA</th>\n",
       "      <td>1082</td>\n",
       "    </tr>\n",
       "    <tr>\n",
       "      <th>SOIR MAIRIE PONTS CE &lt;&gt; AVRILLE</th>\n",
       "      <td>-129</td>\n",
       "    </tr>\n",
       "    <tr>\n",
       "      <th>SOIR TRELAZE &lt;&gt;  LORRAINE</th>\n",
       "      <td>142</td>\n",
       "    </tr>\n",
       "  </tbody>\n",
       "</table>\n",
       "</div>"
      ],
      "text/plain": [
       "                                 ecart\n",
       "nom_ligne                             \n",
       "ARDENNE <> ROSERAIE                 37\n",
       "SOIR LAC MAINE <> CITE CHABADA    1082\n",
       "SOIR MAIRIE PONTS CE <> AVRILLE   -129\n",
       "SOIR TRELAZE <>  LORRAINE          142"
      ]
     },
     "execution_count": 14,
     "metadata": {},
     "output_type": "execute_result"
    }
   ],
   "source": [
    "df.pivot_table(index=\"nom_ligne\", values=\"ecart\", aggfunc='sum')"
   ]
  },
  {
   "cell_type": "code",
   "execution_count": null,
   "metadata": {},
   "outputs": [],
   "source": []
  }
 ],
 "metadata": {
  "kernelspec": {
   "display_name": "Python 3",
   "language": "python",
   "name": "python3"
  },
  "language_info": {
   "codemirror_mode": {
    "name": "ipython",
    "version": 3
   },
   "file_extension": ".py",
   "mimetype": "text/x-python",
   "name": "python",
   "nbconvert_exporter": "python",
   "pygments_lexer": "ipython3",
   "version": "3.6.5"
  }
 },
 "nbformat": 4,
 "nbformat_minor": 2
}
