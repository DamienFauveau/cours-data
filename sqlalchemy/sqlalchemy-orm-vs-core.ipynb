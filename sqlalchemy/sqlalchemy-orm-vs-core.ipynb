{
 "cells": [
  {
   "cell_type": "markdown",
   "metadata": {},
   "source": [
    "# Import des modules nécessaires à l'ensemble"
   ]
  },
  {
   "cell_type": "code",
   "execution_count": 1,
   "metadata": {
    "collapsed": true
   },
   "outputs": [],
   "source": [
    "import pandas as pd\n",
    "\n",
    "from sqlalchemy import create_engine"
   ]
  },
  {
   "cell_type": "markdown",
   "metadata": {},
   "source": [
    "# 1. Lecture de données et réflexion sur le modèle"
   ]
  },
  {
   "cell_type": "markdown",
   "metadata": {},
   "source": [
    "On importe des donnnées dans `pandas`."
   ]
  },
  {
   "cell_type": "code",
   "execution_count": 2,
   "metadata": {},
   "outputs": [
    {
     "data": {
      "text/html": [
       "<div>\n",
       "<style scoped>\n",
       "    .dataframe tbody tr th:only-of-type {\n",
       "        vertical-align: middle;\n",
       "    }\n",
       "\n",
       "    .dataframe tbody tr th {\n",
       "        vertical-align: top;\n",
       "    }\n",
       "\n",
       "    .dataframe thead th {\n",
       "        text-align: right;\n",
       "    }\n",
       "</style>\n",
       "<table border=\"1\" class=\"dataframe\">\n",
       "  <thead>\n",
       "    <tr style=\"text-align: right;\">\n",
       "      <th></th>\n",
       "      <th>SIREN</th>\n",
       "      <th>NIC</th>\n",
       "      <th>NOM ENTREPRISE</th>\n",
       "      <th>NOM ETABLISSEMENT</th>\n",
       "      <th>VILLE</th>\n",
       "    </tr>\n",
       "  </thead>\n",
       "  <tbody>\n",
       "    <tr>\n",
       "      <th>0</th>\n",
       "      <td>123456789</td>\n",
       "      <td>00001</td>\n",
       "      <td>FNAC</td>\n",
       "      <td>FNAC ANGERS</td>\n",
       "      <td>ANGERS</td>\n",
       "    </tr>\n",
       "    <tr>\n",
       "      <th>1</th>\n",
       "      <td>123456789</td>\n",
       "      <td>00002</td>\n",
       "      <td>FNAC</td>\n",
       "      <td>FNAC ROUEN</td>\n",
       "      <td>ROUEN</td>\n",
       "    </tr>\n",
       "    <tr>\n",
       "      <th>2</th>\n",
       "      <td>123456789</td>\n",
       "      <td>00003</td>\n",
       "      <td>FNAC</td>\n",
       "      <td>FNAC PARIS</td>\n",
       "      <td>PARIS</td>\n",
       "    </tr>\n",
       "    <tr>\n",
       "      <th>3</th>\n",
       "      <td>987654321</td>\n",
       "      <td>00001</td>\n",
       "      <td>COTO</td>\n",
       "      <td>COTO</td>\n",
       "      <td>ANGERS</td>\n",
       "    </tr>\n",
       "  </tbody>\n",
       "</table>\n",
       "</div>"
      ],
      "text/plain": [
       "       SIREN    NIC NOM ENTREPRISE NOM ETABLISSEMENT   VILLE\n",
       "0  123456789  00001           FNAC       FNAC ANGERS  ANGERS\n",
       "1  123456789  00002           FNAC        FNAC ROUEN   ROUEN\n",
       "2  123456789  00003           FNAC        FNAC PARIS   PARIS\n",
       "3  987654321  00001           COTO              COTO  ANGERS"
      ]
     },
     "execution_count": 2,
     "metadata": {},
     "output_type": "execute_result"
    }
   ],
   "source": [
    "# Je force le type à str afin qu'il ne convertisse rien en int ou float\n",
    "df = pd.read_csv('sirene-dummy.csv', dtype=str)\n",
    "\n",
    "df"
   ]
  },
  {
   "cell_type": "markdown",
   "metadata": {},
   "source": [
    "Imaginons que ce soit le \"fichier du jour\" de la base SIRENE, et qu'on veuille le conserver dans une base de données locale (l'historiser).\n",
    "\n",
    "On peut simplement faire :"
   ]
  },
  {
   "cell_type": "code",
   "execution_count": 3,
   "metadata": {
    "collapsed": true
   },
   "outputs": [],
   "source": [
    "# On crée une base sqlite bidon, dans la RAM du PC, juste pour l'exercice\n",
    "engine = create_engine('sqlite://')\n",
    "connection = engine.connect()"
   ]
  },
  {
   "cell_type": "code",
   "execution_count": 4,
   "metadata": {
    "collapsed": true
   },
   "outputs": [],
   "source": [
    "# On écrit la table (il la crée, du coup).\n",
    "df.to_sql('stock-sirene', connection, if_exists='replace', index=False)"
   ]
  },
  {
   "cell_type": "code",
   "execution_count": 5,
   "metadata": {},
   "outputs": [
    {
     "data": {
      "text/html": [
       "<div>\n",
       "<style scoped>\n",
       "    .dataframe tbody tr th:only-of-type {\n",
       "        vertical-align: middle;\n",
       "    }\n",
       "\n",
       "    .dataframe tbody tr th {\n",
       "        vertical-align: top;\n",
       "    }\n",
       "\n",
       "    .dataframe thead th {\n",
       "        text-align: right;\n",
       "    }\n",
       "</style>\n",
       "<table border=\"1\" class=\"dataframe\">\n",
       "  <thead>\n",
       "    <tr style=\"text-align: right;\">\n",
       "      <th></th>\n",
       "      <th>SIREN</th>\n",
       "      <th>NIC</th>\n",
       "      <th>NOM ENTREPRISE</th>\n",
       "      <th>NOM ETABLISSEMENT</th>\n",
       "      <th>VILLE</th>\n",
       "    </tr>\n",
       "  </thead>\n",
       "  <tbody>\n",
       "    <tr>\n",
       "      <th>0</th>\n",
       "      <td>123456789</td>\n",
       "      <td>00001</td>\n",
       "      <td>FNAC</td>\n",
       "      <td>FNAC ANGERS</td>\n",
       "      <td>ANGERS</td>\n",
       "    </tr>\n",
       "    <tr>\n",
       "      <th>1</th>\n",
       "      <td>123456789</td>\n",
       "      <td>00002</td>\n",
       "      <td>FNAC</td>\n",
       "      <td>FNAC ROUEN</td>\n",
       "      <td>ROUEN</td>\n",
       "    </tr>\n",
       "    <tr>\n",
       "      <th>2</th>\n",
       "      <td>123456789</td>\n",
       "      <td>00003</td>\n",
       "      <td>FNAC</td>\n",
       "      <td>FNAC PARIS</td>\n",
       "      <td>PARIS</td>\n",
       "    </tr>\n",
       "    <tr>\n",
       "      <th>3</th>\n",
       "      <td>987654321</td>\n",
       "      <td>00001</td>\n",
       "      <td>COTO</td>\n",
       "      <td>COTO</td>\n",
       "      <td>ANGERS</td>\n",
       "    </tr>\n",
       "  </tbody>\n",
       "</table>\n",
       "</div>"
      ],
      "text/plain": [
       "       SIREN    NIC NOM ENTREPRISE NOM ETABLISSEMENT   VILLE\n",
       "0  123456789  00001           FNAC       FNAC ANGERS  ANGERS\n",
       "1  123456789  00002           FNAC        FNAC ROUEN   ROUEN\n",
       "2  123456789  00003           FNAC        FNAC PARIS   PARIS\n",
       "3  987654321  00001           COTO              COTO  ANGERS"
      ]
     },
     "execution_count": 5,
     "metadata": {},
     "output_type": "execute_result"
    }
   ],
   "source": [
    "# Vérifions\n",
    "pd.read_sql_table('stock-sirene', connection)"
   ]
  },
  {
   "cell_type": "code",
   "execution_count": 6,
   "metadata": {
    "collapsed": true
   },
   "outputs": [],
   "source": [
    "connection.close()"
   ]
  },
  {
   "cell_type": "markdown",
   "metadata": {},
   "source": [
    "Ce n'est cependant **pas très satisfaisant** :\n",
    "- Certaines données sont inutilement répétées (le nom de l'entreprise, de la ville).\n",
    "- On ne fait pas l'effort de donner des informations sur la structure des données."
   ]
  },
  {
   "cell_type": "markdown",
   "metadata": {},
   "source": [
    "# 2. Un nouvel espoir : le modèle de données"
   ]
  },
  {
   "cell_type": "markdown",
   "metadata": {},
   "source": [
    "En vrai, on a (au moins) **trois types d'objets en présence** :\n",
    "- une entreprise,\n",
    "- un établissement,\n",
    "- une ville.\n",
    "\n",
    "Décrivons-les."
   ]
  },
  {
   "cell_type": "markdown",
   "metadata": {},
   "source": [
    "## Entreprises"
   ]
  },
  {
   "cell_type": "code",
   "execution_count": 7,
   "metadata": {},
   "outputs": [
    {
     "data": {
      "text/html": [
       "<div>\n",
       "<style scoped>\n",
       "    .dataframe tbody tr th:only-of-type {\n",
       "        vertical-align: middle;\n",
       "    }\n",
       "\n",
       "    .dataframe tbody tr th {\n",
       "        vertical-align: top;\n",
       "    }\n",
       "\n",
       "    .dataframe thead th {\n",
       "        text-align: right;\n",
       "    }\n",
       "</style>\n",
       "<table border=\"1\" class=\"dataframe\">\n",
       "  <thead>\n",
       "    <tr style=\"text-align: right;\">\n",
       "      <th></th>\n",
       "      <th>id</th>\n",
       "      <th>name</th>\n",
       "    </tr>\n",
       "  </thead>\n",
       "  <tbody>\n",
       "    <tr>\n",
       "      <th>0</th>\n",
       "      <td>123456789</td>\n",
       "      <td>FNAC</td>\n",
       "    </tr>\n",
       "    <tr>\n",
       "      <th>3</th>\n",
       "      <td>987654321</td>\n",
       "      <td>COTO</td>\n",
       "    </tr>\n",
       "  </tbody>\n",
       "</table>\n",
       "</div>"
      ],
      "text/plain": [
       "          id  name\n",
       "0  123456789  FNAC\n",
       "3  987654321  COTO"
      ]
     },
     "execution_count": 7,
     "metadata": {},
     "output_type": "execute_result"
    }
   ],
   "source": [
    "# On a besoin du SIREN et du nom de l'entreprise\n",
    "dft = df[['SIREN', 'NOM ENTREPRISE']].drop_duplicates()\n",
    "dft = dft.rename(columns={\n",
    "    'SIREN': 'id',\n",
    "    'NOM ENTREPRISE': 'name'\n",
    "})\n",
    "\n",
    "dft"
   ]
  },
  {
   "cell_type": "code",
   "execution_count": 8,
   "metadata": {
    "collapsed": true
   },
   "outputs": [],
   "source": [
    "# Et on envoie dans SQL\n",
    "with engine.connect() as connection:\n",
    "    dft.to_sql('entreprises', connection, if_exists='replace')"
   ]
  },
  {
   "cell_type": "markdown",
   "metadata": {},
   "source": [
    "## Etablissements"
   ]
  },
  {
   "cell_type": "code",
   "execution_count": 9,
   "metadata": {},
   "outputs": [
    {
     "data": {
      "text/html": [
       "<div>\n",
       "<style scoped>\n",
       "    .dataframe tbody tr th:only-of-type {\n",
       "        vertical-align: middle;\n",
       "    }\n",
       "\n",
       "    .dataframe tbody tr th {\n",
       "        vertical-align: top;\n",
       "    }\n",
       "\n",
       "    .dataframe thead th {\n",
       "        text-align: right;\n",
       "    }\n",
       "</style>\n",
       "<table border=\"1\" class=\"dataframe\">\n",
       "  <thead>\n",
       "    <tr style=\"text-align: right;\">\n",
       "      <th></th>\n",
       "      <th>companyid</th>\n",
       "      <th>name</th>\n",
       "      <th>cityname</th>\n",
       "      <th>id</th>\n",
       "    </tr>\n",
       "  </thead>\n",
       "  <tbody>\n",
       "    <tr>\n",
       "      <th>0</th>\n",
       "      <td>123456789</td>\n",
       "      <td>FNAC ANGERS</td>\n",
       "      <td>ANGERS</td>\n",
       "      <td>12345678900001</td>\n",
       "    </tr>\n",
       "    <tr>\n",
       "      <th>1</th>\n",
       "      <td>123456789</td>\n",
       "      <td>FNAC ROUEN</td>\n",
       "      <td>ROUEN</td>\n",
       "      <td>12345678900002</td>\n",
       "    </tr>\n",
       "    <tr>\n",
       "      <th>2</th>\n",
       "      <td>123456789</td>\n",
       "      <td>FNAC PARIS</td>\n",
       "      <td>PARIS</td>\n",
       "      <td>12345678900003</td>\n",
       "    </tr>\n",
       "    <tr>\n",
       "      <th>3</th>\n",
       "      <td>987654321</td>\n",
       "      <td>COTO</td>\n",
       "      <td>ANGERS</td>\n",
       "      <td>98765432100001</td>\n",
       "    </tr>\n",
       "  </tbody>\n",
       "</table>\n",
       "</div>"
      ],
      "text/plain": [
       "   companyid         name cityname              id\n",
       "0  123456789  FNAC ANGERS   ANGERS  12345678900001\n",
       "1  123456789   FNAC ROUEN    ROUEN  12345678900002\n",
       "2  123456789   FNAC PARIS    PARIS  12345678900003\n",
       "3  987654321         COTO   ANGERS  98765432100001"
      ]
     },
     "execution_count": 9,
     "metadata": {},
     "output_type": "execute_result"
    }
   ],
   "source": [
    "# On a besoin du SIRET, du nom d'établissement et de la ville\n",
    "dft = df[['SIREN', 'NIC', 'NOM ETABLISSEMENT', 'VILLE']]\n",
    "dft['SIRET'] = dft['SIREN'] + dft['NIC']\n",
    "dft = dft.drop(columns=['NIC'])\n",
    "\n",
    "dft = dft.rename(columns={\n",
    "    'NOM ETABLISSEMENT': 'name',\n",
    "    'VILLE': 'cityname',\n",
    "    'SIRET': 'id',\n",
    "    'SIREN': 'companyid'\n",
    "})\n",
    "\n",
    "dft"
   ]
  },
  {
   "cell_type": "code",
   "execution_count": 10,
   "metadata": {
    "collapsed": true
   },
   "outputs": [],
   "source": [
    "# Et on envoie dans SQL\n",
    "with engine.connect() as connection:\n",
    "    dft.to_sql('etablissements', connection, if_exists='replace')"
   ]
  },
  {
   "cell_type": "markdown",
   "metadata": {},
   "source": [
    "**Remarque :** On pourrait également faire une table pour les villes, et du coup les tables entreprises et établissements ne contiendrait que par exemple le code INSEE de la ville."
   ]
  },
  {
   "cell_type": "markdown",
   "metadata": {},
   "source": [
    "# 3. Alors pourquoi un ORM ?"
   ]
  },
  {
   "cell_type": "markdown",
   "metadata": {},
   "source": [
    "On a vu qu'il était très facile et efficace d'utiliser directement les outils de base de `SQLAlchemy` pour exporter dans une base SQL.\n",
    "\n",
    "Du côté requête, l'ORM va cependant être très pratique.\n",
    "\n",
    "Par ailleurs, il nous oblige à structurer encore plus notre modèle."
   ]
  },
  {
   "cell_type": "markdown",
   "metadata": {},
   "source": [
    "## Besoin de 2-3 choses en plus"
   ]
  },
  {
   "cell_type": "code",
   "execution_count": 11,
   "metadata": {
    "collapsed": true
   },
   "outputs": [],
   "source": [
    "from sqlalchemy import Column, create_engine, ForeignKey, String\n",
    "from sqlalchemy.ext.declarative import declarative_base\n",
    "from sqlalchemy.orm import relationship, sessionmaker"
   ]
  },
  {
   "cell_type": "code",
   "execution_count": 12,
   "metadata": {
    "collapsed": true
   },
   "outputs": [],
   "source": [
    "Base = declarative_base()"
   ]
  },
  {
   "cell_type": "code",
   "execution_count": 13,
   "metadata": {
    "collapsed": true
   },
   "outputs": [],
   "source": [
    "class Company(Base):\n",
    "    # le nom de la table dans la base\n",
    "    __tablename__ = \"entreprises\"\n",
    "    \n",
    "    # les définitions des colonnes (avec plus de précisions)\n",
    "    id = Column(String(9), primary_key=True) # SIREN\n",
    "    name = Column(String)\n",
    "    \n",
    "    # relation : ça ne va être utile qu'en Python, ça ne change rien à la table.\n",
    "    branches = relationship(\"Branch\", back_populates=\"company\")\n",
    "    \n",
    "    # et ça c'est juste pour afficher proprement les objets \"Company\"\n",
    "    def __repr__(self):\n",
    "        return \"<Company(id={}, name={})>\".format(self.id, self.name)"
   ]
  },
  {
   "cell_type": "code",
   "execution_count": 14,
   "metadata": {
    "collapsed": true
   },
   "outputs": [],
   "source": [
    "class Branch(Base):\n",
    "    # le nom de la table dans la base\n",
    "    __tablename__ = \"etablissements\"\n",
    "    \n",
    "    # les définitions des colonnes (avec plus de précisions)\n",
    "    id = Column(String(14), primary_key=True) # SIRET\n",
    "    companyid = Column(String(9), ForeignKey('entreprises.id')) # SIREN\n",
    "    name = Column(String)\n",
    "    cityname = Column(String)\n",
    "    \n",
    "    # relation : ça ne va être utile qu'en Python, ça ne change rien à la table.\n",
    "    company = relationship(\"Company\", back_populates=\"branches\")\n",
    "    \n",
    "    # et ça c'est juste pour afficher proprement les objets \"Branch\"\n",
    "    def __repr__(self):\n",
    "        return \"<Branch(id={}, name={})>\".format(self.id, self.name)"
   ]
  },
  {
   "cell_type": "markdown",
   "metadata": {},
   "source": [
    "On exécute cela une fois pour créer le schéma dans la base et le lier avec le modèle Python."
   ]
  },
  {
   "cell_type": "code",
   "execution_count": 15,
   "metadata": {
    "collapsed": true
   },
   "outputs": [],
   "source": [
    "Base.metadata.create_all(bind=engine)"
   ]
  },
  {
   "cell_type": "markdown",
   "metadata": {},
   "source": [
    "## Maintenant on peut requêter"
   ]
  },
  {
   "cell_type": "code",
   "execution_count": 16,
   "metadata": {
    "collapsed": true
   },
   "outputs": [],
   "source": [
    "Session = sessionmaker(bind=engine)\n",
    "session = Session()"
   ]
  },
  {
   "cell_type": "code",
   "execution_count": 17,
   "metadata": {},
   "outputs": [
    {
     "data": {
      "text/plain": [
       "[<Branch(id=12345678900001, name=FNAC ANGERS)>,\n",
       " <Branch(id=12345678900002, name=FNAC ROUEN)>,\n",
       " <Branch(id=12345678900003, name=FNAC PARIS)>,\n",
       " <Branch(id=98765432100001, name=COTO)>]"
      ]
     },
     "execution_count": 17,
     "metadata": {},
     "output_type": "execute_result"
    }
   ],
   "source": [
    "session.query(Branch).all()"
   ]
  },
  {
   "cell_type": "markdown",
   "metadata": {},
   "source": [
    "Remarque que ce que l'on obtient en sortie est un vrai objet Python, pas juste une liste de lignes :"
   ]
  },
  {
   "cell_type": "code",
   "execution_count": 18,
   "metadata": {},
   "outputs": [
    {
     "name": "stdout",
     "output_type": "stream",
     "text": [
      "<class '__main__.Branch'>\n"
     ]
    }
   ],
   "source": [
    "b = session.query(Branch).first()\n",
    "\n",
    "print(type(b))"
   ]
  },
  {
   "cell_type": "code",
   "execution_count": 19,
   "metadata": {
    "collapsed": true
   },
   "outputs": [],
   "source": [
    "session.close()"
   ]
  },
  {
   "cell_type": "markdown",
   "metadata": {},
   "source": [
    "## Et faire des requêtes plus complexes/sympa"
   ]
  },
  {
   "cell_type": "markdown",
   "metadata": {},
   "source": [
    "Pour en voir plus : http://docs.sqlalchemy.org/en/latest/orm/tutorial.html#querying"
   ]
  },
  {
   "cell_type": "code",
   "execution_count": 20,
   "metadata": {
    "collapsed": true
   },
   "outputs": [],
   "source": [
    "session = Session()"
   ]
  },
  {
   "cell_type": "code",
   "execution_count": 21,
   "metadata": {},
   "outputs": [
    {
     "data": {
      "text/plain": [
       "<Company(id=123456789, name=FNAC)>"
      ]
     },
     "execution_count": 21,
     "metadata": {},
     "output_type": "execute_result"
    }
   ],
   "source": [
    "c = session.query(Company) \\\n",
    "           .filter_by(name='FNAC') \\\n",
    "           .first()\n",
    "\n",
    "c"
   ]
  },
  {
   "cell_type": "markdown",
   "metadata": {},
   "source": [
    "Et à quoi servaient les attributs créés avec la fonction `relationship` ?"
   ]
  },
  {
   "cell_type": "code",
   "execution_count": 22,
   "metadata": {},
   "outputs": [
    {
     "name": "stdout",
     "output_type": "stream",
     "text": [
      "[<Branch(id=12345678900001, name=FNAC ANGERS)>, <Branch(id=12345678900002, name=FNAC ROUEN)>, <Branch(id=12345678900003, name=FNAC PARIS)>]\n"
     ]
    }
   ],
   "source": [
    "print(c.branches)"
   ]
  },
  {
   "cell_type": "markdown",
   "metadata": {},
   "source": [
    "On peut alors facilement boucler dessus, etc. La syntaxe est assez agréable."
   ]
  },
  {
   "cell_type": "code",
   "execution_count": 23,
   "metadata": {},
   "outputs": [
    {
     "name": "stdout",
     "output_type": "stream",
     "text": [
      "FNAC ANGERS\n",
      "FNAC ROUEN\n",
      "FNAC PARIS\n"
     ]
    }
   ],
   "source": [
    "for branch in c.branches:\n",
    "    print(branch.name)"
   ]
  },
  {
   "cell_type": "markdown",
   "metadata": {},
   "source": [
    "Pour les `join` etc., voir ici : http://docs.sqlalchemy.org/en/latest/orm/tutorial.html#querying-with-joins"
   ]
  },
  {
   "cell_type": "code",
   "execution_count": 24,
   "metadata": {
    "collapsed": true
   },
   "outputs": [],
   "source": [
    "session.close()"
   ]
  },
  {
   "cell_type": "markdown",
   "metadata": {},
   "source": [
    "## Export dans un DataFrame"
   ]
  },
  {
   "cell_type": "code",
   "execution_count": 25,
   "metadata": {
    "collapsed": true
   },
   "outputs": [],
   "source": [
    "session = Session()"
   ]
  },
  {
   "cell_type": "code",
   "execution_count": 30,
   "metadata": {},
   "outputs": [
    {
     "data": {
      "text/plain": [
       "<Company(id=123456789, name=FNAC)>"
      ]
     },
     "execution_count": 30,
     "metadata": {},
     "output_type": "execute_result"
    }
   ],
   "source": [
    "pd.read_sql_query(session.query(Branch).statement, session.bind)"
   ]
  },
  {
   "cell_type": "code",
   "execution_count": 29,
   "metadata": {
    "collapsed": true
   },
   "outputs": [],
   "source": [
    "session.close()"
   ]
  },
  {
   "cell_type": "markdown",
   "metadata": {},
   "source": [
    "# 4. Y a-t-il une morale à l'histoire ?"
   ]
  },
  {
   "cell_type": "markdown",
   "metadata": {},
   "source": [
    "Personnellement, j'aime beaucoup l'ORM car il offre une *vraie structure* à notre base SQL. De plus, il instancie un parallèle que je trouve élégant entre une table en SQL et un objet en Python. Enfin, il rend les INSERT et les SELECT bien plus faciles à comprendre : *la syntaxe donne vraiment le sentiment de manipuler des entités/objets*.\n",
    "\n",
    "Cependant, pour ce qui est de remplir *massivement* une base de données, il peut être assez inefficace (voir [ici](http://docs.sqlalchemy.org/en/latest/faq/performance.html#i-m-inserting-400-000-rows-with-the-orm-and-it-s-really-slow)) et, tant que possible, je lui préférerai `pandas` et la méthode `to_sql()`.\n",
    "\n",
    "A l'avenir, je préconiserais donc d'utiliser `to_sql` pour remplir la base, et `SQLAlchemy` ORM pour la requêter."
   ]
  },
  {
   "cell_type": "code",
   "execution_count": null,
   "metadata": {
    "collapsed": true
   },
   "outputs": [],
   "source": []
  }
 ],
 "metadata": {
  "kernelspec": {
   "display_name": "Python 3",
   "language": "python",
   "name": "python3"
  },
  "language_info": {
   "codemirror_mode": {
    "name": "ipython",
    "version": 3
   },
   "file_extension": ".py",
   "mimetype": "text/x-python",
   "name": "python",
   "nbconvert_exporter": "python",
   "pygments_lexer": "ipython3",
   "version": "3.6.2"
  }
 },
 "nbformat": 4,
 "nbformat_minor": 2
}
