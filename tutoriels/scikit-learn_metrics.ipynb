{
 "cells": [
  {
   "cell_type": "markdown",
   "metadata": {},
   "source": [
    "# But de ce tutoriel\n",
    "\n",
    "Nous allons observer et comparer différentes métriques pour évaluer des modèles de classification :\n",
    "* Précision\n",
    "* Rappel\n",
    "* F1-score\n",
    "* AUC score\n",
    "\n",
    "# Import des modules nécessaires"
   ]
  },
  {
   "cell_type": "code",
   "execution_count": 46,
   "metadata": {},
   "outputs": [],
   "source": [
    "import numpy as np\n",
    "\n",
    "import pandas as pd"
   ]
  },
  {
   "cell_type": "markdown",
   "metadata": {},
   "source": [
    "# Import des données\n",
    "\n",
    "Nous aurons plusieurs exemples.\n",
    "1. Une analyse de churn (résiliation client) pour un opérateur télécom."
   ]
  },
  {
   "cell_type": "code",
   "execution_count": 2,
   "metadata": {},
   "outputs": [
    {
     "name": "stdout",
     "output_type": "stream",
     "text": [
      "<class 'pandas.core.frame.DataFrame'>\n",
      "RangeIndex: 5000 entries, 0 to 4999\n",
      "Data columns (total 18 columns):\n",
      "churn                         5000 non-null object\n",
      "accountlength                 5000 non-null int64\n",
      "internationalplan             5000 non-null object\n",
      "voicemailplan                 5000 non-null object\n",
      "numbervmailmessages           5000 non-null int64\n",
      "totaldayminutes               5000 non-null float64\n",
      "totaldaycalls                 5000 non-null int64\n",
      "totaldaycharge                5000 non-null float64\n",
      "totaleveminutes               5000 non-null float64\n",
      "totalevecalls                 5000 non-null int64\n",
      "totalevecharge                5000 non-null float64\n",
      "totalnightminutes             5000 non-null float64\n",
      "totalnightcalls               5000 non-null int64\n",
      "totalnightcharge              5000 non-null float64\n",
      "totalintlminutes              5000 non-null float64\n",
      "totalintlcalls                5000 non-null int64\n",
      "totalintlcharge               5000 non-null float64\n",
      "numbercustomerservicecalls    5000 non-null int64\n",
      "dtypes: float64(8), int64(7), object(3)\n",
      "memory usage: 703.2+ KB\n"
     ]
    },
    {
     "data": {
      "text/html": [
       "<div>\n",
       "<style scoped>\n",
       "    .dataframe tbody tr th:only-of-type {\n",
       "        vertical-align: middle;\n",
       "    }\n",
       "\n",
       "    .dataframe tbody tr th {\n",
       "        vertical-align: top;\n",
       "    }\n",
       "\n",
       "    .dataframe thead th {\n",
       "        text-align: right;\n",
       "    }\n",
       "</style>\n",
       "<table border=\"1\" class=\"dataframe\">\n",
       "  <thead>\n",
       "    <tr style=\"text-align: right;\">\n",
       "      <th></th>\n",
       "      <th>churn</th>\n",
       "      <th>accountlength</th>\n",
       "      <th>internationalplan</th>\n",
       "      <th>voicemailplan</th>\n",
       "      <th>numbervmailmessages</th>\n",
       "      <th>totaldayminutes</th>\n",
       "      <th>totaldaycalls</th>\n",
       "      <th>totaldaycharge</th>\n",
       "      <th>totaleveminutes</th>\n",
       "      <th>totalevecalls</th>\n",
       "      <th>totalevecharge</th>\n",
       "      <th>totalnightminutes</th>\n",
       "      <th>totalnightcalls</th>\n",
       "      <th>totalnightcharge</th>\n",
       "      <th>totalintlminutes</th>\n",
       "      <th>totalintlcalls</th>\n",
       "      <th>totalintlcharge</th>\n",
       "      <th>numbercustomerservicecalls</th>\n",
       "    </tr>\n",
       "  </thead>\n",
       "  <tbody>\n",
       "    <tr>\n",
       "      <th>4786</th>\n",
       "      <td>No</td>\n",
       "      <td>65</td>\n",
       "      <td>no</td>\n",
       "      <td>yes</td>\n",
       "      <td>19</td>\n",
       "      <td>259.0</td>\n",
       "      <td>96</td>\n",
       "      <td>44.03</td>\n",
       "      <td>332.3</td>\n",
       "      <td>106</td>\n",
       "      <td>28.25</td>\n",
       "      <td>130.1</td>\n",
       "      <td>95</td>\n",
       "      <td>5.85</td>\n",
       "      <td>7.5</td>\n",
       "      <td>7</td>\n",
       "      <td>2.03</td>\n",
       "      <td>1</td>\n",
       "    </tr>\n",
       "    <tr>\n",
       "      <th>2188</th>\n",
       "      <td>No</td>\n",
       "      <td>91</td>\n",
       "      <td>no</td>\n",
       "      <td>no</td>\n",
       "      <td>0</td>\n",
       "      <td>123.8</td>\n",
       "      <td>107</td>\n",
       "      <td>21.05</td>\n",
       "      <td>319.0</td>\n",
       "      <td>125</td>\n",
       "      <td>27.12</td>\n",
       "      <td>237.6</td>\n",
       "      <td>78</td>\n",
       "      <td>10.69</td>\n",
       "      <td>7.3</td>\n",
       "      <td>4</td>\n",
       "      <td>1.97</td>\n",
       "      <td>2</td>\n",
       "    </tr>\n",
       "    <tr>\n",
       "      <th>447</th>\n",
       "      <td>No</td>\n",
       "      <td>55</td>\n",
       "      <td>no</td>\n",
       "      <td>no</td>\n",
       "      <td>0</td>\n",
       "      <td>286.7</td>\n",
       "      <td>100</td>\n",
       "      <td>48.74</td>\n",
       "      <td>134.4</td>\n",
       "      <td>121</td>\n",
       "      <td>11.42</td>\n",
       "      <td>192.9</td>\n",
       "      <td>122</td>\n",
       "      <td>8.68</td>\n",
       "      <td>6.9</td>\n",
       "      <td>5</td>\n",
       "      <td>1.86</td>\n",
       "      <td>2</td>\n",
       "    </tr>\n",
       "  </tbody>\n",
       "</table>\n",
       "</div>"
      ],
      "text/plain": [
       "     churn  accountlength internationalplan voicemailplan  \\\n",
       "4786    No             65                no           yes   \n",
       "2188    No             91                no            no   \n",
       "447     No             55                no            no   \n",
       "\n",
       "      numbervmailmessages  totaldayminutes  totaldaycalls  totaldaycharge  \\\n",
       "4786                   19            259.0             96           44.03   \n",
       "2188                    0            123.8            107           21.05   \n",
       "447                     0            286.7            100           48.74   \n",
       "\n",
       "      totaleveminutes  totalevecalls  totalevecharge  totalnightminutes  \\\n",
       "4786            332.3            106           28.25              130.1   \n",
       "2188            319.0            125           27.12              237.6   \n",
       "447             134.4            121           11.42              192.9   \n",
       "\n",
       "      totalnightcalls  totalnightcharge  totalintlminutes  totalintlcalls  \\\n",
       "4786               95              5.85               7.5               7   \n",
       "2188               78             10.69               7.3               4   \n",
       "447               122              8.68               6.9               5   \n",
       "\n",
       "      totalintlcharge  numbercustomerservicecalls  \n",
       "4786             2.03                           1  \n",
       "2188             1.97                           2  \n",
       "447              1.86                           2  "
      ]
     },
     "execution_count": 2,
     "metadata": {},
     "output_type": "execute_result"
    }
   ],
   "source": [
    "# https://query.data.world/s/jb75k2kxn5ajlcxsmvlnorxyj4pisx\n",
    "df_churn = pd.read_csv('https://bit.ly/2Pkupqx')\n",
    "\n",
    "df_churn.info()\n",
    "\n",
    "df_churn.sample(3)"
   ]
  },
  {
   "cell_type": "markdown",
   "metadata": {},
   "source": [
    "Comme vous pouvez le voir, la première colonne contient le fait pour un client d'avoir résilié ou pas. C'est ce que nous chercherons à estimer."
   ]
  },
  {
   "cell_type": "code",
   "execution_count": 5,
   "metadata": {},
   "outputs": [
    {
     "data": {
      "text/plain": [
       "No     4293\n",
       "Yes     707\n",
       "Name: churn, dtype: int64"
      ]
     },
     "execution_count": 5,
     "metadata": {},
     "output_type": "execute_result"
    }
   ],
   "source": [
    "df_churn['churn'].value_counts()"
   ]
  },
  {
   "cell_type": "markdown",
   "metadata": {},
   "source": [
    "On observe, sur cette période, **707 résiliations pour 5000 clients au départ**."
   ]
  },
  {
   "cell_type": "markdown",
   "metadata": {},
   "source": [
    "# Vrais/faux positifs/négatifs\n",
    "\n",
    "Quand on a un classificateur, la première chose que l'on regarde souvent est la matrice de confusion. Elle présente les faux et vrais négatifs et positifs"
   ]
  },
  {
   "cell_type": "markdown",
   "metadata": {},
   "source": [
    "<img src=\"images/vrai_faux_positif_negatif.png\" alt=\"Matrice de confusion\" style=\"width: 500px;\"/>\n",
    "\n",
    "*Source : Wikipedia*\n",
    "\n",
    "Créons deux classificateurs idiots :\n",
    "* Averell prédit que personne ne résilie ;\n",
    "* William tire à pile ou face (50/50)."
   ]
  },
  {
   "cell_type": "code",
   "execution_count": 9,
   "metadata": {},
   "outputs": [],
   "source": [
    "averell = pd.Series(\"No\", index=df_churn.index, name='Averell')\n",
    "william = pd.Series(np.random.choice(['Yes', 'No'], size=len(df_churn)),\n",
    "                    index=df_churn.index, name='Wiliam')"
   ]
  },
  {
   "cell_type": "markdown",
   "metadata": {},
   "source": [
    "Jugeons maintenant de leur performance sur quelques clients pris au hasard."
   ]
  },
  {
   "cell_type": "code",
   "execution_count": 12,
   "metadata": {},
   "outputs": [
    {
     "data": {
      "text/html": [
       "<div>\n",
       "<style scoped>\n",
       "    .dataframe tbody tr th:only-of-type {\n",
       "        vertical-align: middle;\n",
       "    }\n",
       "\n",
       "    .dataframe tbody tr th {\n",
       "        vertical-align: top;\n",
       "    }\n",
       "\n",
       "    .dataframe thead th {\n",
       "        text-align: right;\n",
       "    }\n",
       "</style>\n",
       "<table border=\"1\" class=\"dataframe\">\n",
       "  <thead>\n",
       "    <tr style=\"text-align: right;\">\n",
       "      <th></th>\n",
       "      <th>churn</th>\n",
       "      <th>Averell</th>\n",
       "      <th>Wiliam</th>\n",
       "    </tr>\n",
       "  </thead>\n",
       "  <tbody>\n",
       "    <tr>\n",
       "      <th>1888</th>\n",
       "      <td>No</td>\n",
       "      <td>No</td>\n",
       "      <td>No</td>\n",
       "    </tr>\n",
       "    <tr>\n",
       "      <th>1321</th>\n",
       "      <td>No</td>\n",
       "      <td>No</td>\n",
       "      <td>No</td>\n",
       "    </tr>\n",
       "    <tr>\n",
       "      <th>503</th>\n",
       "      <td>No</td>\n",
       "      <td>No</td>\n",
       "      <td>Yes</td>\n",
       "    </tr>\n",
       "    <tr>\n",
       "      <th>3085</th>\n",
       "      <td>No</td>\n",
       "      <td>No</td>\n",
       "      <td>No</td>\n",
       "    </tr>\n",
       "    <tr>\n",
       "      <th>1916</th>\n",
       "      <td>No</td>\n",
       "      <td>No</td>\n",
       "      <td>No</td>\n",
       "    </tr>\n",
       "    <tr>\n",
       "      <th>417</th>\n",
       "      <td>No</td>\n",
       "      <td>No</td>\n",
       "      <td>No</td>\n",
       "    </tr>\n",
       "    <tr>\n",
       "      <th>1394</th>\n",
       "      <td>No</td>\n",
       "      <td>No</td>\n",
       "      <td>No</td>\n",
       "    </tr>\n",
       "    <tr>\n",
       "      <th>3064</th>\n",
       "      <td>Yes</td>\n",
       "      <td>No</td>\n",
       "      <td>No</td>\n",
       "    </tr>\n",
       "    <tr>\n",
       "      <th>926</th>\n",
       "      <td>No</td>\n",
       "      <td>No</td>\n",
       "      <td>No</td>\n",
       "    </tr>\n",
       "    <tr>\n",
       "      <th>2599</th>\n",
       "      <td>Yes</td>\n",
       "      <td>No</td>\n",
       "      <td>No</td>\n",
       "    </tr>\n",
       "  </tbody>\n",
       "</table>\n",
       "</div>"
      ],
      "text/plain": [
       "     churn Averell Wiliam\n",
       "1888    No      No     No\n",
       "1321    No      No     No\n",
       "503     No      No    Yes\n",
       "3085    No      No     No\n",
       "1916    No      No     No\n",
       "417     No      No     No\n",
       "1394    No      No     No\n",
       "3064   Yes      No     No\n",
       "926     No      No     No\n",
       "2599   Yes      No     No"
      ]
     },
     "execution_count": 12,
     "metadata": {},
     "output_type": "execute_result"
    }
   ],
   "source": [
    "pd.concat([df_churn['churn'], averell, william], axis='columns').sample(10)"
   ]
  },
  {
   "cell_type": "markdown",
   "metadata": {},
   "source": [
    "Que pensez-vous des performances de chacun ? Estimez le taux de vrais positifs, de faux positifs, etc.\n",
    "\n",
    "Maintenant, importons la matrice de confusion depuis scikit-learn."
   ]
  },
  {
   "cell_type": "code",
   "execution_count": 15,
   "metadata": {},
   "outputs": [],
   "source": [
    "from sklearn.metrics import confusion_matrix, classification_report"
   ]
  },
  {
   "cell_type": "code",
   "execution_count": 20,
   "metadata": {},
   "outputs": [
    {
     "name": "stdout",
     "output_type": "stream",
     "text": [
      "averell :\n",
      "\n",
      "[[4293    0]\n",
      " [ 707    0]]\n"
     ]
    }
   ],
   "source": [
    "print('averell :', confusion_matrix(df_churn['churn'], averell), sep='\\n')"
   ]
  },
  {
   "cell_type": "markdown",
   "metadata": {},
   "source": [
    "Averell prédit que personne ne va résilier. Il a donc 4293 vrais positifs et 707 faux positifs (tout est positif pour lui)."
   ]
  },
  {
   "cell_type": "code",
   "execution_count": 21,
   "metadata": {},
   "outputs": [
    {
     "name": "stdout",
     "output_type": "stream",
     "text": [
      "wiliam :\n",
      "[[2179 2114]\n",
      " [ 353  354]]\n"
     ]
    }
   ],
   "source": [
    "print('wiliam :', confusion_matrix(df_churn['churn'], william), sep='\\n')"
   ]
  },
  {
   "cell_type": "markdown",
   "metadata": {},
   "source": [
    "Wiliam prédit au hasard (50/50). Il a donc autant de vrais positifs que de vrais négatifs, et autant de faux positifs que de faux négatifs."
   ]
  },
  {
   "cell_type": "markdown",
   "metadata": {},
   "source": [
    "Prenons un classificateur un peu meilleur (nous reviendrons sur le pourquoi ensuite)."
   ]
  },
  {
   "cell_type": "code",
   "execution_count": 22,
   "metadata": {},
   "outputs": [],
   "source": [
    "from sklearn.ensemble import GradientBoostingClassifier"
   ]
  },
  {
   "cell_type": "code",
   "execution_count": 25,
   "metadata": {},
   "outputs": [],
   "source": [
    "clf_gbf = GradientBoostingClassifier()\n",
    "\n",
    "clf_gbf.fit(df_churn[['totaldayminutes', 'numbercustomerservicecalls']], df_churn['churn'])\n",
    "\n",
    "y_pred = clf_gbf.predict(df_churn[['totaldayminutes', 'numbercustomerservicecalls']])\n",
    "\n",
    "gbf = pd.Series(y_pred, index=df_churn.index, name='GBF')"
   ]
  },
  {
   "cell_type": "code",
   "execution_count": 27,
   "metadata": {},
   "outputs": [
    {
     "data": {
      "text/html": [
       "<div>\n",
       "<style scoped>\n",
       "    .dataframe tbody tr th:only-of-type {\n",
       "        vertical-align: middle;\n",
       "    }\n",
       "\n",
       "    .dataframe tbody tr th {\n",
       "        vertical-align: top;\n",
       "    }\n",
       "\n",
       "    .dataframe thead th {\n",
       "        text-align: right;\n",
       "    }\n",
       "</style>\n",
       "<table border=\"1\" class=\"dataframe\">\n",
       "  <thead>\n",
       "    <tr style=\"text-align: right;\">\n",
       "      <th></th>\n",
       "      <th>churn</th>\n",
       "      <th>Averell</th>\n",
       "      <th>Wiliam</th>\n",
       "      <th>GBF</th>\n",
       "    </tr>\n",
       "  </thead>\n",
       "  <tbody>\n",
       "    <tr>\n",
       "      <th>250</th>\n",
       "      <td>Yes</td>\n",
       "      <td>No</td>\n",
       "      <td>Yes</td>\n",
       "      <td>Yes</td>\n",
       "    </tr>\n",
       "    <tr>\n",
       "      <th>2184</th>\n",
       "      <td>No</td>\n",
       "      <td>No</td>\n",
       "      <td>Yes</td>\n",
       "      <td>No</td>\n",
       "    </tr>\n",
       "    <tr>\n",
       "      <th>2279</th>\n",
       "      <td>No</td>\n",
       "      <td>No</td>\n",
       "      <td>No</td>\n",
       "      <td>No</td>\n",
       "    </tr>\n",
       "    <tr>\n",
       "      <th>2248</th>\n",
       "      <td>No</td>\n",
       "      <td>No</td>\n",
       "      <td>Yes</td>\n",
       "      <td>No</td>\n",
       "    </tr>\n",
       "    <tr>\n",
       "      <th>360</th>\n",
       "      <td>Yes</td>\n",
       "      <td>No</td>\n",
       "      <td>Yes</td>\n",
       "      <td>No</td>\n",
       "    </tr>\n",
       "    <tr>\n",
       "      <th>2155</th>\n",
       "      <td>Yes</td>\n",
       "      <td>No</td>\n",
       "      <td>No</td>\n",
       "      <td>Yes</td>\n",
       "    </tr>\n",
       "    <tr>\n",
       "      <th>1173</th>\n",
       "      <td>No</td>\n",
       "      <td>No</td>\n",
       "      <td>No</td>\n",
       "      <td>No</td>\n",
       "    </tr>\n",
       "    <tr>\n",
       "      <th>4504</th>\n",
       "      <td>No</td>\n",
       "      <td>No</td>\n",
       "      <td>No</td>\n",
       "      <td>No</td>\n",
       "    </tr>\n",
       "    <tr>\n",
       "      <th>2162</th>\n",
       "      <td>No</td>\n",
       "      <td>No</td>\n",
       "      <td>Yes</td>\n",
       "      <td>No</td>\n",
       "    </tr>\n",
       "    <tr>\n",
       "      <th>765</th>\n",
       "      <td>No</td>\n",
       "      <td>No</td>\n",
       "      <td>No</td>\n",
       "      <td>No</td>\n",
       "    </tr>\n",
       "  </tbody>\n",
       "</table>\n",
       "</div>"
      ],
      "text/plain": [
       "     churn Averell Wiliam  GBF\n",
       "250    Yes      No    Yes  Yes\n",
       "2184    No      No    Yes   No\n",
       "2279    No      No     No   No\n",
       "2248    No      No    Yes   No\n",
       "360    Yes      No    Yes   No\n",
       "2155   Yes      No     No  Yes\n",
       "1173    No      No     No   No\n",
       "4504    No      No     No   No\n",
       "2162    No      No    Yes   No\n",
       "765     No      No     No   No"
      ]
     },
     "execution_count": 27,
     "metadata": {},
     "output_type": "execute_result"
    }
   ],
   "source": [
    "pd.concat([df_churn['churn'], averell, william, gbf], axis='columns').sample(10)"
   ]
  },
  {
   "cell_type": "markdown",
   "metadata": {},
   "source": [
    "Beaucoup mieux !\n",
    "\n",
    "Regardons sa matrice de confusion."
   ]
  },
  {
   "cell_type": "code",
   "execution_count": 28,
   "metadata": {},
   "outputs": [
    {
     "name": "stdout",
     "output_type": "stream",
     "text": [
      "gbf :\n",
      "[[4235   58]\n",
      " [ 416  291]]\n"
     ]
    }
   ],
   "source": [
    "print('gbf :', confusion_matrix(df_churn['churn'], gbf), sep='\\n')"
   ]
  },
  {
   "cell_type": "markdown",
   "metadata": {},
   "source": [
    "Reste tout de même 416 faux positifs (des clients qui ont résilié et qu'on n'a pas détecté).\n",
    "\n",
    "Que souhaite-t-on optimiser ? Minimiser les faux positifs ? Les faux négatifs ? Dans le cas de l'anti-spam par exemple, minimiser les faux positifs est plus important que minimiser les faux négatifs (on ne veut pas mettre en spam un email important !)."
   ]
  },
  {
   "cell_type": "markdown",
   "metadata": {},
   "source": [
    "# Précision et rappel\n",
    "\n",
    "<img src=\"images/precision_rappel.png\" alt=\"Précision et rappel\" style=\"width: 300px;\"/>\n",
    "\n",
    "*Source : Wikipedia*\n",
    "\n",
    "À partir des vrais/faux positifs/négatifs, on calcule classiquement la précision et le rappel.\n",
    "\n",
    "## Précision\n",
    "\n",
    "VP / (VP + FP). C'est combien de vraiment vrais ont été sélectionnés par notre algo (combien il y a de vrais spams dans ma boite spam).\n",
    "\n",
    "<img src=\"images/precision.png\" alt=\"Précision\" style=\"width: 300px;\"/>\n",
    "\n",
    "\n",
    "## Rappel\n",
    "\n",
    "VP / (VP + FN). C'est combien de spams j'ai trouvé !\n",
    "\n",
    "<img src=\"images/rappel.png\" alt=\"Rappel\" style=\"width: 300px;\"/>\n",
    "\n",
    "Comparons ces scores pour nos trois algos."
   ]
  },
  {
   "cell_type": "code",
   "execution_count": 29,
   "metadata": {},
   "outputs": [],
   "source": [
    "from sklearn.metrics import precision_score, recall_score"
   ]
  },
  {
   "cell_type": "code",
   "execution_count": 37,
   "metadata": {},
   "outputs": [
    {
     "name": "stderr",
     "output_type": "stream",
     "text": [
      "/home/girardea/anaconda3/lib/python3.6/site-packages/sklearn/metrics/classification.py:1143: UndefinedMetricWarning: Precision is ill-defined and being set to 0.0 due to no predicted samples.\n",
      "  'precision', 'predicted', average, warn_for)\n"
     ]
    },
    {
     "data": {
      "text/html": [
       "<div>\n",
       "<style scoped>\n",
       "    .dataframe tbody tr th:only-of-type {\n",
       "        vertical-align: middle;\n",
       "    }\n",
       "\n",
       "    .dataframe tbody tr th {\n",
       "        vertical-align: top;\n",
       "    }\n",
       "\n",
       "    .dataframe thead th {\n",
       "        text-align: right;\n",
       "    }\n",
       "</style>\n",
       "<table border=\"1\" class=\"dataframe\">\n",
       "  <thead>\n",
       "    <tr style=\"text-align: right;\">\n",
       "      <th></th>\n",
       "      <th>Averell</th>\n",
       "      <th>William</th>\n",
       "      <th>GBF</th>\n",
       "    </tr>\n",
       "  </thead>\n",
       "  <tbody>\n",
       "    <tr>\n",
       "      <th>Précision</th>\n",
       "      <td>0.0</td>\n",
       "      <td>0.143436</td>\n",
       "      <td>0.833811</td>\n",
       "    </tr>\n",
       "    <tr>\n",
       "      <th>Rappel</th>\n",
       "      <td>0.0</td>\n",
       "      <td>0.500707</td>\n",
       "      <td>0.411598</td>\n",
       "    </tr>\n",
       "  </tbody>\n",
       "</table>\n",
       "</div>"
      ],
      "text/plain": [
       "           Averell   William       GBF\n",
       "Précision      0.0  0.143436  0.833811\n",
       "Rappel         0.0  0.500707  0.411598"
      ]
     },
     "execution_count": 37,
     "metadata": {},
     "output_type": "execute_result"
    }
   ],
   "source": [
    "pd.DataFrame({\n",
    "    'Précision': [precision_score(df_churn['churn'], clf, pos_label=\"Yes\") for clf in [averell, william, gbf]],\n",
    "    'Rappel': [recall_score(df_churn['churn'], clf, pos_label=\"Yes\") for clf in [averell, william, gbf]]\n",
    "},\n",
    "    index=['Averell', 'William', 'GBF']\n",
    ").transpose()"
   ]
  },
  {
   "cell_type": "markdown",
   "metadata": {},
   "source": [
    "Qu'en pensez-vous ?\n",
    "\n",
    "De toute évidence :\n",
    "* GBF est le plus précis : 83% des clients qu'il trouve résilient.\n",
    "* Cependant, il trouve moins de résiliations que William !\n",
    "* Quant à Averell...\n",
    "\n",
    "Alors, certes, William trouve plus de résiliations que GBF, mais avec une précision très faible. **En tirant à pile ou face pour savoir si un client va partir ou pas, vous obtiendrez toujours un rappel de 50%**.\n",
    "\n",
    "On peut aller plus loin dans le raisonnement. Si on prend, à l'opposé d'Averell, quelqu'un de très pessimiste."
   ]
  },
  {
   "cell_type": "code",
   "execution_count": 38,
   "metadata": {},
   "outputs": [],
   "source": [
    "grincheux = pd.Series(\"Yes\", index=df_churn.index, name='Grincheux')"
   ]
  },
  {
   "cell_type": "code",
   "execution_count": 39,
   "metadata": {},
   "outputs": [
    {
     "name": "stderr",
     "output_type": "stream",
     "text": [
      "/home/girardea/anaconda3/lib/python3.6/site-packages/sklearn/metrics/classification.py:1143: UndefinedMetricWarning: Precision is ill-defined and being set to 0.0 due to no predicted samples.\n",
      "  'precision', 'predicted', average, warn_for)\n"
     ]
    },
    {
     "data": {
      "text/html": [
       "<div>\n",
       "<style scoped>\n",
       "    .dataframe tbody tr th:only-of-type {\n",
       "        vertical-align: middle;\n",
       "    }\n",
       "\n",
       "    .dataframe tbody tr th {\n",
       "        vertical-align: top;\n",
       "    }\n",
       "\n",
       "    .dataframe thead th {\n",
       "        text-align: right;\n",
       "    }\n",
       "</style>\n",
       "<table border=\"1\" class=\"dataframe\">\n",
       "  <thead>\n",
       "    <tr style=\"text-align: right;\">\n",
       "      <th></th>\n",
       "      <th>Averell</th>\n",
       "      <th>William</th>\n",
       "      <th>GBF</th>\n",
       "      <th>Grincheux</th>\n",
       "    </tr>\n",
       "  </thead>\n",
       "  <tbody>\n",
       "    <tr>\n",
       "      <th>Précision</th>\n",
       "      <td>0.0</td>\n",
       "      <td>0.143436</td>\n",
       "      <td>0.833811</td>\n",
       "      <td>0.1414</td>\n",
       "    </tr>\n",
       "    <tr>\n",
       "      <th>Rappel</th>\n",
       "      <td>0.0</td>\n",
       "      <td>0.500707</td>\n",
       "      <td>0.411598</td>\n",
       "      <td>1.0000</td>\n",
       "    </tr>\n",
       "  </tbody>\n",
       "</table>\n",
       "</div>"
      ],
      "text/plain": [
       "           Averell   William       GBF  Grincheux\n",
       "Précision      0.0  0.143436  0.833811     0.1414\n",
       "Rappel         0.0  0.500707  0.411598     1.0000"
      ]
     },
     "execution_count": 39,
     "metadata": {},
     "output_type": "execute_result"
    }
   ],
   "source": [
    "pd.DataFrame({\n",
    "    'Précision': [precision_score(df_churn['churn'], clf, pos_label=\"Yes\") for clf in [averell, william, gbf, grincheux]],\n",
    "    'Rappel': [recall_score(df_churn['churn'], clf, pos_label=\"Yes\") for clf in [averell, william, gbf, grincheux]]\n",
    "},\n",
    "    index=['Averell', 'William', 'GBF', 'Grincheux']\n",
    ").transpose()"
   ]
  },
  {
   "cell_type": "markdown",
   "metadata": {},
   "source": [
    "Naturellement, il se retrouve avec un **rappel de 100%**.\n",
    "\n",
    "Notez que la précision pour Grincheux est de **14%, ce qui correspond au churn rate** (proportion de personnes ayant résilié). Notez que William obtient la même précision que Grincheux.\n",
    "\n",
    "# F1-score\n",
    "\n",
    "Souvent, on ne va pas vouloir choisir entre précision et rappel. Le F1-score est la moyenne géométrique de la précision et du rappel.\n",
    "\n",
    "*Note : Pourquoi pas la moyenne arithmétique ? La moyenne géométrique x * y / (2 * (x + y)) va avoir tendance à tirer vers le plus bas des deux nombres. Ainsi on va dégrader une note dès lors que la précision ou le rappel est faible.*"
   ]
  },
  {
   "cell_type": "code",
   "execution_count": 40,
   "metadata": {},
   "outputs": [],
   "source": [
    "from sklearn.metrics import f1_score"
   ]
  },
  {
   "cell_type": "code",
   "execution_count": 41,
   "metadata": {},
   "outputs": [
    {
     "name": "stderr",
     "output_type": "stream",
     "text": [
      "/home/girardea/anaconda3/lib/python3.6/site-packages/sklearn/metrics/classification.py:1143: UndefinedMetricWarning: Precision is ill-defined and being set to 0.0 due to no predicted samples.\n",
      "  'precision', 'predicted', average, warn_for)\n",
      "/home/girardea/anaconda3/lib/python3.6/site-packages/sklearn/metrics/classification.py:1143: UndefinedMetricWarning: F-score is ill-defined and being set to 0.0 due to no predicted samples.\n",
      "  'precision', 'predicted', average, warn_for)\n"
     ]
    },
    {
     "data": {
      "text/html": [
       "<div>\n",
       "<style scoped>\n",
       "    .dataframe tbody tr th:only-of-type {\n",
       "        vertical-align: middle;\n",
       "    }\n",
       "\n",
       "    .dataframe tbody tr th {\n",
       "        vertical-align: top;\n",
       "    }\n",
       "\n",
       "    .dataframe thead th {\n",
       "        text-align: right;\n",
       "    }\n",
       "</style>\n",
       "<table border=\"1\" class=\"dataframe\">\n",
       "  <thead>\n",
       "    <tr style=\"text-align: right;\">\n",
       "      <th></th>\n",
       "      <th>Averell</th>\n",
       "      <th>William</th>\n",
       "      <th>GBF</th>\n",
       "      <th>Grincheux</th>\n",
       "    </tr>\n",
       "  </thead>\n",
       "  <tbody>\n",
       "    <tr>\n",
       "      <th>Précision</th>\n",
       "      <td>0.0</td>\n",
       "      <td>0.143436</td>\n",
       "      <td>0.833811</td>\n",
       "      <td>0.141400</td>\n",
       "    </tr>\n",
       "    <tr>\n",
       "      <th>Rappel</th>\n",
       "      <td>0.0</td>\n",
       "      <td>0.500707</td>\n",
       "      <td>0.411598</td>\n",
       "      <td>1.000000</td>\n",
       "    </tr>\n",
       "    <tr>\n",
       "      <th>F1-score</th>\n",
       "      <td>0.0</td>\n",
       "      <td>0.222992</td>\n",
       "      <td>0.551136</td>\n",
       "      <td>0.247766</td>\n",
       "    </tr>\n",
       "  </tbody>\n",
       "</table>\n",
       "</div>"
      ],
      "text/plain": [
       "           Averell   William       GBF  Grincheux\n",
       "Précision      0.0  0.143436  0.833811   0.141400\n",
       "Rappel         0.0  0.500707  0.411598   1.000000\n",
       "F1-score       0.0  0.222992  0.551136   0.247766"
      ]
     },
     "execution_count": 41,
     "metadata": {},
     "output_type": "execute_result"
    }
   ],
   "source": [
    "pd.DataFrame({\n",
    "    'Précision': [precision_score(df_churn['churn'], clf, pos_label=\"Yes\") for clf in [averell, william, gbf, grincheux]],\n",
    "    'Rappel': [recall_score(df_churn['churn'], clf, pos_label=\"Yes\") for clf in [averell, william, gbf, grincheux]],\n",
    "    'F1-score': [f1_score(df_churn['churn'], clf, pos_label=\"Yes\") for clf in [averell, william, gbf, grincheux]]\n",
    "},\n",
    "    index=['Averell', 'William', 'GBF', 'Grincheux']\n",
    ").transpose()"
   ]
  },
  {
   "cell_type": "markdown",
   "metadata": {},
   "source": [
    "# ROC-AUC curve\n",
    "\n",
    "La courbe ROC (Receiver Operating Characteristic) décrit l'évolution des taux de vrais positifs et faux positifs en fonction du seuil choisi dans votre algorithme de classification.\n",
    "\n",
    "<img src=\"images/roc_auc_score.png\" alt=\"Rappel\" style=\"width: 300px;\"/>\n",
    "\n",
    "*Source : [Cours UNC](https://www.unc.edu/courses/2010fall/ecol/563/001/docs/lectures/lecture22.htm)*\n",
    "\n",
    "Le score AUC (Area Under the Curve) est simplement l'aire sous la courbe. Il a une interprétation intéressante : si vous triez de gauche à droite vos échantillons en fonction de la probabilité de l'échantillon d'être vrai (selon votre classificateur), le score AUC est la probabilité qu'un cas réellement positif se trouve à droite d'un cas réellement négatif.\n",
    "\n",
    "<img src=\"images/AUCPredictionsRanked.svg\" alt=\"AUC interprétation\" style=\"width: 600px;\"/>\n",
    "\n",
    "*Source : https://developers.google.com/machine-learning*\n",
    "\n",
    "Traçons donc cette courbe pour nos 4 estimateurs."
   ]
  },
  {
   "cell_type": "code",
   "execution_count": 47,
   "metadata": {},
   "outputs": [],
   "source": [
    "import matplotlib.pyplot as plt\n",
    "\n",
    "import seaborn as sns\n",
    "sns.set()\n",
    "\n",
    "from sklearn.metrics import roc_curve"
   ]
  },
  {
   "cell_type": "code",
   "execution_count": 50,
   "metadata": {},
   "outputs": [
    {
     "data": {
      "image/png": "[encoded data removed]",
      "text/plain": [
       "<Figure size 432x288 with 1 Axes>"
      ]
     },
     "metadata": {},
     "output_type": "display_data"
    }
   ],
   "source": [
    "\n",
    "# diagonale : si on tombe en-dessous on est vraiment très nul\n",
    "plt.plot([0, 1], [0, 1], 'k--')\n",
    "\n",
    "for name, y_pred in [('Averell', averell), ('William', william), ('GBF', gbf), ('Grincheux', grincheux)]:\n",
    "    fpr, tpr, thresholds = roc_curve(df_churn['churn'] == 'Yes', y_pred == 'Yes')\n",
    "    plt.plot(fpr, tpr, label=name)\n",
    "    \n",
    "plt.xlabel('False Positive Rate')\n",
    "plt.ylabel('True Positive Rate')\n",
    "plt.title(\"ROC Curve\")\n",
    "plt.legend()\n",
    "\n",
    "plt.show()"
   ]
  },
  {
   "cell_type": "markdown",
   "metadata": {},
   "source": [
    "On voit directement qu'à part GBF, tout le monde fait aussi bien que de l'aléatoire...\n",
    "\n",
    "Le score qui en découle (AUC) se calcule facilement."
   ]
  },
  {
   "cell_type": "code",
   "execution_count": 51,
   "metadata": {},
   "outputs": [],
   "source": [
    "from sklearn.metrics import roc_auc_score"
   ]
  },
  {
   "cell_type": "code",
   "execution_count": 53,
   "metadata": {},
   "outputs": [
    {
     "name": "stderr",
     "output_type": "stream",
     "text": [
      "/home/girardea/anaconda3/lib/python3.6/site-packages/sklearn/metrics/classification.py:1143: UndefinedMetricWarning: Precision is ill-defined and being set to 0.0 due to no predicted samples.\n",
      "  'precision', 'predicted', average, warn_for)\n",
      "/home/girardea/anaconda3/lib/python3.6/site-packages/sklearn/metrics/classification.py:1143: UndefinedMetricWarning: F-score is ill-defined and being set to 0.0 due to no predicted samples.\n",
      "  'precision', 'predicted', average, warn_for)\n"
     ]
    },
    {
     "data": {
      "text/html": [
       "<div>\n",
       "<style scoped>\n",
       "    .dataframe tbody tr th:only-of-type {\n",
       "        vertical-align: middle;\n",
       "    }\n",
       "\n",
       "    .dataframe tbody tr th {\n",
       "        vertical-align: top;\n",
       "    }\n",
       "\n",
       "    .dataframe thead th {\n",
       "        text-align: right;\n",
       "    }\n",
       "</style>\n",
       "<table border=\"1\" class=\"dataframe\">\n",
       "  <thead>\n",
       "    <tr style=\"text-align: right;\">\n",
       "      <th></th>\n",
       "      <th>Averell</th>\n",
       "      <th>William</th>\n",
       "      <th>GBF</th>\n",
       "      <th>Grincheux</th>\n",
       "    </tr>\n",
       "  </thead>\n",
       "  <tbody>\n",
       "    <tr>\n",
       "      <th>Précision</th>\n",
       "      <td>0.0</td>\n",
       "      <td>0.143436</td>\n",
       "      <td>0.833811</td>\n",
       "      <td>0.141400</td>\n",
       "    </tr>\n",
       "    <tr>\n",
       "      <th>Rappel</th>\n",
       "      <td>0.0</td>\n",
       "      <td>0.500707</td>\n",
       "      <td>0.411598</td>\n",
       "      <td>1.000000</td>\n",
       "    </tr>\n",
       "    <tr>\n",
       "      <th>F1-score</th>\n",
       "      <td>0.0</td>\n",
       "      <td>0.222992</td>\n",
       "      <td>0.551136</td>\n",
       "      <td>0.247766</td>\n",
       "    </tr>\n",
       "    <tr>\n",
       "      <th>ROC-AUC score</th>\n",
       "      <td>0.5</td>\n",
       "      <td>0.504139</td>\n",
       "      <td>0.699044</td>\n",
       "      <td>0.500000</td>\n",
       "    </tr>\n",
       "  </tbody>\n",
       "</table>\n",
       "</div>"
      ],
      "text/plain": [
       "               Averell   William       GBF  Grincheux\n",
       "Précision          0.0  0.143436  0.833811   0.141400\n",
       "Rappel             0.0  0.500707  0.411598   1.000000\n",
       "F1-score           0.0  0.222992  0.551136   0.247766\n",
       "ROC-AUC score      0.5  0.504139  0.699044   0.500000"
      ]
     },
     "execution_count": 53,
     "metadata": {},
     "output_type": "execute_result"
    }
   ],
   "source": [
    "pd.DataFrame({\n",
    "    'Précision': [precision_score(df_churn['churn'], clf, pos_label=\"Yes\") for clf in [averell, william, gbf, grincheux]],\n",
    "    'Rappel': [recall_score(df_churn['churn'], clf, pos_label=\"Yes\") for clf in [averell, william, gbf, grincheux]],\n",
    "    'F1-score': [f1_score(df_churn['churn'], clf, pos_label=\"Yes\") for clf in [averell, william, gbf, grincheux]],\n",
    "    'ROC-AUC score': [roc_auc_score(df_churn['churn'] == 'Yes', clf == \"Yes\") for clf in [averell, william, gbf, grincheux]]\n",
    "},\n",
    "    index=['Averell', 'William', 'GBF', 'Grincheux']\n",
    ").transpose()"
   ]
  },
  {
   "cell_type": "markdown",
   "metadata": {},
   "source": [
    "**Quand utiliser le F1-score ou le ROC-AUC score ?**\n",
    "\n",
    "Cela va dépendre du problème que vous adressez, et notamment :\n",
    "* La classe que vous cherchez à trouver est-elle en grande proportion dans la population ?\n",
    "* Êtes-vous plus soucieux des faux positifs ou des faux négatifs ?\n",
    "\n",
    "Notez tout de même que le ROC-AUC score ne dépend pas du seuil choisi dans le classificateur. Au contraire, pour calculer le F1-score, il convient de caler ce paramètre finement auparavant.\n",
    "\n",
    "Testez les deux scores et voyez lequel représente le mieux ce que vous cherchez à optimiser."
   ]
  },
  {
   "cell_type": "code",
   "execution_count": null,
   "metadata": {},
   "outputs": [],
   "source": []
  }
 ],
 "metadata": {
  "kernelspec": {
   "display_name": "Python 3",
   "language": "python",
   "name": "python3"
  },
  "language_info": {
   "codemirror_mode": {
    "name": "ipython",
    "version": 3
   },
   "file_extension": ".py",
   "mimetype": "text/x-python",
   "name": "python",
   "nbconvert_exporter": "python",
   "pygments_lexer": "ipython3",
   "version": "3.6.5"
  }
 },
 "nbformat": 4,
 "nbformat_minor": 2
}
