{
 "cells": [
  {
   "cell_type": "markdown",
   "metadata": {},
   "source": [
    "# Import des modules nécessaires"
   ]
  },
  {
   "cell_type": "markdown",
   "metadata": {},
   "source": [
    "Commençons par installer/mettre à jour les modules qui nous seront utiles dans ce cours.\n",
    "\n",
    "`pip` est le gestionnaire de paquets de Python. L'option `--upgrade` permet de mettre à jour vers la version la plus récente. L'option `--user` permet d'installer au niveau du compte utilisateur et donc de ne pas nécessiter de droits administrateur."
   ]
  },
  {
   "cell_type": "code",
   "execution_count": 39,
   "metadata": {
    "scrolled": true
   },
   "outputs": [
    {
     "name": "stdout",
     "output_type": "stream",
     "text": [
      "Requirement already up-to-date: nxviz in /home/tanguy/.local/lib/python3.5/site-packages (0.3.7)\n",
      "Collecting numpy\n",
      "  Using cached https://files.pythonhosted.org/packages/43/17/cd9fa14492dbef2aaf22622db79dba087c10f125473e730cda2f2019c40b/numpy-1.14.5-cp35-cp35m-manylinux1_x86_64.whl\n",
      "Collecting pandas\n",
      "  Using cached https://files.pythonhosted.org/packages/5a/9f/cea5f2fdf962724c30b306a9bdb60f1800b9a14e0388584540b4a80c7ae4/pandas-0.23.1-cp35-cp35m-manylinux1_x86_64.whl\n",
      "Requirement already up-to-date: matplotlib in /home/tanguy/.local/lib/python3.5/site-packages (2.2.2)\n",
      "Requirement already up-to-date: seaborn in /home/tanguy/.local/lib/python3.5/site-packages (0.8.1)\n",
      "Requirement already up-to-date: plotly in /home/tanguy/.local/lib/python3.5/site-packages (2.7.0)\n",
      "Collecting cufflinks\n",
      "\u001b[?25l  Downloading https://files.pythonhosted.org/packages/d2/48/24538909ab7bbccfeaf4e506b711fef5b91381a9233ede98ca54936891a8/cufflinks-0.13.0.tar.gz (55kB)\n",
      "\u001b[K    100% |████████████████████████████████| 61kB 799kB/s ta 0:00:01\n",
      "\u001b[?25hRequirement already up-to-date: dash in /home/tanguy/.local/lib/python3.5/site-packages (0.21.1)\n",
      "Requirement not upgraded as not directly required: pytest==3.5.1 in /home/tanguy/.local/lib/python3.5/site-packages (from nxviz) (3.5.1)\n",
      "Requirement not upgraded as not directly required: setuptools==39.0.1 in /home/tanguy/.local/lib/python3.5/site-packages (from nxviz) (39.0.1)\n",
      "Requirement not upgraded as not directly required: sphinxcontrib-fulltoc==1.2.0 in /home/tanguy/.local/lib/python3.5/site-packages (from nxviz) (1.2.0)\n",
      "Requirement not upgraded as not directly required: networkx==2.1 in /home/tanguy/.local/lib/python3.5/site-packages (from nxviz) (2.1)\n",
      "Requirement not upgraded as not directly required: palettable==3.1.0 in /home/tanguy/.local/lib/python3.5/site-packages (from nxviz) (3.1.0)\n",
      "Requirement not upgraded as not directly required: PyYAML==3.12 in /home/tanguy/.local/lib/python3.5/site-packages (from nxviz) (3.12)\n",
      "Requirement not upgraded as not directly required: hypothesis==3.56.5 in /home/tanguy/.local/lib/python3.5/site-packages (from nxviz) (3.56.5)\n",
      "Requirement not upgraded as not directly required: more-itertools==4.1.0 in /home/tanguy/.local/lib/python3.5/site-packages (from nxviz) (4.1.0)\n",
      "Requirement not upgraded as not directly required: cryptography==2.2.2 in /home/tanguy/.local/lib/python3.5/site-packages (from nxviz) (2.2.2)\n",
      "Requirement not upgraded as not directly required: pytz>=2011k in /home/tanguy/.local/lib/python3.5/site-packages (from pandas) (2018.4)\n",
      "Requirement not upgraded as not directly required: python-dateutil>=2.5.0 in /usr/local/lib/python3.5/dist-packages (from pandas) (2.7.3)\n",
      "Requirement not upgraded as not directly required: cycler>=0.10 in /home/tanguy/.local/lib/python3.5/site-packages (from matplotlib) (0.10.0)\n",
      "Requirement not upgraded as not directly required: six>=1.10 in /usr/local/lib/python3.5/dist-packages (from matplotlib) (1.11.0)\n",
      "Requirement not upgraded as not directly required: kiwisolver>=1.0.1 in /home/tanguy/.local/lib/python3.5/site-packages (from matplotlib) (1.0.1)\n",
      "Requirement not upgraded as not directly required: pyparsing!=2.0.4,!=2.1.2,!=2.1.6,>=2.0.1 in /home/tanguy/.local/lib/python3.5/site-packages (from matplotlib) (2.2.0)\n",
      "Requirement not upgraded as not directly required: decorator>=4.0.6 in /usr/local/lib/python3.5/dist-packages (from plotly) (4.3.0)\n",
      "Requirement not upgraded as not directly required: nbformat>=4.2 in /usr/local/lib/python3.5/dist-packages (from plotly) (4.4.0)\n",
      "Requirement not upgraded as not directly required: requests in /usr/lib/python3/dist-packages (from plotly) (2.9.1)\n",
      "Requirement not upgraded as not directly required: colorlover>=0.2 in /home/tanguy/.local/lib/python3.5/site-packages (from cufflinks) (0.2.1)\n",
      "Requirement not upgraded as not directly required: Flask>=0.12 in /home/tanguy/.local/lib/python3.5/site-packages (from dash) (1.0.2)\n",
      "Requirement not upgraded as not directly required: flask-compress in /home/tanguy/.local/lib/python3.5/site-packages (from dash) (1.4.0)\n",
      "Requirement not upgraded as not directly required: attrs>=17.4.0 in /home/tanguy/.local/lib/python3.5/site-packages (from pytest==3.5.1->nxviz) (18.1.0)\n",
      "Requirement not upgraded as not directly required: pluggy<0.7,>=0.5 in /home/tanguy/.local/lib/python3.5/site-packages (from pytest==3.5.1->nxviz) (0.6.0)\n",
      "Requirement not upgraded as not directly required: py>=1.5.0 in /home/tanguy/.local/lib/python3.5/site-packages (from pytest==3.5.1->nxviz) (1.5.3)\n",
      "Requirement not upgraded as not directly required: coverage in /home/tanguy/.local/lib/python3.5/site-packages (from hypothesis==3.56.5->nxviz) (4.5.1)\n",
      "Requirement not upgraded as not directly required: idna>=2.1 in /home/tanguy/.local/lib/python3.5/site-packages (from cryptography==2.2.2->nxviz) (2.7)\n",
      "Requirement not upgraded as not directly required: asn1crypto>=0.21.0 in /home/tanguy/.local/lib/python3.5/site-packages (from cryptography==2.2.2->nxviz) (0.24.0)\n",
      "Requirement not upgraded as not directly required: cffi>=1.7; platform_python_implementation != \"PyPy\" in /home/tanguy/.local/lib/python3.5/site-packages (from cryptography==2.2.2->nxviz) (1.11.5)\n",
      "Requirement not upgraded as not directly required: jsonschema!=2.5.0,>=2.4 in /usr/local/lib/python3.5/dist-packages (from nbformat>=4.2->plotly) (2.6.0)\n",
      "Requirement not upgraded as not directly required: traitlets>=4.1 in /usr/local/lib/python3.5/dist-packages (from nbformat>=4.2->plotly) (4.3.2)\n",
      "Requirement not upgraded as not directly required: jupyter-core in /usr/local/lib/python3.5/dist-packages (from nbformat>=4.2->plotly) (4.4.0)\n",
      "Requirement not upgraded as not directly required: ipython-genutils in /usr/local/lib/python3.5/dist-packages (from nbformat>=4.2->plotly) (0.2.0)\n",
      "Requirement not upgraded as not directly required: itsdangerous>=0.24 in /home/tanguy/.local/lib/python3.5/site-packages (from Flask>=0.12->dash) (0.24)\n",
      "Requirement not upgraded as not directly required: click>=5.1 in /home/tanguy/.local/lib/python3.5/site-packages (from Flask>=0.12->dash) (6.7)\n",
      "Requirement not upgraded as not directly required: Jinja2>=2.10 in /usr/local/lib/python3.5/dist-packages (from Flask>=0.12->dash) (2.10)\n",
      "Requirement not upgraded as not directly required: Werkzeug>=0.14 in /home/tanguy/.local/lib/python3.5/site-packages (from Flask>=0.12->dash) (0.14.1)\n",
      "Requirement not upgraded as not directly required: pycparser in /home/tanguy/.local/lib/python3.5/site-packages (from cffi>=1.7; platform_python_implementation != \"PyPy\"->cryptography==2.2.2->nxviz) (2.18)\n",
      "Requirement not upgraded as not directly required: MarkupSafe>=0.23 in /usr/local/lib/python3.5/dist-packages (from Jinja2>=2.10->Flask>=0.12->dash) (1.0)\n",
      "\u001b[31mnxviz 0.3.7 has requirement numpy==1.14.3, but you'll have numpy 1.14.5 which is incompatible.\u001b[0m\n",
      "\u001b[31mnxviz 0.3.7 has requirement pandas==0.22.0, but you'll have pandas 0.23.1 which is incompatible.\u001b[0m\n",
      "Installing collected packages: numpy, pandas, cufflinks\n",
      "  Found existing installation: numpy 1.14.3\n",
      "    Uninstalling numpy-1.14.3:\n",
      "      Successfully uninstalled numpy-1.14.3\n",
      "  Found existing installation: pandas 0.22.0\n",
      "    Uninstalling pandas-0.22.0:\n",
      "      Successfully uninstalled pandas-0.22.0\n",
      "  Found existing installation: cufflinks 0.12.1\n",
      "    Uninstalling cufflinks-0.12.1:\n",
      "      Successfully uninstalled cufflinks-0.12.1\n",
      "  Running setup.py install for cufflinks ... \u001b[?25ldone\n",
      "\u001b[?25hSuccessfully installed cufflinks-0.13.0 numpy-1.14.5 pandas-0.23.1\n"
     ]
    }
   ],
   "source": [
    "!pip install nxviz numpy pandas matplotlib seaborn plotly cufflinks dash --upgrade --user"
   ]
  },
  {
   "cell_type": "code",
   "execution_count": 56,
   "metadata": {},
   "outputs": [
    {
     "data": {
      "text/html": [
       "<script>requirejs.config({paths: { 'plotly': ['https://cdn.plot.ly/plotly-latest.min']},});if(!window.Plotly) {{require(['plotly'],function(plotly) {window.Plotly=plotly;});}}</script>"
      ],
      "text/vnd.plotly.v1+html": [
       "<script>requirejs.config({paths: { 'plotly': ['https://cdn.plot.ly/plotly-latest.min']},});if(!window.Plotly) {{require(['plotly'],function(plotly) {window.Plotly=plotly;});}}</script>"
      ]
     },
     "metadata": {},
     "output_type": "display_data"
    }
   ],
   "source": [
    "import cufflinks as cf\n",
    "\n",
    "import numpy as np\n",
    "\n",
    "import pandas as pd\n",
    "\n",
    "import plotly.graph_objs as go\n",
    "from plotly.offline import init_notebook_mode, iplot\n",
    "\n",
    "init_notebook_mode(connected=True)"
   ]
  },
  {
   "cell_type": "markdown",
   "metadata": {},
   "source": [
    "# 1. Des colonnes de DataFrame sous forme de lignes"
   ]
  },
  {
   "cell_type": "markdown",
   "metadata": {},
   "source": [
    "Les graph objects (lignes, barres, etc.) de plotly sont nombreux. Commencons par quelques points rattachés ensemble par des lignes.\n",
    "\n",
    "Les données d'entrée peuvent être des listes de nombres, des numpy arrays, des pandas DataFrames."
   ]
  },
  {
   "cell_type": "code",
   "execution_count": 57,
   "metadata": {},
   "outputs": [
    {
     "data": {
      "application/vnd.plotly.v1+json": {
       "data": [
        {
         "marker": {
          "color": "red",
          "size": "10",
          "symbol": 104
         },
         "mode": "markers+lines",
         "name": "1st Trace",
         "text": [
          "one",
          "two",
          "three"
         ],
         "type": "scatter",
         "x": [
          1,
          2,
          3
         ],
         "y": [
          4,
          5,
          6
         ]
        }
       ],
       "layout": {
        "title": "First Plot",
        "xaxis": {
         "title": "x1"
        },
        "yaxis": {
         "title": "x2"
        }
       }
      },
      "text/html": [
       "<div id=\"3a79f619-dc15-428c-9fc5-1bc8a7283b9a\" style=\"height: 525px; width: 100%;\" class=\"plotly-graph-div\"></div><script type=\"text/javascript\">require([\"plotly\"], function(Plotly) { window.PLOTLYENV=window.PLOTLYENV || {};window.PLOTLYENV.BASE_URL=\"https://plot.ly\";Plotly.newPlot(\"3a79f619-dc15-428c-9fc5-1bc8a7283b9a\", [{\"type\": \"scatter\", \"text\": [\"one\", \"two\", \"three\"], \"mode\": \"markers+lines\", \"name\": \"1st Trace\", \"x\": [1, 2, 3], \"y\": [4, 5, 6], \"marker\": {\"size\": \"10\", \"symbol\": 104, \"color\": \"red\"}}], {\"yaxis\": {\"title\": \"x2\"}, \"title\": \"First Plot\", \"xaxis\": {\"title\": \"x1\"}}, {\"linkText\": \"Export to plot.ly\", \"showLink\": true})});</script>"
      ],
      "text/vnd.plotly.v1+html": [
       "<div id=\"3a79f619-dc15-428c-9fc5-1bc8a7283b9a\" style=\"height: 525px; width: 100%;\" class=\"plotly-graph-div\"></div><script type=\"text/javascript\">require([\"plotly\"], function(Plotly) { window.PLOTLYENV=window.PLOTLYENV || {};window.PLOTLYENV.BASE_URL=\"https://plot.ly\";Plotly.newPlot(\"3a79f619-dc15-428c-9fc5-1bc8a7283b9a\", [{\"type\": \"scatter\", \"text\": [\"one\", \"two\", \"three\"], \"mode\": \"markers+lines\", \"name\": \"1st Trace\", \"x\": [1, 2, 3], \"y\": [4, 5, 6], \"marker\": {\"size\": \"10\", \"symbol\": 104, \"color\": \"red\"}}], {\"yaxis\": {\"title\": \"x2\"}, \"title\": \"First Plot\", \"xaxis\": {\"title\": \"x1\"}}, {\"linkText\": \"Export to plot.ly\", \"showLink\": true})});</script>"
      ]
     },
     "metadata": {},
     "output_type": "display_data"
    }
   ],
   "source": [
    "# On construit d'abord chaque élément de graphique (ici des points reliés entre eux)\n",
    "trace1 = go.Scatter(\n",
    "    x=[1,2,3],\n",
    "    y=[4,5,6],\n",
    "    marker={\n",
    "        'color': 'red',\n",
    "        'symbol': 104,\n",
    "        'size': \"10\"\n",
    "    },\n",
    "    mode=\"markers+lines\",\n",
    "    text=[\"one\", \"two\", \"three\"],\n",
    "    name='1st Trace'\n",
    ")\n",
    "\n",
    "# On les ajoute aux données du graphe\n",
    "data=go.Data([trace1])\n",
    "\n",
    "# On précise le layout du graphe (titre du graphique, titres des axes)\n",
    "layout=go.Layout(title=\"First Plot\",\n",
    "                 xaxis={\n",
    "                     'title':'x1'\n",
    "                 },\n",
    "                 yaxis={\n",
    "                     'title':'x2'\n",
    "                 }\n",
    ")\n",
    "\n",
    "# On crée l'objet Figure\n",
    "figure = go.Figure(data=data, layout=layout)\n",
    "\n",
    "# On affiche l'objet figure dans le notebook\n",
    "iplot(figure, filename='pyguide_1')"
   ]
  },
  {
   "cell_type": "code",
   "execution_count": 58,
   "metadata": {},
   "outputs": [
    {
     "data": {
      "text/html": [
       "<div>\n",
       "<style scoped>\n",
       "    .dataframe tbody tr th:only-of-type {\n",
       "        vertical-align: middle;\n",
       "    }\n",
       "\n",
       "    .dataframe tbody tr th {\n",
       "        vertical-align: top;\n",
       "    }\n",
       "\n",
       "    .dataframe thead th {\n",
       "        text-align: right;\n",
       "    }\n",
       "</style>\n",
       "<table border=\"1\" class=\"dataframe\">\n",
       "  <thead>\n",
       "    <tr style=\"text-align: right;\">\n",
       "      <th></th>\n",
       "      <th>Pierre</th>\n",
       "      <th>Paul</th>\n",
       "      <th>Jacques</th>\n",
       "    </tr>\n",
       "  </thead>\n",
       "  <tbody>\n",
       "    <tr>\n",
       "      <th>0</th>\n",
       "      <td>0.373092</td>\n",
       "      <td>0.459615</td>\n",
       "      <td>0.139616</td>\n",
       "    </tr>\n",
       "    <tr>\n",
       "      <th>1</th>\n",
       "      <td>1.350724</td>\n",
       "      <td>1.435532</td>\n",
       "      <td>0.300772</td>\n",
       "    </tr>\n",
       "    <tr>\n",
       "      <th>2</th>\n",
       "      <td>2.066859</td>\n",
       "      <td>1.782090</td>\n",
       "      <td>0.593991</td>\n",
       "    </tr>\n",
       "  </tbody>\n",
       "</table>\n",
       "</div>"
      ],
      "text/plain": [
       "     Pierre      Paul   Jacques\n",
       "0  0.373092  0.459615  0.139616\n",
       "1  1.350724  1.435532  0.300772\n",
       "2  2.066859  1.782090  0.593991"
      ]
     },
     "execution_count": 58,
     "metadata": {},
     "output_type": "execute_result"
    }
   ],
   "source": [
    "# On construit une DataFrame bidon (ici une marche aléatoire).\n",
    "df = pd.DataFrame(np.random.random(size=(15, 3)), columns=['Pierre', 'Paul', 'Jacques']).cumsum()\n",
    "\n",
    "df.head(3)"
   ]
  },
  {
   "cell_type": "code",
   "execution_count": 59,
   "metadata": {},
   "outputs": [
    {
     "data": {
      "application/vnd.plotly.v1+json": {
       "data": [
        {
         "type": "scatter",
         "x": [
          0,
          1,
          2,
          3,
          4,
          5,
          6,
          7,
          8,
          9,
          10,
          11,
          12,
          13,
          14
         ],
         "y": [
          0.37309158462530523,
          1.3507244152309374,
          2.0668591816825344,
          2.676138294188253,
          2.706956357312017,
          3.0188472488694926,
          3.3503566331780914,
          3.8706064634181008,
          4.079984214054929,
          4.875205753888264,
          5.356884925313132,
          6.174834967689066,
          6.967468273222477,
          7.628997050625656,
          8.508510075996647
         ]
        },
        {
         "type": "scatter",
         "x": [
          0,
          1,
          2,
          3,
          4,
          5,
          6,
          7,
          8,
          9,
          10,
          11,
          12,
          13,
          14
         ],
         "y": [
          0.4596145523139765,
          1.4355316187314262,
          1.7820900258818362,
          2.7121659982782056,
          3.0777150877605752,
          3.826388099153365,
          3.848044592009701,
          4.569134978559662,
          5.484013484554795,
          5.624545597460676,
          6.570528756040443,
          6.958773974644651,
          7.893897054099812,
          8.555554710272318,
          9.255210751487425
         ]
        },
        {
         "type": "scatter",
         "x": [
          0,
          1,
          2,
          3,
          4,
          5,
          6,
          7,
          8,
          9,
          10,
          11,
          12,
          13,
          14
         ],
         "y": [
          0.13961577555057336,
          0.30077170803727715,
          0.5939914689239527,
          1.5566040567018904,
          2.2687155073692287,
          2.7886949914838732,
          2.877677493969858,
          3.4902150563045673,
          4.436902508581414,
          5.172613022214184,
          6.064923903550537,
          6.4201043948931895,
          6.46937140137647,
          6.46991386353271,
          7.093739160209054
         ]
        }
       ],
       "layout": {
        "title": "Un graphe plus complexe"
       }
      },
      "text/html": [
       "<div id=\"efe95e20-9408-4939-a2cd-2daed69a7548\" style=\"height: 525px; width: 100%;\" class=\"plotly-graph-div\"></div><script type=\"text/javascript\">require([\"plotly\"], function(Plotly) { window.PLOTLYENV=window.PLOTLYENV || {};window.PLOTLYENV.BASE_URL=\"https://plot.ly\";Plotly.newPlot(\"efe95e20-9408-4939-a2cd-2daed69a7548\", [{\"type\": \"scatter\", \"y\": [0.37309158462530523, 1.3507244152309374, 2.0668591816825344, 2.676138294188253, 2.706956357312017, 3.0188472488694926, 3.3503566331780914, 3.8706064634181008, 4.079984214054929, 4.875205753888264, 5.356884925313132, 6.174834967689066, 6.967468273222477, 7.628997050625656, 8.508510075996647], \"x\": [0, 1, 2, 3, 4, 5, 6, 7, 8, 9, 10, 11, 12, 13, 14]}, {\"type\": \"scatter\", \"y\": [0.4596145523139765, 1.4355316187314262, 1.7820900258818362, 2.7121659982782056, 3.0777150877605752, 3.826388099153365, 3.848044592009701, 4.569134978559662, 5.484013484554795, 5.624545597460676, 6.570528756040443, 6.958773974644651, 7.893897054099812, 8.555554710272318, 9.255210751487425], \"x\": [0, 1, 2, 3, 4, 5, 6, 7, 8, 9, 10, 11, 12, 13, 14]}, {\"type\": \"scatter\", \"y\": [0.13961577555057336, 0.30077170803727715, 0.5939914689239527, 1.5566040567018904, 2.2687155073692287, 2.7886949914838732, 2.877677493969858, 3.4902150563045673, 4.436902508581414, 5.172613022214184, 6.064923903550537, 6.4201043948931895, 6.46937140137647, 6.46991386353271, 7.093739160209054], \"x\": [0, 1, 2, 3, 4, 5, 6, 7, 8, 9, 10, 11, 12, 13, 14]}], {\"title\": \"Un graphe plus complexe\"}, {\"linkText\": \"Export to plot.ly\", \"showLink\": true})});</script>"
      ],
      "text/vnd.plotly.v1+html": [
       "<div id=\"efe95e20-9408-4939-a2cd-2daed69a7548\" style=\"height: 525px; width: 100%;\" class=\"plotly-graph-div\"></div><script type=\"text/javascript\">require([\"plotly\"], function(Plotly) { window.PLOTLYENV=window.PLOTLYENV || {};window.PLOTLYENV.BASE_URL=\"https://plot.ly\";Plotly.newPlot(\"efe95e20-9408-4939-a2cd-2daed69a7548\", [{\"type\": \"scatter\", \"y\": [0.37309158462530523, 1.3507244152309374, 2.0668591816825344, 2.676138294188253, 2.706956357312017, 3.0188472488694926, 3.3503566331780914, 3.8706064634181008, 4.079984214054929, 4.875205753888264, 5.356884925313132, 6.174834967689066, 6.967468273222477, 7.628997050625656, 8.508510075996647], \"x\": [0, 1, 2, 3, 4, 5, 6, 7, 8, 9, 10, 11, 12, 13, 14]}, {\"type\": \"scatter\", \"y\": [0.4596145523139765, 1.4355316187314262, 1.7820900258818362, 2.7121659982782056, 3.0777150877605752, 3.826388099153365, 3.848044592009701, 4.569134978559662, 5.484013484554795, 5.624545597460676, 6.570528756040443, 6.958773974644651, 7.893897054099812, 8.555554710272318, 9.255210751487425], \"x\": [0, 1, 2, 3, 4, 5, 6, 7, 8, 9, 10, 11, 12, 13, 14]}, {\"type\": \"scatter\", \"y\": [0.13961577555057336, 0.30077170803727715, 0.5939914689239527, 1.5566040567018904, 2.2687155073692287, 2.7886949914838732, 2.877677493969858, 3.4902150563045673, 4.436902508581414, 5.172613022214184, 6.064923903550537, 6.4201043948931895, 6.46937140137647, 6.46991386353271, 7.093739160209054], \"x\": [0, 1, 2, 3, 4, 5, 6, 7, 8, 9, 10, 11, 12, 13, 14]}], {\"title\": \"Un graphe plus complexe\"}, {\"linkText\": \"Export to plot.ly\", \"showLink\": true})});</script>"
      ]
     },
     "metadata": {},
     "output_type": "display_data"
    }
   ],
   "source": [
    "# On l'affiche\n",
    "en_x = df.index\n",
    "\n",
    "traces = []\n",
    "for col in df:\n",
    "    traces.append(\n",
    "        go.Scatter(\n",
    "            x=en_x,\n",
    "            y=df[col]\n",
    "        )\n",
    "    )\n",
    "\n",
    "figure = go.Figure(\n",
    "    data=go.Data(traces),\n",
    "    layout=go.Layout(title=\"Un graphe plus complexe\")\n",
    ")\n",
    "\n",
    "iplot(figure)"
   ]
  },
  {
   "cell_type": "markdown",
   "metadata": {},
   "source": [
    "# 2. Et maintenant des barres !"
   ]
  },
  {
   "cell_type": "markdown",
   "metadata": {},
   "source": [
    "Commençons par charger quelques données."
   ]
  },
  {
   "cell_type": "code",
   "execution_count": 60,
   "metadata": {},
   "outputs": [
    {
     "name": "stdout",
     "output_type": "stream",
     "text": [
      "<class 'pandas.core.frame.DataFrame'>\n",
      "RangeIndex: 891 entries, 0 to 890\n",
      "Data columns (total 15 columns):\n",
      "survived       891 non-null int64\n",
      "pclass         891 non-null int64\n",
      "sex            891 non-null object\n",
      "age            714 non-null float64\n",
      "sibsp          891 non-null int64\n",
      "parch          891 non-null int64\n",
      "fare           891 non-null float64\n",
      "embarked       889 non-null object\n",
      "class          891 non-null object\n",
      "who            891 non-null object\n",
      "adult_male     891 non-null bool\n",
      "deck           203 non-null object\n",
      "embark_town    889 non-null object\n",
      "alive          891 non-null object\n",
      "alone          891 non-null bool\n",
      "dtypes: bool(2), float64(2), int64(4), object(7)\n",
      "memory usage: 92.3+ KB\n"
     ]
    },
    {
     "data": {
      "text/html": [
       "<div>\n",
       "<style scoped>\n",
       "    .dataframe tbody tr th:only-of-type {\n",
       "        vertical-align: middle;\n",
       "    }\n",
       "\n",
       "    .dataframe tbody tr th {\n",
       "        vertical-align: top;\n",
       "    }\n",
       "\n",
       "    .dataframe thead th {\n",
       "        text-align: right;\n",
       "    }\n",
       "</style>\n",
       "<table border=\"1\" class=\"dataframe\">\n",
       "  <thead>\n",
       "    <tr style=\"text-align: right;\">\n",
       "      <th></th>\n",
       "      <th>survived</th>\n",
       "      <th>pclass</th>\n",
       "      <th>sex</th>\n",
       "      <th>age</th>\n",
       "      <th>sibsp</th>\n",
       "      <th>parch</th>\n",
       "      <th>fare</th>\n",
       "      <th>embarked</th>\n",
       "      <th>class</th>\n",
       "      <th>who</th>\n",
       "      <th>adult_male</th>\n",
       "      <th>deck</th>\n",
       "      <th>embark_town</th>\n",
       "      <th>alive</th>\n",
       "      <th>alone</th>\n",
       "    </tr>\n",
       "  </thead>\n",
       "  <tbody>\n",
       "    <tr>\n",
       "      <th>408</th>\n",
       "      <td>0</td>\n",
       "      <td>3</td>\n",
       "      <td>male</td>\n",
       "      <td>21.0</td>\n",
       "      <td>0</td>\n",
       "      <td>0</td>\n",
       "      <td>7.7750</td>\n",
       "      <td>S</td>\n",
       "      <td>Third</td>\n",
       "      <td>man</td>\n",
       "      <td>True</td>\n",
       "      <td>NaN</td>\n",
       "      <td>Southampton</td>\n",
       "      <td>no</td>\n",
       "      <td>True</td>\n",
       "    </tr>\n",
       "    <tr>\n",
       "      <th>45</th>\n",
       "      <td>0</td>\n",
       "      <td>3</td>\n",
       "      <td>male</td>\n",
       "      <td>NaN</td>\n",
       "      <td>0</td>\n",
       "      <td>0</td>\n",
       "      <td>8.0500</td>\n",
       "      <td>S</td>\n",
       "      <td>Third</td>\n",
       "      <td>man</td>\n",
       "      <td>True</td>\n",
       "      <td>NaN</td>\n",
       "      <td>Southampton</td>\n",
       "      <td>no</td>\n",
       "      <td>True</td>\n",
       "    </tr>\n",
       "    <tr>\n",
       "      <th>100</th>\n",
       "      <td>0</td>\n",
       "      <td>3</td>\n",
       "      <td>female</td>\n",
       "      <td>28.0</td>\n",
       "      <td>0</td>\n",
       "      <td>0</td>\n",
       "      <td>7.8958</td>\n",
       "      <td>S</td>\n",
       "      <td>Third</td>\n",
       "      <td>woman</td>\n",
       "      <td>False</td>\n",
       "      <td>NaN</td>\n",
       "      <td>Southampton</td>\n",
       "      <td>no</td>\n",
       "      <td>True</td>\n",
       "    </tr>\n",
       "  </tbody>\n",
       "</table>\n",
       "</div>"
      ],
      "text/plain": [
       "     survived  pclass     sex   age  sibsp  parch    fare embarked  class  \\\n",
       "408         0       3    male  21.0      0      0  7.7750        S  Third   \n",
       "45          0       3    male   NaN      0      0  8.0500        S  Third   \n",
       "100         0       3  female  28.0      0      0  7.8958        S  Third   \n",
       "\n",
       "       who  adult_male deck  embark_town alive  alone  \n",
       "408    man        True  NaN  Southampton    no   True  \n",
       "45     man        True  NaN  Southampton    no   True  \n",
       "100  woman       False  NaN  Southampton    no   True  "
      ]
     },
     "execution_count": 60,
     "metadata": {},
     "output_type": "execute_result"
    }
   ],
   "source": [
    "df = pd.read_csv('titanic.csv')\n",
    "\n",
    "df.info()\n",
    "\n",
    "df.sample(3)"
   ]
  },
  {
   "cell_type": "markdown",
   "metadata": {},
   "source": [
    "Nous allons nous intéresser au taux de survie par classe de passager.\n",
    "\n",
    "On peut facilement calculer cela à l'aide de `pandas`, soit via un `groupby` soit via un `pivot_table`. On utilise plutôt le dernier, car il est plus générique (permet de faire plus de choses)."
   ]
  },
  {
   "cell_type": "code",
   "execution_count": 61,
   "metadata": {},
   "outputs": [
    {
     "data": {
      "text/html": [
       "<div>\n",
       "<style scoped>\n",
       "    .dataframe tbody tr th:only-of-type {\n",
       "        vertical-align: middle;\n",
       "    }\n",
       "\n",
       "    .dataframe tbody tr th {\n",
       "        vertical-align: top;\n",
       "    }\n",
       "\n",
       "    .dataframe thead th {\n",
       "        text-align: right;\n",
       "    }\n",
       "</style>\n",
       "<table border=\"1\" class=\"dataframe\">\n",
       "  <thead>\n",
       "    <tr style=\"text-align: right;\">\n",
       "      <th></th>\n",
       "      <th>survived</th>\n",
       "    </tr>\n",
       "    <tr>\n",
       "      <th>class</th>\n",
       "      <th></th>\n",
       "    </tr>\n",
       "  </thead>\n",
       "  <tbody>\n",
       "    <tr>\n",
       "      <th>First</th>\n",
       "      <td>0.629630</td>\n",
       "    </tr>\n",
       "    <tr>\n",
       "      <th>Second</th>\n",
       "      <td>0.472826</td>\n",
       "    </tr>\n",
       "    <tr>\n",
       "      <th>Third</th>\n",
       "      <td>0.242363</td>\n",
       "    </tr>\n",
       "  </tbody>\n",
       "</table>\n",
       "</div>"
      ],
      "text/plain": [
       "        survived\n",
       "class           \n",
       "First   0.629630\n",
       "Second  0.472826\n",
       "Third   0.242363"
      ]
     },
     "execution_count": 61,
     "metadata": {},
     "output_type": "execute_result"
    }
   ],
   "source": [
    "dft = df.pivot_table(index='class', values='survived', aggfunc='mean')\n",
    "\n",
    "dft"
   ]
  },
  {
   "cell_type": "markdown",
   "metadata": {},
   "source": [
    "Voilà à quoi notre tableau ressemble. Faisons-en maintenant un graphique en barres.\n",
    "\n",
    "Volontairement, j'introduit quelques personnalisations (couleur, etc.) car elles pourront vous être utile à l'avenir."
   ]
  },
  {
   "cell_type": "code",
   "execution_count": 62,
   "metadata": {},
   "outputs": [
    {
     "data": {
      "application/vnd.plotly.v1+json": {
       "data": [
        {
         "marker": {
          "color": "rgba(210, 105, 30, 0.5)"
         },
         "type": "bar",
         "x": [
          "First",
          "Second",
          "Third"
         ],
         "y": [
          0.6296296296296297,
          0.47282608695652173,
          0.24236252545824846
         ]
        }
       ],
       "layout": {
        "title": "Quelle est votre chance de survie sur le Titanic, selon votre classe ?",
        "xaxis": {
         "title": "classe de passager"
        },
        "yaxis": {
         "range": [
          0,
          1
         ],
         "tickformat": ".0%",
         "ticklen": 0.1,
         "title": "pourcentage de survie"
        }
       }
      },
      "text/html": [
       "<div id=\"dbb5364d-c9b8-4f97-966c-32b52bc1d478\" style=\"height: 525px; width: 100%;\" class=\"plotly-graph-div\"></div><script type=\"text/javascript\">require([\"plotly\"], function(Plotly) { window.PLOTLYENV=window.PLOTLYENV || {};window.PLOTLYENV.BASE_URL=\"https://plot.ly\";Plotly.newPlot(\"dbb5364d-c9b8-4f97-966c-32b52bc1d478\", [{\"x\": [\"First\", \"Second\", \"Third\"], \"type\": \"bar\", \"y\": [0.6296296296296297, 0.47282608695652173, 0.24236252545824846], \"marker\": {\"color\": \"rgba(210, 105, 30, 0.5)\"}}], {\"yaxis\": {\"title\": \"pourcentage de survie\", \"range\": [0, 1], \"tickformat\": \".0%\", \"ticklen\": 0.1}, \"title\": \"Quelle est votre chance de survie sur le Titanic, selon votre classe ?\", \"xaxis\": {\"title\": \"classe de passager\"}}, {\"linkText\": \"Export to plot.ly\", \"showLink\": true})});</script>"
      ],
      "text/vnd.plotly.v1+html": [
       "<div id=\"dbb5364d-c9b8-4f97-966c-32b52bc1d478\" style=\"height: 525px; width: 100%;\" class=\"plotly-graph-div\"></div><script type=\"text/javascript\">require([\"plotly\"], function(Plotly) { window.PLOTLYENV=window.PLOTLYENV || {};window.PLOTLYENV.BASE_URL=\"https://plot.ly\";Plotly.newPlot(\"dbb5364d-c9b8-4f97-966c-32b52bc1d478\", [{\"x\": [\"First\", \"Second\", \"Third\"], \"type\": \"bar\", \"y\": [0.6296296296296297, 0.47282608695652173, 0.24236252545824846], \"marker\": {\"color\": \"rgba(210, 105, 30, 0.5)\"}}], {\"yaxis\": {\"title\": \"pourcentage de survie\", \"range\": [0, 1], \"tickformat\": \".0%\", \"ticklen\": 0.1}, \"title\": \"Quelle est votre chance de survie sur le Titanic, selon votre classe ?\", \"xaxis\": {\"title\": \"classe de passager\"}}, {\"linkText\": \"Export to plot.ly\", \"showLink\": true})});</script>"
      ]
     },
     "metadata": {},
     "output_type": "display_data"
    }
   ],
   "source": [
    "trace = go.Bar(\n",
    "    x=dft.index,\n",
    "    y=dft['survived'],\n",
    "    marker={\n",
    "        'color': 'rgba(210, 105, 30, 0.5)'\n",
    "    }\n",
    ")\n",
    "\n",
    "layout = go.Layout(\n",
    "    title=\"Quelle est votre chance de survie sur le Titanic, selon votre classe ?\",\n",
    "    yaxis={\n",
    "        'title': \"pourcentage de survie\",\n",
    "        'ticklen': 0.1,\n",
    "        'tickformat': '.0%',\n",
    "        'range': [0, 1]\n",
    "    },\n",
    "    xaxis={\n",
    "        'title': \"classe de passager\"\n",
    "    }\n",
    ")\n",
    "\n",
    "figure = go.Figure(\n",
    "    data=go.Data([trace]),\n",
    "    layout=layout\n",
    ")\n",
    "\n",
    "iplot(figure)"
   ]
  },
  {
   "cell_type": "markdown",
   "metadata": {},
   "source": [
    "Et si on voulait afficher plusieurs barres ?\n",
    "\n",
    "Par exemple, dans chaque classe, le taux de survie par sexe."
   ]
  },
  {
   "cell_type": "code",
   "execution_count": 63,
   "metadata": {},
   "outputs": [
    {
     "data": {
      "text/html": [
       "<div>\n",
       "<style scoped>\n",
       "    .dataframe tbody tr th:only-of-type {\n",
       "        vertical-align: middle;\n",
       "    }\n",
       "\n",
       "    .dataframe tbody tr th {\n",
       "        vertical-align: top;\n",
       "    }\n",
       "\n",
       "    .dataframe thead th {\n",
       "        text-align: right;\n",
       "    }\n",
       "</style>\n",
       "<table border=\"1\" class=\"dataframe\">\n",
       "  <thead>\n",
       "    <tr style=\"text-align: right;\">\n",
       "      <th>sex</th>\n",
       "      <th>female</th>\n",
       "      <th>male</th>\n",
       "    </tr>\n",
       "    <tr>\n",
       "      <th>class</th>\n",
       "      <th></th>\n",
       "      <th></th>\n",
       "    </tr>\n",
       "  </thead>\n",
       "  <tbody>\n",
       "    <tr>\n",
       "      <th>First</th>\n",
       "      <td>0.968085</td>\n",
       "      <td>0.368852</td>\n",
       "    </tr>\n",
       "    <tr>\n",
       "      <th>Second</th>\n",
       "      <td>0.921053</td>\n",
       "      <td>0.157407</td>\n",
       "    </tr>\n",
       "    <tr>\n",
       "      <th>Third</th>\n",
       "      <td>0.500000</td>\n",
       "      <td>0.135447</td>\n",
       "    </tr>\n",
       "  </tbody>\n",
       "</table>\n",
       "</div>"
      ],
      "text/plain": [
       "sex       female      male\n",
       "class                     \n",
       "First   0.968085  0.368852\n",
       "Second  0.921053  0.157407\n",
       "Third   0.500000  0.135447"
      ]
     },
     "execution_count": 63,
     "metadata": {},
     "output_type": "execute_result"
    }
   ],
   "source": [
    "dft = df.pivot_table(index='class', columns='sex', values='survived', aggfunc='mean')\n",
    "\n",
    "dft"
   ]
  },
  {
   "cell_type": "code",
   "execution_count": 64,
   "metadata": {},
   "outputs": [
    {
     "data": {
      "application/vnd.plotly.v1+json": {
       "data": [
        {
         "marker": {
          "color": "rgba(204, 204, 255, 0.5)"
         },
         "name": "female",
         "type": "bar",
         "x": [
          "First",
          "Second",
          "Third"
         ],
         "y": [
          0.9680851063829787,
          0.9210526315789473,
          0.5
         ]
        },
        {
         "marker": {
          "color": "rgba(72, 137, 151, 0.5)"
         },
         "name": "male",
         "type": "bar",
         "x": [
          "First",
          "Second",
          "Third"
         ],
         "y": [
          0.36885245901639346,
          0.1574074074074074,
          0.13544668587896252
         ]
        }
       ],
       "layout": {
        "title": "Quelle est votre chance de survie sur le Titanic, selon votre classe ?",
        "xaxis": {
         "title": "classe de passager"
        },
        "yaxis": {
         "range": [
          0,
          1
         ],
         "tickformat": ".0%",
         "ticklen": 0.1,
         "title": "pourcentage de survie"
        }
       }
      },
      "text/html": [
       "<div id=\"53a47178-f8a0-4311-b85d-55de5c9d61c4\" style=\"height: 525px; width: 100%;\" class=\"plotly-graph-div\"></div><script type=\"text/javascript\">require([\"plotly\"], function(Plotly) { window.PLOTLYENV=window.PLOTLYENV || {};window.PLOTLYENV.BASE_URL=\"https://plot.ly\";Plotly.newPlot(\"53a47178-f8a0-4311-b85d-55de5c9d61c4\", [{\"x\": [\"First\", \"Second\", \"Third\"], \"type\": \"bar\", \"y\": [0.9680851063829787, 0.9210526315789473, 0.5], \"name\": \"female\", \"marker\": {\"color\": \"rgba(204, 204, 255, 0.5)\"}}, {\"x\": [\"First\", \"Second\", \"Third\"], \"type\": \"bar\", \"y\": [0.36885245901639346, 0.1574074074074074, 0.13544668587896252], \"name\": \"male\", \"marker\": {\"color\": \"rgba(72, 137, 151, 0.5)\"}}], {\"yaxis\": {\"title\": \"pourcentage de survie\", \"range\": [0, 1], \"tickformat\": \".0%\", \"ticklen\": 0.1}, \"title\": \"Quelle est votre chance de survie sur le Titanic, selon votre classe ?\", \"xaxis\": {\"title\": \"classe de passager\"}}, {\"linkText\": \"Export to plot.ly\", \"showLink\": true})});</script>"
      ],
      "text/vnd.plotly.v1+html": [
       "<div id=\"53a47178-f8a0-4311-b85d-55de5c9d61c4\" style=\"height: 525px; width: 100%;\" class=\"plotly-graph-div\"></div><script type=\"text/javascript\">require([\"plotly\"], function(Plotly) { window.PLOTLYENV=window.PLOTLYENV || {};window.PLOTLYENV.BASE_URL=\"https://plot.ly\";Plotly.newPlot(\"53a47178-f8a0-4311-b85d-55de5c9d61c4\", [{\"x\": [\"First\", \"Second\", \"Third\"], \"type\": \"bar\", \"y\": [0.9680851063829787, 0.9210526315789473, 0.5], \"name\": \"female\", \"marker\": {\"color\": \"rgba(204, 204, 255, 0.5)\"}}, {\"x\": [\"First\", \"Second\", \"Third\"], \"type\": \"bar\", \"y\": [0.36885245901639346, 0.1574074074074074, 0.13544668587896252], \"name\": \"male\", \"marker\": {\"color\": \"rgba(72, 137, 151, 0.5)\"}}], {\"yaxis\": {\"title\": \"pourcentage de survie\", \"range\": [0, 1], \"tickformat\": \".0%\", \"ticklen\": 0.1}, \"title\": \"Quelle est votre chance de survie sur le Titanic, selon votre classe ?\", \"xaxis\": {\"title\": \"classe de passager\"}}, {\"linkText\": \"Export to plot.ly\", \"showLink\": true})});</script>"
      ]
     },
     "metadata": {},
     "output_type": "display_data"
    }
   ],
   "source": [
    "colors = {\n",
    "    'female': 'rgba(204, 204, 255, 0.5)',\n",
    "    'male': 'rgba(72, 137, 151, 0.5)'\n",
    "}\n",
    "\n",
    "traces = []\n",
    "for col in dft: # ici col=sex\n",
    "    traces.append(\n",
    "        go.Bar(\n",
    "            x=dft.index,\n",
    "            y=dft[col],\n",
    "            marker={\n",
    "                'color': colors[col]\n",
    "            },\n",
    "            name=col\n",
    "        )\n",
    "    )\n",
    "\n",
    "layout = go.Layout(\n",
    "    title=\"Quelle est votre chance de survie sur le Titanic, selon votre classe ?\",\n",
    "    yaxis={\n",
    "        'title': \"pourcentage de survie\",\n",
    "        'ticklen': 0.1,\n",
    "        'tickformat': '.0%',\n",
    "        'range': [0, 1]\n",
    "    },\n",
    "    xaxis={\n",
    "        'title': \"classe de passager\"\n",
    "    }\n",
    ")\n",
    "\n",
    "figure = go.Figure(\n",
    "    data=go.Data(traces),\n",
    "    layout=layout\n",
    ")\n",
    "\n",
    "iplot(figure)"
   ]
  },
  {
   "cell_type": "markdown",
   "metadata": {},
   "source": [
    "Et si on voulait superposer les barres ?\n",
    "\n",
    "Affichons le nombre de passagers, en fonction de leur classe et du port duquel ils sont partis."
   ]
  },
  {
   "cell_type": "code",
   "execution_count": 49,
   "metadata": {},
   "outputs": [
    {
     "data": {
      "text/html": [
       "<div>\n",
       "<style scoped>\n",
       "    .dataframe tbody tr th:only-of-type {\n",
       "        vertical-align: middle;\n",
       "    }\n",
       "\n",
       "    .dataframe tbody tr th {\n",
       "        vertical-align: top;\n",
       "    }\n",
       "\n",
       "    .dataframe thead th {\n",
       "        text-align: right;\n",
       "    }\n",
       "</style>\n",
       "<table border=\"1\" class=\"dataframe\">\n",
       "  <thead>\n",
       "    <tr style=\"text-align: right;\">\n",
       "      <th>embark_town</th>\n",
       "      <th>Cherbourg</th>\n",
       "      <th>Queenstown</th>\n",
       "      <th>Southampton</th>\n",
       "    </tr>\n",
       "    <tr>\n",
       "      <th>class</th>\n",
       "      <th></th>\n",
       "      <th></th>\n",
       "      <th></th>\n",
       "    </tr>\n",
       "  </thead>\n",
       "  <tbody>\n",
       "    <tr>\n",
       "      <th>First</th>\n",
       "      <td>85</td>\n",
       "      <td>2</td>\n",
       "      <td>127</td>\n",
       "    </tr>\n",
       "    <tr>\n",
       "      <th>Second</th>\n",
       "      <td>17</td>\n",
       "      <td>3</td>\n",
       "      <td>164</td>\n",
       "    </tr>\n",
       "    <tr>\n",
       "      <th>Third</th>\n",
       "      <td>66</td>\n",
       "      <td>72</td>\n",
       "      <td>353</td>\n",
       "    </tr>\n",
       "  </tbody>\n",
       "</table>\n",
       "</div>"
      ],
      "text/plain": [
       "embark_town  Cherbourg  Queenstown  Southampton\n",
       "class                                          \n",
       "First               85           2          127\n",
       "Second              17           3          164\n",
       "Third               66          72          353"
      ]
     },
     "execution_count": 49,
     "metadata": {},
     "output_type": "execute_result"
    }
   ],
   "source": [
    "dft = df.pivot_table(index='class', columns='embark_town', values='survived', aggfunc='count')\n",
    "\n",
    "dft"
   ]
  },
  {
   "cell_type": "code",
   "execution_count": 50,
   "metadata": {},
   "outputs": [
    {
     "data": {
      "application/vnd.plotly.v1+json": {
       "data": [
        {
         "name": "Cherbourg",
         "type": "bar",
         "x": [
          "First",
          "Second",
          "Third"
         ],
         "y": [
          85,
          17,
          66
         ]
        },
        {
         "name": "Queenstown",
         "type": "bar",
         "x": [
          "First",
          "Second",
          "Third"
         ],
         "y": [
          2,
          3,
          72
         ]
        },
        {
         "name": "Southampton",
         "type": "bar",
         "x": [
          "First",
          "Second",
          "Third"
         ],
         "y": [
          127,
          164,
          353
         ]
        }
       ],
       "layout": {
        "barmode": "stack",
        "title": "D'où venaient les passagers du Titanic ?",
        "xaxis": {
         "title": "classe de passager"
        },
        "yaxis": {
         "title": "nombre de passagers"
        }
       }
      },
      "text/html": [
       "<div id=\"16597dc2-7a5b-46e3-b410-20c1f445daf4\" style=\"height: 525px; width: 100%;\" class=\"plotly-graph-div\"></div><script type=\"text/javascript\">require([\"plotly\"], function(Plotly) { window.PLOTLYENV=window.PLOTLYENV || {};window.PLOTLYENV.BASE_URL=\"https://plot.ly\";Plotly.newPlot(\"16597dc2-7a5b-46e3-b410-20c1f445daf4\", [{\"x\": [\"First\", \"Second\", \"Third\"], \"type\": \"bar\", \"y\": [85, 17, 66], \"name\": \"Cherbourg\"}, {\"x\": [\"First\", \"Second\", \"Third\"], \"type\": \"bar\", \"y\": [2, 3, 72], \"name\": \"Queenstown\"}, {\"x\": [\"First\", \"Second\", \"Third\"], \"type\": \"bar\", \"y\": [127, 164, 353], \"name\": \"Southampton\"}], {\"yaxis\": {\"title\": \"nombre de passagers\"}, \"title\": \"D'o\\u00f9 venaient les passagers du Titanic ?\", \"xaxis\": {\"title\": \"classe de passager\"}, \"barmode\": \"stack\"}, {\"linkText\": \"Export to plot.ly\", \"showLink\": true})});</script>"
      ],
      "text/vnd.plotly.v1+html": [
       "<div id=\"16597dc2-7a5b-46e3-b410-20c1f445daf4\" style=\"height: 525px; width: 100%;\" class=\"plotly-graph-div\"></div><script type=\"text/javascript\">require([\"plotly\"], function(Plotly) { window.PLOTLYENV=window.PLOTLYENV || {};window.PLOTLYENV.BASE_URL=\"https://plot.ly\";Plotly.newPlot(\"16597dc2-7a5b-46e3-b410-20c1f445daf4\", [{\"x\": [\"First\", \"Second\", \"Third\"], \"type\": \"bar\", \"y\": [85, 17, 66], \"name\": \"Cherbourg\"}, {\"x\": [\"First\", \"Second\", \"Third\"], \"type\": \"bar\", \"y\": [2, 3, 72], \"name\": \"Queenstown\"}, {\"x\": [\"First\", \"Second\", \"Third\"], \"type\": \"bar\", \"y\": [127, 164, 353], \"name\": \"Southampton\"}], {\"yaxis\": {\"title\": \"nombre de passagers\"}, \"title\": \"D'o\\u00f9 venaient les passagers du Titanic ?\", \"xaxis\": {\"title\": \"classe de passager\"}, \"barmode\": \"stack\"}, {\"linkText\": \"Export to plot.ly\", \"showLink\": true})});</script>"
      ]
     },
     "metadata": {},
     "output_type": "display_data"
    }
   ],
   "source": [
    "traces = []\n",
    "for col in dft: # ici col=embark_town\n",
    "    traces.append(\n",
    "        go.Bar(\n",
    "            x=dft.index,\n",
    "            y=dft[col],\n",
    "            name=col\n",
    "        )\n",
    "    )\n",
    "\n",
    "layout = go.Layout(\n",
    "    title=\"D'où venaient les passagers du Titanic ?\",\n",
    "    yaxis={\n",
    "        'title': \"nombre de passagers\"\n",
    "    },\n",
    "    xaxis={\n",
    "        'title': \"classe de passager\"\n",
    "    },\n",
    "    barmode='stack'\n",
    ")\n",
    "\n",
    "figure = go.Figure(\n",
    "    data=go.Data(traces),\n",
    "    layout=layout\n",
    ")\n",
    "\n",
    "iplot(figure)"
   ]
  },
  {
   "cell_type": "markdown",
   "metadata": {},
   "source": [
    "# 3. Si on faisait des cartes ?"
   ]
  },
  {
   "cell_type": "code",
   "execution_count": 51,
   "metadata": {},
   "outputs": [
    {
     "data": {
      "application/vnd.plotly.v1+json": {
       "data": [
        {
         "lat": [
          9.95,
          6.43,
          14.5,
          8.46
         ],
         "lon": [
          -9.7,
          -9.43,
          -14.45,
          -11.78
         ],
         "marker": {
          "color": "rgb(33,113,181)",
          "line": {
           "width": 0
          },
          "size": [
           20.44,
           67.24,
           0.06,
           38.8
          ]
         },
         "mode": "markers+text",
         "name": "Sept",
         "text": [
          "1022 Guinea",
          "3362 Liberia",
          "3 Senegal",
          "1940 Sierra Leone"
         ],
         "textposition": "bottom center",
         "type": "scattergeo"
        },
        {
         "lat": [
          9.95,
          6.43,
          14.5,
          8.46
         ],
         "lon": [
          -9.7,
          -9.43,
          -14.45,
          -11.78
         ],
         "marker": {
          "color": "rgb(107,174,214)",
          "line": {
           "width": 0
          },
          "size": [
           15.42,
           27.9,
           0.02,
           24.32
          ]
         },
         "name": "Aug",
         "text": [
          771,
          1395,
          1,
          1216
         ],
         "type": "scattergeo"
        },
        {
         "lat": [
          9.95,
          6.43,
          8.46
         ],
         "lon": [
          -9.7,
          -9.43,
          -11.78
         ],
         "marker": {
          "color": "rgb(189,215,231)",
          "line": {
           "width": 0
          },
          "size": [
           9.2,
           6.58,
           10.66
          ]
         },
         "name": "July",
         "text": [
          460,
          329,
          533
         ],
         "type": "scattergeo"
        },
        {
         "lat": [
          9.95,
          6.43,
          8.46
         ],
         "lon": [
          -9.7,
          -9.43,
          -11.78
         ],
         "marker": {
          "color": "rgb(239,243,255)",
          "line": {
           "width": 0
          },
          "size": [
           8.26,
           2.14,
           4.78
          ]
         },
         "name": "June",
         "text": [
          413,
          107,
          239
         ],
         "type": "scattergeo"
        },
        {
         "autocolorscale": false,
         "colorscale": [
          [
           0,
           "rgb(0, 0, 0)"
          ],
          [
           1,
           "rgb(0, 0, 0)"
          ]
         ],
         "geo": "geo2",
         "locationmode": "country names",
         "locations": [
          "Guinea",
          "Liberia",
          "Senegal",
          "Sierra Leone"
         ],
         "showscale": false,
         "text": [
          "Guinea",
          "Liberia",
          "Senegal",
          "Sierra Leone"
         ],
         "type": "choropleth",
         "z": [
          1022,
          3362,
          3,
          1940
         ]
        },
        {
         "geo": "geo2",
         "lat": [
          7.1881
         ],
         "lon": [
          21.0936
         ],
         "mode": "text",
         "showlegend": false,
         "text": [
          "Africa"
         ],
         "type": "scattergeo"
        }
       ],
       "layout": {
        "geo": {
         "coastlinecolor": "rgb(255, 255, 255)",
         "countrycolor": "rgb(255, 255, 255)",
         "domain": {
          "x": [
           0,
           1
          ],
          "y": [
           0,
           1
          ]
         },
         "landcolor": "rgb(229, 229, 229)",
         "lataxis": {
          "range": [
           0,
           12
          ]
         },
         "lonaxis": {
          "range": [
           -15,
           -5
          ]
         },
         "projection": {
          "type": "Mercator"
         },
         "resolution": 50,
         "scope": "africa",
         "showcoastlines": true,
         "showframe": false,
         "showland": true
        },
        "geo2": {
         "bgcolor": "rgba(255, 255, 255, 0.0)",
         "domain": {
          "x": [
           0,
           0.6
          ],
          "y": [
           0,
           0.6
          ]
         },
         "landcolor": "rgb(229, 229, 229)",
         "scope": "africa",
         "showcountries": false,
         "showframe": false,
         "showland": true
        },
        "legend": {
         "traceorder": "reversed"
        },
        "title": "Ebola cases reported by month in West Africa 2014<br> Source: <a href=\"https://data.hdx.rwlabs.org/dataset/rowca-ebola-cases\">HDX</a>"
       }
      },
      "text/html": [
       "<div id=\"ff6858e6-f512-4f35-9031-8e93a7aa9feb\" style=\"height: 525px; width: 100%;\" class=\"plotly-graph-div\"></div><script type=\"text/javascript\">require([\"plotly\"], function(Plotly) { window.PLOTLYENV=window.PLOTLYENV || {};window.PLOTLYENV.BASE_URL=\"https://plot.ly\";Plotly.newPlot(\"ff6858e6-f512-4f35-9031-8e93a7aa9feb\", [{\"type\": \"scattergeo\", \"text\": [\"1022 Guinea\", \"3362 Liberia\", \"3 Senegal\", \"1940 Sierra Leone\"], \"lat\": [9.95, 6.43, 14.5, 8.46], \"mode\": \"markers+text\", \"textposition\": \"bottom center\", \"name\": \"Sept\", \"lon\": [-9.7, -9.43, -14.45, -11.78], \"marker\": {\"line\": {\"width\": 0}, \"size\": [20.44, 67.24, 0.06, 38.8], \"color\": \"rgb(33,113,181)\"}}, {\"type\": \"scattergeo\", \"text\": [771.0, 1395.0, 1.0, 1216.0], \"lat\": [9.95, 6.43, 14.5, 8.46], \"name\": \"Aug\", \"lon\": [-9.7, -9.43, -14.45, -11.78], \"marker\": {\"line\": {\"width\": 0}, \"size\": [15.42, 27.9, 0.02, 24.32], \"color\": \"rgb(107,174,214)\"}}, {\"type\": \"scattergeo\", \"text\": [460.0, 329.0, 533.0], \"lat\": [9.95, 6.43, 8.46], \"name\": \"July\", \"lon\": [-9.7, -9.43, -11.78], \"marker\": {\"line\": {\"width\": 0}, \"size\": [9.2, 6.58, 10.66], \"color\": \"rgb(189,215,231)\"}}, {\"type\": \"scattergeo\", \"text\": [413.0, 107.0, 239.0], \"lat\": [9.95, 6.43, 8.46], \"name\": \"June\", \"lon\": [-9.7, -9.43, -11.78], \"marker\": {\"line\": {\"width\": 0}, \"size\": [8.26, 2.14, 4.78], \"color\": \"rgb(239,243,255)\"}}, {\"type\": \"choropleth\", \"locationmode\": \"country names\", \"text\": [\"Guinea\", \"Liberia\", \"Senegal\", \"Sierra Leone\"], \"showscale\": false, \"geo\": \"geo2\", \"locations\": [\"Guinea\", \"Liberia\", \"Senegal\", \"Sierra Leone\"], \"autocolorscale\": false, \"z\": [1022.0, 3362.0, 3.0, 1940.0], \"colorscale\": [[0, \"rgb(0, 0, 0)\"], [1, \"rgb(0, 0, 0)\"]]}, {\"type\": \"scattergeo\", \"text\": [\"Africa\"], \"showlegend\": false, \"lat\": [7.1881], \"lon\": [21.0936], \"geo\": \"geo2\", \"mode\": \"text\"}], {\"title\": \"Ebola cases reported by month in West Africa 2014<br> Source: <a href=\\\"https://data.hdx.rwlabs.org/dataset/rowca-ebola-cases\\\">HDX</a>\", \"geo\": {\"showcoastlines\": true, \"lataxis\": {\"range\": [0.0, 12.0]}, \"coastlinecolor\": \"rgb(255, 255, 255)\", \"projection\": {\"type\": \"Mercator\"}, \"lonaxis\": {\"range\": [-15.0, -5.0]}, \"countrycolor\": \"rgb(255, 255, 255)\", \"resolution\": 50, \"domain\": {\"x\": [0, 1], \"y\": [0, 1]}, \"scope\": \"africa\", \"landcolor\": \"rgb(229, 229, 229)\", \"showframe\": false, \"showland\": true}, \"geo2\": {\"landcolor\": \"rgb(229, 229, 229)\", \"domain\": {\"x\": [0, 0.6], \"y\": [0, 0.6]}, \"showcountries\": false, \"scope\": \"africa\", \"showframe\": false, \"bgcolor\": \"rgba(255, 255, 255, 0.0)\", \"showland\": true}, \"legend\": {\"traceorder\": \"reversed\"}}, {\"linkText\": \"Export to plot.ly\", \"showLink\": true})});</script>"
      ],
      "text/vnd.plotly.v1+html": [
       "<div id=\"ff6858e6-f512-4f35-9031-8e93a7aa9feb\" style=\"height: 525px; width: 100%;\" class=\"plotly-graph-div\"></div><script type=\"text/javascript\">require([\"plotly\"], function(Plotly) { window.PLOTLYENV=window.PLOTLYENV || {};window.PLOTLYENV.BASE_URL=\"https://plot.ly\";Plotly.newPlot(\"ff6858e6-f512-4f35-9031-8e93a7aa9feb\", [{\"type\": \"scattergeo\", \"text\": [\"1022 Guinea\", \"3362 Liberia\", \"3 Senegal\", \"1940 Sierra Leone\"], \"lat\": [9.95, 6.43, 14.5, 8.46], \"mode\": \"markers+text\", \"textposition\": \"bottom center\", \"name\": \"Sept\", \"lon\": [-9.7, -9.43, -14.45, -11.78], \"marker\": {\"line\": {\"width\": 0}, \"size\": [20.44, 67.24, 0.06, 38.8], \"color\": \"rgb(33,113,181)\"}}, {\"type\": \"scattergeo\", \"text\": [771.0, 1395.0, 1.0, 1216.0], \"lat\": [9.95, 6.43, 14.5, 8.46], \"name\": \"Aug\", \"lon\": [-9.7, -9.43, -14.45, -11.78], \"marker\": {\"line\": {\"width\": 0}, \"size\": [15.42, 27.9, 0.02, 24.32], \"color\": \"rgb(107,174,214)\"}}, {\"type\": \"scattergeo\", \"text\": [460.0, 329.0, 533.0], \"lat\": [9.95, 6.43, 8.46], \"name\": \"July\", \"lon\": [-9.7, -9.43, -11.78], \"marker\": {\"line\": {\"width\": 0}, \"size\": [9.2, 6.58, 10.66], \"color\": \"rgb(189,215,231)\"}}, {\"type\": \"scattergeo\", \"text\": [413.0, 107.0, 239.0], \"lat\": [9.95, 6.43, 8.46], \"name\": \"June\", \"lon\": [-9.7, -9.43, -11.78], \"marker\": {\"line\": {\"width\": 0}, \"size\": [8.26, 2.14, 4.78], \"color\": \"rgb(239,243,255)\"}}, {\"type\": \"choropleth\", \"locationmode\": \"country names\", \"text\": [\"Guinea\", \"Liberia\", \"Senegal\", \"Sierra Leone\"], \"showscale\": false, \"geo\": \"geo2\", \"locations\": [\"Guinea\", \"Liberia\", \"Senegal\", \"Sierra Leone\"], \"autocolorscale\": false, \"z\": [1022.0, 3362.0, 3.0, 1940.0], \"colorscale\": [[0, \"rgb(0, 0, 0)\"], [1, \"rgb(0, 0, 0)\"]]}, {\"type\": \"scattergeo\", \"text\": [\"Africa\"], \"showlegend\": false, \"lat\": [7.1881], \"lon\": [21.0936], \"geo\": \"geo2\", \"mode\": \"text\"}], {\"title\": \"Ebola cases reported by month in West Africa 2014<br> Source: <a href=\\\"https://data.hdx.rwlabs.org/dataset/rowca-ebola-cases\\\">HDX</a>\", \"geo\": {\"showcoastlines\": true, \"lataxis\": {\"range\": [0.0, 12.0]}, \"coastlinecolor\": \"rgb(255, 255, 255)\", \"projection\": {\"type\": \"Mercator\"}, \"lonaxis\": {\"range\": [-15.0, -5.0]}, \"countrycolor\": \"rgb(255, 255, 255)\", \"resolution\": 50, \"domain\": {\"x\": [0, 1], \"y\": [0, 1]}, \"scope\": \"africa\", \"landcolor\": \"rgb(229, 229, 229)\", \"showframe\": false, \"showland\": true}, \"geo2\": {\"landcolor\": \"rgb(229, 229, 229)\", \"domain\": {\"x\": [0, 0.6], \"y\": [0, 0.6]}, \"showcountries\": false, \"scope\": \"africa\", \"showframe\": false, \"bgcolor\": \"rgba(255, 255, 255, 0.0)\", \"showland\": true}, \"legend\": {\"traceorder\": \"reversed\"}}, {\"linkText\": \"Export to plot.ly\", \"showLink\": true})});</script>"
      ]
     },
     "metadata": {},
     "output_type": "display_data"
    }
   ],
   "source": [
    "df = pd.read_csv('https://raw.githubusercontent.com/plotly/datasets/master/2014_ebola.csv')\n",
    "df.head()\n",
    "\n",
    "cases = []\n",
    "colors = ['rgb(239,243,255)','rgb(189,215,231)','rgb(107,174,214)','rgb(33,113,181)']\n",
    "months = {6:'June',7:'July',8:'Aug',9:'Sept'}\n",
    "\n",
    "for i in range(6,10)[::-1]:\n",
    "    cases.append(go.Scattergeo(\n",
    "            lon = df[ df['Month'] == i ]['Lon'], #-(max(range(6,10))-i),\n",
    "            lat = df[ df['Month'] == i ]['Lat'],\n",
    "            text = df[ df['Month'] == i ]['Value'],\n",
    "            name = months[i],\n",
    "            marker = dict(\n",
    "                size = df[ df['Month'] == i ]['Value']/50,\n",
    "                color = colors[i-6],\n",
    "                line = dict(width = 0)\n",
    "            )\n",
    "        )\n",
    "    )\n",
    "\n",
    "cases[0]['text'] = df[ df['Month'] == 9 ]['Value'].map('{:.0f}'.format).astype(str)+' '+\\\n",
    "    df[ df['Month'] == 9 ]['Country']\n",
    "cases[0]['mode'] = 'markers+text'\n",
    "cases[0]['textposition'] = 'bottom center'\n",
    "\n",
    "inset = [\n",
    "    go.Choropleth(\n",
    "        locationmode = 'country names',\n",
    "        locations = df[ df['Month'] == 9 ]['Country'],\n",
    "        z = df[ df['Month'] == 9 ]['Value'],\n",
    "        text = df[ df['Month'] == 9 ]['Country'],\n",
    "        colorscale = [[0,'rgb(0, 0, 0)'],[1,'rgb(0, 0, 0)']],\n",
    "        autocolorscale = False,\n",
    "        showscale = False,\n",
    "        geo = 'geo2'\n",
    "    ),\n",
    "    go.Scattergeo(\n",
    "        lon = [21.0936],\n",
    "        lat = [7.1881],\n",
    "        text = ['Africa'],\n",
    "        mode = 'text',\n",
    "        showlegend = False,\n",
    "        geo = 'geo2'\n",
    "    )\n",
    "]\n",
    "\n",
    "layout = go.Layout(\n",
    "    title = 'Ebola cases reported by month in West Africa 2014<br> \\\n",
    "Source: <a href=\"https://data.hdx.rwlabs.org/dataset/rowca-ebola-cases\">\\\n",
    "HDX</a>',\n",
    "    geo = dict(\n",
    "        resolution = 50,\n",
    "        scope = 'africa',\n",
    "        showframe = False,\n",
    "        showcoastlines = True,\n",
    "        showland = True,\n",
    "        landcolor = \"rgb(229, 229, 229)\",\n",
    "        countrycolor = \"rgb(255, 255, 255)\" ,\n",
    "        coastlinecolor = \"rgb(255, 255, 255)\",\n",
    "        projection = dict(\n",
    "            type = 'Mercator'\n",
    "        ),\n",
    "        lonaxis = dict( range= [ -15.0, -5.0 ] ),\n",
    "        lataxis = dict( range= [ 0.0, 12.0 ] ),\n",
    "        domain = dict(\n",
    "            x = [ 0, 1 ],\n",
    "            y = [ 0, 1 ]\n",
    "        )\n",
    "    ),\n",
    "    geo2 = dict(\n",
    "        scope = 'africa',\n",
    "        showframe = False,\n",
    "        showland = True,\n",
    "        landcolor = \"rgb(229, 229, 229)\",\n",
    "        showcountries = False,\n",
    "        domain = dict(\n",
    "            x = [ 0, 0.6 ],\n",
    "            y = [ 0, 0.6 ]\n",
    "        ),\n",
    "        bgcolor = 'rgba(255, 255, 255, 0.0)',\n",
    "    ),\n",
    "    legend = dict(\n",
    "           traceorder = 'reversed'\n",
    "    )\n",
    ")\n",
    "\n",
    "fig = go.Figure(layout=layout, data=cases+inset)\n",
    "\n",
    "iplot(fig, validate=False, filename='West Africa Ebola cases 2014' )"
   ]
  },
  {
   "cell_type": "code",
   "execution_count": 52,
   "metadata": {},
   "outputs": [
    {
     "data": {
      "text/html": [
       "<div>\n",
       "<style scoped>\n",
       "    .dataframe tbody tr th:only-of-type {\n",
       "        vertical-align: middle;\n",
       "    }\n",
       "\n",
       "    .dataframe tbody tr th {\n",
       "        vertical-align: top;\n",
       "    }\n",
       "\n",
       "    .dataframe thead th {\n",
       "        text-align: right;\n",
       "    }\n",
       "</style>\n",
       "<table border=\"1\" class=\"dataframe\">\n",
       "  <thead>\n",
       "    <tr style=\"text-align: right;\">\n",
       "      <th></th>\n",
       "      <th>code</th>\n",
       "      <th>lat</th>\n",
       "      <th>lon</th>\n",
       "      <th>population</th>\n",
       "      <th>ville</th>\n",
       "    </tr>\n",
       "  </thead>\n",
       "  <tbody>\n",
       "    <tr>\n",
       "      <th>0</th>\n",
       "      <td>44109</td>\n",
       "      <td>47.216667</td>\n",
       "      <td>-1.550000</td>\n",
       "      <td>934165</td>\n",
       "      <td>Nantes</td>\n",
       "    </tr>\n",
       "    <tr>\n",
       "      <th>1</th>\n",
       "      <td>75100</td>\n",
       "      <td>48.866667</td>\n",
       "      <td>2.333333</td>\n",
       "      <td>2206488</td>\n",
       "      <td>Paris</td>\n",
       "    </tr>\n",
       "    <tr>\n",
       "      <th>2</th>\n",
       "      <td>13200</td>\n",
       "      <td>43.300000</td>\n",
       "      <td>5.400000</td>\n",
       "      <td>861635</td>\n",
       "      <td>Marseille</td>\n",
       "    </tr>\n",
       "  </tbody>\n",
       "</table>\n",
       "</div>"
      ],
      "text/plain": [
       "    code        lat       lon  population      ville\n",
       "0  44109  47.216667 -1.550000      934165     Nantes\n",
       "1  75100  48.866667  2.333333     2206488      Paris\n",
       "2  13200  43.300000  5.400000      861635  Marseille"
      ]
     },
     "execution_count": 52,
     "metadata": {},
     "output_type": "execute_result"
    }
   ],
   "source": [
    "df = pd.DataFrame({\n",
    "    'ville': ['Nantes', 'Paris', 'Marseille'],\n",
    "    'lat': [47.216667, 48.866667, 43.300000],\n",
    "    'lon': [-1.550000, 2.333333, 5.400000],\n",
    "    'code': ['44109', '75100', '13200'],\n",
    "    'population': [934165, 2206488, 861635]\n",
    "})\n",
    "\n",
    "df"
   ]
  },
  {
   "cell_type": "code",
   "execution_count": 53,
   "metadata": {},
   "outputs": [
    {
     "data": {
      "application/vnd.plotly.v1+json": {
       "data": [
        {
         "lat": [
          47.216667,
          48.866667,
          43.3
         ],
         "lon": [
          -1.55,
          2.333333,
          5.4
         ],
         "marker": {
          "size": [
           21.168594617328534,
           50,
           19.525032540399042
          ]
         },
         "text": [
          "Nantes",
          "Paris",
          "Marseille"
         ],
         "type": "scattergeo"
        }
       ],
       "layout": {
        "geo": {
         "countrycolor": "rgb(255, 255, 255)",
         "landcolor": "rgb(229, 229, 229)",
         "lataxis": {
          "range": [
           42,
           51
          ]
         },
         "lonaxis": {
          "range": [
           -5,
           8
          ]
         },
         "projection": {
          "type": "Mercator"
         },
         "resolution": 50,
         "scope": "europe",
         "showland": true
        },
        "title": "Principales villes de France"
       }
      },
      "text/html": [
       "<div id=\"c3a0d982-f182-4abd-9c00-facdf5d77bd5\" style=\"height: 525px; width: 100%;\" class=\"plotly-graph-div\"></div><script type=\"text/javascript\">require([\"plotly\"], function(Plotly) { window.PLOTLYENV=window.PLOTLYENV || {};window.PLOTLYENV.BASE_URL=\"https://plot.ly\";Plotly.newPlot(\"c3a0d982-f182-4abd-9c00-facdf5d77bd5\", [{\"type\": \"scattergeo\", \"text\": [\"Nantes\", \"Paris\", \"Marseille\"], \"lon\": [-1.55, 2.333333, 5.4], \"lat\": [47.216667, 48.866667, 43.3], \"marker\": {\"size\": [21.168594617328534, 50.0, 19.525032540399042]}}], {\"title\": \"Principales villes de France\", \"geo\": {\"projection\": {\"type\": \"Mercator\"}, \"landcolor\": \"rgb(229, 229, 229)\", \"scope\": \"europe\", \"countrycolor\": \"rgb(255, 255, 255)\", \"resolution\": 50, \"lataxis\": {\"range\": [42.0, 51.0]}, \"lonaxis\": {\"range\": [-5.0, 8.0]}, \"showland\": true}}, {\"linkText\": \"Export to plot.ly\", \"showLink\": true})});</script>"
      ],
      "text/vnd.plotly.v1+html": [
       "<div id=\"c3a0d982-f182-4abd-9c00-facdf5d77bd5\" style=\"height: 525px; width: 100%;\" class=\"plotly-graph-div\"></div><script type=\"text/javascript\">require([\"plotly\"], function(Plotly) { window.PLOTLYENV=window.PLOTLYENV || {};window.PLOTLYENV.BASE_URL=\"https://plot.ly\";Plotly.newPlot(\"c3a0d982-f182-4abd-9c00-facdf5d77bd5\", [{\"type\": \"scattergeo\", \"text\": [\"Nantes\", \"Paris\", \"Marseille\"], \"lon\": [-1.55, 2.333333, 5.4], \"lat\": [47.216667, 48.866667, 43.3], \"marker\": {\"size\": [21.168594617328534, 50.0, 19.525032540399042]}}], {\"title\": \"Principales villes de France\", \"geo\": {\"projection\": {\"type\": \"Mercator\"}, \"landcolor\": \"rgb(229, 229, 229)\", \"scope\": \"europe\", \"countrycolor\": \"rgb(255, 255, 255)\", \"resolution\": 50, \"lataxis\": {\"range\": [42.0, 51.0]}, \"lonaxis\": {\"range\": [-5.0, 8.0]}, \"showland\": true}}, {\"linkText\": \"Export to plot.ly\", \"showLink\": true})});</script>"
      ]
     },
     "metadata": {},
     "output_type": "display_data"
    }
   ],
   "source": [
    "trace = go.Scattergeo(\n",
    "    lon=df['lon'],\n",
    "    lat=df['lat'],\n",
    "    text=df['ville'],\n",
    "    marker={\n",
    "        'size': 50. * df['population'] / df['population'].max()\n",
    "    }\n",
    ")\n",
    "\n",
    "layout = go.Layout(\n",
    "    title=\"Principales villes de France\",\n",
    "    geo={\n",
    "        'scope': 'europe',\n",
    "        'resolution': 50,\n",
    "        'showland': True,\n",
    "        'landcolor': \"rgb(229, 229, 229)\",\n",
    "        'countrycolor': \"rgb(255, 255, 255)\",\n",
    "        'projection': {'type': 'Mercator'},\n",
    "        'lonaxis': {\n",
    "            'range': [-5.0, 8.0]\n",
    "        },\n",
    "        'lataxis': {\n",
    "            'range': [42.0, 51.0]\n",
    "        }\n",
    "    }\n",
    ")\n",
    "\n",
    "figure = go.Figure(layout=layout, data=go.Data([trace]))\n",
    "iplot(figure)"
   ]
  },
  {
   "cell_type": "markdown",
   "metadata": {},
   "source": [
    "`Scattergeo` est pratique pour les cartes à grande échelle, mais si vous voulez une carte avec des villes et des rues, etc., vous serez vite limités.\n",
    "\n",
    "`Plotly` propose de s'aider de la solution [Mapbox](https://www.mapbox.com/) pour cela."
   ]
  },
  {
   "cell_type": "markdown",
   "metadata": {},
   "source": [
    "On a besoin d'avoir un compte sur mapbox et de récupérer une clé pour l'utiliser. Voici une petite fonction qui permettra de lire la clé."
   ]
  },
  {
   "cell_type": "code",
   "execution_count": 54,
   "metadata": {},
   "outputs": [],
   "source": [
    "def get_mapbox_access_token(folderpath='.', filename=\"mapbox.txt\"):\n",
    "    import os\n",
    "    \n",
    "    with open(os.path.join(folderpath, filename), 'r') as file:\n",
    "        s = file.read()\n",
    "    \n",
    "    return s"
   ]
  },
  {
   "cell_type": "code",
   "execution_count": 55,
   "metadata": {},
   "outputs": [
    {
     "data": {
      "application/vnd.plotly.v1+json": {
       "data": [
        {
         "lat": [
          "38.91427",
          "38.91538",
          "38.91458",
          "38.92239",
          "38.93222",
          "38.90842",
          "38.91931",
          "38.93260",
          "38.91368",
          "38.88516",
          "38.921894",
          "38.93206",
          "38.91275"
         ],
         "lon": [
          "-77.02827",
          "-77.02013",
          "-77.03155",
          "-77.04227",
          "-77.02854",
          "-77.02419",
          "-77.02518",
          "-77.03304",
          "-77.04509",
          "-76.99656",
          "-77.042438",
          "-77.02821",
          "-77.01239"
         ],
         "marker": {
          "size": 9
         },
         "mode": "markers",
         "text": [
          "The coffee bar",
          "Bistro Bohem",
          "Black Cat",
          "Snap",
          "Columbia Heights Coffee",
          "Azi's Cafe",
          "Blind Dog Cafe",
          "Le Caprice",
          "Filter",
          "Peregrine",
          "Tryst",
          "The Coupe",
          "Big Bear Cafe"
         ],
         "type": "scattermapbox"
        }
       ],
       "layout": {
        "autosize": true,
        "hovermode": "closest",
        "mapbox": {
         "accesstoken": "pk.eyJ1IjoibG9sb2Rlc2JvaXMiLCJhIjoiY2owdXJmbGF2MDA0aDMybXMxcG55MHUzdyJ9._aIlS4r9r4n4jNp3QqKcLQ",
         "bearing": 0,
         "center": {
          "lat": 38.92,
          "lon": -77.07
         },
         "pitch": 0,
         "zoom": 10
        }
       }
      },
      "text/html": [
       "<div id=\"01ff2c9c-2709-4c3a-8b4f-8ca765adcd75\" style=\"height: 525px; width: 100%;\" class=\"plotly-graph-div\"></div><script type=\"text/javascript\">require([\"plotly\"], function(Plotly) { window.PLOTLYENV=window.PLOTLYENV || {};window.PLOTLYENV.BASE_URL=\"https://plot.ly\";Plotly.newPlot(\"01ff2c9c-2709-4c3a-8b4f-8ca765adcd75\", [{\"type\": \"scattermapbox\", \"text\": [\"The coffee bar\", \"Bistro Bohem\", \"Black Cat\", \"Snap\", \"Columbia Heights Coffee\", \"Azi's Cafe\", \"Blind Dog Cafe\", \"Le Caprice\", \"Filter\", \"Peregrine\", \"Tryst\", \"The Coupe\", \"Big Bear Cafe\"], \"mode\": \"markers\", \"lat\": [\"38.91427\", \"38.91538\", \"38.91458\", \"38.92239\", \"38.93222\", \"38.90842\", \"38.91931\", \"38.93260\", \"38.91368\", \"38.88516\", \"38.921894\", \"38.93206\", \"38.91275\"], \"lon\": [\"-77.02827\", \"-77.02013\", \"-77.03155\", \"-77.04227\", \"-77.02854\", \"-77.02419\", \"-77.02518\", \"-77.03304\", \"-77.04509\", \"-76.99656\", \"-77.042438\", \"-77.02821\", \"-77.01239\"], \"marker\": {\"size\": 9}}], {\"mapbox\": {\"bearing\": 0, \"zoom\": 10, \"center\": {\"lon\": -77.07, \"lat\": 38.92}, \"pitch\": 0, \"accesstoken\": \"pk.eyJ1IjoibG9sb2Rlc2JvaXMiLCJhIjoiY2owdXJmbGF2MDA0aDMybXMxcG55MHUzdyJ9._aIlS4r9r4n4jNp3QqKcLQ\"}, \"hovermode\": \"closest\", \"autosize\": true}, {\"linkText\": \"Export to plot.ly\", \"showLink\": true})});</script>"
      ],
      "text/vnd.plotly.v1+html": [
       "<div id=\"01ff2c9c-2709-4c3a-8b4f-8ca765adcd75\" style=\"height: 525px; width: 100%;\" class=\"plotly-graph-div\"></div><script type=\"text/javascript\">require([\"plotly\"], function(Plotly) { window.PLOTLYENV=window.PLOTLYENV || {};window.PLOTLYENV.BASE_URL=\"https://plot.ly\";Plotly.newPlot(\"01ff2c9c-2709-4c3a-8b4f-8ca765adcd75\", [{\"type\": \"scattermapbox\", \"text\": [\"The coffee bar\", \"Bistro Bohem\", \"Black Cat\", \"Snap\", \"Columbia Heights Coffee\", \"Azi's Cafe\", \"Blind Dog Cafe\", \"Le Caprice\", \"Filter\", \"Peregrine\", \"Tryst\", \"The Coupe\", \"Big Bear Cafe\"], \"mode\": \"markers\", \"lat\": [\"38.91427\", \"38.91538\", \"38.91458\", \"38.92239\", \"38.93222\", \"38.90842\", \"38.91931\", \"38.93260\", \"38.91368\", \"38.88516\", \"38.921894\", \"38.93206\", \"38.91275\"], \"lon\": [\"-77.02827\", \"-77.02013\", \"-77.03155\", \"-77.04227\", \"-77.02854\", \"-77.02419\", \"-77.02518\", \"-77.03304\", \"-77.04509\", \"-76.99656\", \"-77.042438\", \"-77.02821\", \"-77.01239\"], \"marker\": {\"size\": 9}}], {\"mapbox\": {\"bearing\": 0, \"zoom\": 10, \"center\": {\"lon\": -77.07, \"lat\": 38.92}, \"pitch\": 0, \"accesstoken\": \"pk.eyJ1IjoibG9sb2Rlc2JvaXMiLCJhIjoiY2owdXJmbGF2MDA0aDMybXMxcG55MHUzdyJ9._aIlS4r9r4n4jNp3QqKcLQ\"}, \"hovermode\": \"closest\", \"autosize\": true}, {\"linkText\": \"Export to plot.ly\", \"showLink\": true})});</script>"
      ]
     },
     "metadata": {},
     "output_type": "display_data"
    }
   ],
   "source": [
    "mapbox_access_token = get_mapbox_access_token()\n",
    "\n",
    "data = [\n",
    "    go.Scattermapbox(\n",
    "        lat=['38.91427','38.91538','38.91458',\n",
    "             '38.92239','38.93222','38.90842',\n",
    "             '38.91931','38.93260','38.91368',\n",
    "             '38.88516','38.921894','38.93206',\n",
    "             '38.91275'],\n",
    "        lon=['-77.02827','-77.02013','-77.03155',\n",
    "             '-77.04227','-77.02854','-77.02419',\n",
    "             '-77.02518','-77.03304','-77.04509',\n",
    "             '-76.99656','-77.042438','-77.02821',\n",
    "             '-77.01239'],\n",
    "        mode='markers',\n",
    "        marker=dict(\n",
    "            size=9\n",
    "        ),\n",
    "        text=[\"The coffee bar\",\"Bistro Bohem\",\"Black Cat\",\n",
    "             \"Snap\",\"Columbia Heights Coffee\",\"Azi's Cafe\",\n",
    "             \"Blind Dog Cafe\",\"Le Caprice\",\"Filter\",\n",
    "             \"Peregrine\",\"Tryst\",\"The Coupe\",\n",
    "             \"Big Bear Cafe\"],\n",
    "    )\n",
    "]\n",
    "\n",
    "layout = go.Layout(\n",
    "    autosize=True,\n",
    "    hovermode='closest',\n",
    "    mapbox=dict(\n",
    "        accesstoken=mapbox_access_token,\n",
    "        bearing=0,\n",
    "        center=dict(\n",
    "            lat=38.92,\n",
    "            lon=-77.07\n",
    "        ),\n",
    "        pitch=0,\n",
    "        zoom=10\n",
    "    ),\n",
    ")\n",
    "\n",
    "fig = dict(data=data, layout=layout)\n",
    "iplot(fig, filename='Multiple Mapbox')"
   ]
  },
  {
   "cell_type": "markdown",
   "metadata": {},
   "source": [
    "# Et si je veux plus de types de graphiques ?"
   ]
  },
  {
   "cell_type": "markdown",
   "metadata": {},
   "source": [
    "Alors je vais voir [ici](https://plot.ly/python/)."
   ]
  },
  {
   "cell_type": "code",
   "execution_count": null,
   "metadata": {},
   "outputs": [],
   "source": []
  },
  {
   "cell_type": "code",
   "execution_count": null,
   "metadata": {},
   "outputs": [],
   "source": []
  },
  {
   "cell_type": "code",
   "execution_count": null,
   "metadata": {},
   "outputs": [],
   "source": []
  },
  {
   "cell_type": "code",
   "execution_count": null,
   "metadata": {},
   "outputs": [],
   "source": []
  },
  {
   "cell_type": "code",
   "execution_count": null,
   "metadata": {},
   "outputs": [],
   "source": []
  },
  {
   "cell_type": "code",
   "execution_count": null,
   "metadata": {},
   "outputs": [],
   "source": []
  }
 ],
 "metadata": {
  "kernelspec": {
   "display_name": "Python 3",
   "language": "python",
   "name": "python3"
  },
  "language_info": {
   "codemirror_mode": {
    "name": "ipython",
    "version": 3
   },
   "file_extension": ".py",
   "mimetype": "text/x-python",
   "name": "python",
   "nbconvert_exporter": "python",
   "pygments_lexer": "ipython3",
   "version": "3.6.8"
  }
 },
 "nbformat": 4,
 "nbformat_minor": 2
}
