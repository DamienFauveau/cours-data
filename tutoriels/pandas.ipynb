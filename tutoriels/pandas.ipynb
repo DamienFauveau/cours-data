{
 "cells": [
  {
   "cell_type": "markdown",
   "metadata": {},
   "source": [
    "# Import des modules nécessaires"
   ]
  },
  {
   "cell_type": "code",
   "execution_count": 1,
   "metadata": {},
   "outputs": [],
   "source": [
    "# Pour faire des calculs complexes (ici c'est juste pour créer des tableaux de nombres aléatoires)\n",
    "import numpy as np\n",
    "\n",
    "# Pour manipuler efficacement des tables de données dans Python\n",
    "import pandas as pd"
   ]
  },
  {
   "cell_type": "code",
   "execution_count": 4,
   "metadata": {
    "scrolled": true
   },
   "outputs": [
    {
     "name": "stdout",
     "output_type": "stream",
     "text": [
      "Requirement already up-to-date: pandas in /home/girardea/anaconda3/lib/python3.6/site-packages (0.23.4)\n",
      "Collecting numpy\n",
      "\u001b[?25l  Downloading https://files.pythonhosted.org/packages/ff/7f/9d804d2348471c67a7d8b5f84f9bc59fd1cefa148986f2b74552f8573555/numpy-1.15.4-cp36-cp36m-manylinux1_x86_64.whl (13.9MB)\n",
      "\u001b[K    100% |████████████████████████████████| 13.9MB 946kB/s ta 0:00:011   56% |██████████████████              | 7.8MB 4.6MB/s eta 0:00:02\n",
      "\u001b[?25hRequirement already satisfied, skipping upgrade: pytz>=2011k in /home/girardea/anaconda3/lib/python3.6/site-packages (from pandas) (2018.4)\n",
      "Requirement already satisfied, skipping upgrade: python-dateutil>=2.5.0 in /home/girardea/anaconda3/lib/python3.6/site-packages (from pandas) (2.7.3)\n",
      "Requirement already satisfied, skipping upgrade: six>=1.5 in /home/girardea/anaconda3/lib/python3.6/site-packages (from python-dateutil>=2.5.0->pandas) (1.11.0)\n",
      "Installing collected packages: numpy\n",
      "Successfully installed numpy-1.15.4\n"
     ]
    }
   ],
   "source": [
    "!pip install --upgrade --user pandas numpy"
   ]
  },
  {
   "cell_type": "code",
   "execution_count": 5,
   "metadata": {},
   "outputs": [
    {
     "name": "stdout",
     "output_type": "stream",
     "text": [
      "1.14.3\n"
     ]
    }
   ],
   "source": [
    "print(np.__version__)"
   ]
  },
  {
   "cell_type": "code",
   "execution_count": 6,
   "metadata": {},
   "outputs": [
    {
     "name": "stdout",
     "output_type": "stream",
     "text": [
      "0.23.4\n"
     ]
    }
   ],
   "source": [
    "print(pd.__version__)"
   ]
  },
  {
   "cell_type": "markdown",
   "metadata": {},
   "source": [
    "Pandas est une bibliothèque écrite pour le langage de programmation Python permettant la manipulation et l'analyse des données. Elle propose en particulier des structures de données et des opérations de manipulation de tableaux numériques et de séries temporelles. Pandas est un logiciel libre sous licence BSD."
   ]
  },
  {
   "cell_type": "markdown",
   "metadata": {},
   "source": [
    "# 1. DataFrames et Series"
   ]
  },
  {
   "cell_type": "markdown",
   "metadata": {},
   "source": [
    "Les `DataFrame` et `Series` sont les types les plus utilisés dans `pandas` et il est fondamental de bien les comprendre !\n",
    "\n",
    "Une `DataFrame` est juste une table de données, avec des lignes et des colonnes. Les données peuvent être de toute sorte : numériques, chaînes de caractères, booléens.\n",
    "\n",
    "Une `Series` est simplement une colonne de `DataFrame`."
   ]
  },
  {
   "cell_type": "code",
   "execution_count": 7,
   "metadata": {},
   "outputs": [
    {
     "data": {
      "text/html": [
       "<div>\n",
       "<style scoped>\n",
       "    .dataframe tbody tr th:only-of-type {\n",
       "        vertical-align: middle;\n",
       "    }\n",
       "\n",
       "    .dataframe tbody tr th {\n",
       "        vertical-align: top;\n",
       "    }\n",
       "\n",
       "    .dataframe thead th {\n",
       "        text-align: right;\n",
       "    }\n",
       "</style>\n",
       "<table border=\"1\" class=\"dataframe\">\n",
       "  <thead>\n",
       "    <tr style=\"text-align: right;\">\n",
       "      <th></th>\n",
       "      <th>Pierre</th>\n",
       "      <th>Paul</th>\n",
       "      <th>Jacques</th>\n",
       "    </tr>\n",
       "  </thead>\n",
       "  <tbody>\n",
       "    <tr>\n",
       "      <th>Janvier</th>\n",
       "      <td>0.842743</td>\n",
       "      <td>0.039651</td>\n",
       "      <td>0.543104</td>\n",
       "    </tr>\n",
       "    <tr>\n",
       "      <th>Février</th>\n",
       "      <td>0.467615</td>\n",
       "      <td>0.275337</td>\n",
       "      <td>0.761652</td>\n",
       "    </tr>\n",
       "    <tr>\n",
       "      <th>Mars</th>\n",
       "      <td>0.497341</td>\n",
       "      <td>0.503744</td>\n",
       "      <td>0.270699</td>\n",
       "    </tr>\n",
       "    <tr>\n",
       "      <th>Avril</th>\n",
       "      <td>0.864567</td>\n",
       "      <td>0.153688</td>\n",
       "      <td>0.412072</td>\n",
       "    </tr>\n",
       "    <tr>\n",
       "      <th>Mai</th>\n",
       "      <td>0.013686</td>\n",
       "      <td>0.272243</td>\n",
       "      <td>0.671463</td>\n",
       "    </tr>\n",
       "  </tbody>\n",
       "</table>\n",
       "</div>"
      ],
      "text/plain": [
       "           Pierre      Paul   Jacques\n",
       "Janvier  0.842743  0.039651  0.543104\n",
       "Février  0.467615  0.275337  0.761652\n",
       "Mars     0.497341  0.503744  0.270699\n",
       "Avril    0.864567  0.153688  0.412072\n",
       "Mai      0.013686  0.272243  0.671463"
      ]
     },
     "execution_count": 7,
     "metadata": {},
     "output_type": "execute_result"
    }
   ],
   "source": [
    "# On construit une DataFrame avec des nombres aléatoires\n",
    "df = pd.DataFrame(data=np.random.uniform(size=(5, 3)),\n",
    "                  columns=['Pierre', 'Paul', 'Jacques'],\n",
    "                  index=['Janvier', 'Février', 'Mars', 'Avril', 'Mai'])\n",
    "\n",
    "df"
   ]
  },
  {
   "cell_type": "code",
   "execution_count": 8,
   "metadata": {},
   "outputs": [
    {
     "data": {
      "text/plain": [
       "pandas.core.frame.DataFrame"
      ]
     },
     "execution_count": 8,
     "metadata": {},
     "output_type": "execute_result"
    }
   ],
   "source": [
    "type(df)"
   ]
  },
  {
   "cell_type": "code",
   "execution_count": 9,
   "metadata": {},
   "outputs": [
    {
     "data": {
      "text/plain": [
       "Janvier    0.842743\n",
       "Février    0.467615\n",
       "Mars       0.497341\n",
       "Avril      0.864567\n",
       "Mai        0.013686\n",
       "Name: Pierre, dtype: float64"
      ]
     },
     "execution_count": 9,
     "metadata": {},
     "output_type": "execute_result"
    }
   ],
   "source": [
    "df['Pierre']"
   ]
  },
  {
   "cell_type": "code",
   "execution_count": 10,
   "metadata": {},
   "outputs": [
    {
     "data": {
      "text/plain": [
       "pandas.core.series.Series"
      ]
     },
     "execution_count": 10,
     "metadata": {},
     "output_type": "execute_result"
    }
   ],
   "source": [
    "type(df['Pierre'])"
   ]
  },
  {
   "cell_type": "markdown",
   "metadata": {},
   "source": [
    "Pour sélectionner plusieurs colonnes, on utilise deux paires de crochets."
   ]
  },
  {
   "cell_type": "code",
   "execution_count": 11,
   "metadata": {},
   "outputs": [
    {
     "data": {
      "text/html": [
       "<div>\n",
       "<style scoped>\n",
       "    .dataframe tbody tr th:only-of-type {\n",
       "        vertical-align: middle;\n",
       "    }\n",
       "\n",
       "    .dataframe tbody tr th {\n",
       "        vertical-align: top;\n",
       "    }\n",
       "\n",
       "    .dataframe thead th {\n",
       "        text-align: right;\n",
       "    }\n",
       "</style>\n",
       "<table border=\"1\" class=\"dataframe\">\n",
       "  <thead>\n",
       "    <tr style=\"text-align: right;\">\n",
       "      <th></th>\n",
       "      <th>Pierre</th>\n",
       "      <th>Jacques</th>\n",
       "    </tr>\n",
       "  </thead>\n",
       "  <tbody>\n",
       "    <tr>\n",
       "      <th>Janvier</th>\n",
       "      <td>0.842743</td>\n",
       "      <td>0.543104</td>\n",
       "    </tr>\n",
       "    <tr>\n",
       "      <th>Février</th>\n",
       "      <td>0.467615</td>\n",
       "      <td>0.761652</td>\n",
       "    </tr>\n",
       "    <tr>\n",
       "      <th>Mars</th>\n",
       "      <td>0.497341</td>\n",
       "      <td>0.270699</td>\n",
       "    </tr>\n",
       "    <tr>\n",
       "      <th>Avril</th>\n",
       "      <td>0.864567</td>\n",
       "      <td>0.412072</td>\n",
       "    </tr>\n",
       "    <tr>\n",
       "      <th>Mai</th>\n",
       "      <td>0.013686</td>\n",
       "      <td>0.671463</td>\n",
       "    </tr>\n",
       "  </tbody>\n",
       "</table>\n",
       "</div>"
      ],
      "text/plain": [
       "           Pierre   Jacques\n",
       "Janvier  0.842743  0.543104\n",
       "Février  0.467615  0.761652\n",
       "Mars     0.497341  0.270699\n",
       "Avril    0.864567  0.412072\n",
       "Mai      0.013686  0.671463"
      ]
     },
     "execution_count": 11,
     "metadata": {},
     "output_type": "execute_result"
    }
   ],
   "source": [
    "df[['Pierre', 'Jacques']]"
   ]
  },
  {
   "cell_type": "code",
   "execution_count": 13,
   "metadata": {},
   "outputs": [
    {
     "data": {
      "text/plain": [
       "pandas.core.frame.DataFrame"
      ]
     },
     "execution_count": 13,
     "metadata": {},
     "output_type": "execute_result"
    }
   ],
   "source": [
    "type(df[['Pierre', 'Jacques']])"
   ]
  },
  {
   "cell_type": "markdown",
   "metadata": {},
   "source": [
    "## Manipulations sur les `DataFrame` et `Series`"
   ]
  },
  {
   "cell_type": "code",
   "execution_count": 14,
   "metadata": {},
   "outputs": [
    {
     "data": {
      "text/html": [
       "<div>\n",
       "<style scoped>\n",
       "    .dataframe tbody tr th:only-of-type {\n",
       "        vertical-align: middle;\n",
       "    }\n",
       "\n",
       "    .dataframe tbody tr th {\n",
       "        vertical-align: top;\n",
       "    }\n",
       "\n",
       "    .dataframe thead th {\n",
       "        text-align: right;\n",
       "    }\n",
       "</style>\n",
       "<table border=\"1\" class=\"dataframe\">\n",
       "  <thead>\n",
       "    <tr style=\"text-align: right;\">\n",
       "      <th></th>\n",
       "      <th>Pierre</th>\n",
       "      <th>Paul</th>\n",
       "      <th>Jacques</th>\n",
       "    </tr>\n",
       "  </thead>\n",
       "  <tbody>\n",
       "    <tr>\n",
       "      <th>Janvier</th>\n",
       "      <td>1.685485</td>\n",
       "      <td>0.079303</td>\n",
       "      <td>1.086209</td>\n",
       "    </tr>\n",
       "    <tr>\n",
       "      <th>Février</th>\n",
       "      <td>0.935230</td>\n",
       "      <td>0.550674</td>\n",
       "      <td>1.523304</td>\n",
       "    </tr>\n",
       "    <tr>\n",
       "      <th>Mars</th>\n",
       "      <td>0.994682</td>\n",
       "      <td>1.007489</td>\n",
       "      <td>0.541397</td>\n",
       "    </tr>\n",
       "    <tr>\n",
       "      <th>Avril</th>\n",
       "      <td>1.729133</td>\n",
       "      <td>0.307375</td>\n",
       "      <td>0.824144</td>\n",
       "    </tr>\n",
       "    <tr>\n",
       "      <th>Mai</th>\n",
       "      <td>0.027373</td>\n",
       "      <td>0.544486</td>\n",
       "      <td>1.342927</td>\n",
       "    </tr>\n",
       "  </tbody>\n",
       "</table>\n",
       "</div>"
      ],
      "text/plain": [
       "           Pierre      Paul   Jacques\n",
       "Janvier  1.685485  0.079303  1.086209\n",
       "Février  0.935230  0.550674  1.523304\n",
       "Mars     0.994682  1.007489  0.541397\n",
       "Avril    1.729133  0.307375  0.824144\n",
       "Mai      0.027373  0.544486  1.342927"
      ]
     },
     "execution_count": 14,
     "metadata": {},
     "output_type": "execute_result"
    }
   ],
   "source": [
    "df * 2"
   ]
  },
  {
   "cell_type": "code",
   "execution_count": 15,
   "metadata": {},
   "outputs": [
    {
     "data": {
      "text/plain": [
       "Janvier    0.882394\n",
       "Février    0.742952\n",
       "Mars       1.001085\n",
       "Avril      1.018254\n",
       "Mai        0.285929\n",
       "dtype: float64"
      ]
     },
     "execution_count": 15,
     "metadata": {},
     "output_type": "execute_result"
    }
   ],
   "source": [
    "df['Pierre'] + df['Paul']"
   ]
  },
  {
   "cell_type": "code",
   "execution_count": 16,
   "metadata": {},
   "outputs": [
    {
     "data": {
      "text/plain": [
       "Pierre     0.537190\n",
       "Paul       0.248933\n",
       "Jacques    0.531798\n",
       "dtype: float64"
      ]
     },
     "execution_count": 16,
     "metadata": {},
     "output_type": "execute_result"
    }
   ],
   "source": [
    "df.mean()"
   ]
  },
  {
   "cell_type": "code",
   "execution_count": 17,
   "metadata": {},
   "outputs": [
    {
     "data": {
      "text/plain": [
       "Janvier    0.475166\n",
       "Février    0.501535\n",
       "Mars       0.423928\n",
       "Avril      0.476775\n",
       "Mai        0.319131\n",
       "dtype: float64"
      ]
     },
     "execution_count": 17,
     "metadata": {},
     "output_type": "execute_result"
    }
   ],
   "source": [
    "df.mean(axis='columns')"
   ]
  },
  {
   "cell_type": "markdown",
   "metadata": {},
   "source": [
    "Comment faire la moyenne complète du `DataFrame` ?"
   ]
  },
  {
   "cell_type": "code",
   "execution_count": 19,
   "metadata": {},
   "outputs": [
    {
     "data": {
      "text/plain": [
       "0.4393070395825411"
      ]
     },
     "execution_count": 19,
     "metadata": {},
     "output_type": "execute_result"
    }
   ],
   "source": [
    "df.mean().mean()"
   ]
  },
  {
   "cell_type": "markdown",
   "metadata": {},
   "source": [
    "## Sélection simple (par indice) de lignes et de colonnes"
   ]
  },
  {
   "cell_type": "code",
   "execution_count": 20,
   "metadata": {},
   "outputs": [
    {
     "data": {
      "text/html": [
       "<div>\n",
       "<style scoped>\n",
       "    .dataframe tbody tr th:only-of-type {\n",
       "        vertical-align: middle;\n",
       "    }\n",
       "\n",
       "    .dataframe tbody tr th {\n",
       "        vertical-align: top;\n",
       "    }\n",
       "\n",
       "    .dataframe thead th {\n",
       "        text-align: right;\n",
       "    }\n",
       "</style>\n",
       "<table border=\"1\" class=\"dataframe\">\n",
       "  <thead>\n",
       "    <tr style=\"text-align: right;\">\n",
       "      <th></th>\n",
       "      <th>Paul</th>\n",
       "      <th>Jacques</th>\n",
       "    </tr>\n",
       "  </thead>\n",
       "  <tbody>\n",
       "    <tr>\n",
       "      <th>Mars</th>\n",
       "      <td>0.503744</td>\n",
       "      <td>0.270699</td>\n",
       "    </tr>\n",
       "    <tr>\n",
       "      <th>Avril</th>\n",
       "      <td>0.153688</td>\n",
       "      <td>0.412072</td>\n",
       "    </tr>\n",
       "    <tr>\n",
       "      <th>Mai</th>\n",
       "      <td>0.272243</td>\n",
       "      <td>0.671463</td>\n",
       "    </tr>\n",
       "  </tbody>\n",
       "</table>\n",
       "</div>"
      ],
      "text/plain": [
       "           Paul   Jacques\n",
       "Mars   0.503744  0.270699\n",
       "Avril  0.153688  0.412072\n",
       "Mai    0.272243  0.671463"
      ]
     },
     "execution_count": 20,
     "metadata": {},
     "output_type": "execute_result"
    }
   ],
   "source": [
    "df.iloc[2:5, 1:3]"
   ]
  },
  {
   "cell_type": "code",
   "execution_count": 21,
   "metadata": {},
   "outputs": [
    {
     "data": {
      "text/html": [
       "<div>\n",
       "<style scoped>\n",
       "    .dataframe tbody tr th:only-of-type {\n",
       "        vertical-align: middle;\n",
       "    }\n",
       "\n",
       "    .dataframe tbody tr th {\n",
       "        vertical-align: top;\n",
       "    }\n",
       "\n",
       "    .dataframe thead th {\n",
       "        text-align: right;\n",
       "    }\n",
       "</style>\n",
       "<table border=\"1\" class=\"dataframe\">\n",
       "  <thead>\n",
       "    <tr style=\"text-align: right;\">\n",
       "      <th></th>\n",
       "      <th>Pierre</th>\n",
       "      <th>Paul</th>\n",
       "      <th>Jacques</th>\n",
       "    </tr>\n",
       "  </thead>\n",
       "  <tbody>\n",
       "    <tr>\n",
       "      <th>Avril</th>\n",
       "      <td>0.864567</td>\n",
       "      <td>0.153688</td>\n",
       "      <td>0.412072</td>\n",
       "    </tr>\n",
       "    <tr>\n",
       "      <th>Mai</th>\n",
       "      <td>0.013686</td>\n",
       "      <td>0.272243</td>\n",
       "      <td>0.671463</td>\n",
       "    </tr>\n",
       "  </tbody>\n",
       "</table>\n",
       "</div>"
      ],
      "text/plain": [
       "         Pierre      Paul   Jacques\n",
       "Avril  0.864567  0.153688  0.412072\n",
       "Mai    0.013686  0.272243  0.671463"
      ]
     },
     "execution_count": 21,
     "metadata": {},
     "output_type": "execute_result"
    }
   ],
   "source": [
    "df.iloc[3:5]"
   ]
  },
  {
   "cell_type": "markdown",
   "metadata": {},
   "source": [
    "## Sélection par noms"
   ]
  },
  {
   "cell_type": "code",
   "execution_count": 22,
   "metadata": {},
   "outputs": [
    {
     "data": {
      "text/plain": [
       "Pierre     0.013686\n",
       "Paul       0.272243\n",
       "Jacques    0.671463\n",
       "Name: Mai, dtype: float64"
      ]
     },
     "execution_count": 22,
     "metadata": {},
     "output_type": "execute_result"
    }
   ],
   "source": [
    "df.loc['Mai']"
   ]
  },
  {
   "cell_type": "code",
   "execution_count": 23,
   "metadata": {},
   "outputs": [
    {
     "data": {
      "text/html": [
       "<div>\n",
       "<style scoped>\n",
       "    .dataframe tbody tr th:only-of-type {\n",
       "        vertical-align: middle;\n",
       "    }\n",
       "\n",
       "    .dataframe tbody tr th {\n",
       "        vertical-align: top;\n",
       "    }\n",
       "\n",
       "    .dataframe thead th {\n",
       "        text-align: right;\n",
       "    }\n",
       "</style>\n",
       "<table border=\"1\" class=\"dataframe\">\n",
       "  <thead>\n",
       "    <tr style=\"text-align: right;\">\n",
       "      <th></th>\n",
       "      <th>Pierre</th>\n",
       "      <th>Paul</th>\n",
       "      <th>Jacques</th>\n",
       "    </tr>\n",
       "  </thead>\n",
       "  <tbody>\n",
       "    <tr>\n",
       "      <th>Janvier</th>\n",
       "      <td>0.842743</td>\n",
       "      <td>0.039651</td>\n",
       "      <td>0.543104</td>\n",
       "    </tr>\n",
       "    <tr>\n",
       "      <th>Février</th>\n",
       "      <td>0.467615</td>\n",
       "      <td>0.275337</td>\n",
       "      <td>0.761652</td>\n",
       "    </tr>\n",
       "    <tr>\n",
       "      <th>Mars</th>\n",
       "      <td>0.497341</td>\n",
       "      <td>0.503744</td>\n",
       "      <td>0.270699</td>\n",
       "    </tr>\n",
       "  </tbody>\n",
       "</table>\n",
       "</div>"
      ],
      "text/plain": [
       "           Pierre      Paul   Jacques\n",
       "Janvier  0.842743  0.039651  0.543104\n",
       "Février  0.467615  0.275337  0.761652\n",
       "Mars     0.497341  0.503744  0.270699"
      ]
     },
     "execution_count": 23,
     "metadata": {},
     "output_type": "execute_result"
    }
   ],
   "source": [
    "df.loc['Janvier':'Mars']"
   ]
  },
  {
   "cell_type": "code",
   "execution_count": 24,
   "metadata": {},
   "outputs": [
    {
     "data": {
      "text/plain": [
       "Janvier    0.039651\n",
       "Février    0.275337\n",
       "Mars       0.503744\n",
       "Name: Paul, dtype: float64"
      ]
     },
     "execution_count": 24,
     "metadata": {},
     "output_type": "execute_result"
    }
   ],
   "source": [
    "df.loc['Janvier':'Mars', 'Paul']"
   ]
  },
  {
   "cell_type": "markdown",
   "metadata": {},
   "source": [
    "## Sélections complexes via des conditions"
   ]
  },
  {
   "cell_type": "code",
   "execution_count": 27,
   "metadata": {},
   "outputs": [
    {
     "data": {
      "text/html": [
       "<div>\n",
       "<style scoped>\n",
       "    .dataframe tbody tr th:only-of-type {\n",
       "        vertical-align: middle;\n",
       "    }\n",
       "\n",
       "    .dataframe tbody tr th {\n",
       "        vertical-align: top;\n",
       "    }\n",
       "\n",
       "    .dataframe thead th {\n",
       "        text-align: right;\n",
       "    }\n",
       "</style>\n",
       "<table border=\"1\" class=\"dataframe\">\n",
       "  <thead>\n",
       "    <tr style=\"text-align: right;\">\n",
       "      <th></th>\n",
       "      <th>Pierre</th>\n",
       "      <th>Paul</th>\n",
       "      <th>Jacques</th>\n",
       "    </tr>\n",
       "  </thead>\n",
       "  <tbody>\n",
       "    <tr>\n",
       "      <th>Janvier</th>\n",
       "      <td>0.842743</td>\n",
       "      <td>0.039651</td>\n",
       "      <td>0.543104</td>\n",
       "    </tr>\n",
       "    <tr>\n",
       "      <th>Février</th>\n",
       "      <td>0.467615</td>\n",
       "      <td>0.275337</td>\n",
       "      <td>0.761652</td>\n",
       "    </tr>\n",
       "    <tr>\n",
       "      <th>Mars</th>\n",
       "      <td>0.497341</td>\n",
       "      <td>0.503744</td>\n",
       "      <td>0.270699</td>\n",
       "    </tr>\n",
       "    <tr>\n",
       "      <th>Avril</th>\n",
       "      <td>0.864567</td>\n",
       "      <td>0.153688</td>\n",
       "      <td>0.412072</td>\n",
       "    </tr>\n",
       "  </tbody>\n",
       "</table>\n",
       "</div>"
      ],
      "text/plain": [
       "           Pierre      Paul   Jacques\n",
       "Janvier  0.842743  0.039651  0.543104\n",
       "Février  0.467615  0.275337  0.761652\n",
       "Mars     0.497341  0.503744  0.270699\n",
       "Avril    0.864567  0.153688  0.412072"
      ]
     },
     "execution_count": 27,
     "metadata": {},
     "output_type": "execute_result"
    }
   ],
   "source": [
    "c = (df['Pierre'] >= 0.3)\n",
    "\n",
    "df.loc[c]"
   ]
  },
  {
   "cell_type": "markdown",
   "metadata": {},
   "source": [
    "Pour compter le nombre de lignes qui vérifient la condition, il suffit de compter le nombre de `True` dans la `pd.Series` `c`, ce qui revient à sommer `c` car en Python `True = 1` et `False = 0`."
   ]
  },
  {
   "cell_type": "code",
   "execution_count": 32,
   "metadata": {},
   "outputs": [
    {
     "data": {
      "text/plain": [
       "4"
      ]
     },
     "execution_count": 32,
     "metadata": {},
     "output_type": "execute_result"
    }
   ],
   "source": [
    "c.sum()"
   ]
  },
  {
   "cell_type": "code",
   "execution_count": 33,
   "metadata": {},
   "outputs": [
    {
     "data": {
      "text/html": [
       "<div>\n",
       "<style scoped>\n",
       "    .dataframe tbody tr th:only-of-type {\n",
       "        vertical-align: middle;\n",
       "    }\n",
       "\n",
       "    .dataframe tbody tr th {\n",
       "        vertical-align: top;\n",
       "    }\n",
       "\n",
       "    .dataframe thead th {\n",
       "        text-align: right;\n",
       "    }\n",
       "</style>\n",
       "<table border=\"1\" class=\"dataframe\">\n",
       "  <thead>\n",
       "    <tr style=\"text-align: right;\">\n",
       "      <th></th>\n",
       "      <th>Pierre</th>\n",
       "      <th>Paul</th>\n",
       "      <th>Jacques</th>\n",
       "    </tr>\n",
       "  </thead>\n",
       "  <tbody>\n",
       "    <tr>\n",
       "      <th>Janvier</th>\n",
       "      <td>0.842743</td>\n",
       "      <td>0.039651</td>\n",
       "      <td>0.543104</td>\n",
       "    </tr>\n",
       "  </tbody>\n",
       "</table>\n",
       "</div>"
      ],
      "text/plain": [
       "           Pierre      Paul   Jacques\n",
       "Janvier  0.842743  0.039651  0.543104"
      ]
     },
     "execution_count": 33,
     "metadata": {},
     "output_type": "execute_result"
    }
   ],
   "source": [
    "c = (df['Pierre'] >= 0.3) & (df['Paul'] < 0.1)\n",
    "\n",
    "df.loc[c]"
   ]
  },
  {
   "cell_type": "markdown",
   "metadata": {
    "collapsed": true
   },
   "source": [
    "# 2. I/O"
   ]
  },
  {
   "cell_type": "markdown",
   "metadata": {},
   "source": [
    "Depuis et vers `pandas` on peut utiliser du CSV, Excel, SQL, JSON et sans doute d'autres encore."
   ]
  },
  {
   "cell_type": "markdown",
   "metadata": {},
   "source": [
    "## CSV"
   ]
  },
  {
   "cell_type": "code",
   "execution_count": 34,
   "metadata": {},
   "outputs": [],
   "source": [
    "df.to_csv('toto.csv')"
   ]
  },
  {
   "cell_type": "markdown",
   "metadata": {},
   "source": [
    "## Excel"
   ]
  },
  {
   "cell_type": "code",
   "execution_count": 35,
   "metadata": {},
   "outputs": [],
   "source": [
    "df.to_excel('toto.xlsx')"
   ]
  },
  {
   "cell_type": "markdown",
   "metadata": {},
   "source": [
    "## SQL"
   ]
  },
  {
   "cell_type": "code",
   "execution_count": 36,
   "metadata": {},
   "outputs": [],
   "source": [
    "from sqlalchemy import create_engine\n",
    "\n",
    "engine = create_engine('sqlite:///toto.sqlite')\n",
    "connection = engine.connect()"
   ]
  },
  {
   "cell_type": "code",
   "execution_count": 37,
   "metadata": {},
   "outputs": [],
   "source": [
    "df.to_sql(\"ma_table\", connection)"
   ]
  },
  {
   "cell_type": "code",
   "execution_count": 38,
   "metadata": {},
   "outputs": [],
   "source": [
    "connection.close()"
   ]
  },
  {
   "cell_type": "markdown",
   "metadata": {},
   "source": [
    "## Et pour lire ?"
   ]
  },
  {
   "cell_type": "markdown",
   "metadata": {},
   "source": [
    "C'est le même principe !"
   ]
  },
  {
   "cell_type": "code",
   "execution_count": 27,
   "metadata": {},
   "outputs": [
    {
     "data": {
      "text/html": [
       "<div>\n",
       "<style scoped>\n",
       "    .dataframe tbody tr th:only-of-type {\n",
       "        vertical-align: middle;\n",
       "    }\n",
       "\n",
       "    .dataframe tbody tr th {\n",
       "        vertical-align: top;\n",
       "    }\n",
       "\n",
       "    .dataframe thead th {\n",
       "        text-align: right;\n",
       "    }\n",
       "</style>\n",
       "<table border=\"1\" class=\"dataframe\">\n",
       "  <thead>\n",
       "    <tr style=\"text-align: right;\">\n",
       "      <th></th>\n",
       "      <th>Pierre</th>\n",
       "      <th>Paul</th>\n",
       "      <th>Jacques</th>\n",
       "    </tr>\n",
       "  </thead>\n",
       "  <tbody>\n",
       "    <tr>\n",
       "      <th>Janvier</th>\n",
       "      <td>0.254889</td>\n",
       "      <td>0.483189</td>\n",
       "      <td>0.941259</td>\n",
       "    </tr>\n",
       "    <tr>\n",
       "      <th>Février</th>\n",
       "      <td>0.297467</td>\n",
       "      <td>0.192431</td>\n",
       "      <td>0.570116</td>\n",
       "    </tr>\n",
       "    <tr>\n",
       "      <th>Mars</th>\n",
       "      <td>0.484921</td>\n",
       "      <td>0.804019</td>\n",
       "      <td>0.718281</td>\n",
       "    </tr>\n",
       "    <tr>\n",
       "      <th>Avril</th>\n",
       "      <td>0.207242</td>\n",
       "      <td>0.230061</td>\n",
       "      <td>0.596878</td>\n",
       "    </tr>\n",
       "    <tr>\n",
       "      <th>Mai</th>\n",
       "      <td>0.094680</td>\n",
       "      <td>0.540839</td>\n",
       "      <td>0.833893</td>\n",
       "    </tr>\n",
       "  </tbody>\n",
       "</table>\n",
       "</div>"
      ],
      "text/plain": [
       "           Pierre      Paul   Jacques\n",
       "Janvier  0.254889  0.483189  0.941259\n",
       "Février  0.297467  0.192431  0.570116\n",
       "Mars     0.484921  0.804019  0.718281\n",
       "Avril    0.207242  0.230061  0.596878\n",
       "Mai      0.094680  0.540839  0.833893"
      ]
     },
     "execution_count": 27,
     "metadata": {},
     "output_type": "execute_result"
    }
   ],
   "source": [
    "pd.read_csv('toto.csv', index_col=0)"
   ]
  },
  {
   "cell_type": "code",
   "execution_count": 28,
   "metadata": {},
   "outputs": [
    {
     "data": {
      "text/html": [
       "<div>\n",
       "<style scoped>\n",
       "    .dataframe tbody tr th:only-of-type {\n",
       "        vertical-align: middle;\n",
       "    }\n",
       "\n",
       "    .dataframe tbody tr th {\n",
       "        vertical-align: top;\n",
       "    }\n",
       "\n",
       "    .dataframe thead th {\n",
       "        text-align: right;\n",
       "    }\n",
       "</style>\n",
       "<table border=\"1\" class=\"dataframe\">\n",
       "  <thead>\n",
       "    <tr style=\"text-align: right;\">\n",
       "      <th></th>\n",
       "      <th>Pierre</th>\n",
       "      <th>Paul</th>\n",
       "      <th>Jacques</th>\n",
       "    </tr>\n",
       "  </thead>\n",
       "  <tbody>\n",
       "    <tr>\n",
       "      <th>Janvier</th>\n",
       "      <td>0.254889</td>\n",
       "      <td>0.483189</td>\n",
       "      <td>0.941259</td>\n",
       "    </tr>\n",
       "    <tr>\n",
       "      <th>Février</th>\n",
       "      <td>0.297467</td>\n",
       "      <td>0.192431</td>\n",
       "      <td>0.570116</td>\n",
       "    </tr>\n",
       "    <tr>\n",
       "      <th>Mars</th>\n",
       "      <td>0.484921</td>\n",
       "      <td>0.804019</td>\n",
       "      <td>0.718281</td>\n",
       "    </tr>\n",
       "    <tr>\n",
       "      <th>Avril</th>\n",
       "      <td>0.207242</td>\n",
       "      <td>0.230061</td>\n",
       "      <td>0.596878</td>\n",
       "    </tr>\n",
       "    <tr>\n",
       "      <th>Mai</th>\n",
       "      <td>0.094680</td>\n",
       "      <td>0.540839</td>\n",
       "      <td>0.833893</td>\n",
       "    </tr>\n",
       "  </tbody>\n",
       "</table>\n",
       "</div>"
      ],
      "text/plain": [
       "           Pierre      Paul   Jacques\n",
       "Janvier  0.254889  0.483189  0.941259\n",
       "Février  0.297467  0.192431  0.570116\n",
       "Mars     0.484921  0.804019  0.718281\n",
       "Avril    0.207242  0.230061  0.596878\n",
       "Mai      0.094680  0.540839  0.833893"
      ]
     },
     "execution_count": 28,
     "metadata": {},
     "output_type": "execute_result"
    }
   ],
   "source": [
    "pd.read_excel('toto.xlsx')"
   ]
  },
  {
   "cell_type": "code",
   "execution_count": 29,
   "metadata": {},
   "outputs": [],
   "source": [
    "engine = create_engine('sqlite:///toto.sqlite')\n",
    "connection = engine.connect()"
   ]
  },
  {
   "cell_type": "code",
   "execution_count": 30,
   "metadata": {},
   "outputs": [
    {
     "data": {
      "text/html": [
       "<div>\n",
       "<style scoped>\n",
       "    .dataframe tbody tr th:only-of-type {\n",
       "        vertical-align: middle;\n",
       "    }\n",
       "\n",
       "    .dataframe tbody tr th {\n",
       "        vertical-align: top;\n",
       "    }\n",
       "\n",
       "    .dataframe thead th {\n",
       "        text-align: right;\n",
       "    }\n",
       "</style>\n",
       "<table border=\"1\" class=\"dataframe\">\n",
       "  <thead>\n",
       "    <tr style=\"text-align: right;\">\n",
       "      <th></th>\n",
       "      <th>Pierre</th>\n",
       "      <th>Paul</th>\n",
       "      <th>Jacques</th>\n",
       "    </tr>\n",
       "    <tr>\n",
       "      <th>index</th>\n",
       "      <th></th>\n",
       "      <th></th>\n",
       "      <th></th>\n",
       "    </tr>\n",
       "  </thead>\n",
       "  <tbody>\n",
       "    <tr>\n",
       "      <th>Janvier</th>\n",
       "      <td>0.254889</td>\n",
       "      <td>0.483189</td>\n",
       "      <td>0.941259</td>\n",
       "    </tr>\n",
       "    <tr>\n",
       "      <th>Février</th>\n",
       "      <td>0.297467</td>\n",
       "      <td>0.192431</td>\n",
       "      <td>0.570116</td>\n",
       "    </tr>\n",
       "    <tr>\n",
       "      <th>Mars</th>\n",
       "      <td>0.484921</td>\n",
       "      <td>0.804019</td>\n",
       "      <td>0.718281</td>\n",
       "    </tr>\n",
       "    <tr>\n",
       "      <th>Avril</th>\n",
       "      <td>0.207242</td>\n",
       "      <td>0.230061</td>\n",
       "      <td>0.596878</td>\n",
       "    </tr>\n",
       "    <tr>\n",
       "      <th>Mai</th>\n",
       "      <td>0.094680</td>\n",
       "      <td>0.540839</td>\n",
       "      <td>0.833893</td>\n",
       "    </tr>\n",
       "  </tbody>\n",
       "</table>\n",
       "</div>"
      ],
      "text/plain": [
       "           Pierre      Paul   Jacques\n",
       "index                                \n",
       "Janvier  0.254889  0.483189  0.941259\n",
       "Février  0.297467  0.192431  0.570116\n",
       "Mars     0.484921  0.804019  0.718281\n",
       "Avril    0.207242  0.230061  0.596878\n",
       "Mai      0.094680  0.540839  0.833893"
      ]
     },
     "execution_count": 30,
     "metadata": {},
     "output_type": "execute_result"
    }
   ],
   "source": [
    "# Lit une table entière\n",
    "pd.read_sql_table(\"ma_table\", connection, index_col='index')"
   ]
  },
  {
   "cell_type": "code",
   "execution_count": 31,
   "metadata": {},
   "outputs": [
    {
     "name": "stdout",
     "output_type": "stream",
     "text": [
      "['ma_table']\n"
     ]
    }
   ],
   "source": [
    "# Liste toutes les tables du sqlite\n",
    "print(engine.table_names())"
   ]
  },
  {
   "cell_type": "code",
   "execution_count": 32,
   "metadata": {},
   "outputs": [
    {
     "name": "stdout",
     "output_type": "stream",
     "text": [
      "     index    Pierre      Paul   Jacques\n",
      "0  Janvier  0.254889  0.483189  0.941259\n",
      "1  Février  0.297467  0.192431  0.570116\n",
      "2     Mars  0.484921  0.804019  0.718281\n",
      "3    Avril  0.207242  0.230061  0.596878\n",
      "4      Mai  0.094680  0.540839  0.833893\n"
     ]
    }
   ],
   "source": [
    "for table in engine.table_names():\n",
    "    print(pd.read_sql_table(table, connection))"
   ]
  },
  {
   "cell_type": "code",
   "execution_count": 33,
   "metadata": {},
   "outputs": [],
   "source": [
    "connection.close()"
   ]
  },
  {
   "cell_type": "markdown",
   "metadata": {
    "collapsed": true
   },
   "source": [
    "# 3. Valeurs manquantes"
   ]
  },
  {
   "cell_type": "code",
   "execution_count": 47,
   "metadata": {},
   "outputs": [
    {
     "data": {
      "text/html": [
       "<div>\n",
       "<style scoped>\n",
       "    .dataframe tbody tr th:only-of-type {\n",
       "        vertical-align: middle;\n",
       "    }\n",
       "\n",
       "    .dataframe tbody tr th {\n",
       "        vertical-align: top;\n",
       "    }\n",
       "\n",
       "    .dataframe thead th {\n",
       "        text-align: right;\n",
       "    }\n",
       "</style>\n",
       "<table border=\"1\" class=\"dataframe\">\n",
       "  <thead>\n",
       "    <tr style=\"text-align: right;\">\n",
       "      <th></th>\n",
       "      <th>Pierre</th>\n",
       "      <th>Paul</th>\n",
       "      <th>Jacques</th>\n",
       "    </tr>\n",
       "  </thead>\n",
       "  <tbody>\n",
       "    <tr>\n",
       "      <th>Janvier</th>\n",
       "      <td>0.305362</td>\n",
       "      <td>0.759026</td>\n",
       "      <td>0.287741</td>\n",
       "    </tr>\n",
       "    <tr>\n",
       "      <th>Février</th>\n",
       "      <td>0.298394</td>\n",
       "      <td>0.930921</td>\n",
       "      <td>NaN</td>\n",
       "    </tr>\n",
       "    <tr>\n",
       "      <th>Mars</th>\n",
       "      <td>NaN</td>\n",
       "      <td>0.140461</td>\n",
       "      <td>0.869777</td>\n",
       "    </tr>\n",
       "    <tr>\n",
       "      <th>Avril</th>\n",
       "      <td>0.348545</td>\n",
       "      <td>0.859908</td>\n",
       "      <td>0.031970</td>\n",
       "    </tr>\n",
       "    <tr>\n",
       "      <th>Mai</th>\n",
       "      <td>0.976270</td>\n",
       "      <td>0.773828</td>\n",
       "      <td>0.370526</td>\n",
       "    </tr>\n",
       "  </tbody>\n",
       "</table>\n",
       "</div>"
      ],
      "text/plain": [
       "           Pierre      Paul   Jacques\n",
       "Janvier  0.305362  0.759026  0.287741\n",
       "Février  0.298394  0.930921       NaN\n",
       "Mars          NaN  0.140461  0.869777\n",
       "Avril    0.348545  0.859908  0.031970\n",
       "Mai      0.976270  0.773828  0.370526"
      ]
     },
     "execution_count": 47,
     "metadata": {},
     "output_type": "execute_result"
    }
   ],
   "source": [
    "# On construit une DataFrame avec des nombres aléatoires et une case vide\n",
    "df = pd.DataFrame(data=np.random.uniform(size=(5, 3)),\n",
    "                  columns=['Pierre', 'Paul', 'Jacques'],\n",
    "                  index=['Janvier', 'Février', 'Mars', 'Avril', 'Mai'])\n",
    "\n",
    "df.loc['Février', 'Jacques'] = np.nan\n",
    "df.loc['Mars', 'Pierre'] = np.nan\n",
    "\n",
    "df"
   ]
  },
  {
   "cell_type": "markdown",
   "metadata": {},
   "source": [
    "## Comment sait-on qu'on a des cases vides ?"
   ]
  },
  {
   "cell_type": "code",
   "execution_count": 48,
   "metadata": {},
   "outputs": [
    {
     "data": {
      "text/html": [
       "<div>\n",
       "<style scoped>\n",
       "    .dataframe tbody tr th:only-of-type {\n",
       "        vertical-align: middle;\n",
       "    }\n",
       "\n",
       "    .dataframe tbody tr th {\n",
       "        vertical-align: top;\n",
       "    }\n",
       "\n",
       "    .dataframe thead th {\n",
       "        text-align: right;\n",
       "    }\n",
       "</style>\n",
       "<table border=\"1\" class=\"dataframe\">\n",
       "  <thead>\n",
       "    <tr style=\"text-align: right;\">\n",
       "      <th></th>\n",
       "      <th>Pierre</th>\n",
       "      <th>Paul</th>\n",
       "      <th>Jacques</th>\n",
       "    </tr>\n",
       "  </thead>\n",
       "  <tbody>\n",
       "    <tr>\n",
       "      <th>Janvier</th>\n",
       "      <td>False</td>\n",
       "      <td>False</td>\n",
       "      <td>False</td>\n",
       "    </tr>\n",
       "    <tr>\n",
       "      <th>Février</th>\n",
       "      <td>False</td>\n",
       "      <td>False</td>\n",
       "      <td>True</td>\n",
       "    </tr>\n",
       "    <tr>\n",
       "      <th>Mars</th>\n",
       "      <td>True</td>\n",
       "      <td>False</td>\n",
       "      <td>False</td>\n",
       "    </tr>\n",
       "    <tr>\n",
       "      <th>Avril</th>\n",
       "      <td>False</td>\n",
       "      <td>False</td>\n",
       "      <td>False</td>\n",
       "    </tr>\n",
       "    <tr>\n",
       "      <th>Mai</th>\n",
       "      <td>False</td>\n",
       "      <td>False</td>\n",
       "      <td>False</td>\n",
       "    </tr>\n",
       "  </tbody>\n",
       "</table>\n",
       "</div>"
      ],
      "text/plain": [
       "         Pierre   Paul  Jacques\n",
       "Janvier   False  False    False\n",
       "Février   False  False     True\n",
       "Mars       True  False    False\n",
       "Avril     False  False    False\n",
       "Mai       False  False    False"
      ]
     },
     "execution_count": 48,
     "metadata": {},
     "output_type": "execute_result"
    }
   ],
   "source": [
    "df.isnull()"
   ]
  },
  {
   "cell_type": "markdown",
   "metadata": {},
   "source": [
    "En résumé (n'oublions pas qu'en Python `True=1` et `False=0`) :"
   ]
  },
  {
   "cell_type": "code",
   "execution_count": 49,
   "metadata": {},
   "outputs": [
    {
     "data": {
      "text/plain": [
       "Pierre     1\n",
       "Paul       0\n",
       "Jacques    1\n",
       "dtype: int64"
      ]
     },
     "execution_count": 49,
     "metadata": {},
     "output_type": "execute_result"
    }
   ],
   "source": [
    "df.isnull().sum()"
   ]
  },
  {
   "cell_type": "code",
   "execution_count": 50,
   "metadata": {},
   "outputs": [
    {
     "data": {
      "text/plain": [
       "Janvier    0\n",
       "Février    1\n",
       "Mars       1\n",
       "Avril      0\n",
       "Mai        0\n",
       "dtype: int64"
      ]
     },
     "execution_count": 50,
     "metadata": {},
     "output_type": "execute_result"
    }
   ],
   "source": [
    "df.isnull().sum(axis='columns')"
   ]
  },
  {
   "cell_type": "markdown",
   "metadata": {},
   "source": [
    "Ou bien :"
   ]
  },
  {
   "cell_type": "code",
   "execution_count": 51,
   "metadata": {},
   "outputs": [
    {
     "data": {
      "text/plain": [
       "Janvier    False\n",
       "Février     True\n",
       "Mars        True\n",
       "Avril      False\n",
       "Mai        False\n",
       "dtype: bool"
      ]
     },
     "execution_count": 51,
     "metadata": {},
     "output_type": "execute_result"
    }
   ],
   "source": [
    "df.isnull().any(axis='columns')"
   ]
  },
  {
   "cell_type": "code",
   "execution_count": 52,
   "metadata": {},
   "outputs": [
    {
     "data": {
      "text/plain": [
       "Janvier    False\n",
       "Février    False\n",
       "Mars       False\n",
       "Avril      False\n",
       "Mai        False\n",
       "dtype: bool"
      ]
     },
     "execution_count": 52,
     "metadata": {},
     "output_type": "execute_result"
    }
   ],
   "source": [
    "df.isnull().all(axis='columns')"
   ]
  },
  {
   "cell_type": "markdown",
   "metadata": {},
   "source": [
    "## Comment éliminer des valeurs manquantes ?\n",
    "\n",
    "Attention : **ce n'est pas toujours la bonne solution !**"
   ]
  },
  {
   "cell_type": "code",
   "execution_count": 53,
   "metadata": {},
   "outputs": [
    {
     "data": {
      "text/html": [
       "<div>\n",
       "<style scoped>\n",
       "    .dataframe tbody tr th:only-of-type {\n",
       "        vertical-align: middle;\n",
       "    }\n",
       "\n",
       "    .dataframe tbody tr th {\n",
       "        vertical-align: top;\n",
       "    }\n",
       "\n",
       "    .dataframe thead th {\n",
       "        text-align: right;\n",
       "    }\n",
       "</style>\n",
       "<table border=\"1\" class=\"dataframe\">\n",
       "  <thead>\n",
       "    <tr style=\"text-align: right;\">\n",
       "      <th></th>\n",
       "      <th>Pierre</th>\n",
       "      <th>Paul</th>\n",
       "      <th>Jacques</th>\n",
       "    </tr>\n",
       "  </thead>\n",
       "  <tbody>\n",
       "    <tr>\n",
       "      <th>Janvier</th>\n",
       "      <td>0.305362</td>\n",
       "      <td>0.759026</td>\n",
       "      <td>0.287741</td>\n",
       "    </tr>\n",
       "    <tr>\n",
       "      <th>Mars</th>\n",
       "      <td>NaN</td>\n",
       "      <td>0.140461</td>\n",
       "      <td>0.869777</td>\n",
       "    </tr>\n",
       "    <tr>\n",
       "      <th>Avril</th>\n",
       "      <td>0.348545</td>\n",
       "      <td>0.859908</td>\n",
       "      <td>0.031970</td>\n",
       "    </tr>\n",
       "    <tr>\n",
       "      <th>Mai</th>\n",
       "      <td>0.976270</td>\n",
       "      <td>0.773828</td>\n",
       "      <td>0.370526</td>\n",
       "    </tr>\n",
       "  </tbody>\n",
       "</table>\n",
       "</div>"
      ],
      "text/plain": [
       "           Pierre      Paul   Jacques\n",
       "Janvier  0.305362  0.759026  0.287741\n",
       "Mars          NaN  0.140461  0.869777\n",
       "Avril    0.348545  0.859908  0.031970\n",
       "Mai      0.976270  0.773828  0.370526"
      ]
     },
     "execution_count": 53,
     "metadata": {},
     "output_type": "execute_result"
    }
   ],
   "source": [
    "# condition que chaque ligne ne contienne pas d'élément vide dans la colonne 'Jacques'\n",
    "c = df['Jacques'].notnull()\n",
    "df.loc[c]"
   ]
  },
  {
   "cell_type": "code",
   "execution_count": 54,
   "metadata": {},
   "outputs": [
    {
     "data": {
      "text/html": [
       "<div>\n",
       "<style scoped>\n",
       "    .dataframe tbody tr th:only-of-type {\n",
       "        vertical-align: middle;\n",
       "    }\n",
       "\n",
       "    .dataframe tbody tr th {\n",
       "        vertical-align: top;\n",
       "    }\n",
       "\n",
       "    .dataframe thead th {\n",
       "        text-align: right;\n",
       "    }\n",
       "</style>\n",
       "<table border=\"1\" class=\"dataframe\">\n",
       "  <thead>\n",
       "    <tr style=\"text-align: right;\">\n",
       "      <th></th>\n",
       "      <th>Pierre</th>\n",
       "      <th>Paul</th>\n",
       "      <th>Jacques</th>\n",
       "    </tr>\n",
       "  </thead>\n",
       "  <tbody>\n",
       "    <tr>\n",
       "      <th>Janvier</th>\n",
       "      <td>0.305362</td>\n",
       "      <td>0.759026</td>\n",
       "      <td>0.287741</td>\n",
       "    </tr>\n",
       "    <tr>\n",
       "      <th>Avril</th>\n",
       "      <td>0.348545</td>\n",
       "      <td>0.859908</td>\n",
       "      <td>0.031970</td>\n",
       "    </tr>\n",
       "    <tr>\n",
       "      <th>Mai</th>\n",
       "      <td>0.976270</td>\n",
       "      <td>0.773828</td>\n",
       "      <td>0.370526</td>\n",
       "    </tr>\n",
       "  </tbody>\n",
       "</table>\n",
       "</div>"
      ],
      "text/plain": [
       "           Pierre      Paul   Jacques\n",
       "Janvier  0.305362  0.759026  0.287741\n",
       "Avril    0.348545  0.859908  0.031970\n",
       "Mai      0.976270  0.773828  0.370526"
      ]
     },
     "execution_count": 54,
     "metadata": {},
     "output_type": "execute_result"
    }
   ],
   "source": [
    "# condition que chaque ligne ne contienne aucun élément vide\n",
    "c = df.notnull().all(axis='columns')\n",
    "df.loc[c]"
   ]
  },
  {
   "cell_type": "markdown",
   "metadata": {},
   "source": [
    "## Comment remplacer les valeurs manquantes ?"
   ]
  },
  {
   "cell_type": "code",
   "execution_count": 55,
   "metadata": {},
   "outputs": [
    {
     "data": {
      "text/html": [
       "<div>\n",
       "<style scoped>\n",
       "    .dataframe tbody tr th:only-of-type {\n",
       "        vertical-align: middle;\n",
       "    }\n",
       "\n",
       "    .dataframe tbody tr th {\n",
       "        vertical-align: top;\n",
       "    }\n",
       "\n",
       "    .dataframe thead th {\n",
       "        text-align: right;\n",
       "    }\n",
       "</style>\n",
       "<table border=\"1\" class=\"dataframe\">\n",
       "  <thead>\n",
       "    <tr style=\"text-align: right;\">\n",
       "      <th></th>\n",
       "      <th>Pierre</th>\n",
       "      <th>Paul</th>\n",
       "      <th>Jacques</th>\n",
       "    </tr>\n",
       "  </thead>\n",
       "  <tbody>\n",
       "    <tr>\n",
       "      <th>Janvier</th>\n",
       "      <td>0.305362</td>\n",
       "      <td>0.759026</td>\n",
       "      <td>0.287741</td>\n",
       "    </tr>\n",
       "    <tr>\n",
       "      <th>Février</th>\n",
       "      <td>0.298394</td>\n",
       "      <td>0.930921</td>\n",
       "      <td>1.000000</td>\n",
       "    </tr>\n",
       "    <tr>\n",
       "      <th>Mars</th>\n",
       "      <td>1.000000</td>\n",
       "      <td>0.140461</td>\n",
       "      <td>0.869777</td>\n",
       "    </tr>\n",
       "    <tr>\n",
       "      <th>Avril</th>\n",
       "      <td>0.348545</td>\n",
       "      <td>0.859908</td>\n",
       "      <td>0.031970</td>\n",
       "    </tr>\n",
       "    <tr>\n",
       "      <th>Mai</th>\n",
       "      <td>0.976270</td>\n",
       "      <td>0.773828</td>\n",
       "      <td>0.370526</td>\n",
       "    </tr>\n",
       "  </tbody>\n",
       "</table>\n",
       "</div>"
      ],
      "text/plain": [
       "           Pierre      Paul   Jacques\n",
       "Janvier  0.305362  0.759026  0.287741\n",
       "Février  0.298394  0.930921  1.000000\n",
       "Mars     1.000000  0.140461  0.869777\n",
       "Avril    0.348545  0.859908  0.031970\n",
       "Mai      0.976270  0.773828  0.370526"
      ]
     },
     "execution_count": 55,
     "metadata": {},
     "output_type": "execute_result"
    }
   ],
   "source": [
    "df.fillna(1.0)"
   ]
  },
  {
   "cell_type": "code",
   "execution_count": 56,
   "metadata": {},
   "outputs": [
    {
     "data": {
      "text/html": [
       "<div>\n",
       "<style scoped>\n",
       "    .dataframe tbody tr th:only-of-type {\n",
       "        vertical-align: middle;\n",
       "    }\n",
       "\n",
       "    .dataframe tbody tr th {\n",
       "        vertical-align: top;\n",
       "    }\n",
       "\n",
       "    .dataframe thead th {\n",
       "        text-align: right;\n",
       "    }\n",
       "</style>\n",
       "<table border=\"1\" class=\"dataframe\">\n",
       "  <thead>\n",
       "    <tr style=\"text-align: right;\">\n",
       "      <th></th>\n",
       "      <th>Pierre</th>\n",
       "      <th>Paul</th>\n",
       "      <th>Jacques</th>\n",
       "    </tr>\n",
       "  </thead>\n",
       "  <tbody>\n",
       "    <tr>\n",
       "      <th>Janvier</th>\n",
       "      <td>0.305362</td>\n",
       "      <td>0.759026</td>\n",
       "      <td>0.287741</td>\n",
       "    </tr>\n",
       "    <tr>\n",
       "      <th>Février</th>\n",
       "      <td>0.298394</td>\n",
       "      <td>0.930921</td>\n",
       "      <td>0.287741</td>\n",
       "    </tr>\n",
       "    <tr>\n",
       "      <th>Mars</th>\n",
       "      <td>0.298394</td>\n",
       "      <td>0.140461</td>\n",
       "      <td>0.869777</td>\n",
       "    </tr>\n",
       "    <tr>\n",
       "      <th>Avril</th>\n",
       "      <td>0.348545</td>\n",
       "      <td>0.859908</td>\n",
       "      <td>0.031970</td>\n",
       "    </tr>\n",
       "    <tr>\n",
       "      <th>Mai</th>\n",
       "      <td>0.976270</td>\n",
       "      <td>0.773828</td>\n",
       "      <td>0.370526</td>\n",
       "    </tr>\n",
       "  </tbody>\n",
       "</table>\n",
       "</div>"
      ],
      "text/plain": [
       "           Pierre      Paul   Jacques\n",
       "Janvier  0.305362  0.759026  0.287741\n",
       "Février  0.298394  0.930921  0.287741\n",
       "Mars     0.298394  0.140461  0.869777\n",
       "Avril    0.348545  0.859908  0.031970\n",
       "Mai      0.976270  0.773828  0.370526"
      ]
     },
     "execution_count": 56,
     "metadata": {},
     "output_type": "execute_result"
    }
   ],
   "source": [
    "df.fillna(method='ffill')"
   ]
  },
  {
   "cell_type": "code",
   "execution_count": 57,
   "metadata": {},
   "outputs": [
    {
     "data": {
      "text/html": [
       "<div>\n",
       "<style scoped>\n",
       "    .dataframe tbody tr th:only-of-type {\n",
       "        vertical-align: middle;\n",
       "    }\n",
       "\n",
       "    .dataframe tbody tr th {\n",
       "        vertical-align: top;\n",
       "    }\n",
       "\n",
       "    .dataframe thead th {\n",
       "        text-align: right;\n",
       "    }\n",
       "</style>\n",
       "<table border=\"1\" class=\"dataframe\">\n",
       "  <thead>\n",
       "    <tr style=\"text-align: right;\">\n",
       "      <th></th>\n",
       "      <th>Pierre</th>\n",
       "      <th>Paul</th>\n",
       "      <th>Jacques</th>\n",
       "    </tr>\n",
       "  </thead>\n",
       "  <tbody>\n",
       "    <tr>\n",
       "      <th>Janvier</th>\n",
       "      <td>0.305362</td>\n",
       "      <td>0.759026</td>\n",
       "      <td>0.287741</td>\n",
       "    </tr>\n",
       "    <tr>\n",
       "      <th>Février</th>\n",
       "      <td>0.298394</td>\n",
       "      <td>0.930921</td>\n",
       "      <td>0.869777</td>\n",
       "    </tr>\n",
       "    <tr>\n",
       "      <th>Mars</th>\n",
       "      <td>0.348545</td>\n",
       "      <td>0.140461</td>\n",
       "      <td>0.869777</td>\n",
       "    </tr>\n",
       "    <tr>\n",
       "      <th>Avril</th>\n",
       "      <td>0.348545</td>\n",
       "      <td>0.859908</td>\n",
       "      <td>0.031970</td>\n",
       "    </tr>\n",
       "    <tr>\n",
       "      <th>Mai</th>\n",
       "      <td>0.976270</td>\n",
       "      <td>0.773828</td>\n",
       "      <td>0.370526</td>\n",
       "    </tr>\n",
       "  </tbody>\n",
       "</table>\n",
       "</div>"
      ],
      "text/plain": [
       "           Pierre      Paul   Jacques\n",
       "Janvier  0.305362  0.759026  0.287741\n",
       "Février  0.298394  0.930921  0.869777\n",
       "Mars     0.348545  0.140461  0.869777\n",
       "Avril    0.348545  0.859908  0.031970\n",
       "Mai      0.976270  0.773828  0.370526"
      ]
     },
     "execution_count": 57,
     "metadata": {},
     "output_type": "execute_result"
    }
   ],
   "source": [
    "df.fillna(method='bfill')"
   ]
  },
  {
   "cell_type": "code",
   "execution_count": 59,
   "metadata": {},
   "outputs": [
    {
     "name": "stdout",
     "output_type": "stream",
     "text": [
      "Pierre     0.326953\n",
      "Paul       0.773828\n",
      "Jacques    0.329133\n",
      "dtype: float64\n"
     ]
    },
    {
     "data": {
      "text/html": [
       "<div>\n",
       "<style scoped>\n",
       "    .dataframe tbody tr th:only-of-type {\n",
       "        vertical-align: middle;\n",
       "    }\n",
       "\n",
       "    .dataframe tbody tr th {\n",
       "        vertical-align: top;\n",
       "    }\n",
       "\n",
       "    .dataframe thead th {\n",
       "        text-align: right;\n",
       "    }\n",
       "</style>\n",
       "<table border=\"1\" class=\"dataframe\">\n",
       "  <thead>\n",
       "    <tr style=\"text-align: right;\">\n",
       "      <th></th>\n",
       "      <th>Pierre</th>\n",
       "      <th>Paul</th>\n",
       "      <th>Jacques</th>\n",
       "    </tr>\n",
       "  </thead>\n",
       "  <tbody>\n",
       "    <tr>\n",
       "      <th>Janvier</th>\n",
       "      <td>0.305362</td>\n",
       "      <td>0.759026</td>\n",
       "      <td>0.287741</td>\n",
       "    </tr>\n",
       "    <tr>\n",
       "      <th>Février</th>\n",
       "      <td>0.298394</td>\n",
       "      <td>0.930921</td>\n",
       "      <td>0.329133</td>\n",
       "    </tr>\n",
       "    <tr>\n",
       "      <th>Mars</th>\n",
       "      <td>0.326953</td>\n",
       "      <td>0.140461</td>\n",
       "      <td>0.869777</td>\n",
       "    </tr>\n",
       "    <tr>\n",
       "      <th>Avril</th>\n",
       "      <td>0.348545</td>\n",
       "      <td>0.859908</td>\n",
       "      <td>0.031970</td>\n",
       "    </tr>\n",
       "    <tr>\n",
       "      <th>Mai</th>\n",
       "      <td>0.976270</td>\n",
       "      <td>0.773828</td>\n",
       "      <td>0.370526</td>\n",
       "    </tr>\n",
       "  </tbody>\n",
       "</table>\n",
       "</div>"
      ],
      "text/plain": [
       "           Pierre      Paul   Jacques\n",
       "Janvier  0.305362  0.759026  0.287741\n",
       "Février  0.298394  0.930921  0.329133\n",
       "Mars     0.326953  0.140461  0.869777\n",
       "Avril    0.348545  0.859908  0.031970\n",
       "Mai      0.976270  0.773828  0.370526"
      ]
     },
     "execution_count": 59,
     "metadata": {},
     "output_type": "execute_result"
    }
   ],
   "source": [
    "medians = df.median()\n",
    "print(medians)\n",
    "\n",
    "df.fillna(value=medians)"
   ]
  },
  {
   "cell_type": "markdown",
   "metadata": {},
   "source": [
    "# 4. Séries temporelles\n",
    "\n",
    "Ce sont juste des `pd.DataFrame` avec des indices temporels.\n",
    "\n",
    "## Comment les créer ?\n",
    "\n",
    "Généralement on va les lire dans un fichier ou dans une base de données. Mais voyons comment les créer."
   ]
  },
  {
   "cell_type": "code",
   "execution_count": 69,
   "metadata": {},
   "outputs": [
    {
     "data": {
      "text/plain": [
       "DatetimeIndex(['2018-07-12 00:00:00', '2018-07-12 00:00:05',\n",
       "               '2018-07-12 00:00:10', '2018-07-12 00:00:15',\n",
       "               '2018-07-12 00:00:20', '2018-07-12 00:00:25',\n",
       "               '2018-07-12 00:00:30', '2018-07-12 00:00:35',\n",
       "               '2018-07-12 00:00:40', '2018-07-12 00:00:45',\n",
       "               '2018-07-12 00:00:50', '2018-07-12 00:00:55',\n",
       "               '2018-07-12 00:01:00', '2018-07-12 00:01:05',\n",
       "               '2018-07-12 00:01:10', '2018-07-12 00:01:15',\n",
       "               '2018-07-12 00:01:20', '2018-07-12 00:01:25',\n",
       "               '2018-07-12 00:01:30', '2018-07-12 00:01:35'],\n",
       "              dtype='datetime64[ns]', freq='5S')"
      ]
     },
     "execution_count": 69,
     "metadata": {},
     "output_type": "execute_result"
    }
   ],
   "source": [
    "rng = pd.date_range('7/12/2018', periods=20, freq='5S')\n",
    "rng"
   ]
  },
  {
   "cell_type": "code",
   "execution_count": 70,
   "metadata": {
    "scrolled": true
   },
   "outputs": [
    {
     "data": {
      "text/plain": [
       "2018-07-12 00:00:00    315\n",
       "2018-07-12 00:00:05    268\n",
       "2018-07-12 00:00:10    167\n",
       "2018-07-12 00:00:15    132\n",
       "2018-07-12 00:00:20    391\n",
       "2018-07-12 00:00:25    419\n",
       "2018-07-12 00:00:30    458\n",
       "2018-07-12 00:00:35    483\n",
       "2018-07-12 00:00:40      6\n",
       "2018-07-12 00:00:45    444\n",
       "2018-07-12 00:00:50    331\n",
       "2018-07-12 00:00:55    330\n",
       "2018-07-12 00:01:00    492\n",
       "2018-07-12 00:01:05    238\n",
       "2018-07-12 00:01:10    166\n",
       "2018-07-12 00:01:15    238\n",
       "2018-07-12 00:01:20    133\n",
       "2018-07-12 00:01:25     97\n",
       "2018-07-12 00:01:30    353\n",
       "2018-07-12 00:01:35    381\n",
       "Freq: 5S, dtype: int64"
      ]
     },
     "execution_count": 70,
     "metadata": {},
     "output_type": "execute_result"
    }
   ],
   "source": [
    "ts = pd.Series(np.random.randint(0, 500, len(rng)), index=rng)\n",
    "ts"
   ]
  },
  {
   "cell_type": "markdown",
   "metadata": {},
   "source": [
    "## Comment les ré-échantillonner ?"
   ]
  },
  {
   "cell_type": "code",
   "execution_count": 73,
   "metadata": {},
   "outputs": [
    {
     "data": {
      "text/plain": [
       "2018-07-12 00:00:00    312.00\n",
       "2018-07-12 00:01:00    262.25\n",
       "Freq: T, dtype: float64"
      ]
     },
     "execution_count": 73,
     "metadata": {},
     "output_type": "execute_result"
    }
   ],
   "source": [
    "ts.resample('Min').mean()"
   ]
  },
  {
   "cell_type": "code",
   "execution_count": null,
   "metadata": {},
   "outputs": [],
   "source": []
  }
 ],
 "metadata": {
  "kernelspec": {
   "display_name": "Python 3",
   "language": "python",
   "name": "python3"
  },
  "language_info": {
   "codemirror_mode": {
    "name": "ipython",
    "version": 3
   },
   "file_extension": ".py",
   "mimetype": "text/x-python",
   "name": "python",
   "nbconvert_exporter": "python",
   "pygments_lexer": "ipython3",
   "version": "3.6.5"
  }
 },
 "nbformat": 4,
 "nbformat_minor": 2
}
