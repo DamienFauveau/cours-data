{
 "cells": [
  {
   "cell_type": "markdown",
   "metadata": {},
   "source": [
    "# Import des modules nécessaires"
   ]
  },
  {
   "cell_type": "code",
   "execution_count": 1,
   "metadata": {},
   "outputs": [],
   "source": [
    "# Pour faire des calculs complexes (ici c'est juste pour créer des tableaux de nombres aléatoires)\n",
    "import numpy as np\n",
    "\n",
    "# Pour manipuler efficacement des tables de données dans Python\n",
    "import pandas as pd"
   ]
  },
  {
   "cell_type": "code",
   "execution_count": 2,
   "metadata": {},
   "outputs": [
    {
     "name": "stdout",
     "output_type": "stream",
     "text": [
      "1.14.3\n"
     ]
    }
   ],
   "source": [
    "print(np.__version__)"
   ]
  },
  {
   "cell_type": "code",
   "execution_count": 3,
   "metadata": {},
   "outputs": [
    {
     "name": "stdout",
     "output_type": "stream",
     "text": [
      "0.23.4\n"
     ]
    }
   ],
   "source": [
    "print(pd.__version__)"
   ]
  },
  {
   "cell_type": "markdown",
   "metadata": {},
   "source": [
    "Pandas est une bibliothèque écrite pour le langage de programmation Python permettant la manipulation et l'analyse des données. Elle propose en particulier des structures de données et des opérations de manipulation de tableaux numériques et de séries temporelles. Pandas est un logiciel libre sous licence BSD."
   ]
  },
  {
   "cell_type": "markdown",
   "metadata": {},
   "source": [
    "# 1. DataFrames et Series"
   ]
  },
  {
   "cell_type": "markdown",
   "metadata": {},
   "source": [
    "Les `DataFrame` et `Series` sont les types les plus utilisés dans `pandas` et il est fondamental de bien les comprendre !\n",
    "\n",
    "Une `DataFrame` est juste une table de données, avec des lignes et des colonnes. Les données peuvent être de toute sorte : numériques, chaînes de caractères, booléens.\n",
    "\n",
    "Une `Series` est simplement une colonne de `DataFrame`."
   ]
  },
  {
   "cell_type": "code",
   "execution_count": 4,
   "metadata": {},
   "outputs": [
    {
     "data": {
      "text/html": [
       "<div>\n",
       "<style scoped>\n",
       "    .dataframe tbody tr th:only-of-type {\n",
       "        vertical-align: middle;\n",
       "    }\n",
       "\n",
       "    .dataframe tbody tr th {\n",
       "        vertical-align: top;\n",
       "    }\n",
       "\n",
       "    .dataframe thead th {\n",
       "        text-align: right;\n",
       "    }\n",
       "</style>\n",
       "<table border=\"1\" class=\"dataframe\">\n",
       "  <thead>\n",
       "    <tr style=\"text-align: right;\">\n",
       "      <th></th>\n",
       "      <th>Pierre</th>\n",
       "      <th>Paul</th>\n",
       "      <th>Jacques</th>\n",
       "    </tr>\n",
       "  </thead>\n",
       "  <tbody>\n",
       "    <tr>\n",
       "      <th>Janvier</th>\n",
       "      <td>0.254889</td>\n",
       "      <td>0.483189</td>\n",
       "      <td>0.941259</td>\n",
       "    </tr>\n",
       "    <tr>\n",
       "      <th>Février</th>\n",
       "      <td>0.297467</td>\n",
       "      <td>0.192431</td>\n",
       "      <td>0.570116</td>\n",
       "    </tr>\n",
       "    <tr>\n",
       "      <th>Mars</th>\n",
       "      <td>0.484921</td>\n",
       "      <td>0.804019</td>\n",
       "      <td>0.718281</td>\n",
       "    </tr>\n",
       "    <tr>\n",
       "      <th>Avril</th>\n",
       "      <td>0.207242</td>\n",
       "      <td>0.230061</td>\n",
       "      <td>0.596878</td>\n",
       "    </tr>\n",
       "    <tr>\n",
       "      <th>Mai</th>\n",
       "      <td>0.094680</td>\n",
       "      <td>0.540839</td>\n",
       "      <td>0.833893</td>\n",
       "    </tr>\n",
       "  </tbody>\n",
       "</table>\n",
       "</div>"
      ],
      "text/plain": [
       "           Pierre      Paul   Jacques\n",
       "Janvier  0.254889  0.483189  0.941259\n",
       "Février  0.297467  0.192431  0.570116\n",
       "Mars     0.484921  0.804019  0.718281\n",
       "Avril    0.207242  0.230061  0.596878\n",
       "Mai      0.094680  0.540839  0.833893"
      ]
     },
     "execution_count": 4,
     "metadata": {},
     "output_type": "execute_result"
    }
   ],
   "source": [
    "# On construit une DataFrame avec des nombres aléatoires\n",
    "df = pd.DataFrame(data=np.random.uniform(size=(5, 3)),\n",
    "                  columns=['Pierre', 'Paul', 'Jacques'],\n",
    "                  index=['Janvier', 'Février', 'Mars', 'Avril', 'Mai'])\n",
    "\n",
    "df"
   ]
  },
  {
   "cell_type": "code",
   "execution_count": 5,
   "metadata": {},
   "outputs": [
    {
     "data": {
      "text/plain": [
       "pandas.core.frame.DataFrame"
      ]
     },
     "execution_count": 5,
     "metadata": {},
     "output_type": "execute_result"
    }
   ],
   "source": [
    "type(df)"
   ]
  },
  {
   "cell_type": "code",
   "execution_count": 6,
   "metadata": {},
   "outputs": [
    {
     "data": {
      "text/plain": [
       "Janvier    0.254889\n",
       "Février    0.297467\n",
       "Mars       0.484921\n",
       "Avril      0.207242\n",
       "Mai        0.094680\n",
       "Name: Pierre, dtype: float64"
      ]
     },
     "execution_count": 6,
     "metadata": {},
     "output_type": "execute_result"
    }
   ],
   "source": [
    "df['Pierre']"
   ]
  },
  {
   "cell_type": "code",
   "execution_count": 7,
   "metadata": {},
   "outputs": [
    {
     "data": {
      "text/plain": [
       "pandas.core.series.Series"
      ]
     },
     "execution_count": 7,
     "metadata": {},
     "output_type": "execute_result"
    }
   ],
   "source": [
    "type(df['Pierre'])"
   ]
  },
  {
   "cell_type": "markdown",
   "metadata": {},
   "source": [
    "## Manipulations sur les `DataFrame` et `Series`"
   ]
  },
  {
   "cell_type": "code",
   "execution_count": 8,
   "metadata": {},
   "outputs": [
    {
     "data": {
      "text/html": [
       "<div>\n",
       "<style scoped>\n",
       "    .dataframe tbody tr th:only-of-type {\n",
       "        vertical-align: middle;\n",
       "    }\n",
       "\n",
       "    .dataframe tbody tr th {\n",
       "        vertical-align: top;\n",
       "    }\n",
       "\n",
       "    .dataframe thead th {\n",
       "        text-align: right;\n",
       "    }\n",
       "</style>\n",
       "<table border=\"1\" class=\"dataframe\">\n",
       "  <thead>\n",
       "    <tr style=\"text-align: right;\">\n",
       "      <th></th>\n",
       "      <th>Pierre</th>\n",
       "      <th>Paul</th>\n",
       "      <th>Jacques</th>\n",
       "    </tr>\n",
       "  </thead>\n",
       "  <tbody>\n",
       "    <tr>\n",
       "      <th>Janvier</th>\n",
       "      <td>0.509779</td>\n",
       "      <td>0.966378</td>\n",
       "      <td>1.882518</td>\n",
       "    </tr>\n",
       "    <tr>\n",
       "      <th>Février</th>\n",
       "      <td>0.594933</td>\n",
       "      <td>0.384861</td>\n",
       "      <td>1.140232</td>\n",
       "    </tr>\n",
       "    <tr>\n",
       "      <th>Mars</th>\n",
       "      <td>0.969842</td>\n",
       "      <td>1.608037</td>\n",
       "      <td>1.436562</td>\n",
       "    </tr>\n",
       "    <tr>\n",
       "      <th>Avril</th>\n",
       "      <td>0.414484</td>\n",
       "      <td>0.460122</td>\n",
       "      <td>1.193756</td>\n",
       "    </tr>\n",
       "    <tr>\n",
       "      <th>Mai</th>\n",
       "      <td>0.189360</td>\n",
       "      <td>1.081677</td>\n",
       "      <td>1.667786</td>\n",
       "    </tr>\n",
       "  </tbody>\n",
       "</table>\n",
       "</div>"
      ],
      "text/plain": [
       "           Pierre      Paul   Jacques\n",
       "Janvier  0.509779  0.966378  1.882518\n",
       "Février  0.594933  0.384861  1.140232\n",
       "Mars     0.969842  1.608037  1.436562\n",
       "Avril    0.414484  0.460122  1.193756\n",
       "Mai      0.189360  1.081677  1.667786"
      ]
     },
     "execution_count": 8,
     "metadata": {},
     "output_type": "execute_result"
    }
   ],
   "source": [
    "df * 2"
   ]
  },
  {
   "cell_type": "code",
   "execution_count": 9,
   "metadata": {},
   "outputs": [
    {
     "data": {
      "text/plain": [
       "Janvier    0.738078\n",
       "Février    0.489897\n",
       "Mars       1.288939\n",
       "Avril      0.437303\n",
       "Mai        0.635519\n",
       "dtype: float64"
      ]
     },
     "execution_count": 9,
     "metadata": {},
     "output_type": "execute_result"
    }
   ],
   "source": [
    "df['Pierre'] + df['Paul']"
   ]
  },
  {
   "cell_type": "code",
   "execution_count": 10,
   "metadata": {},
   "outputs": [
    {
     "data": {
      "text/plain": [
       "Pierre     0.267840\n",
       "Paul       0.450107\n",
       "Jacques    0.732085\n",
       "dtype: float64"
      ]
     },
     "execution_count": 10,
     "metadata": {},
     "output_type": "execute_result"
    }
   ],
   "source": [
    "df.mean()"
   ]
  },
  {
   "cell_type": "code",
   "execution_count": 11,
   "metadata": {},
   "outputs": [
    {
     "data": {
      "text/plain": [
       "Janvier    0.559779\n",
       "Février    0.353338\n",
       "Mars       0.669073\n",
       "Avril      0.344727\n",
       "Mai        0.489804\n",
       "dtype: float64"
      ]
     },
     "execution_count": 11,
     "metadata": {},
     "output_type": "execute_result"
    }
   ],
   "source": [
    "df.mean(axis='columns')"
   ]
  },
  {
   "cell_type": "markdown",
   "metadata": {},
   "source": [
    "## Sélection simple (par indice) de lignes et de colonnes"
   ]
  },
  {
   "cell_type": "code",
   "execution_count": 12,
   "metadata": {},
   "outputs": [
    {
     "data": {
      "text/html": [
       "<div>\n",
       "<style scoped>\n",
       "    .dataframe tbody tr th:only-of-type {\n",
       "        vertical-align: middle;\n",
       "    }\n",
       "\n",
       "    .dataframe tbody tr th {\n",
       "        vertical-align: top;\n",
       "    }\n",
       "\n",
       "    .dataframe thead th {\n",
       "        text-align: right;\n",
       "    }\n",
       "</style>\n",
       "<table border=\"1\" class=\"dataframe\">\n",
       "  <thead>\n",
       "    <tr style=\"text-align: right;\">\n",
       "      <th></th>\n",
       "      <th>Paul</th>\n",
       "      <th>Jacques</th>\n",
       "    </tr>\n",
       "  </thead>\n",
       "  <tbody>\n",
       "    <tr>\n",
       "      <th>Mars</th>\n",
       "      <td>0.804019</td>\n",
       "      <td>0.718281</td>\n",
       "    </tr>\n",
       "    <tr>\n",
       "      <th>Avril</th>\n",
       "      <td>0.230061</td>\n",
       "      <td>0.596878</td>\n",
       "    </tr>\n",
       "    <tr>\n",
       "      <th>Mai</th>\n",
       "      <td>0.540839</td>\n",
       "      <td>0.833893</td>\n",
       "    </tr>\n",
       "  </tbody>\n",
       "</table>\n",
       "</div>"
      ],
      "text/plain": [
       "           Paul   Jacques\n",
       "Mars   0.804019  0.718281\n",
       "Avril  0.230061  0.596878\n",
       "Mai    0.540839  0.833893"
      ]
     },
     "execution_count": 12,
     "metadata": {},
     "output_type": "execute_result"
    }
   ],
   "source": [
    "df.iloc[2:5, 1:3]"
   ]
  },
  {
   "cell_type": "code",
   "execution_count": 13,
   "metadata": {},
   "outputs": [
    {
     "data": {
      "text/html": [
       "<div>\n",
       "<style scoped>\n",
       "    .dataframe tbody tr th:only-of-type {\n",
       "        vertical-align: middle;\n",
       "    }\n",
       "\n",
       "    .dataframe tbody tr th {\n",
       "        vertical-align: top;\n",
       "    }\n",
       "\n",
       "    .dataframe thead th {\n",
       "        text-align: right;\n",
       "    }\n",
       "</style>\n",
       "<table border=\"1\" class=\"dataframe\">\n",
       "  <thead>\n",
       "    <tr style=\"text-align: right;\">\n",
       "      <th></th>\n",
       "      <th>Pierre</th>\n",
       "      <th>Paul</th>\n",
       "      <th>Jacques</th>\n",
       "    </tr>\n",
       "  </thead>\n",
       "  <tbody>\n",
       "    <tr>\n",
       "      <th>Avril</th>\n",
       "      <td>0.207242</td>\n",
       "      <td>0.230061</td>\n",
       "      <td>0.596878</td>\n",
       "    </tr>\n",
       "    <tr>\n",
       "      <th>Mai</th>\n",
       "      <td>0.094680</td>\n",
       "      <td>0.540839</td>\n",
       "      <td>0.833893</td>\n",
       "    </tr>\n",
       "  </tbody>\n",
       "</table>\n",
       "</div>"
      ],
      "text/plain": [
       "         Pierre      Paul   Jacques\n",
       "Avril  0.207242  0.230061  0.596878\n",
       "Mai    0.094680  0.540839  0.833893"
      ]
     },
     "execution_count": 13,
     "metadata": {},
     "output_type": "execute_result"
    }
   ],
   "source": [
    "df.iloc[3:5]"
   ]
  },
  {
   "cell_type": "markdown",
   "metadata": {},
   "source": [
    "## Sélection par noms"
   ]
  },
  {
   "cell_type": "code",
   "execution_count": 14,
   "metadata": {},
   "outputs": [
    {
     "data": {
      "text/plain": [
       "Pierre     0.094680\n",
       "Paul       0.540839\n",
       "Jacques    0.833893\n",
       "Name: Mai, dtype: float64"
      ]
     },
     "execution_count": 14,
     "metadata": {},
     "output_type": "execute_result"
    }
   ],
   "source": [
    "df.loc['Mai']"
   ]
  },
  {
   "cell_type": "code",
   "execution_count": 15,
   "metadata": {},
   "outputs": [
    {
     "data": {
      "text/html": [
       "<div>\n",
       "<style scoped>\n",
       "    .dataframe tbody tr th:only-of-type {\n",
       "        vertical-align: middle;\n",
       "    }\n",
       "\n",
       "    .dataframe tbody tr th {\n",
       "        vertical-align: top;\n",
       "    }\n",
       "\n",
       "    .dataframe thead th {\n",
       "        text-align: right;\n",
       "    }\n",
       "</style>\n",
       "<table border=\"1\" class=\"dataframe\">\n",
       "  <thead>\n",
       "    <tr style=\"text-align: right;\">\n",
       "      <th></th>\n",
       "      <th>Pierre</th>\n",
       "      <th>Paul</th>\n",
       "      <th>Jacques</th>\n",
       "    </tr>\n",
       "  </thead>\n",
       "  <tbody>\n",
       "    <tr>\n",
       "      <th>Janvier</th>\n",
       "      <td>0.254889</td>\n",
       "      <td>0.483189</td>\n",
       "      <td>0.941259</td>\n",
       "    </tr>\n",
       "    <tr>\n",
       "      <th>Février</th>\n",
       "      <td>0.297467</td>\n",
       "      <td>0.192431</td>\n",
       "      <td>0.570116</td>\n",
       "    </tr>\n",
       "    <tr>\n",
       "      <th>Mars</th>\n",
       "      <td>0.484921</td>\n",
       "      <td>0.804019</td>\n",
       "      <td>0.718281</td>\n",
       "    </tr>\n",
       "  </tbody>\n",
       "</table>\n",
       "</div>"
      ],
      "text/plain": [
       "           Pierre      Paul   Jacques\n",
       "Janvier  0.254889  0.483189  0.941259\n",
       "Février  0.297467  0.192431  0.570116\n",
       "Mars     0.484921  0.804019  0.718281"
      ]
     },
     "execution_count": 15,
     "metadata": {},
     "output_type": "execute_result"
    }
   ],
   "source": [
    "df.loc['Janvier':'Mars']"
   ]
  },
  {
   "cell_type": "code",
   "execution_count": 16,
   "metadata": {},
   "outputs": [
    {
     "data": {
      "text/plain": [
       "Janvier    0.483189\n",
       "Février    0.192431\n",
       "Mars       0.804019\n",
       "Name: Paul, dtype: float64"
      ]
     },
     "execution_count": 16,
     "metadata": {},
     "output_type": "execute_result"
    }
   ],
   "source": [
    "df.loc['Janvier':'Mars', 'Paul']"
   ]
  },
  {
   "cell_type": "markdown",
   "metadata": {},
   "source": [
    "## Sélections complexes via des conditions"
   ]
  },
  {
   "cell_type": "code",
   "execution_count": 17,
   "metadata": {},
   "outputs": [
    {
     "data": {
      "text/html": [
       "<div>\n",
       "<style scoped>\n",
       "    .dataframe tbody tr th:only-of-type {\n",
       "        vertical-align: middle;\n",
       "    }\n",
       "\n",
       "    .dataframe tbody tr th {\n",
       "        vertical-align: top;\n",
       "    }\n",
       "\n",
       "    .dataframe thead th {\n",
       "        text-align: right;\n",
       "    }\n",
       "</style>\n",
       "<table border=\"1\" class=\"dataframe\">\n",
       "  <thead>\n",
       "    <tr style=\"text-align: right;\">\n",
       "      <th></th>\n",
       "      <th>Pierre</th>\n",
       "      <th>Paul</th>\n",
       "      <th>Jacques</th>\n",
       "    </tr>\n",
       "  </thead>\n",
       "  <tbody>\n",
       "    <tr>\n",
       "      <th>Mars</th>\n",
       "      <td>0.484921</td>\n",
       "      <td>0.804019</td>\n",
       "      <td>0.718281</td>\n",
       "    </tr>\n",
       "  </tbody>\n",
       "</table>\n",
       "</div>"
      ],
      "text/plain": [
       "        Pierre      Paul   Jacques\n",
       "Mars  0.484921  0.804019  0.718281"
      ]
     },
     "execution_count": 17,
     "metadata": {},
     "output_type": "execute_result"
    }
   ],
   "source": [
    "c = (df['Pierre'] >= 0.3)\n",
    "\n",
    "df.loc[c]"
   ]
  },
  {
   "cell_type": "code",
   "execution_count": 18,
   "metadata": {},
   "outputs": [
    {
     "data": {
      "text/html": [
       "<div>\n",
       "<style scoped>\n",
       "    .dataframe tbody tr th:only-of-type {\n",
       "        vertical-align: middle;\n",
       "    }\n",
       "\n",
       "    .dataframe tbody tr th {\n",
       "        vertical-align: top;\n",
       "    }\n",
       "\n",
       "    .dataframe thead th {\n",
       "        text-align: right;\n",
       "    }\n",
       "</style>\n",
       "<table border=\"1\" class=\"dataframe\">\n",
       "  <thead>\n",
       "    <tr style=\"text-align: right;\">\n",
       "      <th></th>\n",
       "      <th>Pierre</th>\n",
       "      <th>Paul</th>\n",
       "      <th>Jacques</th>\n",
       "    </tr>\n",
       "  </thead>\n",
       "  <tbody>\n",
       "  </tbody>\n",
       "</table>\n",
       "</div>"
      ],
      "text/plain": [
       "Empty DataFrame\n",
       "Columns: [Pierre, Paul, Jacques]\n",
       "Index: []"
      ]
     },
     "execution_count": 18,
     "metadata": {},
     "output_type": "execute_result"
    }
   ],
   "source": [
    "c = (df['Pierre'] >= 0.3) & (df['Paul'] < 0.1)\n",
    "\n",
    "df.loc[c]"
   ]
  },
  {
   "cell_type": "markdown",
   "metadata": {
    "collapsed": true
   },
   "source": [
    "# 2. I/O"
   ]
  },
  {
   "cell_type": "markdown",
   "metadata": {},
   "source": [
    "Depuis et vers `pandas` on peut utiliser du CSV, Excel, SQL, JSON et sans doute d'autres encore."
   ]
  },
  {
   "cell_type": "markdown",
   "metadata": {},
   "source": [
    "## CSV"
   ]
  },
  {
   "cell_type": "code",
   "execution_count": 19,
   "metadata": {},
   "outputs": [],
   "source": [
    "df.to_csv('toto.csv')"
   ]
  },
  {
   "cell_type": "code",
   "execution_count": 20,
   "metadata": {
    "scrolled": true
   },
   "outputs": [
    {
     "name": "stdout",
     "output_type": "stream",
     "text": [
      "Help on method to_csv in module pandas.core.frame:\n",
      "\n",
      "to_csv(path_or_buf=None, sep=',', na_rep='', float_format=None, columns=None, header=True, index=True, index_label=None, mode='w', encoding=None, compression=None, quoting=None, quotechar='\"', line_terminator='\\n', chunksize=None, tupleize_cols=None, date_format=None, doublequote=True, escapechar=None, decimal='.') method of pandas.core.frame.DataFrame instance\n",
      "    Write DataFrame to a comma-separated values (csv) file\n",
      "    \n",
      "    Parameters\n",
      "    ----------\n",
      "    path_or_buf : string or file handle, default None\n",
      "        File path or object, if None is provided the result is returned as\n",
      "        a string.\n",
      "    sep : character, default ','\n",
      "        Field delimiter for the output file.\n",
      "    na_rep : string, default ''\n",
      "        Missing data representation\n",
      "    float_format : string, default None\n",
      "        Format string for floating point numbers\n",
      "    columns : sequence, optional\n",
      "        Columns to write\n",
      "    header : boolean or list of string, default True\n",
      "        Write out the column names. If a list of strings is given it is\n",
      "        assumed to be aliases for the column names\n",
      "    index : boolean, default True\n",
      "        Write row names (index)\n",
      "    index_label : string or sequence, or False, default None\n",
      "        Column label for index column(s) if desired. If None is given, and\n",
      "        `header` and `index` are True, then the index names are used. A\n",
      "        sequence should be given if the DataFrame uses MultiIndex.  If\n",
      "        False do not print fields for index names. Use index_label=False\n",
      "        for easier importing in R\n",
      "    mode : str\n",
      "        Python write mode, default 'w'\n",
      "    encoding : string, optional\n",
      "        A string representing the encoding to use in the output file,\n",
      "        defaults to 'ascii' on Python 2 and 'utf-8' on Python 3.\n",
      "    compression : string, optional\n",
      "        A string representing the compression to use in the output file.\n",
      "        Allowed values are 'gzip', 'bz2', 'zip', 'xz'. This input is only\n",
      "        used when the first argument is a filename.\n",
      "    line_terminator : string, default ``'\\n'``\n",
      "        The newline character or character sequence to use in the output\n",
      "        file\n",
      "    quoting : optional constant from csv module\n",
      "        defaults to csv.QUOTE_MINIMAL. If you have set a `float_format`\n",
      "        then floats are converted to strings and thus csv.QUOTE_NONNUMERIC\n",
      "        will treat them as non-numeric\n",
      "    quotechar : string (length 1), default '\\\"'\n",
      "        character used to quote fields\n",
      "    doublequote : boolean, default True\n",
      "        Control quoting of `quotechar` inside a field\n",
      "    escapechar : string (length 1), default None\n",
      "        character used to escape `sep` and `quotechar` when appropriate\n",
      "    chunksize : int or None\n",
      "        rows to write at a time\n",
      "    tupleize_cols : boolean, default False\n",
      "        .. deprecated:: 0.21.0\n",
      "           This argument will be removed and will always write each row\n",
      "           of the multi-index as a separate row in the CSV file.\n",
      "    \n",
      "        Write MultiIndex columns as a list of tuples (if True) or in\n",
      "        the new, expanded format, where each MultiIndex column is a row\n",
      "        in the CSV (if False).\n",
      "    date_format : string, default None\n",
      "        Format string for datetime objects\n",
      "    decimal: string, default '.'\n",
      "        Character recognized as decimal separator. E.g. use ',' for\n",
      "        European data\n",
      "\n"
     ]
    }
   ],
   "source": [
    "help(df.to_csv)"
   ]
  },
  {
   "cell_type": "markdown",
   "metadata": {},
   "source": [
    "## Excel"
   ]
  },
  {
   "cell_type": "code",
   "execution_count": 21,
   "metadata": {},
   "outputs": [],
   "source": [
    "df.to_excel('toto.xlsx')"
   ]
  },
  {
   "cell_type": "code",
   "execution_count": 22,
   "metadata": {
    "scrolled": true
   },
   "outputs": [
    {
     "name": "stdout",
     "output_type": "stream",
     "text": [
      "Help on method to_excel in module pandas.core.frame:\n",
      "\n",
      "to_excel(excel_writer, sheet_name='Sheet1', na_rep='', float_format=None, columns=None, header=True, index=True, index_label=None, startrow=0, startcol=0, engine=None, merge_cells=True, encoding=None, inf_rep='inf', verbose=True, freeze_panes=None) method of pandas.core.frame.DataFrame instance\n",
      "    Write DataFrame to an excel sheet\n",
      "    \n",
      "    \n",
      "    Parameters\n",
      "    ----------\n",
      "    excel_writer : string or ExcelWriter object\n",
      "        File path or existing ExcelWriter\n",
      "    sheet_name : string, default 'Sheet1'\n",
      "        Name of sheet which will contain DataFrame\n",
      "    na_rep : string, default ''\n",
      "        Missing data representation\n",
      "    float_format : string, default None\n",
      "        Format string for floating point numbers\n",
      "    columns : sequence, optional\n",
      "        Columns to write\n",
      "    header : boolean or list of string, default True\n",
      "        Write out the column names. If a list of strings is given it is\n",
      "        assumed to be aliases for the column names\n",
      "    index : boolean, default True\n",
      "        Write row names (index)\n",
      "    index_label : string or sequence, default None\n",
      "        Column label for index column(s) if desired. If None is given, and\n",
      "        `header` and `index` are True, then the index names are used. A\n",
      "        sequence should be given if the DataFrame uses MultiIndex.\n",
      "    startrow :\n",
      "        upper left cell row to dump data frame\n",
      "    startcol :\n",
      "        upper left cell column to dump data frame\n",
      "    engine : string, default None\n",
      "        write engine to use - you can also set this via the options\n",
      "        ``io.excel.xlsx.writer``, ``io.excel.xls.writer``, and\n",
      "        ``io.excel.xlsm.writer``.\n",
      "    merge_cells : boolean, default True\n",
      "        Write MultiIndex and Hierarchical Rows as merged cells.\n",
      "    encoding: string, default None\n",
      "        encoding of the resulting excel file. Only necessary for xlwt,\n",
      "        other writers support unicode natively.\n",
      "    inf_rep : string, default 'inf'\n",
      "        Representation for infinity (there is no native representation for\n",
      "        infinity in Excel)\n",
      "    freeze_panes : tuple of integer (length 2), default None\n",
      "        Specifies the one-based bottommost row and rightmost column that\n",
      "        is to be frozen\n",
      "    \n",
      "        .. versionadded:: 0.20.0\n",
      "    \n",
      "    Notes\n",
      "    -----\n",
      "    If passing an existing ExcelWriter object, then the sheet will be added\n",
      "    to the existing workbook.  This can be used to save different\n",
      "    DataFrames to one workbook:\n",
      "    \n",
      "    >>> writer = pd.ExcelWriter('output.xlsx')\n",
      "    >>> df1.to_excel(writer,'Sheet1')\n",
      "    >>> df2.to_excel(writer,'Sheet2')\n",
      "    >>> writer.save()\n",
      "    \n",
      "    For compatibility with to_csv, to_excel serializes lists and dicts to\n",
      "    strings before writing.\n",
      "\n"
     ]
    }
   ],
   "source": [
    "help(df.to_excel)"
   ]
  },
  {
   "cell_type": "markdown",
   "metadata": {},
   "source": [
    "## SQL"
   ]
  },
  {
   "cell_type": "code",
   "execution_count": 23,
   "metadata": {},
   "outputs": [],
   "source": [
    "from sqlalchemy import create_engine\n",
    "\n",
    "engine = create_engine('sqlite:///toto.sqlite')\n",
    "connection = engine.connect()"
   ]
  },
  {
   "cell_type": "code",
   "execution_count": 24,
   "metadata": {},
   "outputs": [],
   "source": [
    "df.to_sql(\"ma_table\", connection)"
   ]
  },
  {
   "cell_type": "code",
   "execution_count": 25,
   "metadata": {},
   "outputs": [],
   "source": [
    "connection.close()"
   ]
  },
  {
   "cell_type": "code",
   "execution_count": 26,
   "metadata": {},
   "outputs": [
    {
     "name": "stdout",
     "output_type": "stream",
     "text": [
      "Help on method to_sql in module pandas.core.generic:\n",
      "\n",
      "to_sql(name, con, schema=None, if_exists='fail', index=True, index_label=None, chunksize=None, dtype=None) method of pandas.core.frame.DataFrame instance\n",
      "    Write records stored in a DataFrame to a SQL database.\n",
      "    \n",
      "    Databases supported by SQLAlchemy [1]_ are supported. Tables can be\n",
      "    newly created, appended to, or overwritten.\n",
      "    \n",
      "    Parameters\n",
      "    ----------\n",
      "    name : string\n",
      "        Name of SQL table.\n",
      "    con : sqlalchemy.engine.Engine or sqlite3.Connection\n",
      "        Using SQLAlchemy makes it possible to use any DB supported by that\n",
      "        library. Legacy support is provided for sqlite3.Connection objects.\n",
      "    schema : string, optional\n",
      "        Specify the schema (if database flavor supports this). If None, use\n",
      "        default schema.\n",
      "    if_exists : {'fail', 'replace', 'append'}, default 'fail'\n",
      "        How to behave if the table already exists.\n",
      "    \n",
      "        * fail: Raise a ValueError.\n",
      "        * replace: Drop the table before inserting new values.\n",
      "        * append: Insert new values to the existing table.\n",
      "    \n",
      "    index : boolean, default True\n",
      "        Write DataFrame index as a column. Uses `index_label` as the column\n",
      "        name in the table.\n",
      "    index_label : string or sequence, default None\n",
      "        Column label for index column(s). If None is given (default) and\n",
      "        `index` is True, then the index names are used.\n",
      "        A sequence should be given if the DataFrame uses MultiIndex.\n",
      "    chunksize : int, optional\n",
      "        Rows will be written in batches of this size at a time. By default,\n",
      "        all rows will be written at once.\n",
      "    dtype : dict, optional\n",
      "        Specifying the datatype for columns. The keys should be the column\n",
      "        names and the values should be the SQLAlchemy types or strings for\n",
      "        the sqlite3 legacy mode.\n",
      "    \n",
      "    Raises\n",
      "    ------\n",
      "    ValueError\n",
      "        When the table already exists and `if_exists` is 'fail' (the\n",
      "        default).\n",
      "    \n",
      "    See Also\n",
      "    --------\n",
      "    pandas.read_sql : read a DataFrame from a table\n",
      "    \n",
      "    References\n",
      "    ----------\n",
      "    .. [1] http://docs.sqlalchemy.org\n",
      "    .. [2] https://www.python.org/dev/peps/pep-0249/\n",
      "    \n",
      "    Examples\n",
      "    --------\n",
      "    \n",
      "    Create an in-memory SQLite database.\n",
      "    \n",
      "    >>> from sqlalchemy import create_engine\n",
      "    >>> engine = create_engine('sqlite://', echo=False)\n",
      "    \n",
      "    Create a table from scratch with 3 rows.\n",
      "    \n",
      "    >>> df = pd.DataFrame({'name' : ['User 1', 'User 2', 'User 3']})\n",
      "    >>> df\n",
      "         name\n",
      "    0  User 1\n",
      "    1  User 2\n",
      "    2  User 3\n",
      "    \n",
      "    >>> df.to_sql('users', con=engine)\n",
      "    >>> engine.execute(\"SELECT * FROM users\").fetchall()\n",
      "    [(0, 'User 1'), (1, 'User 2'), (2, 'User 3')]\n",
      "    \n",
      "    >>> df1 = pd.DataFrame({'name' : ['User 4', 'User 5']})\n",
      "    >>> df1.to_sql('users', con=engine, if_exists='append')\n",
      "    >>> engine.execute(\"SELECT * FROM users\").fetchall()\n",
      "    [(0, 'User 1'), (1, 'User 2'), (2, 'User 3'),\n",
      "     (0, 'User 4'), (1, 'User 5')]\n",
      "    \n",
      "    Overwrite the table with just ``df1``.\n",
      "    \n",
      "    >>> df1.to_sql('users', con=engine, if_exists='replace',\n",
      "    ...            index_label='id')\n",
      "    >>> engine.execute(\"SELECT * FROM users\").fetchall()\n",
      "    [(0, 'User 4'), (1, 'User 5')]\n",
      "    \n",
      "    Specify the dtype (especially useful for integers with missing values).\n",
      "    Notice that while pandas is forced to store the data as floating point,\n",
      "    the database supports nullable integers. When fetching the data with\n",
      "    Python, we get back integer scalars.\n",
      "    \n",
      "    >>> df = pd.DataFrame({\"A\": [1, None, 2]})\n",
      "    >>> df\n",
      "         A\n",
      "    0  1.0\n",
      "    1  NaN\n",
      "    2  2.0\n",
      "    \n",
      "    >>> from sqlalchemy.types import Integer\n",
      "    >>> df.to_sql('integers', con=engine, index=False,\n",
      "    ...           dtype={\"A\": Integer()})\n",
      "    \n",
      "    >>> engine.execute(\"SELECT * FROM integers\").fetchall()\n",
      "    [(1,), (None,), (2,)]\n",
      "\n"
     ]
    }
   ],
   "source": [
    "help(df.to_sql)"
   ]
  },
  {
   "cell_type": "markdown",
   "metadata": {},
   "source": [
    "## Et pour lire ?"
   ]
  },
  {
   "cell_type": "markdown",
   "metadata": {},
   "source": [
    "C'est le même principe !"
   ]
  },
  {
   "cell_type": "code",
   "execution_count": 27,
   "metadata": {},
   "outputs": [
    {
     "data": {
      "text/html": [
       "<div>\n",
       "<style scoped>\n",
       "    .dataframe tbody tr th:only-of-type {\n",
       "        vertical-align: middle;\n",
       "    }\n",
       "\n",
       "    .dataframe tbody tr th {\n",
       "        vertical-align: top;\n",
       "    }\n",
       "\n",
       "    .dataframe thead th {\n",
       "        text-align: right;\n",
       "    }\n",
       "</style>\n",
       "<table border=\"1\" class=\"dataframe\">\n",
       "  <thead>\n",
       "    <tr style=\"text-align: right;\">\n",
       "      <th></th>\n",
       "      <th>Pierre</th>\n",
       "      <th>Paul</th>\n",
       "      <th>Jacques</th>\n",
       "    </tr>\n",
       "  </thead>\n",
       "  <tbody>\n",
       "    <tr>\n",
       "      <th>Janvier</th>\n",
       "      <td>0.254889</td>\n",
       "      <td>0.483189</td>\n",
       "      <td>0.941259</td>\n",
       "    </tr>\n",
       "    <tr>\n",
       "      <th>Février</th>\n",
       "      <td>0.297467</td>\n",
       "      <td>0.192431</td>\n",
       "      <td>0.570116</td>\n",
       "    </tr>\n",
       "    <tr>\n",
       "      <th>Mars</th>\n",
       "      <td>0.484921</td>\n",
       "      <td>0.804019</td>\n",
       "      <td>0.718281</td>\n",
       "    </tr>\n",
       "    <tr>\n",
       "      <th>Avril</th>\n",
       "      <td>0.207242</td>\n",
       "      <td>0.230061</td>\n",
       "      <td>0.596878</td>\n",
       "    </tr>\n",
       "    <tr>\n",
       "      <th>Mai</th>\n",
       "      <td>0.094680</td>\n",
       "      <td>0.540839</td>\n",
       "      <td>0.833893</td>\n",
       "    </tr>\n",
       "  </tbody>\n",
       "</table>\n",
       "</div>"
      ],
      "text/plain": [
       "           Pierre      Paul   Jacques\n",
       "Janvier  0.254889  0.483189  0.941259\n",
       "Février  0.297467  0.192431  0.570116\n",
       "Mars     0.484921  0.804019  0.718281\n",
       "Avril    0.207242  0.230061  0.596878\n",
       "Mai      0.094680  0.540839  0.833893"
      ]
     },
     "execution_count": 27,
     "metadata": {},
     "output_type": "execute_result"
    }
   ],
   "source": [
    "pd.read_csv('toto.csv', index_col=0)"
   ]
  },
  {
   "cell_type": "code",
   "execution_count": 28,
   "metadata": {},
   "outputs": [
    {
     "data": {
      "text/html": [
       "<div>\n",
       "<style scoped>\n",
       "    .dataframe tbody tr th:only-of-type {\n",
       "        vertical-align: middle;\n",
       "    }\n",
       "\n",
       "    .dataframe tbody tr th {\n",
       "        vertical-align: top;\n",
       "    }\n",
       "\n",
       "    .dataframe thead th {\n",
       "        text-align: right;\n",
       "    }\n",
       "</style>\n",
       "<table border=\"1\" class=\"dataframe\">\n",
       "  <thead>\n",
       "    <tr style=\"text-align: right;\">\n",
       "      <th></th>\n",
       "      <th>Pierre</th>\n",
       "      <th>Paul</th>\n",
       "      <th>Jacques</th>\n",
       "    </tr>\n",
       "  </thead>\n",
       "  <tbody>\n",
       "    <tr>\n",
       "      <th>Janvier</th>\n",
       "      <td>0.254889</td>\n",
       "      <td>0.483189</td>\n",
       "      <td>0.941259</td>\n",
       "    </tr>\n",
       "    <tr>\n",
       "      <th>Février</th>\n",
       "      <td>0.297467</td>\n",
       "      <td>0.192431</td>\n",
       "      <td>0.570116</td>\n",
       "    </tr>\n",
       "    <tr>\n",
       "      <th>Mars</th>\n",
       "      <td>0.484921</td>\n",
       "      <td>0.804019</td>\n",
       "      <td>0.718281</td>\n",
       "    </tr>\n",
       "    <tr>\n",
       "      <th>Avril</th>\n",
       "      <td>0.207242</td>\n",
       "      <td>0.230061</td>\n",
       "      <td>0.596878</td>\n",
       "    </tr>\n",
       "    <tr>\n",
       "      <th>Mai</th>\n",
       "      <td>0.094680</td>\n",
       "      <td>0.540839</td>\n",
       "      <td>0.833893</td>\n",
       "    </tr>\n",
       "  </tbody>\n",
       "</table>\n",
       "</div>"
      ],
      "text/plain": [
       "           Pierre      Paul   Jacques\n",
       "Janvier  0.254889  0.483189  0.941259\n",
       "Février  0.297467  0.192431  0.570116\n",
       "Mars     0.484921  0.804019  0.718281\n",
       "Avril    0.207242  0.230061  0.596878\n",
       "Mai      0.094680  0.540839  0.833893"
      ]
     },
     "execution_count": 28,
     "metadata": {},
     "output_type": "execute_result"
    }
   ],
   "source": [
    "pd.read_excel('toto.xlsx')"
   ]
  },
  {
   "cell_type": "code",
   "execution_count": 29,
   "metadata": {},
   "outputs": [],
   "source": [
    "engine = create_engine('sqlite:///toto.sqlite')\n",
    "connection = engine.connect()"
   ]
  },
  {
   "cell_type": "code",
   "execution_count": 30,
   "metadata": {},
   "outputs": [
    {
     "data": {
      "text/html": [
       "<div>\n",
       "<style scoped>\n",
       "    .dataframe tbody tr th:only-of-type {\n",
       "        vertical-align: middle;\n",
       "    }\n",
       "\n",
       "    .dataframe tbody tr th {\n",
       "        vertical-align: top;\n",
       "    }\n",
       "\n",
       "    .dataframe thead th {\n",
       "        text-align: right;\n",
       "    }\n",
       "</style>\n",
       "<table border=\"1\" class=\"dataframe\">\n",
       "  <thead>\n",
       "    <tr style=\"text-align: right;\">\n",
       "      <th></th>\n",
       "      <th>Pierre</th>\n",
       "      <th>Paul</th>\n",
       "      <th>Jacques</th>\n",
       "    </tr>\n",
       "    <tr>\n",
       "      <th>index</th>\n",
       "      <th></th>\n",
       "      <th></th>\n",
       "      <th></th>\n",
       "    </tr>\n",
       "  </thead>\n",
       "  <tbody>\n",
       "    <tr>\n",
       "      <th>Janvier</th>\n",
       "      <td>0.254889</td>\n",
       "      <td>0.483189</td>\n",
       "      <td>0.941259</td>\n",
       "    </tr>\n",
       "    <tr>\n",
       "      <th>Février</th>\n",
       "      <td>0.297467</td>\n",
       "      <td>0.192431</td>\n",
       "      <td>0.570116</td>\n",
       "    </tr>\n",
       "    <tr>\n",
       "      <th>Mars</th>\n",
       "      <td>0.484921</td>\n",
       "      <td>0.804019</td>\n",
       "      <td>0.718281</td>\n",
       "    </tr>\n",
       "    <tr>\n",
       "      <th>Avril</th>\n",
       "      <td>0.207242</td>\n",
       "      <td>0.230061</td>\n",
       "      <td>0.596878</td>\n",
       "    </tr>\n",
       "    <tr>\n",
       "      <th>Mai</th>\n",
       "      <td>0.094680</td>\n",
       "      <td>0.540839</td>\n",
       "      <td>0.833893</td>\n",
       "    </tr>\n",
       "  </tbody>\n",
       "</table>\n",
       "</div>"
      ],
      "text/plain": [
       "           Pierre      Paul   Jacques\n",
       "index                                \n",
       "Janvier  0.254889  0.483189  0.941259\n",
       "Février  0.297467  0.192431  0.570116\n",
       "Mars     0.484921  0.804019  0.718281\n",
       "Avril    0.207242  0.230061  0.596878\n",
       "Mai      0.094680  0.540839  0.833893"
      ]
     },
     "execution_count": 30,
     "metadata": {},
     "output_type": "execute_result"
    }
   ],
   "source": [
    "# Lit une table entière\n",
    "pd.read_sql_table(\"ma_table\", connection, index_col='index')"
   ]
  },
  {
   "cell_type": "code",
   "execution_count": 31,
   "metadata": {},
   "outputs": [
    {
     "name": "stdout",
     "output_type": "stream",
     "text": [
      "['ma_table']\n"
     ]
    }
   ],
   "source": [
    "# Liste toutes les tables du sqlite\n",
    "print(engine.table_names())"
   ]
  },
  {
   "cell_type": "code",
   "execution_count": 32,
   "metadata": {},
   "outputs": [
    {
     "name": "stdout",
     "output_type": "stream",
     "text": [
      "     index    Pierre      Paul   Jacques\n",
      "0  Janvier  0.254889  0.483189  0.941259\n",
      "1  Février  0.297467  0.192431  0.570116\n",
      "2     Mars  0.484921  0.804019  0.718281\n",
      "3    Avril  0.207242  0.230061  0.596878\n",
      "4      Mai  0.094680  0.540839  0.833893\n"
     ]
    }
   ],
   "source": [
    "for table in engine.table_names():\n",
    "    print(pd.read_sql_table(table, connection))"
   ]
  },
  {
   "cell_type": "code",
   "execution_count": 33,
   "metadata": {},
   "outputs": [],
   "source": [
    "connection.close()"
   ]
  },
  {
   "cell_type": "markdown",
   "metadata": {
    "collapsed": true
   },
   "source": [
    "# 3. Valeurs manquantes"
   ]
  },
  {
   "cell_type": "code",
   "execution_count": 47,
   "metadata": {},
   "outputs": [
    {
     "data": {
      "text/html": [
       "<div>\n",
       "<style scoped>\n",
       "    .dataframe tbody tr th:only-of-type {\n",
       "        vertical-align: middle;\n",
       "    }\n",
       "\n",
       "    .dataframe tbody tr th {\n",
       "        vertical-align: top;\n",
       "    }\n",
       "\n",
       "    .dataframe thead th {\n",
       "        text-align: right;\n",
       "    }\n",
       "</style>\n",
       "<table border=\"1\" class=\"dataframe\">\n",
       "  <thead>\n",
       "    <tr style=\"text-align: right;\">\n",
       "      <th></th>\n",
       "      <th>Pierre</th>\n",
       "      <th>Paul</th>\n",
       "      <th>Jacques</th>\n",
       "    </tr>\n",
       "  </thead>\n",
       "  <tbody>\n",
       "    <tr>\n",
       "      <th>Janvier</th>\n",
       "      <td>0.305362</td>\n",
       "      <td>0.759026</td>\n",
       "      <td>0.287741</td>\n",
       "    </tr>\n",
       "    <tr>\n",
       "      <th>Février</th>\n",
       "      <td>0.298394</td>\n",
       "      <td>0.930921</td>\n",
       "      <td>NaN</td>\n",
       "    </tr>\n",
       "    <tr>\n",
       "      <th>Mars</th>\n",
       "      <td>NaN</td>\n",
       "      <td>0.140461</td>\n",
       "      <td>0.869777</td>\n",
       "    </tr>\n",
       "    <tr>\n",
       "      <th>Avril</th>\n",
       "      <td>0.348545</td>\n",
       "      <td>0.859908</td>\n",
       "      <td>0.031970</td>\n",
       "    </tr>\n",
       "    <tr>\n",
       "      <th>Mai</th>\n",
       "      <td>0.976270</td>\n",
       "      <td>0.773828</td>\n",
       "      <td>0.370526</td>\n",
       "    </tr>\n",
       "  </tbody>\n",
       "</table>\n",
       "</div>"
      ],
      "text/plain": [
       "           Pierre      Paul   Jacques\n",
       "Janvier  0.305362  0.759026  0.287741\n",
       "Février  0.298394  0.930921       NaN\n",
       "Mars          NaN  0.140461  0.869777\n",
       "Avril    0.348545  0.859908  0.031970\n",
       "Mai      0.976270  0.773828  0.370526"
      ]
     },
     "execution_count": 47,
     "metadata": {},
     "output_type": "execute_result"
    }
   ],
   "source": [
    "# On construit une DataFrame avec des nombres aléatoires et une case vide\n",
    "df = pd.DataFrame(data=np.random.uniform(size=(5, 3)),\n",
    "                  columns=['Pierre', 'Paul', 'Jacques'],\n",
    "                  index=['Janvier', 'Février', 'Mars', 'Avril', 'Mai'])\n",
    "\n",
    "df.loc['Février', 'Jacques'] = np.nan\n",
    "df.loc['Mars', 'Pierre'] = np.nan\n",
    "\n",
    "df"
   ]
  },
  {
   "cell_type": "markdown",
   "metadata": {},
   "source": [
    "## Comment sait-on qu'on a des cases vides ?"
   ]
  },
  {
   "cell_type": "code",
   "execution_count": 48,
   "metadata": {},
   "outputs": [
    {
     "data": {
      "text/html": [
       "<div>\n",
       "<style scoped>\n",
       "    .dataframe tbody tr th:only-of-type {\n",
       "        vertical-align: middle;\n",
       "    }\n",
       "\n",
       "    .dataframe tbody tr th {\n",
       "        vertical-align: top;\n",
       "    }\n",
       "\n",
       "    .dataframe thead th {\n",
       "        text-align: right;\n",
       "    }\n",
       "</style>\n",
       "<table border=\"1\" class=\"dataframe\">\n",
       "  <thead>\n",
       "    <tr style=\"text-align: right;\">\n",
       "      <th></th>\n",
       "      <th>Pierre</th>\n",
       "      <th>Paul</th>\n",
       "      <th>Jacques</th>\n",
       "    </tr>\n",
       "  </thead>\n",
       "  <tbody>\n",
       "    <tr>\n",
       "      <th>Janvier</th>\n",
       "      <td>False</td>\n",
       "      <td>False</td>\n",
       "      <td>False</td>\n",
       "    </tr>\n",
       "    <tr>\n",
       "      <th>Février</th>\n",
       "      <td>False</td>\n",
       "      <td>False</td>\n",
       "      <td>True</td>\n",
       "    </tr>\n",
       "    <tr>\n",
       "      <th>Mars</th>\n",
       "      <td>True</td>\n",
       "      <td>False</td>\n",
       "      <td>False</td>\n",
       "    </tr>\n",
       "    <tr>\n",
       "      <th>Avril</th>\n",
       "      <td>False</td>\n",
       "      <td>False</td>\n",
       "      <td>False</td>\n",
       "    </tr>\n",
       "    <tr>\n",
       "      <th>Mai</th>\n",
       "      <td>False</td>\n",
       "      <td>False</td>\n",
       "      <td>False</td>\n",
       "    </tr>\n",
       "  </tbody>\n",
       "</table>\n",
       "</div>"
      ],
      "text/plain": [
       "         Pierre   Paul  Jacques\n",
       "Janvier   False  False    False\n",
       "Février   False  False     True\n",
       "Mars       True  False    False\n",
       "Avril     False  False    False\n",
       "Mai       False  False    False"
      ]
     },
     "execution_count": 48,
     "metadata": {},
     "output_type": "execute_result"
    }
   ],
   "source": [
    "df.isnull()"
   ]
  },
  {
   "cell_type": "markdown",
   "metadata": {},
   "source": [
    "En résumé (n'oublions pas qu'en Python `True=1` et `False=0`) :"
   ]
  },
  {
   "cell_type": "code",
   "execution_count": 49,
   "metadata": {},
   "outputs": [
    {
     "data": {
      "text/plain": [
       "Pierre     1\n",
       "Paul       0\n",
       "Jacques    1\n",
       "dtype: int64"
      ]
     },
     "execution_count": 49,
     "metadata": {},
     "output_type": "execute_result"
    }
   ],
   "source": [
    "df.isnull().sum()"
   ]
  },
  {
   "cell_type": "code",
   "execution_count": 50,
   "metadata": {},
   "outputs": [
    {
     "data": {
      "text/plain": [
       "Janvier    0\n",
       "Février    1\n",
       "Mars       1\n",
       "Avril      0\n",
       "Mai        0\n",
       "dtype: int64"
      ]
     },
     "execution_count": 50,
     "metadata": {},
     "output_type": "execute_result"
    }
   ],
   "source": [
    "df.isnull().sum(axis='columns')"
   ]
  },
  {
   "cell_type": "markdown",
   "metadata": {},
   "source": [
    "Ou bien :"
   ]
  },
  {
   "cell_type": "code",
   "execution_count": 51,
   "metadata": {},
   "outputs": [
    {
     "data": {
      "text/plain": [
       "Janvier    False\n",
       "Février     True\n",
       "Mars        True\n",
       "Avril      False\n",
       "Mai        False\n",
       "dtype: bool"
      ]
     },
     "execution_count": 51,
     "metadata": {},
     "output_type": "execute_result"
    }
   ],
   "source": [
    "df.isnull().any(axis='columns')"
   ]
  },
  {
   "cell_type": "code",
   "execution_count": 52,
   "metadata": {},
   "outputs": [
    {
     "data": {
      "text/plain": [
       "Janvier    False\n",
       "Février    False\n",
       "Mars       False\n",
       "Avril      False\n",
       "Mai        False\n",
       "dtype: bool"
      ]
     },
     "execution_count": 52,
     "metadata": {},
     "output_type": "execute_result"
    }
   ],
   "source": [
    "df.isnull().all(axis='columns')"
   ]
  },
  {
   "cell_type": "markdown",
   "metadata": {},
   "source": [
    "## Comment éliminer des valeurs manquantes ?\n",
    "\n",
    "Attention : **ce n'est pas toujours la bonne solution !**"
   ]
  },
  {
   "cell_type": "code",
   "execution_count": 53,
   "metadata": {},
   "outputs": [
    {
     "data": {
      "text/html": [
       "<div>\n",
       "<style scoped>\n",
       "    .dataframe tbody tr th:only-of-type {\n",
       "        vertical-align: middle;\n",
       "    }\n",
       "\n",
       "    .dataframe tbody tr th {\n",
       "        vertical-align: top;\n",
       "    }\n",
       "\n",
       "    .dataframe thead th {\n",
       "        text-align: right;\n",
       "    }\n",
       "</style>\n",
       "<table border=\"1\" class=\"dataframe\">\n",
       "  <thead>\n",
       "    <tr style=\"text-align: right;\">\n",
       "      <th></th>\n",
       "      <th>Pierre</th>\n",
       "      <th>Paul</th>\n",
       "      <th>Jacques</th>\n",
       "    </tr>\n",
       "  </thead>\n",
       "  <tbody>\n",
       "    <tr>\n",
       "      <th>Janvier</th>\n",
       "      <td>0.305362</td>\n",
       "      <td>0.759026</td>\n",
       "      <td>0.287741</td>\n",
       "    </tr>\n",
       "    <tr>\n",
       "      <th>Mars</th>\n",
       "      <td>NaN</td>\n",
       "      <td>0.140461</td>\n",
       "      <td>0.869777</td>\n",
       "    </tr>\n",
       "    <tr>\n",
       "      <th>Avril</th>\n",
       "      <td>0.348545</td>\n",
       "      <td>0.859908</td>\n",
       "      <td>0.031970</td>\n",
       "    </tr>\n",
       "    <tr>\n",
       "      <th>Mai</th>\n",
       "      <td>0.976270</td>\n",
       "      <td>0.773828</td>\n",
       "      <td>0.370526</td>\n",
       "    </tr>\n",
       "  </tbody>\n",
       "</table>\n",
       "</div>"
      ],
      "text/plain": [
       "           Pierre      Paul   Jacques\n",
       "Janvier  0.305362  0.759026  0.287741\n",
       "Mars          NaN  0.140461  0.869777\n",
       "Avril    0.348545  0.859908  0.031970\n",
       "Mai      0.976270  0.773828  0.370526"
      ]
     },
     "execution_count": 53,
     "metadata": {},
     "output_type": "execute_result"
    }
   ],
   "source": [
    "# condition que chaque ligne ne contienne pas d'élément vide dans la colonne 'Jacques'\n",
    "c = df['Jacques'].notnull()\n",
    "df.loc[c]"
   ]
  },
  {
   "cell_type": "code",
   "execution_count": 54,
   "metadata": {},
   "outputs": [
    {
     "data": {
      "text/html": [
       "<div>\n",
       "<style scoped>\n",
       "    .dataframe tbody tr th:only-of-type {\n",
       "        vertical-align: middle;\n",
       "    }\n",
       "\n",
       "    .dataframe tbody tr th {\n",
       "        vertical-align: top;\n",
       "    }\n",
       "\n",
       "    .dataframe thead th {\n",
       "        text-align: right;\n",
       "    }\n",
       "</style>\n",
       "<table border=\"1\" class=\"dataframe\">\n",
       "  <thead>\n",
       "    <tr style=\"text-align: right;\">\n",
       "      <th></th>\n",
       "      <th>Pierre</th>\n",
       "      <th>Paul</th>\n",
       "      <th>Jacques</th>\n",
       "    </tr>\n",
       "  </thead>\n",
       "  <tbody>\n",
       "    <tr>\n",
       "      <th>Janvier</th>\n",
       "      <td>0.305362</td>\n",
       "      <td>0.759026</td>\n",
       "      <td>0.287741</td>\n",
       "    </tr>\n",
       "    <tr>\n",
       "      <th>Avril</th>\n",
       "      <td>0.348545</td>\n",
       "      <td>0.859908</td>\n",
       "      <td>0.031970</td>\n",
       "    </tr>\n",
       "    <tr>\n",
       "      <th>Mai</th>\n",
       "      <td>0.976270</td>\n",
       "      <td>0.773828</td>\n",
       "      <td>0.370526</td>\n",
       "    </tr>\n",
       "  </tbody>\n",
       "</table>\n",
       "</div>"
      ],
      "text/plain": [
       "           Pierre      Paul   Jacques\n",
       "Janvier  0.305362  0.759026  0.287741\n",
       "Avril    0.348545  0.859908  0.031970\n",
       "Mai      0.976270  0.773828  0.370526"
      ]
     },
     "execution_count": 54,
     "metadata": {},
     "output_type": "execute_result"
    }
   ],
   "source": [
    "# condition que chaque ligne ne contienne aucun élément vide\n",
    "c = df.notnull().all(axis='columns')\n",
    "df.loc[c]"
   ]
  },
  {
   "cell_type": "markdown",
   "metadata": {},
   "source": [
    "## Comment remplacer les valeurs manquantes ?"
   ]
  },
  {
   "cell_type": "code",
   "execution_count": 55,
   "metadata": {},
   "outputs": [
    {
     "data": {
      "text/html": [
       "<div>\n",
       "<style scoped>\n",
       "    .dataframe tbody tr th:only-of-type {\n",
       "        vertical-align: middle;\n",
       "    }\n",
       "\n",
       "    .dataframe tbody tr th {\n",
       "        vertical-align: top;\n",
       "    }\n",
       "\n",
       "    .dataframe thead th {\n",
       "        text-align: right;\n",
       "    }\n",
       "</style>\n",
       "<table border=\"1\" class=\"dataframe\">\n",
       "  <thead>\n",
       "    <tr style=\"text-align: right;\">\n",
       "      <th></th>\n",
       "      <th>Pierre</th>\n",
       "      <th>Paul</th>\n",
       "      <th>Jacques</th>\n",
       "    </tr>\n",
       "  </thead>\n",
       "  <tbody>\n",
       "    <tr>\n",
       "      <th>Janvier</th>\n",
       "      <td>0.305362</td>\n",
       "      <td>0.759026</td>\n",
       "      <td>0.287741</td>\n",
       "    </tr>\n",
       "    <tr>\n",
       "      <th>Février</th>\n",
       "      <td>0.298394</td>\n",
       "      <td>0.930921</td>\n",
       "      <td>1.000000</td>\n",
       "    </tr>\n",
       "    <tr>\n",
       "      <th>Mars</th>\n",
       "      <td>1.000000</td>\n",
       "      <td>0.140461</td>\n",
       "      <td>0.869777</td>\n",
       "    </tr>\n",
       "    <tr>\n",
       "      <th>Avril</th>\n",
       "      <td>0.348545</td>\n",
       "      <td>0.859908</td>\n",
       "      <td>0.031970</td>\n",
       "    </tr>\n",
       "    <tr>\n",
       "      <th>Mai</th>\n",
       "      <td>0.976270</td>\n",
       "      <td>0.773828</td>\n",
       "      <td>0.370526</td>\n",
       "    </tr>\n",
       "  </tbody>\n",
       "</table>\n",
       "</div>"
      ],
      "text/plain": [
       "           Pierre      Paul   Jacques\n",
       "Janvier  0.305362  0.759026  0.287741\n",
       "Février  0.298394  0.930921  1.000000\n",
       "Mars     1.000000  0.140461  0.869777\n",
       "Avril    0.348545  0.859908  0.031970\n",
       "Mai      0.976270  0.773828  0.370526"
      ]
     },
     "execution_count": 55,
     "metadata": {},
     "output_type": "execute_result"
    }
   ],
   "source": [
    "df.fillna(1.0)"
   ]
  },
  {
   "cell_type": "code",
   "execution_count": 56,
   "metadata": {},
   "outputs": [
    {
     "data": {
      "text/html": [
       "<div>\n",
       "<style scoped>\n",
       "    .dataframe tbody tr th:only-of-type {\n",
       "        vertical-align: middle;\n",
       "    }\n",
       "\n",
       "    .dataframe tbody tr th {\n",
       "        vertical-align: top;\n",
       "    }\n",
       "\n",
       "    .dataframe thead th {\n",
       "        text-align: right;\n",
       "    }\n",
       "</style>\n",
       "<table border=\"1\" class=\"dataframe\">\n",
       "  <thead>\n",
       "    <tr style=\"text-align: right;\">\n",
       "      <th></th>\n",
       "      <th>Pierre</th>\n",
       "      <th>Paul</th>\n",
       "      <th>Jacques</th>\n",
       "    </tr>\n",
       "  </thead>\n",
       "  <tbody>\n",
       "    <tr>\n",
       "      <th>Janvier</th>\n",
       "      <td>0.305362</td>\n",
       "      <td>0.759026</td>\n",
       "      <td>0.287741</td>\n",
       "    </tr>\n",
       "    <tr>\n",
       "      <th>Février</th>\n",
       "      <td>0.298394</td>\n",
       "      <td>0.930921</td>\n",
       "      <td>0.287741</td>\n",
       "    </tr>\n",
       "    <tr>\n",
       "      <th>Mars</th>\n",
       "      <td>0.298394</td>\n",
       "      <td>0.140461</td>\n",
       "      <td>0.869777</td>\n",
       "    </tr>\n",
       "    <tr>\n",
       "      <th>Avril</th>\n",
       "      <td>0.348545</td>\n",
       "      <td>0.859908</td>\n",
       "      <td>0.031970</td>\n",
       "    </tr>\n",
       "    <tr>\n",
       "      <th>Mai</th>\n",
       "      <td>0.976270</td>\n",
       "      <td>0.773828</td>\n",
       "      <td>0.370526</td>\n",
       "    </tr>\n",
       "  </tbody>\n",
       "</table>\n",
       "</div>"
      ],
      "text/plain": [
       "           Pierre      Paul   Jacques\n",
       "Janvier  0.305362  0.759026  0.287741\n",
       "Février  0.298394  0.930921  0.287741\n",
       "Mars     0.298394  0.140461  0.869777\n",
       "Avril    0.348545  0.859908  0.031970\n",
       "Mai      0.976270  0.773828  0.370526"
      ]
     },
     "execution_count": 56,
     "metadata": {},
     "output_type": "execute_result"
    }
   ],
   "source": [
    "df.fillna(method='ffill')"
   ]
  },
  {
   "cell_type": "code",
   "execution_count": 57,
   "metadata": {},
   "outputs": [
    {
     "data": {
      "text/html": [
       "<div>\n",
       "<style scoped>\n",
       "    .dataframe tbody tr th:only-of-type {\n",
       "        vertical-align: middle;\n",
       "    }\n",
       "\n",
       "    .dataframe tbody tr th {\n",
       "        vertical-align: top;\n",
       "    }\n",
       "\n",
       "    .dataframe thead th {\n",
       "        text-align: right;\n",
       "    }\n",
       "</style>\n",
       "<table border=\"1\" class=\"dataframe\">\n",
       "  <thead>\n",
       "    <tr style=\"text-align: right;\">\n",
       "      <th></th>\n",
       "      <th>Pierre</th>\n",
       "      <th>Paul</th>\n",
       "      <th>Jacques</th>\n",
       "    </tr>\n",
       "  </thead>\n",
       "  <tbody>\n",
       "    <tr>\n",
       "      <th>Janvier</th>\n",
       "      <td>0.305362</td>\n",
       "      <td>0.759026</td>\n",
       "      <td>0.287741</td>\n",
       "    </tr>\n",
       "    <tr>\n",
       "      <th>Février</th>\n",
       "      <td>0.298394</td>\n",
       "      <td>0.930921</td>\n",
       "      <td>0.869777</td>\n",
       "    </tr>\n",
       "    <tr>\n",
       "      <th>Mars</th>\n",
       "      <td>0.348545</td>\n",
       "      <td>0.140461</td>\n",
       "      <td>0.869777</td>\n",
       "    </tr>\n",
       "    <tr>\n",
       "      <th>Avril</th>\n",
       "      <td>0.348545</td>\n",
       "      <td>0.859908</td>\n",
       "      <td>0.031970</td>\n",
       "    </tr>\n",
       "    <tr>\n",
       "      <th>Mai</th>\n",
       "      <td>0.976270</td>\n",
       "      <td>0.773828</td>\n",
       "      <td>0.370526</td>\n",
       "    </tr>\n",
       "  </tbody>\n",
       "</table>\n",
       "</div>"
      ],
      "text/plain": [
       "           Pierre      Paul   Jacques\n",
       "Janvier  0.305362  0.759026  0.287741\n",
       "Février  0.298394  0.930921  0.869777\n",
       "Mars     0.348545  0.140461  0.869777\n",
       "Avril    0.348545  0.859908  0.031970\n",
       "Mai      0.976270  0.773828  0.370526"
      ]
     },
     "execution_count": 57,
     "metadata": {},
     "output_type": "execute_result"
    }
   ],
   "source": [
    "df.fillna(method='bfill')"
   ]
  },
  {
   "cell_type": "code",
   "execution_count": 59,
   "metadata": {},
   "outputs": [
    {
     "name": "stdout",
     "output_type": "stream",
     "text": [
      "Pierre     0.326953\n",
      "Paul       0.773828\n",
      "Jacques    0.329133\n",
      "dtype: float64\n"
     ]
    },
    {
     "data": {
      "text/html": [
       "<div>\n",
       "<style scoped>\n",
       "    .dataframe tbody tr th:only-of-type {\n",
       "        vertical-align: middle;\n",
       "    }\n",
       "\n",
       "    .dataframe tbody tr th {\n",
       "        vertical-align: top;\n",
       "    }\n",
       "\n",
       "    .dataframe thead th {\n",
       "        text-align: right;\n",
       "    }\n",
       "</style>\n",
       "<table border=\"1\" class=\"dataframe\">\n",
       "  <thead>\n",
       "    <tr style=\"text-align: right;\">\n",
       "      <th></th>\n",
       "      <th>Pierre</th>\n",
       "      <th>Paul</th>\n",
       "      <th>Jacques</th>\n",
       "    </tr>\n",
       "  </thead>\n",
       "  <tbody>\n",
       "    <tr>\n",
       "      <th>Janvier</th>\n",
       "      <td>0.305362</td>\n",
       "      <td>0.759026</td>\n",
       "      <td>0.287741</td>\n",
       "    </tr>\n",
       "    <tr>\n",
       "      <th>Février</th>\n",
       "      <td>0.298394</td>\n",
       "      <td>0.930921</td>\n",
       "      <td>0.329133</td>\n",
       "    </tr>\n",
       "    <tr>\n",
       "      <th>Mars</th>\n",
       "      <td>0.326953</td>\n",
       "      <td>0.140461</td>\n",
       "      <td>0.869777</td>\n",
       "    </tr>\n",
       "    <tr>\n",
       "      <th>Avril</th>\n",
       "      <td>0.348545</td>\n",
       "      <td>0.859908</td>\n",
       "      <td>0.031970</td>\n",
       "    </tr>\n",
       "    <tr>\n",
       "      <th>Mai</th>\n",
       "      <td>0.976270</td>\n",
       "      <td>0.773828</td>\n",
       "      <td>0.370526</td>\n",
       "    </tr>\n",
       "  </tbody>\n",
       "</table>\n",
       "</div>"
      ],
      "text/plain": [
       "           Pierre      Paul   Jacques\n",
       "Janvier  0.305362  0.759026  0.287741\n",
       "Février  0.298394  0.930921  0.329133\n",
       "Mars     0.326953  0.140461  0.869777\n",
       "Avril    0.348545  0.859908  0.031970\n",
       "Mai      0.976270  0.773828  0.370526"
      ]
     },
     "execution_count": 59,
     "metadata": {},
     "output_type": "execute_result"
    }
   ],
   "source": [
    "medians = df.median()\n",
    "print(medians)\n",
    "\n",
    "df.fillna(value=medians)"
   ]
  },
  {
   "cell_type": "markdown",
   "metadata": {},
   "source": [
    "# 4. Séries temporelles\n",
    "\n",
    "Ce sont juste des `pd.DataFrame` avec des indices temporels.\n",
    "\n",
    "## Comment les créer ?\n",
    "\n",
    "Généralement on va les lire dans un fichier ou dans une base de données. Mais voyons comment les créer."
   ]
  },
  {
   "cell_type": "code",
   "execution_count": 69,
   "metadata": {},
   "outputs": [
    {
     "data": {
      "text/plain": [
       "DatetimeIndex(['2018-07-12 00:00:00', '2018-07-12 00:00:05',\n",
       "               '2018-07-12 00:00:10', '2018-07-12 00:00:15',\n",
       "               '2018-07-12 00:00:20', '2018-07-12 00:00:25',\n",
       "               '2018-07-12 00:00:30', '2018-07-12 00:00:35',\n",
       "               '2018-07-12 00:00:40', '2018-07-12 00:00:45',\n",
       "               '2018-07-12 00:00:50', '2018-07-12 00:00:55',\n",
       "               '2018-07-12 00:01:00', '2018-07-12 00:01:05',\n",
       "               '2018-07-12 00:01:10', '2018-07-12 00:01:15',\n",
       "               '2018-07-12 00:01:20', '2018-07-12 00:01:25',\n",
       "               '2018-07-12 00:01:30', '2018-07-12 00:01:35'],\n",
       "              dtype='datetime64[ns]', freq='5S')"
      ]
     },
     "execution_count": 69,
     "metadata": {},
     "output_type": "execute_result"
    }
   ],
   "source": [
    "rng = pd.date_range('7/12/2018', periods=20, freq='5S')\n",
    "rng"
   ]
  },
  {
   "cell_type": "code",
   "execution_count": 70,
   "metadata": {
    "scrolled": true
   },
   "outputs": [
    {
     "data": {
      "text/plain": [
       "2018-07-12 00:00:00    315\n",
       "2018-07-12 00:00:05    268\n",
       "2018-07-12 00:00:10    167\n",
       "2018-07-12 00:00:15    132\n",
       "2018-07-12 00:00:20    391\n",
       "2018-07-12 00:00:25    419\n",
       "2018-07-12 00:00:30    458\n",
       "2018-07-12 00:00:35    483\n",
       "2018-07-12 00:00:40      6\n",
       "2018-07-12 00:00:45    444\n",
       "2018-07-12 00:00:50    331\n",
       "2018-07-12 00:00:55    330\n",
       "2018-07-12 00:01:00    492\n",
       "2018-07-12 00:01:05    238\n",
       "2018-07-12 00:01:10    166\n",
       "2018-07-12 00:01:15    238\n",
       "2018-07-12 00:01:20    133\n",
       "2018-07-12 00:01:25     97\n",
       "2018-07-12 00:01:30    353\n",
       "2018-07-12 00:01:35    381\n",
       "Freq: 5S, dtype: int64"
      ]
     },
     "execution_count": 70,
     "metadata": {},
     "output_type": "execute_result"
    }
   ],
   "source": [
    "ts = pd.Series(np.random.randint(0, 500, len(rng)), index=rng)\n",
    "ts"
   ]
  },
  {
   "cell_type": "markdown",
   "metadata": {},
   "source": [
    "## Comment les ré-échantillonner ?"
   ]
  },
  {
   "cell_type": "code",
   "execution_count": 73,
   "metadata": {},
   "outputs": [
    {
     "data": {
      "text/plain": [
       "2018-07-12 00:00:00    312.00\n",
       "2018-07-12 00:01:00    262.25\n",
       "Freq: T, dtype: float64"
      ]
     },
     "execution_count": 73,
     "metadata": {},
     "output_type": "execute_result"
    }
   ],
   "source": [
    "ts.resample('Min').mean()"
   ]
  },
  {
   "cell_type": "code",
   "execution_count": null,
   "metadata": {},
   "outputs": [],
   "source": []
  }
 ],
 "metadata": {
  "kernelspec": {
   "display_name": "Python 3",
   "language": "python",
   "name": "python3"
  },
  "language_info": {
   "codemirror_mode": {
    "name": "ipython",
    "version": 3
   },
   "file_extension": ".py",
   "mimetype": "text/x-python",
   "name": "python",
   "nbconvert_exporter": "python",
   "pygments_lexer": "ipython3",
   "version": "3.6.5"
  }
 },
 "nbformat": 4,
 "nbformat_minor": 2
}
