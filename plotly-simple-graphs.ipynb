{
 "cells": [
  {
   "cell_type": "markdown",
   "metadata": {},
   "source": [
    "# Import des modules nécessaires"
   ]
  },
  {
   "cell_type": "markdown",
   "metadata": {},
   "source": [
    "Commençons par installer/mettre à jour les modules qui nous seront utiles dans ce cours.\n",
    "\n",
    "`pip` est le gestionnaire de paquets de Python. L'option `--upgrade` permet de mettre à jour vers la version la plus récente. L'option `--user` permet d'installer au niveau du compte utilisateur et donc de ne pas nécessiter de droits administrateur."
   ]
  },
  {
   "cell_type": "code",
   "execution_count": 1,
   "metadata": {
    "scrolled": true
   },
   "outputs": [
    {
     "name": "stdout",
     "output_type": "stream",
     "text": [
      "Requirement already up-to-date: nxviz in c:\\users\\pierr\\appdata\\roaming\\python\\python36\\site-packages (0.3.7)\n",
      "Requirement already up-to-date: numpy in c:\\users\\pierr\\appdata\\roaming\\python\\python36\\site-packages (1.14.5)\n",
      "Requirement already up-to-date: pandas in c:\\users\\pierr\\appdata\\roaming\\python\\python36\\site-packages (0.23.1)\n",
      "Requirement already up-to-date: matplotlib in c:\\users\\pierr\\anaconda3\\lib\\site-packages (2.2.2)\n",
      "Requirement already up-to-date: seaborn in c:\\users\\pierr\\anaconda3\\lib\\site-packages (0.8.1)\n",
      "Requirement already up-to-date: plotly in c:\\users\\pierr\\anaconda3\\lib\\site-packages (2.7.0)\n",
      "Requirement already up-to-date: cufflinks in c:\\users\\pierr\\anaconda3\\lib\\site-packages (0.12.1)\n",
      "Requirement already up-to-date: dash in c:\\users\\pierr\\anaconda3\\lib\\site-packages (0.21.1)\n",
      "Requirement not upgraded as not directly required: networkx==2.1 in c:\\users\\pierr\\anaconda3\\lib\\site-packages (from nxviz) (2.1)\n",
      "Requirement not upgraded as not directly required: setuptools==39.0.1 in c:\\users\\pierr\\anaconda3\\lib\\site-packages (from nxviz) (39.0.1)\n",
      "Requirement not upgraded as not directly required: PyYAML==3.12 in c:\\users\\pierr\\anaconda3\\lib\\site-packages (from nxviz) (3.12)\n",
      "Requirement not upgraded as not directly required: sphinxcontrib-fulltoc==1.2.0 in c:\\users\\pierr\\anaconda3\\lib\\site-packages (from nxviz) (1.2.0)\n",
      "Requirement not upgraded as not directly required: pytest==3.5.1 in c:\\users\\pierr\\anaconda3\\lib\\site-packages (from nxviz) (3.5.1)\n",
      "Requirement not upgraded as not directly required: palettable==3.1.0 in c:\\users\\pierr\\anaconda3\\lib\\site-packages (from nxviz) (3.1.0)\n",
      "Requirement not upgraded as not directly required: more-itertools==4.1.0 in c:\\users\\pierr\\anaconda3\\lib\\site-packages (from nxviz) (4.1.0)\n",
      "Requirement not upgraded as not directly required: hypothesis==3.56.5 in c:\\users\\pierr\\anaconda3\\lib\\site-packages (from nxviz) (3.56.5)\n",
      "Requirement not upgraded as not directly required: cryptography==2.2.2 in c:\\users\\pierr\\anaconda3\\lib\\site-packages (from nxviz) (2.2.2)\n",
      "Requirement not upgraded as not directly required: python-dateutil>=2.5.0 in c:\\users\\pierr\\anaconda3\\lib\\site-packages (from pandas) (2.6.1)\n",
      "Requirement not upgraded as not directly required: pytz>=2011k in c:\\users\\pierr\\anaconda3\\lib\\site-packages (from pandas) (2018.4)\n",
      "Requirement not upgraded as not directly required: six>=1.10 in c:\\users\\pierr\\anaconda3\\lib\\site-packages (from matplotlib) (1.11.0)\n",
      "Requirement not upgraded as not directly required: pyparsing!=2.0.4,!=2.1.2,!=2.1.6,>=2.0.1 in c:\\users\\pierr\\anaconda3\\lib\\site-packages (from matplotlib) (2.2.0)\n",
      "Requirement not upgraded as not directly required: kiwisolver>=1.0.1 in c:\\users\\pierr\\anaconda3\\lib\\site-packages (from matplotlib) (1.0.1)\n",
      "Requirement not upgraded as not directly required: cycler>=0.10 in c:\\users\\pierr\\anaconda3\\lib\\site-packages (from matplotlib) (0.10.0)\n",
      "Requirement not upgraded as not directly required: requests in c:\\users\\pierr\\anaconda3\\lib\\site-packages (from plotly) (2.18.4)\n",
      "Requirement not upgraded as not directly required: nbformat>=4.2 in c:\\users\\pierr\\anaconda3\\lib\\site-packages (from plotly) (4.4.0)\n",
      "Requirement not upgraded as not directly required: decorator>=4.0.6 in c:\\users\\pierr\\anaconda3\\lib\\site-packages (from plotly) (4.3.0)\n",
      "Requirement not upgraded as not directly required: colorlover>=0.2 in c:\\users\\pierr\\anaconda3\\lib\\site-packages (from cufflinks) (0.2.1)\n",
      "Requirement not upgraded as not directly required: Flask>=0.12 in c:\\users\\pierr\\anaconda3\\lib\\site-packages (from dash) (1.0.2)\n",
      "Requirement not upgraded as not directly required: flask-compress in c:\\users\\pierr\\anaconda3\\lib\\site-packages (from dash) (1.4.0)\n",
      "Requirement not upgraded as not directly required: pluggy<0.7,>=0.5 in c:\\users\\pierr\\anaconda3\\lib\\site-packages (from pytest==3.5.1->nxviz) (0.6.0)\n",
      "Requirement not upgraded as not directly required: colorama; sys_platform == \"win32\" in c:\\users\\pierr\\anaconda3\\lib\\site-packages (from pytest==3.5.1->nxviz) (0.3.9)\n",
      "Requirement not upgraded as not directly required: attrs>=17.4.0 in c:\\users\\pierr\\appdata\\roaming\\python\\python36\\site-packages (from pytest==3.5.1->nxviz) (18.1.0)\n",
      "Requirement not upgraded as not directly required: py>=1.5.0 in c:\\users\\pierr\\anaconda3\\lib\\site-packages (from pytest==3.5.1->nxviz) (1.5.2)\n",
      "Requirement not upgraded as not directly required: coverage in c:\\users\\pierr\\anaconda3\\lib\\site-packages (from hypothesis==3.56.5->nxviz) (4.4.2)\n",
      "Requirement not upgraded as not directly required: cffi>=1.7; platform_python_implementation != \"PyPy\" in c:\\users\\pierr\\anaconda3\\lib\\site-packages (from cryptography==2.2.2->nxviz) (1.11.2)\n",
      "Requirement not upgraded as not directly required: asn1crypto>=0.21.0 in c:\\users\\pierr\\anaconda3\\lib\\site-packages (from cryptography==2.2.2->nxviz) (0.23.0)\n",
      "Requirement not upgraded as not directly required: idna>=2.1 in c:\\users\\pierr\\anaconda3\\lib\\site-packages (from cryptography==2.2.2->nxviz) (2.6)\n",
      "Requirement not upgraded as not directly required: certifi>=2017.4.17 in c:\\users\\pierr\\anaconda3\\lib\\site-packages (from requests->plotly) (2018.4.16)\n",
      "Requirement not upgraded as not directly required: chardet<3.1.0,>=3.0.2 in c:\\users\\pierr\\anaconda3\\lib\\site-packages (from requests->plotly) (3.0.4)\n",
      "Requirement not upgraded as not directly required: urllib3<1.23,>=1.21.1 in c:\\users\\pierr\\anaconda3\\lib\\site-packages (from requests->plotly) (1.22)\n",
      "Requirement not upgraded as not directly required: ipython-genutils in c:\\users\\pierr\\anaconda3\\lib\\site-packages (from nbformat>=4.2->plotly) (0.2.0)\n",
      "Requirement not upgraded as not directly required: jsonschema!=2.5.0,>=2.4 in c:\\users\\pierr\\anaconda3\\lib\\site-packages (from nbformat>=4.2->plotly) (2.6.0)\n",
      "Requirement not upgraded as not directly required: jupyter-core in c:\\users\\pierr\\anaconda3\\lib\\site-packages (from nbformat>=4.2->plotly) (4.4.0)\n",
      "Requirement not upgraded as not directly required: traitlets>=4.1 in c:\\users\\pierr\\anaconda3\\lib\\site-packages (from nbformat>=4.2->plotly) (4.3.2)\n",
      "Requirement not upgraded as not directly required: Werkzeug>=0.14 in c:\\users\\pierr\\anaconda3\\lib\\site-packages (from Flask>=0.12->dash) (0.14.1)\n",
      "Requirement not upgraded as not directly required: itsdangerous>=0.24 in c:\\users\\pierr\\anaconda3\\lib\\site-packages (from Flask>=0.12->dash) (0.24)\n",
      "Requirement not upgraded as not directly required: Jinja2>=2.10 in c:\\users\\pierr\\anaconda3\\lib\\site-packages (from Flask>=0.12->dash) (2.10)\n",
      "Requirement not upgraded as not directly required: click>=5.1 in c:\\users\\pierr\\anaconda3\\lib\\site-packages (from Flask>=0.12->dash) (6.7)\n",
      "Requirement not upgraded as not directly required: pycparser in c:\\users\\pierr\\anaconda3\\lib\\site-packages (from cffi>=1.7; platform_python_implementation != \"PyPy\"->cryptography==2.2.2->nxviz) (2.18)\n",
      "Requirement not upgraded as not directly required: MarkupSafe>=0.23 in c:\\users\\pierr\\anaconda3\\lib\\site-packages (from Jinja2>=2.10->Flask>=0.12->dash) (1.0)\n"
     ]
    },
    {
     "name": "stderr",
     "output_type": "stream",
     "text": [
      "nxviz 0.3.7 has requirement numpy==1.14.3, but you'll have numpy 1.14.5 which is incompatible.\n",
      "nxviz 0.3.7 has requirement pandas==0.22.0, but you'll have pandas 0.23.1 which is incompatible.\n"
     ]
    }
   ],
   "source": [
    "!pip install nxviz numpy pandas matplotlib seaborn plotly cufflinks dash --upgrade --user"
   ]
  },
  {
   "cell_type": "code",
   "execution_count": 2,
   "metadata": {},
   "outputs": [
    {
     "data": {
      "text/html": [
       "<script>requirejs.config({paths: { 'plotly': ['https://cdn.plot.ly/plotly-latest.min']},});if(!window.Plotly) {{require(['plotly'],function(plotly) {window.Plotly=plotly;});}}</script>"
      ],
      "text/vnd.plotly.v1+html": [
       "<script>requirejs.config({paths: { 'plotly': ['https://cdn.plot.ly/plotly-latest.min']},});if(!window.Plotly) {{require(['plotly'],function(plotly) {window.Plotly=plotly;});}}</script>"
      ]
     },
     "metadata": {},
     "output_type": "display_data"
    }
   ],
   "source": [
    "import cufflinks as cf\n",
    "\n",
    "import numpy as np\n",
    "\n",
    "import pandas as pd\n",
    "\n",
    "import plotly.graph_objs as go\n",
    "from plotly.offline import init_notebook_mode, iplot\n",
    "\n",
    "init_notebook_mode(connected=True)"
   ]
  },
  {
   "cell_type": "markdown",
   "metadata": {},
   "source": [
    "# 1. Des colonnes de DataFrame sous forme de lignes"
   ]
  },
  {
   "cell_type": "markdown",
   "metadata": {},
   "source": [
    "Les graph objects (lignes, barres, etc.) de plotly sont nombreux. Commencons par quelques points rattachés ensemble par des lignes.\n",
    "\n",
    "Les données d'entrée peuvent être des listes de nombres, des numpy arrays, des pandas DataFrames."
   ]
  },
  {
   "cell_type": "code",
   "execution_count": 3,
   "metadata": {},
   "outputs": [
    {
     "data": {
      "application/vnd.plotly.v1+json": {
       "data": [
        {
         "marker": {
          "color": "red",
          "size": "10",
          "symbol": 104
         },
         "mode": "markers+lines",
         "name": "1st Trace",
         "text": [
          "one",
          "two",
          "three"
         ],
         "type": "scatter",
         "x": [
          1,
          2,
          3
         ],
         "y": [
          4,
          5,
          6
         ]
        }
       ],
       "layout": {
        "title": "First Plot",
        "xaxis": {
         "title": "x1"
        },
        "yaxis": {
         "title": "x2"
        }
       }
      },
      "text/html": [
       "<div id=\"08356d3a-f7e5-41f5-afde-42fd37e79d33\" style=\"height: 525px; width: 100%;\" class=\"plotly-graph-div\"></div><script type=\"text/javascript\">require([\"plotly\"], function(Plotly) { window.PLOTLYENV=window.PLOTLYENV || {};window.PLOTLYENV.BASE_URL=\"https://plot.ly\";Plotly.newPlot(\"08356d3a-f7e5-41f5-afde-42fd37e79d33\", [{\"type\": \"scatter\", \"x\": [1, 2, 3], \"y\": [4, 5, 6], \"marker\": {\"color\": \"red\", \"symbol\": 104, \"size\": \"10\"}, \"mode\": \"markers+lines\", \"text\": [\"one\", \"two\", \"three\"], \"name\": \"1st Trace\"}], {\"title\": \"First Plot\", \"xaxis\": {\"title\": \"x1\"}, \"yaxis\": {\"title\": \"x2\"}}, {\"showLink\": true, \"linkText\": \"Export to plot.ly\"})});</script>"
      ],
      "text/vnd.plotly.v1+html": [
       "<div id=\"08356d3a-f7e5-41f5-afde-42fd37e79d33\" style=\"height: 525px; width: 100%;\" class=\"plotly-graph-div\"></div><script type=\"text/javascript\">require([\"plotly\"], function(Plotly) { window.PLOTLYENV=window.PLOTLYENV || {};window.PLOTLYENV.BASE_URL=\"https://plot.ly\";Plotly.newPlot(\"08356d3a-f7e5-41f5-afde-42fd37e79d33\", [{\"type\": \"scatter\", \"x\": [1, 2, 3], \"y\": [4, 5, 6], \"marker\": {\"color\": \"red\", \"symbol\": 104, \"size\": \"10\"}, \"mode\": \"markers+lines\", \"text\": [\"one\", \"two\", \"three\"], \"name\": \"1st Trace\"}], {\"title\": \"First Plot\", \"xaxis\": {\"title\": \"x1\"}, \"yaxis\": {\"title\": \"x2\"}}, {\"showLink\": true, \"linkText\": \"Export to plot.ly\"})});</script>"
      ]
     },
     "metadata": {},
     "output_type": "display_data"
    }
   ],
   "source": [
    "# On construit d'abord chaque élément de graphique (ici des points reliés entre eux)\n",
    "trace1 = go.Scatter(\n",
    "    x=[1,2,3],\n",
    "    y=[4,5,6],\n",
    "    marker={\n",
    "        'color': 'red',\n",
    "        'symbol': 104,\n",
    "        'size': \"10\"\n",
    "    },\n",
    "    mode=\"markers+lines\",\n",
    "    text=[\"one\", \"two\", \"three\"],\n",
    "    name='1st Trace'\n",
    ")\n",
    "\n",
    "# On les ajoute aux données du graphe\n",
    "data=go.Data([trace1])\n",
    "\n",
    "# On précise le layout du graphe (titre du graphique, titres des axes)\n",
    "layout=go.Layout(title=\"First Plot\",\n",
    "                 xaxis={\n",
    "                     'title':'x1'\n",
    "                 },\n",
    "                 yaxis={\n",
    "                     'title':'x2'\n",
    "                 }\n",
    ")\n",
    "\n",
    "# On crée l'objet Figure\n",
    "figure = go.Figure(data=data, layout=layout)\n",
    "\n",
    "# On affiche l'objet figure dans le notebook\n",
    "iplot(figure, filename='pyguide_1')"
   ]
  },
  {
   "cell_type": "code",
   "execution_count": 4,
   "metadata": {},
   "outputs": [
    {
     "data": {
      "text/html": [
       "<div>\n",
       "<style scoped>\n",
       "    .dataframe tbody tr th:only-of-type {\n",
       "        vertical-align: middle;\n",
       "    }\n",
       "\n",
       "    .dataframe tbody tr th {\n",
       "        vertical-align: top;\n",
       "    }\n",
       "\n",
       "    .dataframe thead th {\n",
       "        text-align: right;\n",
       "    }\n",
       "</style>\n",
       "<table border=\"1\" class=\"dataframe\">\n",
       "  <thead>\n",
       "    <tr style=\"text-align: right;\">\n",
       "      <th></th>\n",
       "      <th>Pierre</th>\n",
       "      <th>Paul</th>\n",
       "      <th>Jacques</th>\n",
       "    </tr>\n",
       "  </thead>\n",
       "  <tbody>\n",
       "    <tr>\n",
       "      <th>0</th>\n",
       "      <td>0.411392</td>\n",
       "      <td>0.886754</td>\n",
       "      <td>0.694656</td>\n",
       "    </tr>\n",
       "    <tr>\n",
       "      <th>1</th>\n",
       "      <td>1.333084</td>\n",
       "      <td>1.347745</td>\n",
       "      <td>1.033688</td>\n",
       "    </tr>\n",
       "    <tr>\n",
       "      <th>2</th>\n",
       "      <td>1.778165</td>\n",
       "      <td>2.240335</td>\n",
       "      <td>1.479370</td>\n",
       "    </tr>\n",
       "  </tbody>\n",
       "</table>\n",
       "</div>"
      ],
      "text/plain": [
       "     Pierre      Paul   Jacques\n",
       "0  0.411392  0.886754  0.694656\n",
       "1  1.333084  1.347745  1.033688\n",
       "2  1.778165  2.240335  1.479370"
      ]
     },
     "execution_count": 4,
     "metadata": {},
     "output_type": "execute_result"
    }
   ],
   "source": [
    "# On construit une DataFrame bidon (ici une marche aléatoire).\n",
    "df = pd.DataFrame(np.random.random(size=(15, 3)), columns=['Pierre', 'Paul', 'Jacques']).cumsum()\n",
    "\n",
    "df.head(3)"
   ]
  },
  {
   "cell_type": "code",
   "execution_count": 5,
   "metadata": {},
   "outputs": [
    {
     "data": {
      "application/vnd.plotly.v1+json": {
       "data": [
        {
         "type": "scatter",
         "x": [
          0,
          1,
          2,
          3,
          4,
          5,
          6,
          7,
          8,
          9,
          10,
          11,
          12,
          13,
          14
         ],
         "y": [
          0.41139216176689763,
          1.3330844525471401,
          1.7781650708740773,
          1.9830980974462276,
          2.0921815194576885,
          2.7439413139282474,
          3.0237591261859755,
          3.8463148104759526,
          4.104197961671575,
          5.018456976562318,
          5.93392003600937,
          6.5350626060216355,
          7.4461138847399155,
          8.427819298715729,
          8.452894743877561
         ]
        },
        {
         "type": "scatter",
         "x": [
          0,
          1,
          2,
          3,
          4,
          5,
          6,
          7,
          8,
          9,
          10,
          11,
          12,
          13,
          14
         ],
         "y": [
          0.8867536031132494,
          1.3477451835502663,
          2.240335461601092,
          2.860102315222016,
          2.9957166966748074,
          3.223083394091434,
          3.470190499417492,
          3.4715057870309387,
          3.7430689084804167,
          4.68787451385561,
          4.817464296030902,
          4.885884732375513,
          5.591498845320356,
          5.986134547192589,
          6.215914698072499
         ]
        },
        {
         "type": "scatter",
         "x": [
          0,
          1,
          2,
          3,
          4,
          5,
          6,
          7,
          8,
          9,
          10,
          11,
          12,
          13,
          14
         ],
         "y": [
          0.6946560131464559,
          1.0336875462418775,
          1.4793696164327677,
          2.268579881825062,
          2.782550941402556,
          3.4992307287537754,
          3.528403881869919,
          4.083154890570371,
          4.539359841521563,
          5.464957550024062,
          6.264817968756793,
          6.496913486490273,
          7.276821073479402,
          7.641173660229832,
          8.30733788155546
         ]
        }
       ],
       "layout": {
        "title": "Un graphe plus complexe"
       }
      },
      "text/html": [
       "<div id=\"33132979-1715-421f-aeaf-2dadc32b12f0\" style=\"height: 525px; width: 100%;\" class=\"plotly-graph-div\"></div><script type=\"text/javascript\">require([\"plotly\"], function(Plotly) { window.PLOTLYENV=window.PLOTLYENV || {};window.PLOTLYENV.BASE_URL=\"https://plot.ly\";Plotly.newPlot(\"33132979-1715-421f-aeaf-2dadc32b12f0\", [{\"type\": \"scatter\", \"x\": [0, 1, 2, 3, 4, 5, 6, 7, 8, 9, 10, 11, 12, 13, 14], \"y\": [0.41139216176689763, 1.3330844525471401, 1.7781650708740773, 1.9830980974462276, 2.0921815194576885, 2.7439413139282474, 3.0237591261859755, 3.8463148104759526, 4.104197961671575, 5.018456976562318, 5.93392003600937, 6.5350626060216355, 7.4461138847399155, 8.427819298715729, 8.452894743877561]}, {\"type\": \"scatter\", \"x\": [0, 1, 2, 3, 4, 5, 6, 7, 8, 9, 10, 11, 12, 13, 14], \"y\": [0.8867536031132494, 1.3477451835502663, 2.240335461601092, 2.860102315222016, 2.9957166966748074, 3.223083394091434, 3.470190499417492, 3.4715057870309387, 3.7430689084804167, 4.68787451385561, 4.817464296030902, 4.885884732375513, 5.591498845320356, 5.986134547192589, 6.215914698072499]}, {\"type\": \"scatter\", \"x\": [0, 1, 2, 3, 4, 5, 6, 7, 8, 9, 10, 11, 12, 13, 14], \"y\": [0.6946560131464559, 1.0336875462418775, 1.4793696164327677, 2.268579881825062, 2.782550941402556, 3.4992307287537754, 3.528403881869919, 4.083154890570371, 4.539359841521563, 5.464957550024062, 6.264817968756793, 6.496913486490273, 7.276821073479402, 7.641173660229832, 8.30733788155546]}], {\"title\": \"Un graphe plus complexe\"}, {\"showLink\": true, \"linkText\": \"Export to plot.ly\"})});</script>"
      ],
      "text/vnd.plotly.v1+html": [
       "<div id=\"33132979-1715-421f-aeaf-2dadc32b12f0\" style=\"height: 525px; width: 100%;\" class=\"plotly-graph-div\"></div><script type=\"text/javascript\">require([\"plotly\"], function(Plotly) { window.PLOTLYENV=window.PLOTLYENV || {};window.PLOTLYENV.BASE_URL=\"https://plot.ly\";Plotly.newPlot(\"33132979-1715-421f-aeaf-2dadc32b12f0\", [{\"type\": \"scatter\", \"x\": [0, 1, 2, 3, 4, 5, 6, 7, 8, 9, 10, 11, 12, 13, 14], \"y\": [0.41139216176689763, 1.3330844525471401, 1.7781650708740773, 1.9830980974462276, 2.0921815194576885, 2.7439413139282474, 3.0237591261859755, 3.8463148104759526, 4.104197961671575, 5.018456976562318, 5.93392003600937, 6.5350626060216355, 7.4461138847399155, 8.427819298715729, 8.452894743877561]}, {\"type\": \"scatter\", \"x\": [0, 1, 2, 3, 4, 5, 6, 7, 8, 9, 10, 11, 12, 13, 14], \"y\": [0.8867536031132494, 1.3477451835502663, 2.240335461601092, 2.860102315222016, 2.9957166966748074, 3.223083394091434, 3.470190499417492, 3.4715057870309387, 3.7430689084804167, 4.68787451385561, 4.817464296030902, 4.885884732375513, 5.591498845320356, 5.986134547192589, 6.215914698072499]}, {\"type\": \"scatter\", \"x\": [0, 1, 2, 3, 4, 5, 6, 7, 8, 9, 10, 11, 12, 13, 14], \"y\": [0.6946560131464559, 1.0336875462418775, 1.4793696164327677, 2.268579881825062, 2.782550941402556, 3.4992307287537754, 3.528403881869919, 4.083154890570371, 4.539359841521563, 5.464957550024062, 6.264817968756793, 6.496913486490273, 7.276821073479402, 7.641173660229832, 8.30733788155546]}], {\"title\": \"Un graphe plus complexe\"}, {\"showLink\": true, \"linkText\": \"Export to plot.ly\"})});</script>"
      ]
     },
     "metadata": {},
     "output_type": "display_data"
    }
   ],
   "source": [
    "# On l'affiche\n",
    "en_x = df.index\n",
    "\n",
    "traces = []\n",
    "for col in df:\n",
    "    traces.append(\n",
    "        go.Scatter(\n",
    "            x=en_x,\n",
    "            y=df[col]\n",
    "        )\n",
    "    )\n",
    "\n",
    "figure = go.Figure(\n",
    "    data=go.Data(traces),\n",
    "    layout=go.Layout(title=\"Un graphe plus complexe\")\n",
    ")\n",
    "\n",
    "iplot(figure)"
   ]
  },
  {
   "cell_type": "markdown",
   "metadata": {},
   "source": [
    "# 2. Et maintenant des barres !"
   ]
  },
  {
   "cell_type": "markdown",
   "metadata": {},
   "source": [
    "Commençons par charger quelques données."
   ]
  },
  {
   "cell_type": "code",
   "execution_count": 6,
   "metadata": {},
   "outputs": [
    {
     "name": "stdout",
     "output_type": "stream",
     "text": [
      "<class 'pandas.core.frame.DataFrame'>\n",
      "RangeIndex: 891 entries, 0 to 890\n",
      "Data columns (total 15 columns):\n",
      "survived       891 non-null int64\n",
      "pclass         891 non-null int64\n",
      "sex            891 non-null object\n",
      "age            714 non-null float64\n",
      "sibsp          891 non-null int64\n",
      "parch          891 non-null int64\n",
      "fare           891 non-null float64\n",
      "embarked       889 non-null object\n",
      "class          891 non-null object\n",
      "who            891 non-null object\n",
      "adult_male     891 non-null bool\n",
      "deck           203 non-null object\n",
      "embark_town    889 non-null object\n",
      "alive          891 non-null object\n",
      "alone          891 non-null bool\n",
      "dtypes: bool(2), float64(2), int64(4), object(7)\n",
      "memory usage: 92.3+ KB\n"
     ]
    },
    {
     "data": {
      "text/html": [
       "<div>\n",
       "<style scoped>\n",
       "    .dataframe tbody tr th:only-of-type {\n",
       "        vertical-align: middle;\n",
       "    }\n",
       "\n",
       "    .dataframe tbody tr th {\n",
       "        vertical-align: top;\n",
       "    }\n",
       "\n",
       "    .dataframe thead th {\n",
       "        text-align: right;\n",
       "    }\n",
       "</style>\n",
       "<table border=\"1\" class=\"dataframe\">\n",
       "  <thead>\n",
       "    <tr style=\"text-align: right;\">\n",
       "      <th></th>\n",
       "      <th>survived</th>\n",
       "      <th>pclass</th>\n",
       "      <th>sex</th>\n",
       "      <th>age</th>\n",
       "      <th>sibsp</th>\n",
       "      <th>parch</th>\n",
       "      <th>fare</th>\n",
       "      <th>embarked</th>\n",
       "      <th>class</th>\n",
       "      <th>who</th>\n",
       "      <th>adult_male</th>\n",
       "      <th>deck</th>\n",
       "      <th>embark_town</th>\n",
       "      <th>alive</th>\n",
       "      <th>alone</th>\n",
       "    </tr>\n",
       "  </thead>\n",
       "  <tbody>\n",
       "    <tr>\n",
       "      <th>59</th>\n",
       "      <td>0</td>\n",
       "      <td>3</td>\n",
       "      <td>male</td>\n",
       "      <td>11.0</td>\n",
       "      <td>5</td>\n",
       "      <td>2</td>\n",
       "      <td>46.9000</td>\n",
       "      <td>S</td>\n",
       "      <td>Third</td>\n",
       "      <td>child</td>\n",
       "      <td>False</td>\n",
       "      <td>NaN</td>\n",
       "      <td>Southampton</td>\n",
       "      <td>no</td>\n",
       "      <td>False</td>\n",
       "    </tr>\n",
       "    <tr>\n",
       "      <th>328</th>\n",
       "      <td>1</td>\n",
       "      <td>3</td>\n",
       "      <td>female</td>\n",
       "      <td>31.0</td>\n",
       "      <td>1</td>\n",
       "      <td>1</td>\n",
       "      <td>20.5250</td>\n",
       "      <td>S</td>\n",
       "      <td>Third</td>\n",
       "      <td>woman</td>\n",
       "      <td>False</td>\n",
       "      <td>NaN</td>\n",
       "      <td>Southampton</td>\n",
       "      <td>yes</td>\n",
       "      <td>False</td>\n",
       "    </tr>\n",
       "    <tr>\n",
       "      <th>568</th>\n",
       "      <td>0</td>\n",
       "      <td>3</td>\n",
       "      <td>male</td>\n",
       "      <td>NaN</td>\n",
       "      <td>0</td>\n",
       "      <td>0</td>\n",
       "      <td>7.2292</td>\n",
       "      <td>C</td>\n",
       "      <td>Third</td>\n",
       "      <td>man</td>\n",
       "      <td>True</td>\n",
       "      <td>NaN</td>\n",
       "      <td>Cherbourg</td>\n",
       "      <td>no</td>\n",
       "      <td>True</td>\n",
       "    </tr>\n",
       "  </tbody>\n",
       "</table>\n",
       "</div>"
      ],
      "text/plain": [
       "     survived  pclass     sex   age  sibsp  parch     fare embarked  class  \\\n",
       "59          0       3    male  11.0      5      2  46.9000        S  Third   \n",
       "328         1       3  female  31.0      1      1  20.5250        S  Third   \n",
       "568         0       3    male   NaN      0      0   7.2292        C  Third   \n",
       "\n",
       "       who  adult_male deck  embark_town alive  alone  \n",
       "59   child       False  NaN  Southampton    no  False  \n",
       "328  woman       False  NaN  Southampton   yes  False  \n",
       "568    man        True  NaN    Cherbourg    no   True  "
      ]
     },
     "execution_count": 6,
     "metadata": {},
     "output_type": "execute_result"
    }
   ],
   "source": [
    "df = pd.read_csv('titanic.csv')\n",
    "\n",
    "df.info()\n",
    "\n",
    "df.sample(3)"
   ]
  },
  {
   "cell_type": "markdown",
   "metadata": {},
   "source": [
    "Nous allons nous intéresser au taux de survie par classe de passager.\n",
    "\n",
    "On peut facilement calculer cela à l'aide de `pandas`, soit via un `groupby` soit via un `pivot_table`. On utilise plutôt le dernier, car il est plus générique (permet de faire plus de choses)."
   ]
  },
  {
   "cell_type": "code",
   "execution_count": 7,
   "metadata": {},
   "outputs": [
    {
     "data": {
      "text/html": [
       "<div>\n",
       "<style scoped>\n",
       "    .dataframe tbody tr th:only-of-type {\n",
       "        vertical-align: middle;\n",
       "    }\n",
       "\n",
       "    .dataframe tbody tr th {\n",
       "        vertical-align: top;\n",
       "    }\n",
       "\n",
       "    .dataframe thead th {\n",
       "        text-align: right;\n",
       "    }\n",
       "</style>\n",
       "<table border=\"1\" class=\"dataframe\">\n",
       "  <thead>\n",
       "    <tr style=\"text-align: right;\">\n",
       "      <th></th>\n",
       "      <th>survived</th>\n",
       "    </tr>\n",
       "    <tr>\n",
       "      <th>class</th>\n",
       "      <th></th>\n",
       "    </tr>\n",
       "  </thead>\n",
       "  <tbody>\n",
       "    <tr>\n",
       "      <th>First</th>\n",
       "      <td>0.629630</td>\n",
       "    </tr>\n",
       "    <tr>\n",
       "      <th>Second</th>\n",
       "      <td>0.472826</td>\n",
       "    </tr>\n",
       "    <tr>\n",
       "      <th>Third</th>\n",
       "      <td>0.242363</td>\n",
       "    </tr>\n",
       "  </tbody>\n",
       "</table>\n",
       "</div>"
      ],
      "text/plain": [
       "        survived\n",
       "class           \n",
       "First   0.629630\n",
       "Second  0.472826\n",
       "Third   0.242363"
      ]
     },
     "execution_count": 7,
     "metadata": {},
     "output_type": "execute_result"
    }
   ],
   "source": [
    "dft = df.pivot_table(index='class', values='survived', aggfunc='mean')\n",
    "\n",
    "dft"
   ]
  },
  {
   "cell_type": "markdown",
   "metadata": {},
   "source": [
    "Voilà à quoi notre tableau ressemble. Faisons-en maintenant un graphique en barres.\n",
    "\n",
    "Volontairement, j'introduit quelques personnalisations (couleur, etc.) car elles pourront vous être utile à l'avenir."
   ]
  },
  {
   "cell_type": "code",
   "execution_count": 8,
   "metadata": {},
   "outputs": [
    {
     "data": {
      "application/vnd.plotly.v1+json": {
       "data": [
        {
         "marker": {
          "color": "rgba(210, 105, 30, 0.5)"
         },
         "type": "bar",
         "x": [
          "First",
          "Second",
          "Third"
         ],
         "y": [
          0.6296296296296297,
          0.47282608695652173,
          0.24236252545824846
         ]
        }
       ],
       "layout": {
        "title": "Quelle est votre chance de survie sur le Titanic, selon votre classe ?",
        "xaxis": {
         "title": "classe de passager"
        },
        "yaxis": {
         "range": [
          0,
          1
         ],
         "tickformat": ".0%",
         "ticklen": 0.1,
         "title": "pourcentage de survie"
        }
       }
      },
      "text/html": [
       "<div id=\"6fa21e65-2b8f-4b73-931a-8687b3f58633\" style=\"height: 525px; width: 100%;\" class=\"plotly-graph-div\"></div><script type=\"text/javascript\">require([\"plotly\"], function(Plotly) { window.PLOTLYENV=window.PLOTLYENV || {};window.PLOTLYENV.BASE_URL=\"https://plot.ly\";Plotly.newPlot(\"6fa21e65-2b8f-4b73-931a-8687b3f58633\", [{\"type\": \"bar\", \"x\": [\"First\", \"Second\", \"Third\"], \"y\": [0.6296296296296297, 0.47282608695652173, 0.24236252545824846], \"marker\": {\"color\": \"rgba(210, 105, 30, 0.5)\"}}], {\"title\": \"Quelle est votre chance de survie sur le Titanic, selon votre classe ?\", \"yaxis\": {\"title\": \"pourcentage de survie\", \"ticklen\": 0.1, \"tickformat\": \".0%\", \"range\": [0, 1]}, \"xaxis\": {\"title\": \"classe de passager\"}}, {\"showLink\": true, \"linkText\": \"Export to plot.ly\"})});</script>"
      ],
      "text/vnd.plotly.v1+html": [
       "<div id=\"6fa21e65-2b8f-4b73-931a-8687b3f58633\" style=\"height: 525px; width: 100%;\" class=\"plotly-graph-div\"></div><script type=\"text/javascript\">require([\"plotly\"], function(Plotly) { window.PLOTLYENV=window.PLOTLYENV || {};window.PLOTLYENV.BASE_URL=\"https://plot.ly\";Plotly.newPlot(\"6fa21e65-2b8f-4b73-931a-8687b3f58633\", [{\"type\": \"bar\", \"x\": [\"First\", \"Second\", \"Third\"], \"y\": [0.6296296296296297, 0.47282608695652173, 0.24236252545824846], \"marker\": {\"color\": \"rgba(210, 105, 30, 0.5)\"}}], {\"title\": \"Quelle est votre chance de survie sur le Titanic, selon votre classe ?\", \"yaxis\": {\"title\": \"pourcentage de survie\", \"ticklen\": 0.1, \"tickformat\": \".0%\", \"range\": [0, 1]}, \"xaxis\": {\"title\": \"classe de passager\"}}, {\"showLink\": true, \"linkText\": \"Export to plot.ly\"})});</script>"
      ]
     },
     "metadata": {},
     "output_type": "display_data"
    }
   ],
   "source": [
    "trace = go.Bar(\n",
    "    x=dft.index,\n",
    "    y=dft['survived'],\n",
    "    marker={\n",
    "        'color': 'rgba(210, 105, 30, 0.5)'\n",
    "    }\n",
    ")\n",
    "\n",
    "layout = go.Layout(\n",
    "    title=\"Quelle est votre chance de survie sur le Titanic, selon votre classe ?\",\n",
    "    yaxis={\n",
    "        'title': \"pourcentage de survie\",\n",
    "        'ticklen': 0.1,\n",
    "        'tickformat': '.0%',\n",
    "        'range': [0, 1]\n",
    "    },\n",
    "    xaxis={\n",
    "        'title': \"classe de passager\"\n",
    "    }\n",
    ")\n",
    "\n",
    "figure = go.Figure(\n",
    "    data=go.Data([trace]),\n",
    "    layout=layout\n",
    ")\n",
    "\n",
    "iplot(figure)"
   ]
  },
  {
   "cell_type": "markdown",
   "metadata": {},
   "source": [
    "Et si on voulait afficher plusieurs barres ?\n",
    "\n",
    "Par exemple, dans chaque classe, le taux de survie par sexe."
   ]
  },
  {
   "cell_type": "code",
   "execution_count": 9,
   "metadata": {},
   "outputs": [
    {
     "data": {
      "text/html": [
       "<div>\n",
       "<style scoped>\n",
       "    .dataframe tbody tr th:only-of-type {\n",
       "        vertical-align: middle;\n",
       "    }\n",
       "\n",
       "    .dataframe tbody tr th {\n",
       "        vertical-align: top;\n",
       "    }\n",
       "\n",
       "    .dataframe thead th {\n",
       "        text-align: right;\n",
       "    }\n",
       "</style>\n",
       "<table border=\"1\" class=\"dataframe\">\n",
       "  <thead>\n",
       "    <tr style=\"text-align: right;\">\n",
       "      <th>sex</th>\n",
       "      <th>female</th>\n",
       "      <th>male</th>\n",
       "    </tr>\n",
       "    <tr>\n",
       "      <th>class</th>\n",
       "      <th></th>\n",
       "      <th></th>\n",
       "    </tr>\n",
       "  </thead>\n",
       "  <tbody>\n",
       "    <tr>\n",
       "      <th>First</th>\n",
       "      <td>0.968085</td>\n",
       "      <td>0.368852</td>\n",
       "    </tr>\n",
       "    <tr>\n",
       "      <th>Second</th>\n",
       "      <td>0.921053</td>\n",
       "      <td>0.157407</td>\n",
       "    </tr>\n",
       "    <tr>\n",
       "      <th>Third</th>\n",
       "      <td>0.500000</td>\n",
       "      <td>0.135447</td>\n",
       "    </tr>\n",
       "  </tbody>\n",
       "</table>\n",
       "</div>"
      ],
      "text/plain": [
       "sex       female      male\n",
       "class                     \n",
       "First   0.968085  0.368852\n",
       "Second  0.921053  0.157407\n",
       "Third   0.500000  0.135447"
      ]
     },
     "execution_count": 9,
     "metadata": {},
     "output_type": "execute_result"
    }
   ],
   "source": [
    "dft = df.pivot_table(index='class', columns='sex', values='survived', aggfunc='mean')\n",
    "\n",
    "dft"
   ]
  },
  {
   "cell_type": "code",
   "execution_count": 10,
   "metadata": {},
   "outputs": [
    {
     "data": {
      "application/vnd.plotly.v1+json": {
       "data": [
        {
         "marker": {
          "color": "rgba(204, 204, 255, 0.5)"
         },
         "name": "female",
         "type": "bar",
         "x": [
          "First",
          "Second",
          "Third"
         ],
         "y": [
          0.9680851063829787,
          0.9210526315789473,
          0.5
         ]
        },
        {
         "marker": {
          "color": "rgba(72, 137, 151, 0.5)"
         },
         "name": "male",
         "type": "bar",
         "x": [
          "First",
          "Second",
          "Third"
         ],
         "y": [
          0.36885245901639346,
          0.1574074074074074,
          0.13544668587896252
         ]
        }
       ],
       "layout": {
        "title": "Quelle est votre chance de survie sur le Titanic, selon votre classe ?",
        "xaxis": {
         "title": "classe de passager"
        },
        "yaxis": {
         "range": [
          0,
          1
         ],
         "tickformat": ".0%",
         "ticklen": 0.1,
         "title": "pourcentage de survie"
        }
       }
      },
      "text/html": [
       "<div id=\"779474b0-cc92-4817-9b41-272b7d2b7780\" style=\"height: 525px; width: 100%;\" class=\"plotly-graph-div\"></div><script type=\"text/javascript\">require([\"plotly\"], function(Plotly) { window.PLOTLYENV=window.PLOTLYENV || {};window.PLOTLYENV.BASE_URL=\"https://plot.ly\";Plotly.newPlot(\"779474b0-cc92-4817-9b41-272b7d2b7780\", [{\"type\": \"bar\", \"x\": [\"First\", \"Second\", \"Third\"], \"y\": [0.9680851063829787, 0.9210526315789473, 0.5], \"marker\": {\"color\": \"rgba(204, 204, 255, 0.5)\"}, \"name\": \"female\"}, {\"type\": \"bar\", \"x\": [\"First\", \"Second\", \"Third\"], \"y\": [0.36885245901639346, 0.1574074074074074, 0.13544668587896252], \"marker\": {\"color\": \"rgba(72, 137, 151, 0.5)\"}, \"name\": \"male\"}], {\"title\": \"Quelle est votre chance de survie sur le Titanic, selon votre classe ?\", \"yaxis\": {\"title\": \"pourcentage de survie\", \"ticklen\": 0.1, \"tickformat\": \".0%\", \"range\": [0, 1]}, \"xaxis\": {\"title\": \"classe de passager\"}}, {\"showLink\": true, \"linkText\": \"Export to plot.ly\"})});</script>"
      ],
      "text/vnd.plotly.v1+html": [
       "<div id=\"779474b0-cc92-4817-9b41-272b7d2b7780\" style=\"height: 525px; width: 100%;\" class=\"plotly-graph-div\"></div><script type=\"text/javascript\">require([\"plotly\"], function(Plotly) { window.PLOTLYENV=window.PLOTLYENV || {};window.PLOTLYENV.BASE_URL=\"https://plot.ly\";Plotly.newPlot(\"779474b0-cc92-4817-9b41-272b7d2b7780\", [{\"type\": \"bar\", \"x\": [\"First\", \"Second\", \"Third\"], \"y\": [0.9680851063829787, 0.9210526315789473, 0.5], \"marker\": {\"color\": \"rgba(204, 204, 255, 0.5)\"}, \"name\": \"female\"}, {\"type\": \"bar\", \"x\": [\"First\", \"Second\", \"Third\"], \"y\": [0.36885245901639346, 0.1574074074074074, 0.13544668587896252], \"marker\": {\"color\": \"rgba(72, 137, 151, 0.5)\"}, \"name\": \"male\"}], {\"title\": \"Quelle est votre chance de survie sur le Titanic, selon votre classe ?\", \"yaxis\": {\"title\": \"pourcentage de survie\", \"ticklen\": 0.1, \"tickformat\": \".0%\", \"range\": [0, 1]}, \"xaxis\": {\"title\": \"classe de passager\"}}, {\"showLink\": true, \"linkText\": \"Export to plot.ly\"})});</script>"
      ]
     },
     "metadata": {},
     "output_type": "display_data"
    }
   ],
   "source": [
    "colors = {\n",
    "    'female': 'rgba(204, 204, 255, 0.5)',\n",
    "    'male': 'rgba(72, 137, 151, 0.5)'\n",
    "}\n",
    "\n",
    "traces = []\n",
    "for col in dft: # ici col=sex\n",
    "    traces.append(\n",
    "        go.Bar(\n",
    "            x=dft.index,\n",
    "            y=dft[col],\n",
    "            marker={\n",
    "                'color': colors[col]\n",
    "            },\n",
    "            name=col\n",
    "        )\n",
    "    )\n",
    "\n",
    "layout = go.Layout(\n",
    "    title=\"Quelle est votre chance de survie sur le Titanic, selon votre classe ?\",\n",
    "    yaxis={\n",
    "        'title': \"pourcentage de survie\",\n",
    "        'ticklen': 0.1,\n",
    "        'tickformat': '.0%',\n",
    "        'range': [0, 1]\n",
    "    },\n",
    "    xaxis={\n",
    "        'title': \"classe de passager\"\n",
    "    }\n",
    ")\n",
    "\n",
    "figure = go.Figure(\n",
    "    data=go.Data(traces),\n",
    "    layout=layout\n",
    ")\n",
    "\n",
    "iplot(figure)"
   ]
  },
  {
   "cell_type": "markdown",
   "metadata": {},
   "source": [
    "Et si on voulait superposer les barres ?\n",
    "\n",
    "Affichons le nombre de passagers, en fonction de leur classe et du port duquel ils sont partis."
   ]
  },
  {
   "cell_type": "code",
   "execution_count": 11,
   "metadata": {},
   "outputs": [
    {
     "data": {
      "text/html": [
       "<div>\n",
       "<style scoped>\n",
       "    .dataframe tbody tr th:only-of-type {\n",
       "        vertical-align: middle;\n",
       "    }\n",
       "\n",
       "    .dataframe tbody tr th {\n",
       "        vertical-align: top;\n",
       "    }\n",
       "\n",
       "    .dataframe thead th {\n",
       "        text-align: right;\n",
       "    }\n",
       "</style>\n",
       "<table border=\"1\" class=\"dataframe\">\n",
       "  <thead>\n",
       "    <tr style=\"text-align: right;\">\n",
       "      <th>embark_town</th>\n",
       "      <th>Cherbourg</th>\n",
       "      <th>Queenstown</th>\n",
       "      <th>Southampton</th>\n",
       "    </tr>\n",
       "    <tr>\n",
       "      <th>class</th>\n",
       "      <th></th>\n",
       "      <th></th>\n",
       "      <th></th>\n",
       "    </tr>\n",
       "  </thead>\n",
       "  <tbody>\n",
       "    <tr>\n",
       "      <th>First</th>\n",
       "      <td>85</td>\n",
       "      <td>2</td>\n",
       "      <td>127</td>\n",
       "    </tr>\n",
       "    <tr>\n",
       "      <th>Second</th>\n",
       "      <td>17</td>\n",
       "      <td>3</td>\n",
       "      <td>164</td>\n",
       "    </tr>\n",
       "    <tr>\n",
       "      <th>Third</th>\n",
       "      <td>66</td>\n",
       "      <td>72</td>\n",
       "      <td>353</td>\n",
       "    </tr>\n",
       "  </tbody>\n",
       "</table>\n",
       "</div>"
      ],
      "text/plain": [
       "embark_town  Cherbourg  Queenstown  Southampton\n",
       "class                                          \n",
       "First               85           2          127\n",
       "Second              17           3          164\n",
       "Third               66          72          353"
      ]
     },
     "execution_count": 11,
     "metadata": {},
     "output_type": "execute_result"
    }
   ],
   "source": [
    "dft = df.pivot_table(index='class', columns='embark_town', values='survived', aggfunc='count')\n",
    "\n",
    "dft"
   ]
  },
  {
   "cell_type": "code",
   "execution_count": 12,
   "metadata": {},
   "outputs": [
    {
     "data": {
      "application/vnd.plotly.v1+json": {
       "data": [
        {
         "name": "Cherbourg",
         "type": "bar",
         "x": [
          "First",
          "Second",
          "Third"
         ],
         "y": [
          85,
          17,
          66
         ]
        },
        {
         "name": "Queenstown",
         "type": "bar",
         "x": [
          "First",
          "Second",
          "Third"
         ],
         "y": [
          2,
          3,
          72
         ]
        },
        {
         "name": "Southampton",
         "type": "bar",
         "x": [
          "First",
          "Second",
          "Third"
         ],
         "y": [
          127,
          164,
          353
         ]
        }
       ],
       "layout": {
        "barmode": "stack",
        "title": "D'où venaient les passagers du Titanic ?",
        "xaxis": {
         "title": "classe de passager"
        },
        "yaxis": {
         "title": "nombre de passagers"
        }
       }
      },
      "text/html": [
       "<div id=\"2dbaee92-3363-4e6e-b028-4988e019723d\" style=\"height: 525px; width: 100%;\" class=\"plotly-graph-div\"></div><script type=\"text/javascript\">require([\"plotly\"], function(Plotly) { window.PLOTLYENV=window.PLOTLYENV || {};window.PLOTLYENV.BASE_URL=\"https://plot.ly\";Plotly.newPlot(\"2dbaee92-3363-4e6e-b028-4988e019723d\", [{\"type\": \"bar\", \"x\": [\"First\", \"Second\", \"Third\"], \"y\": [85, 17, 66], \"name\": \"Cherbourg\"}, {\"type\": \"bar\", \"x\": [\"First\", \"Second\", \"Third\"], \"y\": [2, 3, 72], \"name\": \"Queenstown\"}, {\"type\": \"bar\", \"x\": [\"First\", \"Second\", \"Third\"], \"y\": [127, 164, 353], \"name\": \"Southampton\"}], {\"title\": \"D'o\\u00f9 venaient les passagers du Titanic ?\", \"yaxis\": {\"title\": \"nombre de passagers\"}, \"xaxis\": {\"title\": \"classe de passager\"}, \"barmode\": \"stack\"}, {\"showLink\": true, \"linkText\": \"Export to plot.ly\"})});</script>"
      ],
      "text/vnd.plotly.v1+html": [
       "<div id=\"2dbaee92-3363-4e6e-b028-4988e019723d\" style=\"height: 525px; width: 100%;\" class=\"plotly-graph-div\"></div><script type=\"text/javascript\">require([\"plotly\"], function(Plotly) { window.PLOTLYENV=window.PLOTLYENV || {};window.PLOTLYENV.BASE_URL=\"https://plot.ly\";Plotly.newPlot(\"2dbaee92-3363-4e6e-b028-4988e019723d\", [{\"type\": \"bar\", \"x\": [\"First\", \"Second\", \"Third\"], \"y\": [85, 17, 66], \"name\": \"Cherbourg\"}, {\"type\": \"bar\", \"x\": [\"First\", \"Second\", \"Third\"], \"y\": [2, 3, 72], \"name\": \"Queenstown\"}, {\"type\": \"bar\", \"x\": [\"First\", \"Second\", \"Third\"], \"y\": [127, 164, 353], \"name\": \"Southampton\"}], {\"title\": \"D'o\\u00f9 venaient les passagers du Titanic ?\", \"yaxis\": {\"title\": \"nombre de passagers\"}, \"xaxis\": {\"title\": \"classe de passager\"}, \"barmode\": \"stack\"}, {\"showLink\": true, \"linkText\": \"Export to plot.ly\"})});</script>"
      ]
     },
     "metadata": {},
     "output_type": "display_data"
    }
   ],
   "source": [
    "traces = []\n",
    "for col in dft: # ici col=embark_town\n",
    "    traces.append(\n",
    "        go.Bar(\n",
    "            x=dft.index,\n",
    "            y=dft[col],\n",
    "            name=col\n",
    "        )\n",
    "    )\n",
    "\n",
    "layout = go.Layout(\n",
    "    title=\"D'où venaient les passagers du Titanic ?\",\n",
    "    yaxis={\n",
    "        'title': \"nombre de passagers\"\n",
    "    },\n",
    "    xaxis={\n",
    "        'title': \"classe de passager\"\n",
    "    },\n",
    "    barmode='stack'\n",
    ")\n",
    "\n",
    "figure = go.Figure(\n",
    "    data=go.Data(traces),\n",
    "    layout=layout\n",
    ")\n",
    "\n",
    "iplot(figure)"
   ]
  },
  {
   "cell_type": "markdown",
   "metadata": {},
   "source": [
    "# 3. Si on faisait des cartes ?"
   ]
  },
  {
   "cell_type": "code",
   "execution_count": 13,
   "metadata": {},
   "outputs": [
    {
     "data": {
      "application/vnd.plotly.v1+json": {
       "data": [
        {
         "lat": [
          9.95,
          6.43,
          14.5,
          8.46
         ],
         "lon": [
          -9.7,
          -9.43,
          -14.45,
          -11.78
         ],
         "marker": {
          "color": "rgb(33,113,181)",
          "line": {
           "width": 0
          },
          "size": [
           20.44,
           67.24,
           0.06,
           38.8
          ]
         },
         "mode": "markers+text",
         "name": "Sept",
         "text": [
          "1022 Guinea",
          "3362 Liberia",
          "3 Senegal",
          "1940 Sierra Leone"
         ],
         "textposition": "bottom center",
         "type": "scattergeo"
        },
        {
         "lat": [
          9.95,
          6.43,
          14.5,
          8.46
         ],
         "lon": [
          -9.7,
          -9.43,
          -14.45,
          -11.78
         ],
         "marker": {
          "color": "rgb(107,174,214)",
          "line": {
           "width": 0
          },
          "size": [
           15.42,
           27.9,
           0.02,
           24.32
          ]
         },
         "name": "Aug",
         "text": [
          771,
          1395,
          1,
          1216
         ],
         "type": "scattergeo"
        },
        {
         "lat": [
          9.95,
          6.43,
          8.46
         ],
         "lon": [
          -9.7,
          -9.43,
          -11.78
         ],
         "marker": {
          "color": "rgb(189,215,231)",
          "line": {
           "width": 0
          },
          "size": [
           9.2,
           6.58,
           10.66
          ]
         },
         "name": "July",
         "text": [
          460,
          329,
          533
         ],
         "type": "scattergeo"
        },
        {
         "lat": [
          9.95,
          6.43,
          8.46
         ],
         "lon": [
          -9.7,
          -9.43,
          -11.78
         ],
         "marker": {
          "color": "rgb(239,243,255)",
          "line": {
           "width": 0
          },
          "size": [
           8.26,
           2.14,
           4.78
          ]
         },
         "name": "June",
         "text": [
          413,
          107,
          239
         ],
         "type": "scattergeo"
        },
        {
         "autocolorscale": false,
         "colorscale": [
          [
           0,
           "rgb(0, 0, 0)"
          ],
          [
           1,
           "rgb(0, 0, 0)"
          ]
         ],
         "geo": "geo2",
         "locationmode": "country names",
         "locations": [
          "Guinea",
          "Liberia",
          "Senegal",
          "Sierra Leone"
         ],
         "showscale": false,
         "text": [
          "Guinea",
          "Liberia",
          "Senegal",
          "Sierra Leone"
         ],
         "type": "choropleth",
         "z": [
          1022,
          3362,
          3,
          1940
         ]
        },
        {
         "geo": "geo2",
         "lat": [
          7.1881
         ],
         "lon": [
          21.0936
         ],
         "mode": "text",
         "showlegend": false,
         "text": [
          "Africa"
         ],
         "type": "scattergeo"
        }
       ],
       "layout": {
        "geo": {
         "coastlinecolor": "rgb(255, 255, 255)",
         "countrycolor": "rgb(255, 255, 255)",
         "domain": {
          "x": [
           0,
           1
          ],
          "y": [
           0,
           1
          ]
         },
         "landcolor": "rgb(229, 229, 229)",
         "lataxis": {
          "range": [
           0,
           12
          ]
         },
         "lonaxis": {
          "range": [
           -15,
           -5
          ]
         },
         "projection": {
          "type": "Mercator"
         },
         "resolution": 50,
         "scope": "africa",
         "showcoastlines": true,
         "showframe": false,
         "showland": true
        },
        "geo2": {
         "bgcolor": "rgba(255, 255, 255, 0.0)",
         "domain": {
          "x": [
           0,
           0.6
          ],
          "y": [
           0,
           0.6
          ]
         },
         "landcolor": "rgb(229, 229, 229)",
         "scope": "africa",
         "showcountries": false,
         "showframe": false,
         "showland": true
        },
        "legend": {
         "traceorder": "reversed"
        },
        "title": "Ebola cases reported by month in West Africa 2014<br> Source: <a href=\"https://data.hdx.rwlabs.org/dataset/rowca-ebola-cases\">HDX</a>"
       }
      },
      "text/html": [
       "<div id=\"cdaf7392-8918-461d-880b-35244107cec5\" style=\"height: 525px; width: 100%;\" class=\"plotly-graph-div\"></div><script type=\"text/javascript\">require([\"plotly\"], function(Plotly) { window.PLOTLYENV=window.PLOTLYENV || {};window.PLOTLYENV.BASE_URL=\"https://plot.ly\";Plotly.newPlot(\"cdaf7392-8918-461d-880b-35244107cec5\", [{\"type\": \"scattergeo\", \"lon\": [-9.7, -9.43, -14.45, -11.78], \"lat\": [9.95, 6.43, 14.5, 8.46], \"text\": [\"1022 Guinea\", \"3362 Liberia\", \"3 Senegal\", \"1940 Sierra Leone\"], \"name\": \"Sept\", \"marker\": {\"size\": [20.44, 67.24, 0.06, 38.8], \"color\": \"rgb(33,113,181)\", \"line\": {\"width\": 0}}, \"mode\": \"markers+text\", \"textposition\": \"bottom center\"}, {\"type\": \"scattergeo\", \"lon\": [-9.7, -9.43, -14.45, -11.78], \"lat\": [9.95, 6.43, 14.5, 8.46], \"text\": [771.0, 1395.0, 1.0, 1216.0], \"name\": \"Aug\", \"marker\": {\"size\": [15.42, 27.9, 0.02, 24.32], \"color\": \"rgb(107,174,214)\", \"line\": {\"width\": 0}}}, {\"type\": \"scattergeo\", \"lon\": [-9.7, -9.43, -11.78], \"lat\": [9.95, 6.43, 8.46], \"text\": [460.0, 329.0, 533.0], \"name\": \"July\", \"marker\": {\"size\": [9.2, 6.58, 10.66], \"color\": \"rgb(189,215,231)\", \"line\": {\"width\": 0}}}, {\"type\": \"scattergeo\", \"lon\": [-9.7, -9.43, -11.78], \"lat\": [9.95, 6.43, 8.46], \"text\": [413.0, 107.0, 239.0], \"name\": \"June\", \"marker\": {\"size\": [8.26, 2.14, 4.78], \"color\": \"rgb(239,243,255)\", \"line\": {\"width\": 0}}}, {\"type\": \"choropleth\", \"locationmode\": \"country names\", \"locations\": [\"Guinea\", \"Liberia\", \"Senegal\", \"Sierra Leone\"], \"z\": [1022.0, 3362.0, 3.0, 1940.0], \"text\": [\"Guinea\", \"Liberia\", \"Senegal\", \"Sierra Leone\"], \"colorscale\": [[0, \"rgb(0, 0, 0)\"], [1, \"rgb(0, 0, 0)\"]], \"autocolorscale\": false, \"showscale\": false, \"geo\": \"geo2\"}, {\"type\": \"scattergeo\", \"lon\": [21.0936], \"lat\": [7.1881], \"text\": [\"Africa\"], \"mode\": \"text\", \"showlegend\": false, \"geo\": \"geo2\"}], {\"title\": \"Ebola cases reported by month in West Africa 2014<br> Source: <a href=\\\"https://data.hdx.rwlabs.org/dataset/rowca-ebola-cases\\\">HDX</a>\", \"geo\": {\"resolution\": 50, \"scope\": \"africa\", \"showframe\": false, \"showcoastlines\": true, \"showland\": true, \"landcolor\": \"rgb(229, 229, 229)\", \"countrycolor\": \"rgb(255, 255, 255)\", \"coastlinecolor\": \"rgb(255, 255, 255)\", \"projection\": {\"type\": \"Mercator\"}, \"lonaxis\": {\"range\": [-15.0, -5.0]}, \"lataxis\": {\"range\": [0.0, 12.0]}, \"domain\": {\"x\": [0, 1], \"y\": [0, 1]}}, \"geo2\": {\"scope\": \"africa\", \"showframe\": false, \"showland\": true, \"landcolor\": \"rgb(229, 229, 229)\", \"showcountries\": false, \"domain\": {\"x\": [0, 0.6], \"y\": [0, 0.6]}, \"bgcolor\": \"rgba(255, 255, 255, 0.0)\"}, \"legend\": {\"traceorder\": \"reversed\"}}, {\"showLink\": true, \"linkText\": \"Export to plot.ly\"})});</script>"
      ],
      "text/vnd.plotly.v1+html": [
       "<div id=\"cdaf7392-8918-461d-880b-35244107cec5\" style=\"height: 525px; width: 100%;\" class=\"plotly-graph-div\"></div><script type=\"text/javascript\">require([\"plotly\"], function(Plotly) { window.PLOTLYENV=window.PLOTLYENV || {};window.PLOTLYENV.BASE_URL=\"https://plot.ly\";Plotly.newPlot(\"cdaf7392-8918-461d-880b-35244107cec5\", [{\"type\": \"scattergeo\", \"lon\": [-9.7, -9.43, -14.45, -11.78], \"lat\": [9.95, 6.43, 14.5, 8.46], \"text\": [\"1022 Guinea\", \"3362 Liberia\", \"3 Senegal\", \"1940 Sierra Leone\"], \"name\": \"Sept\", \"marker\": {\"size\": [20.44, 67.24, 0.06, 38.8], \"color\": \"rgb(33,113,181)\", \"line\": {\"width\": 0}}, \"mode\": \"markers+text\", \"textposition\": \"bottom center\"}, {\"type\": \"scattergeo\", \"lon\": [-9.7, -9.43, -14.45, -11.78], \"lat\": [9.95, 6.43, 14.5, 8.46], \"text\": [771.0, 1395.0, 1.0, 1216.0], \"name\": \"Aug\", \"marker\": {\"size\": [15.42, 27.9, 0.02, 24.32], \"color\": \"rgb(107,174,214)\", \"line\": {\"width\": 0}}}, {\"type\": \"scattergeo\", \"lon\": [-9.7, -9.43, -11.78], \"lat\": [9.95, 6.43, 8.46], \"text\": [460.0, 329.0, 533.0], \"name\": \"July\", \"marker\": {\"size\": [9.2, 6.58, 10.66], \"color\": \"rgb(189,215,231)\", \"line\": {\"width\": 0}}}, {\"type\": \"scattergeo\", \"lon\": [-9.7, -9.43, -11.78], \"lat\": [9.95, 6.43, 8.46], \"text\": [413.0, 107.0, 239.0], \"name\": \"June\", \"marker\": {\"size\": [8.26, 2.14, 4.78], \"color\": \"rgb(239,243,255)\", \"line\": {\"width\": 0}}}, {\"type\": \"choropleth\", \"locationmode\": \"country names\", \"locations\": [\"Guinea\", \"Liberia\", \"Senegal\", \"Sierra Leone\"], \"z\": [1022.0, 3362.0, 3.0, 1940.0], \"text\": [\"Guinea\", \"Liberia\", \"Senegal\", \"Sierra Leone\"], \"colorscale\": [[0, \"rgb(0, 0, 0)\"], [1, \"rgb(0, 0, 0)\"]], \"autocolorscale\": false, \"showscale\": false, \"geo\": \"geo2\"}, {\"type\": \"scattergeo\", \"lon\": [21.0936], \"lat\": [7.1881], \"text\": [\"Africa\"], \"mode\": \"text\", \"showlegend\": false, \"geo\": \"geo2\"}], {\"title\": \"Ebola cases reported by month in West Africa 2014<br> Source: <a href=\\\"https://data.hdx.rwlabs.org/dataset/rowca-ebola-cases\\\">HDX</a>\", \"geo\": {\"resolution\": 50, \"scope\": \"africa\", \"showframe\": false, \"showcoastlines\": true, \"showland\": true, \"landcolor\": \"rgb(229, 229, 229)\", \"countrycolor\": \"rgb(255, 255, 255)\", \"coastlinecolor\": \"rgb(255, 255, 255)\", \"projection\": {\"type\": \"Mercator\"}, \"lonaxis\": {\"range\": [-15.0, -5.0]}, \"lataxis\": {\"range\": [0.0, 12.0]}, \"domain\": {\"x\": [0, 1], \"y\": [0, 1]}}, \"geo2\": {\"scope\": \"africa\", \"showframe\": false, \"showland\": true, \"landcolor\": \"rgb(229, 229, 229)\", \"showcountries\": false, \"domain\": {\"x\": [0, 0.6], \"y\": [0, 0.6]}, \"bgcolor\": \"rgba(255, 255, 255, 0.0)\"}, \"legend\": {\"traceorder\": \"reversed\"}}, {\"showLink\": true, \"linkText\": \"Export to plot.ly\"})});</script>"
      ]
     },
     "metadata": {},
     "output_type": "display_data"
    }
   ],
   "source": [
    "df = pd.read_csv('https://raw.githubusercontent.com/plotly/datasets/master/2014_ebola.csv')\n",
    "df.head()\n",
    "\n",
    "cases = []\n",
    "colors = ['rgb(239,243,255)','rgb(189,215,231)','rgb(107,174,214)','rgb(33,113,181)']\n",
    "months = {6:'June',7:'July',8:'Aug',9:'Sept'}\n",
    "\n",
    "for i in range(6,10)[::-1]:\n",
    "    cases.append(go.Scattergeo(\n",
    "            lon = df[ df['Month'] == i ]['Lon'], #-(max(range(6,10))-i),\n",
    "            lat = df[ df['Month'] == i ]['Lat'],\n",
    "            text = df[ df['Month'] == i ]['Value'],\n",
    "            name = months[i],\n",
    "            marker = dict(\n",
    "                size = df[ df['Month'] == i ]['Value']/50,\n",
    "                color = colors[i-6],\n",
    "                line = dict(width = 0)\n",
    "            )\n",
    "        )\n",
    "    )\n",
    "\n",
    "cases[0]['text'] = df[ df['Month'] == 9 ]['Value'].map('{:.0f}'.format).astype(str)+' '+\\\n",
    "    df[ df['Month'] == 9 ]['Country']\n",
    "cases[0]['mode'] = 'markers+text'\n",
    "cases[0]['textposition'] = 'bottom center'\n",
    "\n",
    "inset = [\n",
    "    go.Choropleth(\n",
    "        locationmode = 'country names',\n",
    "        locations = df[ df['Month'] == 9 ]['Country'],\n",
    "        z = df[ df['Month'] == 9 ]['Value'],\n",
    "        text = df[ df['Month'] == 9 ]['Country'],\n",
    "        colorscale = [[0,'rgb(0, 0, 0)'],[1,'rgb(0, 0, 0)']],\n",
    "        autocolorscale = False,\n",
    "        showscale = False,\n",
    "        geo = 'geo2'\n",
    "    ),\n",
    "    go.Scattergeo(\n",
    "        lon = [21.0936],\n",
    "        lat = [7.1881],\n",
    "        text = ['Africa'],\n",
    "        mode = 'text',\n",
    "        showlegend = False,\n",
    "        geo = 'geo2'\n",
    "    )\n",
    "]\n",
    "\n",
    "layout = go.Layout(\n",
    "    title = 'Ebola cases reported by month in West Africa 2014<br> \\\n",
    "Source: <a href=\"https://data.hdx.rwlabs.org/dataset/rowca-ebola-cases\">\\\n",
    "HDX</a>',\n",
    "    geo = dict(\n",
    "        resolution = 50,\n",
    "        scope = 'africa',\n",
    "        showframe = False,\n",
    "        showcoastlines = True,\n",
    "        showland = True,\n",
    "        landcolor = \"rgb(229, 229, 229)\",\n",
    "        countrycolor = \"rgb(255, 255, 255)\" ,\n",
    "        coastlinecolor = \"rgb(255, 255, 255)\",\n",
    "        projection = dict(\n",
    "            type = 'Mercator'\n",
    "        ),\n",
    "        lonaxis = dict( range= [ -15.0, -5.0 ] ),\n",
    "        lataxis = dict( range= [ 0.0, 12.0 ] ),\n",
    "        domain = dict(\n",
    "            x = [ 0, 1 ],\n",
    "            y = [ 0, 1 ]\n",
    "        )\n",
    "    ),\n",
    "    geo2 = dict(\n",
    "        scope = 'africa',\n",
    "        showframe = False,\n",
    "        showland = True,\n",
    "        landcolor = \"rgb(229, 229, 229)\",\n",
    "        showcountries = False,\n",
    "        domain = dict(\n",
    "            x = [ 0, 0.6 ],\n",
    "            y = [ 0, 0.6 ]\n",
    "        ),\n",
    "        bgcolor = 'rgba(255, 255, 255, 0.0)',\n",
    "    ),\n",
    "    legend = dict(\n",
    "           traceorder = 'reversed'\n",
    "    )\n",
    ")\n",
    "\n",
    "fig = go.Figure(layout=layout, data=cases+inset)\n",
    "\n",
    "iplot(fig, validate=False, filename='West Africa Ebola cases 2014' )"
   ]
  },
  {
   "cell_type": "code",
   "execution_count": 14,
   "metadata": {},
   "outputs": [
    {
     "data": {
      "text/html": [
       "<div>\n",
       "<style scoped>\n",
       "    .dataframe tbody tr th:only-of-type {\n",
       "        vertical-align: middle;\n",
       "    }\n",
       "\n",
       "    .dataframe tbody tr th {\n",
       "        vertical-align: top;\n",
       "    }\n",
       "\n",
       "    .dataframe thead th {\n",
       "        text-align: right;\n",
       "    }\n",
       "</style>\n",
       "<table border=\"1\" class=\"dataframe\">\n",
       "  <thead>\n",
       "    <tr style=\"text-align: right;\">\n",
       "      <th></th>\n",
       "      <th>ville</th>\n",
       "      <th>lat</th>\n",
       "      <th>lon</th>\n",
       "      <th>code</th>\n",
       "      <th>population</th>\n",
       "    </tr>\n",
       "  </thead>\n",
       "  <tbody>\n",
       "    <tr>\n",
       "      <th>0</th>\n",
       "      <td>Nantes</td>\n",
       "      <td>47.216667</td>\n",
       "      <td>-1.550000</td>\n",
       "      <td>44109</td>\n",
       "      <td>934165</td>\n",
       "    </tr>\n",
       "    <tr>\n",
       "      <th>1</th>\n",
       "      <td>Paris</td>\n",
       "      <td>48.866667</td>\n",
       "      <td>2.333333</td>\n",
       "      <td>75100</td>\n",
       "      <td>2206488</td>\n",
       "    </tr>\n",
       "    <tr>\n",
       "      <th>2</th>\n",
       "      <td>Marseille</td>\n",
       "      <td>43.300000</td>\n",
       "      <td>5.400000</td>\n",
       "      <td>13200</td>\n",
       "      <td>861635</td>\n",
       "    </tr>\n",
       "  </tbody>\n",
       "</table>\n",
       "</div>"
      ],
      "text/plain": [
       "       ville        lat       lon   code  population\n",
       "0     Nantes  47.216667 -1.550000  44109      934165\n",
       "1      Paris  48.866667  2.333333  75100     2206488\n",
       "2  Marseille  43.300000  5.400000  13200      861635"
      ]
     },
     "execution_count": 14,
     "metadata": {},
     "output_type": "execute_result"
    }
   ],
   "source": [
    "df = pd.DataFrame({\n",
    "    'ville': ['Nantes', 'Paris', 'Marseille'],\n",
    "    'lat': [47.216667, 48.866667, 43.300000],\n",
    "    'lon': [-1.550000, 2.333333, 5.400000],\n",
    "    'code': ['44109', '75100', '13200'],\n",
    "    'population': [934165, 2206488, 861635]\n",
    "})\n",
    "\n",
    "df"
   ]
  },
  {
   "cell_type": "code",
   "execution_count": 15,
   "metadata": {},
   "outputs": [
    {
     "data": {
      "application/vnd.plotly.v1+json": {
       "data": [
        {
         "lat": [
          47.216667,
          48.866667,
          43.3
         ],
         "lon": [
          -1.55,
          2.333333,
          5.4
         ],
         "marker": {
          "size": [
           21.168594617328534,
           50,
           19.525032540399042
          ]
         },
         "text": [
          "Nantes",
          "Paris",
          "Marseille"
         ],
         "type": "scattergeo"
        }
       ],
       "layout": {
        "geo": {
         "countrycolor": "rgb(255, 255, 255)",
         "landcolor": "rgb(229, 229, 229)",
         "lataxis": {
          "range": [
           42,
           51
          ]
         },
         "lonaxis": {
          "range": [
           -5,
           8
          ]
         },
         "projection": {
          "type": "Mercator"
         },
         "resolution": 50,
         "scope": "europe",
         "showland": true
        },
        "title": "Principales villes de France"
       }
      },
      "text/html": [
       "<div id=\"3001b26e-0854-4ae1-8306-40fb22c30734\" style=\"height: 525px; width: 100%;\" class=\"plotly-graph-div\"></div><script type=\"text/javascript\">require([\"plotly\"], function(Plotly) { window.PLOTLYENV=window.PLOTLYENV || {};window.PLOTLYENV.BASE_URL=\"https://plot.ly\";Plotly.newPlot(\"3001b26e-0854-4ae1-8306-40fb22c30734\", [{\"type\": \"scattergeo\", \"lon\": [-1.55, 2.333333, 5.4], \"lat\": [47.216667, 48.866667, 43.3], \"text\": [\"Nantes\", \"Paris\", \"Marseille\"], \"marker\": {\"size\": [21.168594617328534, 50.0, 19.525032540399042]}}], {\"title\": \"Principales villes de France\", \"geo\": {\"scope\": \"europe\", \"resolution\": 50, \"showland\": true, \"landcolor\": \"rgb(229, 229, 229)\", \"countrycolor\": \"rgb(255, 255, 255)\", \"projection\": {\"type\": \"Mercator\"}, \"lonaxis\": {\"range\": [-5.0, 8.0]}, \"lataxis\": {\"range\": [42.0, 51.0]}}}, {\"showLink\": true, \"linkText\": \"Export to plot.ly\"})});</script>"
      ],
      "text/vnd.plotly.v1+html": [
       "<div id=\"3001b26e-0854-4ae1-8306-40fb22c30734\" style=\"height: 525px; width: 100%;\" class=\"plotly-graph-div\"></div><script type=\"text/javascript\">require([\"plotly\"], function(Plotly) { window.PLOTLYENV=window.PLOTLYENV || {};window.PLOTLYENV.BASE_URL=\"https://plot.ly\";Plotly.newPlot(\"3001b26e-0854-4ae1-8306-40fb22c30734\", [{\"type\": \"scattergeo\", \"lon\": [-1.55, 2.333333, 5.4], \"lat\": [47.216667, 48.866667, 43.3], \"text\": [\"Nantes\", \"Paris\", \"Marseille\"], \"marker\": {\"size\": [21.168594617328534, 50.0, 19.525032540399042]}}], {\"title\": \"Principales villes de France\", \"geo\": {\"scope\": \"europe\", \"resolution\": 50, \"showland\": true, \"landcolor\": \"rgb(229, 229, 229)\", \"countrycolor\": \"rgb(255, 255, 255)\", \"projection\": {\"type\": \"Mercator\"}, \"lonaxis\": {\"range\": [-5.0, 8.0]}, \"lataxis\": {\"range\": [42.0, 51.0]}}}, {\"showLink\": true, \"linkText\": \"Export to plot.ly\"})});</script>"
      ]
     },
     "metadata": {},
     "output_type": "display_data"
    }
   ],
   "source": [
    "trace = go.Scattergeo(\n",
    "    lon=df['lon'],\n",
    "    lat=df['lat'],\n",
    "    text=df['ville'],\n",
    "    marker={\n",
    "        'size': 50. * df['population'] / df['population'].max()\n",
    "    }\n",
    ")\n",
    "\n",
    "layout = go.Layout(\n",
    "    title=\"Principales villes de France\",\n",
    "    geo={\n",
    "        'scope': 'europe',\n",
    "        'resolution': 50,\n",
    "        'showland': True,\n",
    "        'landcolor': \"rgb(229, 229, 229)\",\n",
    "        'countrycolor': \"rgb(255, 255, 255)\",\n",
    "        'projection': {'type': 'Mercator'},\n",
    "        'lonaxis': {\n",
    "            'range': [-5.0, 8.0]\n",
    "        },\n",
    "        'lataxis': {\n",
    "            'range': [42.0, 51.0]\n",
    "        }\n",
    "    }\n",
    ")\n",
    "\n",
    "figure = go.Figure(layout=layout, data=go.Data([trace]))\n",
    "iplot(figure)"
   ]
  },
  {
   "cell_type": "markdown",
   "metadata": {},
   "source": [
    "`Scattergeo` est pratique pour les cartes à grande échelle, mais si vous voulez une carte avec des villes et des rues, etc., vous serez vite limités.\n",
    "\n",
    "`Plotly` propose de s'aider de la solution [Mapbox](https://www.mapbox.com/) pour cela."
   ]
  },
  {
   "cell_type": "markdown",
   "metadata": {},
   "source": [
    "On a besoin d'avoir un compte sur mapbox et de récupérer une clé pour l'utiliser. Voici une petite fonction qui permettra de lire la clé."
   ]
  },
  {
   "cell_type": "code",
   "execution_count": 16,
   "metadata": {
    "collapsed": true
   },
   "outputs": [],
   "source": [
    "def get_mapbox_access_token(folderpath='.', filename=\"mapbox.txt\"):\n",
    "    import os\n",
    "    \n",
    "    with open(os.path.join(folderpath, filename), 'r') as file:\n",
    "        s = file.read()\n",
    "    \n",
    "    return s"
   ]
  },
  {
   "cell_type": "code",
   "execution_count": 18,
   "metadata": {},
   "outputs": [
    {
     "data": {
      "application/vnd.plotly.v1+json": {
       "data": [
        {
         "lat": [
          "38.91427",
          "38.91538",
          "38.91458",
          "38.92239",
          "38.93222",
          "38.90842",
          "38.91931",
          "38.93260",
          "38.91368",
          "38.88516",
          "38.921894",
          "38.93206",
          "38.91275"
         ],
         "lon": [
          "-77.02827",
          "-77.02013",
          "-77.03155",
          "-77.04227",
          "-77.02854",
          "-77.02419",
          "-77.02518",
          "-77.03304",
          "-77.04509",
          "-76.99656",
          "-77.042438",
          "-77.02821",
          "-77.01239"
         ],
         "marker": {
          "size": 9
         },
         "mode": "markers",
         "text": [
          "The coffee bar",
          "Bistro Bohem",
          "Black Cat",
          "Snap",
          "Columbia Heights Coffee",
          "Azi's Cafe",
          "Blind Dog Cafe",
          "Le Caprice",
          "Filter",
          "Peregrine",
          "Tryst",
          "The Coupe",
          "Big Bear Cafe"
         ],
         "type": "scattermapbox"
        }
       ],
       "layout": {
        "autosize": true,
        "hovermode": "closest",
        "mapbox": {
         "accesstoken": "pk.eyJ1IjoicGllcnJlZ2lyYXJkZWF1IiwiYSI6ImNqaHZ6OWwzbjB6YWkzeHFrNXlzdXpwMmoifQ.fG4ah4-c2yhElA90m3PRHg",
         "bearing": 0,
         "center": {
          "lat": 38.92,
          "lon": -77.07
         },
         "pitch": 0,
         "zoom": 10
        }
       }
      },
      "text/html": [
       "<div id=\"9e74eca4-5bc5-4bfd-8680-1d1e86255152\" style=\"height: 525px; width: 100%;\" class=\"plotly-graph-div\"></div><script type=\"text/javascript\">require([\"plotly\"], function(Plotly) { window.PLOTLYENV=window.PLOTLYENV || {};window.PLOTLYENV.BASE_URL=\"https://plot.ly\";Plotly.newPlot(\"9e74eca4-5bc5-4bfd-8680-1d1e86255152\", [{\"type\": \"scattermapbox\", \"lat\": [\"38.91427\", \"38.91538\", \"38.91458\", \"38.92239\", \"38.93222\", \"38.90842\", \"38.91931\", \"38.93260\", \"38.91368\", \"38.88516\", \"38.921894\", \"38.93206\", \"38.91275\"], \"lon\": [\"-77.02827\", \"-77.02013\", \"-77.03155\", \"-77.04227\", \"-77.02854\", \"-77.02419\", \"-77.02518\", \"-77.03304\", \"-77.04509\", \"-76.99656\", \"-77.042438\", \"-77.02821\", \"-77.01239\"], \"mode\": \"markers\", \"marker\": {\"size\": 9}, \"text\": [\"The coffee bar\", \"Bistro Bohem\", \"Black Cat\", \"Snap\", \"Columbia Heights Coffee\", \"Azi's Cafe\", \"Blind Dog Cafe\", \"Le Caprice\", \"Filter\", \"Peregrine\", \"Tryst\", \"The Coupe\", \"Big Bear Cafe\"]}], {\"autosize\": true, \"hovermode\": \"closest\", \"mapbox\": {\"accesstoken\": \"pk.eyJ1IjoicGllcnJlZ2lyYXJkZWF1IiwiYSI6ImNqaHZ6OWwzbjB6YWkzeHFrNXlzdXpwMmoifQ.fG4ah4-c2yhElA90m3PRHg\", \"bearing\": 0, \"center\": {\"lat\": 38.92, \"lon\": -77.07}, \"pitch\": 0, \"zoom\": 10}}, {\"showLink\": true, \"linkText\": \"Export to plot.ly\"})});</script>"
      ],
      "text/vnd.plotly.v1+html": [
       "<div id=\"9e74eca4-5bc5-4bfd-8680-1d1e86255152\" style=\"height: 525px; width: 100%;\" class=\"plotly-graph-div\"></div><script type=\"text/javascript\">require([\"plotly\"], function(Plotly) { window.PLOTLYENV=window.PLOTLYENV || {};window.PLOTLYENV.BASE_URL=\"https://plot.ly\";Plotly.newPlot(\"9e74eca4-5bc5-4bfd-8680-1d1e86255152\", [{\"type\": \"scattermapbox\", \"lat\": [\"38.91427\", \"38.91538\", \"38.91458\", \"38.92239\", \"38.93222\", \"38.90842\", \"38.91931\", \"38.93260\", \"38.91368\", \"38.88516\", \"38.921894\", \"38.93206\", \"38.91275\"], \"lon\": [\"-77.02827\", \"-77.02013\", \"-77.03155\", \"-77.04227\", \"-77.02854\", \"-77.02419\", \"-77.02518\", \"-77.03304\", \"-77.04509\", \"-76.99656\", \"-77.042438\", \"-77.02821\", \"-77.01239\"], \"mode\": \"markers\", \"marker\": {\"size\": 9}, \"text\": [\"The coffee bar\", \"Bistro Bohem\", \"Black Cat\", \"Snap\", \"Columbia Heights Coffee\", \"Azi's Cafe\", \"Blind Dog Cafe\", \"Le Caprice\", \"Filter\", \"Peregrine\", \"Tryst\", \"The Coupe\", \"Big Bear Cafe\"]}], {\"autosize\": true, \"hovermode\": \"closest\", \"mapbox\": {\"accesstoken\": \"pk.eyJ1IjoicGllcnJlZ2lyYXJkZWF1IiwiYSI6ImNqaHZ6OWwzbjB6YWkzeHFrNXlzdXpwMmoifQ.fG4ah4-c2yhElA90m3PRHg\", \"bearing\": 0, \"center\": {\"lat\": 38.92, \"lon\": -77.07}, \"pitch\": 0, \"zoom\": 10}}, {\"showLink\": true, \"linkText\": \"Export to plot.ly\"})});</script>"
      ]
     },
     "metadata": {},
     "output_type": "display_data"
    }
   ],
   "source": [
    "mapbox_access_token = get_mapbox_access_token()\n",
    "\n",
    "data = [\n",
    "    go.Scattermapbox(\n",
    "        lat=['38.91427','38.91538','38.91458',\n",
    "             '38.92239','38.93222','38.90842',\n",
    "             '38.91931','38.93260','38.91368',\n",
    "             '38.88516','38.921894','38.93206',\n",
    "             '38.91275'],\n",
    "        lon=['-77.02827','-77.02013','-77.03155',\n",
    "             '-77.04227','-77.02854','-77.02419',\n",
    "             '-77.02518','-77.03304','-77.04509',\n",
    "             '-76.99656','-77.042438','-77.02821',\n",
    "             '-77.01239'],\n",
    "        mode='markers',\n",
    "        marker=dict(\n",
    "            size=9\n",
    "        ),\n",
    "        text=[\"The coffee bar\",\"Bistro Bohem\",\"Black Cat\",\n",
    "             \"Snap\",\"Columbia Heights Coffee\",\"Azi's Cafe\",\n",
    "             \"Blind Dog Cafe\",\"Le Caprice\",\"Filter\",\n",
    "             \"Peregrine\",\"Tryst\",\"The Coupe\",\n",
    "             \"Big Bear Cafe\"],\n",
    "    )\n",
    "]\n",
    "\n",
    "layout = go.Layout(\n",
    "    autosize=True,\n",
    "    hovermode='closest',\n",
    "    mapbox=dict(\n",
    "        accesstoken=mapbox_access_token,\n",
    "        bearing=0,\n",
    "        center=dict(\n",
    "            lat=38.92,\n",
    "            lon=-77.07\n",
    "        ),\n",
    "        pitch=0,\n",
    "        zoom=10\n",
    "    ),\n",
    ")\n",
    "\n",
    "fig = dict(data=data, layout=layout)\n",
    "iplot(fig, filename='Multiple Mapbox')"
   ]
  },
  {
   "cell_type": "markdown",
   "metadata": {},
   "source": [
    "# Et si je veux plus de types de graphiques ?"
   ]
  },
  {
   "cell_type": "markdown",
   "metadata": {},
   "source": [
    "Alors je vais voir [ici](https://plot.ly/python/)."
   ]
  },
  {
   "cell_type": "code",
   "execution_count": null,
   "metadata": {
    "collapsed": true
   },
   "outputs": [],
   "source": []
  }
 ],
 "metadata": {
  "kernelspec": {
   "display_name": "Python 3",
   "language": "python",
   "name": "python3"
  },
  "language_info": {
   "codemirror_mode": {
    "name": "ipython",
    "version": 3
   },
   "file_extension": ".py",
   "mimetype": "text/x-python",
   "name": "python",
   "nbconvert_exporter": "python",
   "pygments_lexer": "ipython3",
   "version": "3.6.2"
  }
 },
 "nbformat": 4,
 "nbformat_minor": 2
}
