{
 "cells": [
  {
   "cell_type": "markdown",
   "metadata": {},
   "source": [
    "# Import des modules nécessaires"
   ]
  },
  {
   "cell_type": "markdown",
   "metadata": {},
   "source": [
    "Commençons par installer/mettre à jour les modules qui nous seront utiles dans ce cours.\n",
    "\n",
    "`pip` est le gestionnaire de paquets de Python. L'option `--upgrade` permet de mettre à jour vers la version la plus récente. L'option `--user` permet d'installer au niveau du compte utilisateur et donc de ne pas nécessiter de droits administrateur."
   ]
  },
  {
   "cell_type": "code",
   "execution_count": 1,
   "metadata": {
    "scrolled": true
   },
   "outputs": [
    {
     "name": "stdout",
     "output_type": "stream",
     "text": [
      "Requirement already up-to-date: nxviz in /Users/JulienLeGall/.local/lib/python3.6/site-packages\n",
      "Requirement already up-to-date: numpy in /Users/JulienLeGall/.local/lib/python3.6/site-packages\n",
      "Requirement already up-to-date: pandas in /Users/JulienLeGall/.local/lib/python3.6/site-packages\n",
      "Requirement already up-to-date: matplotlib in /Users/JulienLeGall/.local/lib/python3.6/site-packages\n",
      "Requirement already up-to-date: seaborn in /Users/JulienLeGall/anaconda3/lib/python3.6/site-packages\n",
      "Requirement already up-to-date: plotly in /Users/JulienLeGall/.local/lib/python3.6/site-packages\n",
      "Requirement already up-to-date: cufflinks in /Users/JulienLeGall/.local/lib/python3.6/site-packages\n",
      "Requirement already up-to-date: dash in /Users/JulienLeGall/.local/lib/python3.6/site-packages\n",
      "Requirement already up-to-date: more-itertools==4.1.0 in /Users/JulienLeGall/.local/lib/python3.6/site-packages (from nxviz)\n",
      "Requirement already up-to-date: hypothesis==3.56.5 in /Users/JulienLeGall/.local/lib/python3.6/site-packages (from nxviz)\n",
      "Requirement already up-to-date: pytest==3.5.1 in /Users/JulienLeGall/.local/lib/python3.6/site-packages (from nxviz)\n",
      "Requirement already up-to-date: networkx==2.1 in /Users/JulienLeGall/anaconda3/lib/python3.6/site-packages (from nxviz)\n",
      "Requirement already up-to-date: setuptools==39.0.1 in /Users/JulienLeGall/.local/lib/python3.6/site-packages (from nxviz)\n",
      "Requirement already up-to-date: sphinxcontrib-fulltoc==1.2.0 in /Users/JulienLeGall/.local/lib/python3.6/site-packages (from nxviz)\n",
      "Requirement already up-to-date: cryptography==2.2.2 in /Users/JulienLeGall/.local/lib/python3.6/site-packages (from nxviz)\n",
      "Requirement already up-to-date: PyYAML==3.12 in /Users/JulienLeGall/anaconda3/lib/python3.6/site-packages (from nxviz)\n",
      "Requirement already up-to-date: palettable==3.1.0 in /Users/JulienLeGall/.local/lib/python3.6/site-packages (from nxviz)\n",
      "Requirement already up-to-date: pytz>=2011k in /Users/JulienLeGall/.local/lib/python3.6/site-packages (from pandas)\n",
      "Requirement already up-to-date: python-dateutil>=2.5.0 in /Users/JulienLeGall/.local/lib/python3.6/site-packages (from pandas)\n",
      "Requirement already up-to-date: six>=1.10 in /Users/JulienLeGall/anaconda3/lib/python3.6/site-packages (from matplotlib)\n",
      "Requirement already up-to-date: kiwisolver>=1.0.1 in /Users/JulienLeGall/.local/lib/python3.6/site-packages (from matplotlib)\n",
      "Requirement already up-to-date: cycler>=0.10 in /Users/JulienLeGall/anaconda3/lib/python3.6/site-packages (from matplotlib)\n",
      "Requirement already up-to-date: pyparsing!=2.0.4,!=2.1.2,!=2.1.6,>=2.0.1 in /Users/JulienLeGall/anaconda3/lib/python3.6/site-packages (from matplotlib)\n",
      "Requirement already up-to-date: scipy in /Users/JulienLeGall/.local/lib/python3.6/site-packages (from seaborn)\n",
      "Requirement already up-to-date: requests in /Users/JulienLeGall/.local/lib/python3.6/site-packages (from plotly)\n",
      "Requirement already up-to-date: decorator>=4.0.6 in /Users/JulienLeGall/.local/lib/python3.6/site-packages (from plotly)\n",
      "Requirement already up-to-date: nbformat>=4.2 in /Users/JulienLeGall/anaconda3/lib/python3.6/site-packages (from plotly)\n",
      "Requirement already up-to-date: colorlover>=0.2 in /Users/JulienLeGall/.local/lib/python3.6/site-packages (from cufflinks)\n",
      "Requirement already up-to-date: flask-compress in /Users/JulienLeGall/.local/lib/python3.6/site-packages (from dash)\n",
      "Requirement already up-to-date: Flask>=0.12 in /Users/JulienLeGall/.local/lib/python3.6/site-packages (from dash)\n",
      "Requirement already up-to-date: attrs>=16.0.0 in /Users/JulienLeGall/.local/lib/python3.6/site-packages (from hypothesis==3.56.5->nxviz)\n",
      "Requirement already up-to-date: coverage in /Users/JulienLeGall/.local/lib/python3.6/site-packages (from hypothesis==3.56.5->nxviz)\n",
      "Requirement already up-to-date: py>=1.5.0 in /Users/JulienLeGall/.local/lib/python3.6/site-packages (from pytest==3.5.1->nxviz)\n",
      "Requirement already up-to-date: pluggy<0.7,>=0.5 in /Users/JulienLeGall/anaconda3/lib/python3.6/site-packages (from pytest==3.5.1->nxviz)\n",
      "Requirement already up-to-date: cffi>=1.7; platform_python_implementation != \"PyPy\" in /Users/JulienLeGall/.local/lib/python3.6/site-packages (from cryptography==2.2.2->nxviz)\n",
      "Requirement already up-to-date: idna>=2.1 in /Users/JulienLeGall/.local/lib/python3.6/site-packages (from cryptography==2.2.2->nxviz)\n",
      "Requirement already up-to-date: asn1crypto>=0.21.0 in /Users/JulienLeGall/anaconda3/lib/python3.6/site-packages (from cryptography==2.2.2->nxviz)\n",
      "Requirement already up-to-date: chardet<3.1.0,>=3.0.2 in /Users/JulienLeGall/anaconda3/lib/python3.6/site-packages (from requests->plotly)\n",
      "Requirement already up-to-date: certifi>=2017.4.17 in /Users/JulienLeGall/.local/lib/python3.6/site-packages (from requests->plotly)\n",
      "Requirement already up-to-date: urllib3<1.24,>=1.21.1 in /Users/JulienLeGall/.local/lib/python3.6/site-packages (from requests->plotly)\n",
      "Requirement already up-to-date: ipython_genutils in /Users/JulienLeGall/anaconda3/lib/python3.6/site-packages (from nbformat>=4.2->plotly)\n",
      "Requirement already up-to-date: traitlets>=4.1 in /Users/JulienLeGall/anaconda3/lib/python3.6/site-packages (from nbformat>=4.2->plotly)\n",
      "Requirement already up-to-date: jsonschema!=2.5.0,>=2.4 in /Users/JulienLeGall/anaconda3/lib/python3.6/site-packages (from nbformat>=4.2->plotly)\n",
      "Requirement already up-to-date: jupyter_core in /Users/JulienLeGall/anaconda3/lib/python3.6/site-packages (from nbformat>=4.2->plotly)\n",
      "Requirement already up-to-date: itsdangerous>=0.24 in /Users/JulienLeGall/anaconda3/lib/python3.6/site-packages (from Flask>=0.12->dash)\n",
      "Requirement already up-to-date: Jinja2>=2.10 in /Users/JulienLeGall/anaconda3/lib/python3.6/site-packages (from Flask>=0.12->dash)\n",
      "Requirement already up-to-date: click>=5.1 in /Users/JulienLeGall/anaconda3/lib/python3.6/site-packages (from Flask>=0.12->dash)\n",
      "Requirement already up-to-date: Werkzeug>=0.14 in /Users/JulienLeGall/anaconda3/lib/python3.6/site-packages (from Flask>=0.12->dash)\n",
      "Requirement already up-to-date: pycparser in /Users/JulienLeGall/anaconda3/lib/python3.6/site-packages (from cffi>=1.7; platform_python_implementation != \"PyPy\"->cryptography==2.2.2->nxviz)\n",
      "Requirement already up-to-date: MarkupSafe>=0.23 in /Users/JulienLeGall/anaconda3/lib/python3.6/site-packages (from Jinja2>=2.10->Flask>=0.12->dash)\n",
      "\u001b[33mYou are using pip version 9.0.1, however version 10.0.1 is available.\n",
      "You should consider upgrading via the 'pip install --upgrade pip' command.\u001b[0m\n"
     ]
    }
   ],
   "source": [
    "!pip install nxviz numpy pandas matplotlib seaborn plotly cufflinks dash --upgrade --user"
   ]
  },
  {
   "cell_type": "code",
   "execution_count": 3,
   "metadata": {},
   "outputs": [
    {
     "data": {
      "text/html": [
       "<script>requirejs.config({paths: { 'plotly': ['https://cdn.plot.ly/plotly-latest.min']},});if(!window.Plotly) {{require(['plotly'],function(plotly) {window.Plotly=plotly;});}}</script>"
      ],
      "text/vnd.plotly.v1+html": [
       "<script>requirejs.config({paths: { 'plotly': ['https://cdn.plot.ly/plotly-latest.min']},});if(!window.Plotly) {{require(['plotly'],function(plotly) {window.Plotly=plotly;});}}</script>"
      ]
     },
     "metadata": {},
     "output_type": "display_data"
    }
   ],
   "source": [
    "import cufflinks as cf\n",
    "\n",
    "import numpy as np\n",
    "\n",
    "import pandas as pd\n",
    "\n",
    "import plotly.graph_objs as go\n",
    "from plotly.offline import init_notebook_mode, iplot\n",
    "\n",
    "init_notebook_mode(connected=True)"
   ]
  },
  {
   "cell_type": "markdown",
   "metadata": {},
   "source": [
    "# 1. Des colonnes de DataFrame sous forme de lignes"
   ]
  },
  {
   "cell_type": "markdown",
   "metadata": {},
   "source": [
    "Les graph objects (lignes, barres, etc.) de plotly sont nombreux. Commencons par quelques points rattachés ensemble par des lignes.\n",
    "\n",
    "Les données d'entrée peuvent être des listes de nombres, des numpy arrays, des pandas DataFrames."
   ]
  },
  {
   "cell_type": "code",
   "execution_count": 4,
   "metadata": {},
   "outputs": [
    {
     "data": {
      "application/vnd.plotly.v1+json": {
       "data": [
        {
         "marker": {
          "color": "red",
          "size": "10",
          "symbol": 104
         },
         "mode": "markers+lines",
         "name": "1st Trace",
         "text": [
          "one",
          "two",
          "three"
         ],
         "type": "scatter",
         "x": [
          1,
          2,
          3
         ],
         "y": [
          4,
          5,
          6
         ]
        }
       ],
       "layout": {
        "title": "First Plot",
        "xaxis": {
         "title": "x1"
        },
        "yaxis": {
         "title": "x2"
        }
       }
      },
      "text/html": [
       "<div id=\"de9ad18c-5bf6-43a8-b70b-118ecfef2290\" style=\"height: 525px; width: 100%;\" class=\"plotly-graph-div\"></div><script type=\"text/javascript\">require([\"plotly\"], function(Plotly) { window.PLOTLYENV=window.PLOTLYENV || {};window.PLOTLYENV.BASE_URL=\"https://plot.ly\";Plotly.newPlot(\"de9ad18c-5bf6-43a8-b70b-118ecfef2290\", [{\"type\": \"scatter\", \"x\": [1, 2, 3], \"y\": [4, 5, 6], \"marker\": {\"color\": \"red\", \"symbol\": 104, \"size\": \"10\"}, \"mode\": \"markers+lines\", \"text\": [\"one\", \"two\", \"three\"], \"name\": \"1st Trace\"}], {\"title\": \"First Plot\", \"xaxis\": {\"title\": \"x1\"}, \"yaxis\": {\"title\": \"x2\"}}, {\"showLink\": true, \"linkText\": \"Export to plot.ly\"})});</script>"
      ],
      "text/vnd.plotly.v1+html": [
       "<div id=\"de9ad18c-5bf6-43a8-b70b-118ecfef2290\" style=\"height: 525px; width: 100%;\" class=\"plotly-graph-div\"></div><script type=\"text/javascript\">require([\"plotly\"], function(Plotly) { window.PLOTLYENV=window.PLOTLYENV || {};window.PLOTLYENV.BASE_URL=\"https://plot.ly\";Plotly.newPlot(\"de9ad18c-5bf6-43a8-b70b-118ecfef2290\", [{\"type\": \"scatter\", \"x\": [1, 2, 3], \"y\": [4, 5, 6], \"marker\": {\"color\": \"red\", \"symbol\": 104, \"size\": \"10\"}, \"mode\": \"markers+lines\", \"text\": [\"one\", \"two\", \"three\"], \"name\": \"1st Trace\"}], {\"title\": \"First Plot\", \"xaxis\": {\"title\": \"x1\"}, \"yaxis\": {\"title\": \"x2\"}}, {\"showLink\": true, \"linkText\": \"Export to plot.ly\"})});</script>"
      ]
     },
     "metadata": {},
     "output_type": "display_data"
    }
   ],
   "source": [
    "# On construit d'abord chaque élément de graphique (ici des points reliés entre eux)\n",
    "trace1 = go.Scatter(\n",
    "    x=[1,2,3],\n",
    "    y=[4,5,6],\n",
    "    marker={\n",
    "        'color': 'red',\n",
    "        'symbol': 104,\n",
    "        'size': \"10\"\n",
    "    },\n",
    "    mode=\"markers+lines\",\n",
    "    text=[\"one\", \"two\", \"three\"],\n",
    "    name='1st Trace'\n",
    ")\n",
    "\n",
    "# On les ajoute aux données du graphe\n",
    "data=go.Data([trace1])\n",
    "\n",
    "# On précise le layout du graphe (titre du graphique, titres des axes)\n",
    "layout=go.Layout(title=\"First Plot\",\n",
    "                 xaxis={\n",
    "                     'title':'x1'\n",
    "                 },\n",
    "                 yaxis={\n",
    "                     'title':'x2'\n",
    "                 }\n",
    ")\n",
    "\n",
    "# On crée l'objet Figure\n",
    "figure = go.Figure(data=data, layout=layout)\n",
    "\n",
    "# On affiche l'objet figure dans le notebook\n",
    "iplot(figure, filename='pyguide_1')"
   ]
  },
  {
   "cell_type": "code",
   "execution_count": 6,
   "metadata": {},
   "outputs": [
    {
     "data": {
      "text/html": [
       "<div>\n",
       "<style scoped>\n",
       "    .dataframe tbody tr th:only-of-type {\n",
       "        vertical-align: middle;\n",
       "    }\n",
       "\n",
       "    .dataframe tbody tr th {\n",
       "        vertical-align: top;\n",
       "    }\n",
       "\n",
       "    .dataframe thead th {\n",
       "        text-align: right;\n",
       "    }\n",
       "</style>\n",
       "<table border=\"1\" class=\"dataframe\">\n",
       "  <thead>\n",
       "    <tr style=\"text-align: right;\">\n",
       "      <th></th>\n",
       "      <th>Pierre</th>\n",
       "      <th>Paul</th>\n",
       "      <th>Jacques</th>\n",
       "    </tr>\n",
       "  </thead>\n",
       "  <tbody>\n",
       "    <tr>\n",
       "      <th>0</th>\n",
       "      <td>0.236726</td>\n",
       "      <td>0.092690</td>\n",
       "      <td>0.749792</td>\n",
       "    </tr>\n",
       "    <tr>\n",
       "      <th>1</th>\n",
       "      <td>0.766360</td>\n",
       "      <td>0.146007</td>\n",
       "      <td>0.823110</td>\n",
       "    </tr>\n",
       "    <tr>\n",
       "      <th>2</th>\n",
       "      <td>1.445470</td>\n",
       "      <td>0.379725</td>\n",
       "      <td>1.106237</td>\n",
       "    </tr>\n",
       "  </tbody>\n",
       "</table>\n",
       "</div>"
      ],
      "text/plain": [
       "     Pierre      Paul   Jacques\n",
       "0  0.236726  0.092690  0.749792\n",
       "1  0.766360  0.146007  0.823110\n",
       "2  1.445470  0.379725  1.106237"
      ]
     },
     "execution_count": 6,
     "metadata": {},
     "output_type": "execute_result"
    }
   ],
   "source": [
    "# On construit une DataFrame bidon (ici une marche aléatoire).\n",
    "df = pd.DataFrame(np.random.random(size=(15, 3)), columns=['Pierre', 'Paul', 'Jacques']).cumsum()\n",
    "\n",
    "df.head(3)"
   ]
  },
  {
   "cell_type": "code",
   "execution_count": 7,
   "metadata": {},
   "outputs": [
    {
     "data": {
      "application/vnd.plotly.v1+json": {
       "data": [
        {
         "type": "scatter",
         "x": [
          0,
          1,
          2,
          3,
          4,
          5,
          6,
          7,
          8,
          9,
          10,
          11,
          12,
          13,
          14
         ],
         "y": [
          0.23672616612917652,
          0.7663598631765186,
          1.4454702258156715,
          2.210056796117235,
          2.969595026650984,
          3.8725705525582432,
          3.940344209457768,
          4.556577301766626,
          5.15196521068255,
          5.978507481942691,
          6.361268089870627,
          7.288454470994759,
          8.193450797101521,
          8.371008378943472,
          9.017980779946019
         ]
        },
        {
         "type": "scatter",
         "x": [
          0,
          1,
          2,
          3,
          4,
          5,
          6,
          7,
          8,
          9,
          10,
          11,
          12,
          13,
          14
         ],
         "y": [
          0.09269041663103128,
          0.1460074683995466,
          0.3797245111865468,
          0.4073111194497967,
          0.5688342868719363,
          0.6082779540535217,
          0.7741093390449976,
          1.0921862360783272,
          1.879136166117704,
          2.4859544251497194,
          2.492561029067593,
          2.68393742602947,
          3.4119143210348923,
          4.387334088002016,
          5.21563104776995
         ]
        },
        {
         "type": "scatter",
         "x": [
          0,
          1,
          2,
          3,
          4,
          5,
          6,
          7,
          8,
          9,
          10,
          11,
          12,
          13,
          14
         ],
         "y": [
          0.7497921731545326,
          0.8231101058101492,
          1.1062373326165957,
          1.6136039825566435,
          1.88350803822581,
          2.5345767113992523,
          2.992704246921134,
          3.15718634118282,
          3.9824072709745826,
          4.210762015192252,
          4.8475299982190485,
          4.867584048249938,
          5.039426044338674,
          5.601484504239211,
          6.130027548980396
         ]
        }
       ],
       "layout": {
        "title": "Un graphe plus complexe"
       }
      },
      "text/html": [
       "<div id=\"54272364-7669-461a-ab24-38317bf70315\" style=\"height: 525px; width: 100%;\" class=\"plotly-graph-div\"></div><script type=\"text/javascript\">require([\"plotly\"], function(Plotly) { window.PLOTLYENV=window.PLOTLYENV || {};window.PLOTLYENV.BASE_URL=\"https://plot.ly\";Plotly.newPlot(\"54272364-7669-461a-ab24-38317bf70315\", [{\"type\": \"scatter\", \"x\": [0, 1, 2, 3, 4, 5, 6, 7, 8, 9, 10, 11, 12, 13, 14], \"y\": [0.23672616612917652, 0.7663598631765186, 1.4454702258156715, 2.210056796117235, 2.969595026650984, 3.8725705525582432, 3.940344209457768, 4.556577301766626, 5.15196521068255, 5.978507481942691, 6.361268089870627, 7.288454470994759, 8.193450797101521, 8.371008378943472, 9.017980779946019]}, {\"type\": \"scatter\", \"x\": [0, 1, 2, 3, 4, 5, 6, 7, 8, 9, 10, 11, 12, 13, 14], \"y\": [0.09269041663103128, 0.1460074683995466, 0.3797245111865468, 0.4073111194497967, 0.5688342868719363, 0.6082779540535217, 0.7741093390449976, 1.0921862360783272, 1.879136166117704, 2.4859544251497194, 2.492561029067593, 2.68393742602947, 3.4119143210348923, 4.387334088002016, 5.21563104776995]}, {\"type\": \"scatter\", \"x\": [0, 1, 2, 3, 4, 5, 6, 7, 8, 9, 10, 11, 12, 13, 14], \"y\": [0.7497921731545326, 0.8231101058101492, 1.1062373326165957, 1.6136039825566435, 1.88350803822581, 2.5345767113992523, 2.992704246921134, 3.15718634118282, 3.9824072709745826, 4.210762015192252, 4.8475299982190485, 4.867584048249938, 5.039426044338674, 5.601484504239211, 6.130027548980396]}], {\"title\": \"Un graphe plus complexe\"}, {\"showLink\": true, \"linkText\": \"Export to plot.ly\"})});</script>"
      ],
      "text/vnd.plotly.v1+html": [
       "<div id=\"54272364-7669-461a-ab24-38317bf70315\" style=\"height: 525px; width: 100%;\" class=\"plotly-graph-div\"></div><script type=\"text/javascript\">require([\"plotly\"], function(Plotly) { window.PLOTLYENV=window.PLOTLYENV || {};window.PLOTLYENV.BASE_URL=\"https://plot.ly\";Plotly.newPlot(\"54272364-7669-461a-ab24-38317bf70315\", [{\"type\": \"scatter\", \"x\": [0, 1, 2, 3, 4, 5, 6, 7, 8, 9, 10, 11, 12, 13, 14], \"y\": [0.23672616612917652, 0.7663598631765186, 1.4454702258156715, 2.210056796117235, 2.969595026650984, 3.8725705525582432, 3.940344209457768, 4.556577301766626, 5.15196521068255, 5.978507481942691, 6.361268089870627, 7.288454470994759, 8.193450797101521, 8.371008378943472, 9.017980779946019]}, {\"type\": \"scatter\", \"x\": [0, 1, 2, 3, 4, 5, 6, 7, 8, 9, 10, 11, 12, 13, 14], \"y\": [0.09269041663103128, 0.1460074683995466, 0.3797245111865468, 0.4073111194497967, 0.5688342868719363, 0.6082779540535217, 0.7741093390449976, 1.0921862360783272, 1.879136166117704, 2.4859544251497194, 2.492561029067593, 2.68393742602947, 3.4119143210348923, 4.387334088002016, 5.21563104776995]}, {\"type\": \"scatter\", \"x\": [0, 1, 2, 3, 4, 5, 6, 7, 8, 9, 10, 11, 12, 13, 14], \"y\": [0.7497921731545326, 0.8231101058101492, 1.1062373326165957, 1.6136039825566435, 1.88350803822581, 2.5345767113992523, 2.992704246921134, 3.15718634118282, 3.9824072709745826, 4.210762015192252, 4.8475299982190485, 4.867584048249938, 5.039426044338674, 5.601484504239211, 6.130027548980396]}], {\"title\": \"Un graphe plus complexe\"}, {\"showLink\": true, \"linkText\": \"Export to plot.ly\"})});</script>"
      ]
     },
     "metadata": {},
     "output_type": "display_data"
    }
   ],
   "source": [
    "# On l'affiche\n",
    "en_x = df.index\n",
    "\n",
    "traces = []\n",
    "for col in df:\n",
    "    traces.append(\n",
    "        go.Scatter(\n",
    "            x=en_x,\n",
    "            y=df[col]\n",
    "        )\n",
    "    )\n",
    "\n",
    "figure = go.Figure(\n",
    "    data=go.Data(traces),\n",
    "    layout=go.Layout(title=\"Un graphe plus complexe\")\n",
    ")\n",
    "\n",
    "iplot(figure)"
   ]
  },
  {
   "cell_type": "markdown",
   "metadata": {},
   "source": [
    "# 2. Et maintenant des barres !"
   ]
  },
  {
   "cell_type": "markdown",
   "metadata": {},
   "source": [
    "Commençons par charger quelques données."
   ]
  },
  {
   "cell_type": "code",
   "execution_count": 12,
   "metadata": {},
   "outputs": [
    {
     "name": "stdout",
     "output_type": "stream",
     "text": [
      "<class 'pandas.core.frame.DataFrame'>\n",
      "RangeIndex: 891 entries, 0 to 890\n",
      "Data columns (total 15 columns):\n",
      "survived       891 non-null int64\n",
      "pclass         891 non-null int64\n",
      "sex            891 non-null object\n",
      "age            714 non-null float64\n",
      "sibsp          891 non-null int64\n",
      "parch          891 non-null int64\n",
      "fare           891 non-null float64\n",
      "embarked       889 non-null object\n",
      "class          891 non-null object\n",
      "who            891 non-null object\n",
      "adult_male     891 non-null bool\n",
      "deck           203 non-null object\n",
      "embark_town    889 non-null object\n",
      "alive          891 non-null object\n",
      "alone          891 non-null bool\n",
      "dtypes: bool(2), float64(2), int64(4), object(7)\n",
      "memory usage: 92.3+ KB\n"
     ]
    },
    {
     "data": {
      "text/html": [
       "<div>\n",
       "<style scoped>\n",
       "    .dataframe tbody tr th:only-of-type {\n",
       "        vertical-align: middle;\n",
       "    }\n",
       "\n",
       "    .dataframe tbody tr th {\n",
       "        vertical-align: top;\n",
       "    }\n",
       "\n",
       "    .dataframe thead th {\n",
       "        text-align: right;\n",
       "    }\n",
       "</style>\n",
       "<table border=\"1\" class=\"dataframe\">\n",
       "  <thead>\n",
       "    <tr style=\"text-align: right;\">\n",
       "      <th></th>\n",
       "      <th>survived</th>\n",
       "      <th>pclass</th>\n",
       "      <th>sex</th>\n",
       "      <th>age</th>\n",
       "      <th>sibsp</th>\n",
       "      <th>parch</th>\n",
       "      <th>fare</th>\n",
       "      <th>embarked</th>\n",
       "      <th>class</th>\n",
       "      <th>who</th>\n",
       "      <th>adult_male</th>\n",
       "      <th>deck</th>\n",
       "      <th>embark_town</th>\n",
       "      <th>alive</th>\n",
       "      <th>alone</th>\n",
       "    </tr>\n",
       "  </thead>\n",
       "  <tbody>\n",
       "    <tr>\n",
       "      <th>428</th>\n",
       "      <td>0</td>\n",
       "      <td>3</td>\n",
       "      <td>male</td>\n",
       "      <td>NaN</td>\n",
       "      <td>0</td>\n",
       "      <td>0</td>\n",
       "      <td>7.7500</td>\n",
       "      <td>Q</td>\n",
       "      <td>Third</td>\n",
       "      <td>man</td>\n",
       "      <td>True</td>\n",
       "      <td>NaN</td>\n",
       "      <td>Queenstown</td>\n",
       "      <td>no</td>\n",
       "      <td>True</td>\n",
       "    </tr>\n",
       "    <tr>\n",
       "      <th>327</th>\n",
       "      <td>1</td>\n",
       "      <td>2</td>\n",
       "      <td>female</td>\n",
       "      <td>36.0</td>\n",
       "      <td>0</td>\n",
       "      <td>0</td>\n",
       "      <td>13.0000</td>\n",
       "      <td>S</td>\n",
       "      <td>Second</td>\n",
       "      <td>woman</td>\n",
       "      <td>False</td>\n",
       "      <td>D</td>\n",
       "      <td>Southampton</td>\n",
       "      <td>yes</td>\n",
       "      <td>True</td>\n",
       "    </tr>\n",
       "    <tr>\n",
       "      <th>218</th>\n",
       "      <td>1</td>\n",
       "      <td>1</td>\n",
       "      <td>female</td>\n",
       "      <td>32.0</td>\n",
       "      <td>0</td>\n",
       "      <td>0</td>\n",
       "      <td>76.2917</td>\n",
       "      <td>C</td>\n",
       "      <td>First</td>\n",
       "      <td>woman</td>\n",
       "      <td>False</td>\n",
       "      <td>D</td>\n",
       "      <td>Cherbourg</td>\n",
       "      <td>yes</td>\n",
       "      <td>True</td>\n",
       "    </tr>\n",
       "  </tbody>\n",
       "</table>\n",
       "</div>"
      ],
      "text/plain": [
       "     survived  pclass     sex   age  sibsp  parch     fare embarked   class  \\\n",
       "428         0       3    male   NaN      0      0   7.7500        Q   Third   \n",
       "327         1       2  female  36.0      0      0  13.0000        S  Second   \n",
       "218         1       1  female  32.0      0      0  76.2917        C   First   \n",
       "\n",
       "       who  adult_male deck  embark_town alive  alone  \n",
       "428    man        True  NaN   Queenstown    no   True  \n",
       "327  woman       False    D  Southampton   yes   True  \n",
       "218  woman       False    D    Cherbourg   yes   True  "
      ]
     },
     "execution_count": 12,
     "metadata": {},
     "output_type": "execute_result"
    }
   ],
   "source": [
    "df = pd.read_csv('titanic.csv')\n",
    "\n",
    "df.info()\n",
    "\n",
    "df.sample(3)"
   ]
  },
  {
   "cell_type": "markdown",
   "metadata": {},
   "source": [
    "Nous allons nous intéresser au taux de survie par classe de passager.\n",
    "\n",
    "On peut facilement calculer cela à l'aide de `pandas`, soit via un `groupby` soit via un `pivot_table`. On utilise plutôt le dernier, car il est plus générique (permet de faire plus de choses)."
   ]
  },
  {
   "cell_type": "code",
   "execution_count": 13,
   "metadata": {},
   "outputs": [
    {
     "data": {
      "text/html": [
       "<div>\n",
       "<style scoped>\n",
       "    .dataframe tbody tr th:only-of-type {\n",
       "        vertical-align: middle;\n",
       "    }\n",
       "\n",
       "    .dataframe tbody tr th {\n",
       "        vertical-align: top;\n",
       "    }\n",
       "\n",
       "    .dataframe thead th {\n",
       "        text-align: right;\n",
       "    }\n",
       "</style>\n",
       "<table border=\"1\" class=\"dataframe\">\n",
       "  <thead>\n",
       "    <tr style=\"text-align: right;\">\n",
       "      <th></th>\n",
       "      <th>survived</th>\n",
       "    </tr>\n",
       "    <tr>\n",
       "      <th>class</th>\n",
       "      <th></th>\n",
       "    </tr>\n",
       "  </thead>\n",
       "  <tbody>\n",
       "    <tr>\n",
       "      <th>First</th>\n",
       "      <td>0.629630</td>\n",
       "    </tr>\n",
       "    <tr>\n",
       "      <th>Second</th>\n",
       "      <td>0.472826</td>\n",
       "    </tr>\n",
       "    <tr>\n",
       "      <th>Third</th>\n",
       "      <td>0.242363</td>\n",
       "    </tr>\n",
       "  </tbody>\n",
       "</table>\n",
       "</div>"
      ],
      "text/plain": [
       "        survived\n",
       "class           \n",
       "First   0.629630\n",
       "Second  0.472826\n",
       "Third   0.242363"
      ]
     },
     "execution_count": 13,
     "metadata": {},
     "output_type": "execute_result"
    }
   ],
   "source": [
    "dft = df.pivot_table(index='class', values='survived', aggfunc='mean')\n",
    "\n",
    "dft"
   ]
  },
  {
   "cell_type": "markdown",
   "metadata": {},
   "source": [
    "Voilà à quoi notre tableau ressemble. Faisons-en maintenant un graphique en barres.\n",
    "\n",
    "Volontairement, j'introduit quelques personnalisations (couleur, etc.) car elles pourront vous être utile à l'avenir."
   ]
  },
  {
   "cell_type": "code",
   "execution_count": 14,
   "metadata": {},
   "outputs": [
    {
     "data": {
      "application/vnd.plotly.v1+json": {
       "data": [
        {
         "marker": {
          "color": "rgba(210, 105, 30, 0.5)"
         },
         "type": "bar",
         "x": [
          "First",
          "Second",
          "Third"
         ],
         "y": [
          0.6296296296296297,
          0.47282608695652173,
          0.24236252545824846
         ]
        }
       ],
       "layout": {
        "title": "Quelle est votre chance de survie sur le Titanic, selon votre classe ?",
        "xaxis": {
         "title": "classe de passager"
        },
        "yaxis": {
         "range": [
          0,
          1
         ],
         "tickformat": ".0%",
         "ticklen": 0.1,
         "title": "pourcentage de survie"
        }
       }
      },
      "text/html": [
       "<div id=\"55c8e81a-a0a9-4166-8722-87ea7bf234a2\" style=\"height: 525px; width: 100%;\" class=\"plotly-graph-div\"></div><script type=\"text/javascript\">require([\"plotly\"], function(Plotly) { window.PLOTLYENV=window.PLOTLYENV || {};window.PLOTLYENV.BASE_URL=\"https://plot.ly\";Plotly.newPlot(\"55c8e81a-a0a9-4166-8722-87ea7bf234a2\", [{\"type\": \"bar\", \"x\": [\"First\", \"Second\", \"Third\"], \"y\": [0.6296296296296297, 0.47282608695652173, 0.24236252545824846], \"marker\": {\"color\": \"rgba(210, 105, 30, 0.5)\"}}], {\"title\": \"Quelle est votre chance de survie sur le Titanic, selon votre classe ?\", \"yaxis\": {\"title\": \"pourcentage de survie\", \"ticklen\": 0.1, \"tickformat\": \".0%\", \"range\": [0, 1]}, \"xaxis\": {\"title\": \"classe de passager\"}}, {\"showLink\": true, \"linkText\": \"Export to plot.ly\"})});</script>"
      ],
      "text/vnd.plotly.v1+html": [
       "<div id=\"55c8e81a-a0a9-4166-8722-87ea7bf234a2\" style=\"height: 525px; width: 100%;\" class=\"plotly-graph-div\"></div><script type=\"text/javascript\">require([\"plotly\"], function(Plotly) { window.PLOTLYENV=window.PLOTLYENV || {};window.PLOTLYENV.BASE_URL=\"https://plot.ly\";Plotly.newPlot(\"55c8e81a-a0a9-4166-8722-87ea7bf234a2\", [{\"type\": \"bar\", \"x\": [\"First\", \"Second\", \"Third\"], \"y\": [0.6296296296296297, 0.47282608695652173, 0.24236252545824846], \"marker\": {\"color\": \"rgba(210, 105, 30, 0.5)\"}}], {\"title\": \"Quelle est votre chance de survie sur le Titanic, selon votre classe ?\", \"yaxis\": {\"title\": \"pourcentage de survie\", \"ticklen\": 0.1, \"tickformat\": \".0%\", \"range\": [0, 1]}, \"xaxis\": {\"title\": \"classe de passager\"}}, {\"showLink\": true, \"linkText\": \"Export to plot.ly\"})});</script>"
      ]
     },
     "metadata": {},
     "output_type": "display_data"
    }
   ],
   "source": [
    "trace = go.Bar(\n",
    "    x=dft.index,\n",
    "    y=dft['survived'],\n",
    "    marker={\n",
    "        'color': 'rgba(210, 105, 30, 0.5)'\n",
    "    }\n",
    ")\n",
    "\n",
    "layout = go.Layout(\n",
    "    title=\"Quelle est votre chance de survie sur le Titanic, selon votre classe ?\",\n",
    "    yaxis={\n",
    "        'title': \"pourcentage de survie\",\n",
    "        'ticklen': 0.1,\n",
    "        'tickformat': '.0%',\n",
    "        'range': [0, 1]\n",
    "    },\n",
    "    xaxis={\n",
    "        'title': \"classe de passager\"\n",
    "    }\n",
    ")\n",
    "\n",
    "figure = go.Figure(\n",
    "    data=go.Data([trace]),\n",
    "    layout=layout\n",
    ")\n",
    "\n",
    "iplot(figure)"
   ]
  },
  {
   "cell_type": "markdown",
   "metadata": {},
   "source": [
    "Et si on voulait afficher plusieurs barres ?\n",
    "\n",
    "Par exemple, dans chaque classe, le taux de survie par sexe."
   ]
  },
  {
   "cell_type": "code",
   "execution_count": 15,
   "metadata": {},
   "outputs": [
    {
     "data": {
      "text/html": [
       "<div>\n",
       "<style scoped>\n",
       "    .dataframe tbody tr th:only-of-type {\n",
       "        vertical-align: middle;\n",
       "    }\n",
       "\n",
       "    .dataframe tbody tr th {\n",
       "        vertical-align: top;\n",
       "    }\n",
       "\n",
       "    .dataframe thead th {\n",
       "        text-align: right;\n",
       "    }\n",
       "</style>\n",
       "<table border=\"1\" class=\"dataframe\">\n",
       "  <thead>\n",
       "    <tr style=\"text-align: right;\">\n",
       "      <th>sex</th>\n",
       "      <th>female</th>\n",
       "      <th>male</th>\n",
       "    </tr>\n",
       "    <tr>\n",
       "      <th>class</th>\n",
       "      <th></th>\n",
       "      <th></th>\n",
       "    </tr>\n",
       "  </thead>\n",
       "  <tbody>\n",
       "    <tr>\n",
       "      <th>First</th>\n",
       "      <td>0.968085</td>\n",
       "      <td>0.368852</td>\n",
       "    </tr>\n",
       "    <tr>\n",
       "      <th>Second</th>\n",
       "      <td>0.921053</td>\n",
       "      <td>0.157407</td>\n",
       "    </tr>\n",
       "    <tr>\n",
       "      <th>Third</th>\n",
       "      <td>0.500000</td>\n",
       "      <td>0.135447</td>\n",
       "    </tr>\n",
       "  </tbody>\n",
       "</table>\n",
       "</div>"
      ],
      "text/plain": [
       "sex       female      male\n",
       "class                     \n",
       "First   0.968085  0.368852\n",
       "Second  0.921053  0.157407\n",
       "Third   0.500000  0.135447"
      ]
     },
     "execution_count": 15,
     "metadata": {},
     "output_type": "execute_result"
    }
   ],
   "source": [
    "dft = df.pivot_table(index='class', columns='sex', values='survived', aggfunc='mean')\n",
    "\n",
    "dft"
   ]
  },
  {
   "cell_type": "code",
   "execution_count": 16,
   "metadata": {},
   "outputs": [
    {
     "data": {
      "application/vnd.plotly.v1+json": {
       "data": [
        {
         "marker": {
          "color": "rgba(204, 204, 255, 0.5)"
         },
         "name": "female",
         "type": "bar",
         "x": [
          "First",
          "Second",
          "Third"
         ],
         "y": [
          0.9680851063829787,
          0.9210526315789473,
          0.5
         ]
        },
        {
         "marker": {
          "color": "rgba(72, 137, 151, 0.5)"
         },
         "name": "male",
         "type": "bar",
         "x": [
          "First",
          "Second",
          "Third"
         ],
         "y": [
          0.36885245901639346,
          0.1574074074074074,
          0.13544668587896252
         ]
        }
       ],
       "layout": {
        "title": "Quelle est votre chance de survie sur le Titanic, selon votre classe ?",
        "xaxis": {
         "title": "classe de passager"
        },
        "yaxis": {
         "range": [
          0,
          1
         ],
         "tickformat": ".0%",
         "ticklen": 0.1,
         "title": "pourcentage de survie"
        }
       }
      },
      "text/html": [
       "<div id=\"8036895f-25c2-4d3f-a7a0-01a49a253846\" style=\"height: 525px; width: 100%;\" class=\"plotly-graph-div\"></div><script type=\"text/javascript\">require([\"plotly\"], function(Plotly) { window.PLOTLYENV=window.PLOTLYENV || {};window.PLOTLYENV.BASE_URL=\"https://plot.ly\";Plotly.newPlot(\"8036895f-25c2-4d3f-a7a0-01a49a253846\", [{\"type\": \"bar\", \"x\": [\"First\", \"Second\", \"Third\"], \"y\": [0.9680851063829787, 0.9210526315789473, 0.5], \"marker\": {\"color\": \"rgba(204, 204, 255, 0.5)\"}, \"name\": \"female\"}, {\"type\": \"bar\", \"x\": [\"First\", \"Second\", \"Third\"], \"y\": [0.36885245901639346, 0.1574074074074074, 0.13544668587896252], \"marker\": {\"color\": \"rgba(72, 137, 151, 0.5)\"}, \"name\": \"male\"}], {\"title\": \"Quelle est votre chance de survie sur le Titanic, selon votre classe ?\", \"yaxis\": {\"title\": \"pourcentage de survie\", \"ticklen\": 0.1, \"tickformat\": \".0%\", \"range\": [0, 1]}, \"xaxis\": {\"title\": \"classe de passager\"}}, {\"showLink\": true, \"linkText\": \"Export to plot.ly\"})});</script>"
      ],
      "text/vnd.plotly.v1+html": [
       "<div id=\"8036895f-25c2-4d3f-a7a0-01a49a253846\" style=\"height: 525px; width: 100%;\" class=\"plotly-graph-div\"></div><script type=\"text/javascript\">require([\"plotly\"], function(Plotly) { window.PLOTLYENV=window.PLOTLYENV || {};window.PLOTLYENV.BASE_URL=\"https://plot.ly\";Plotly.newPlot(\"8036895f-25c2-4d3f-a7a0-01a49a253846\", [{\"type\": \"bar\", \"x\": [\"First\", \"Second\", \"Third\"], \"y\": [0.9680851063829787, 0.9210526315789473, 0.5], \"marker\": {\"color\": \"rgba(204, 204, 255, 0.5)\"}, \"name\": \"female\"}, {\"type\": \"bar\", \"x\": [\"First\", \"Second\", \"Third\"], \"y\": [0.36885245901639346, 0.1574074074074074, 0.13544668587896252], \"marker\": {\"color\": \"rgba(72, 137, 151, 0.5)\"}, \"name\": \"male\"}], {\"title\": \"Quelle est votre chance de survie sur le Titanic, selon votre classe ?\", \"yaxis\": {\"title\": \"pourcentage de survie\", \"ticklen\": 0.1, \"tickformat\": \".0%\", \"range\": [0, 1]}, \"xaxis\": {\"title\": \"classe de passager\"}}, {\"showLink\": true, \"linkText\": \"Export to plot.ly\"})});</script>"
      ]
     },
     "metadata": {},
     "output_type": "display_data"
    }
   ],
   "source": [
    "colors = {\n",
    "    'female': 'rgba(204, 204, 255, 0.5)',\n",
    "    'male': 'rgba(72, 137, 151, 0.5)'\n",
    "}\n",
    "\n",
    "traces = []\n",
    "for col in dft: # ici col=sex\n",
    "    traces.append(\n",
    "        go.Bar(\n",
    "            x=dft.index,\n",
    "            y=dft[col],\n",
    "            marker={\n",
    "                'color': colors[col]\n",
    "            },\n",
    "            name=col\n",
    "        )\n",
    "    )\n",
    "\n",
    "layout = go.Layout(\n",
    "    title=\"Quelle est votre chance de survie sur le Titanic, selon votre classe ?\",\n",
    "    yaxis={\n",
    "        'title': \"pourcentage de survie\",\n",
    "        'ticklen': 0.1,\n",
    "        'tickformat': '.0%',\n",
    "        'range': [0, 1]\n",
    "    },\n",
    "    xaxis={\n",
    "        'title': \"classe de passager\"\n",
    "    }\n",
    ")\n",
    "\n",
    "figure = go.Figure(\n",
    "    data=go.Data(traces),\n",
    "    layout=layout\n",
    ")\n",
    "\n",
    "iplot(figure)"
   ]
  },
  {
   "cell_type": "markdown",
   "metadata": {},
   "source": [
    "Et si on voulait superposer les barres ?\n",
    "\n",
    "Affichons le nombre de passagers, en fonction de leur classe et du port duquel ils sont partis."
   ]
  },
  {
   "cell_type": "code",
   "execution_count": 17,
   "metadata": {},
   "outputs": [
    {
     "data": {
      "text/html": [
       "<div>\n",
       "<style scoped>\n",
       "    .dataframe tbody tr th:only-of-type {\n",
       "        vertical-align: middle;\n",
       "    }\n",
       "\n",
       "    .dataframe tbody tr th {\n",
       "        vertical-align: top;\n",
       "    }\n",
       "\n",
       "    .dataframe thead th {\n",
       "        text-align: right;\n",
       "    }\n",
       "</style>\n",
       "<table border=\"1\" class=\"dataframe\">\n",
       "  <thead>\n",
       "    <tr style=\"text-align: right;\">\n",
       "      <th>embark_town</th>\n",
       "      <th>Cherbourg</th>\n",
       "      <th>Queenstown</th>\n",
       "      <th>Southampton</th>\n",
       "    </tr>\n",
       "    <tr>\n",
       "      <th>class</th>\n",
       "      <th></th>\n",
       "      <th></th>\n",
       "      <th></th>\n",
       "    </tr>\n",
       "  </thead>\n",
       "  <tbody>\n",
       "    <tr>\n",
       "      <th>First</th>\n",
       "      <td>85</td>\n",
       "      <td>2</td>\n",
       "      <td>127</td>\n",
       "    </tr>\n",
       "    <tr>\n",
       "      <th>Second</th>\n",
       "      <td>17</td>\n",
       "      <td>3</td>\n",
       "      <td>164</td>\n",
       "    </tr>\n",
       "    <tr>\n",
       "      <th>Third</th>\n",
       "      <td>66</td>\n",
       "      <td>72</td>\n",
       "      <td>353</td>\n",
       "    </tr>\n",
       "  </tbody>\n",
       "</table>\n",
       "</div>"
      ],
      "text/plain": [
       "embark_town  Cherbourg  Queenstown  Southampton\n",
       "class                                          \n",
       "First               85           2          127\n",
       "Second              17           3          164\n",
       "Third               66          72          353"
      ]
     },
     "execution_count": 17,
     "metadata": {},
     "output_type": "execute_result"
    }
   ],
   "source": [
    "dft = df.pivot_table(index='class', columns='embark_town', values='survived', aggfunc='count')\n",
    "\n",
    "dft"
   ]
  },
  {
   "cell_type": "code",
   "execution_count": 18,
   "metadata": {},
   "outputs": [
    {
     "data": {
      "application/vnd.plotly.v1+json": {
       "data": [
        {
         "name": "Cherbourg",
         "type": "bar",
         "x": [
          "First",
          "Second",
          "Third"
         ],
         "y": [
          85,
          17,
          66
         ]
        },
        {
         "name": "Queenstown",
         "type": "bar",
         "x": [
          "First",
          "Second",
          "Third"
         ],
         "y": [
          2,
          3,
          72
         ]
        },
        {
         "name": "Southampton",
         "type": "bar",
         "x": [
          "First",
          "Second",
          "Third"
         ],
         "y": [
          127,
          164,
          353
         ]
        }
       ],
       "layout": {
        "barmode": "stack",
        "title": "D'où venaient les passagers du Titanic ?",
        "xaxis": {
         "title": "classe de passager"
        },
        "yaxis": {
         "title": "nombre de passagers"
        }
       }
      },
      "text/html": [
       "<div id=\"027271f8-1d9b-454c-a147-17ccd24565a3\" style=\"height: 525px; width: 100%;\" class=\"plotly-graph-div\"></div><script type=\"text/javascript\">require([\"plotly\"], function(Plotly) { window.PLOTLYENV=window.PLOTLYENV || {};window.PLOTLYENV.BASE_URL=\"https://plot.ly\";Plotly.newPlot(\"027271f8-1d9b-454c-a147-17ccd24565a3\", [{\"type\": \"bar\", \"x\": [\"First\", \"Second\", \"Third\"], \"y\": [85, 17, 66], \"name\": \"Cherbourg\"}, {\"type\": \"bar\", \"x\": [\"First\", \"Second\", \"Third\"], \"y\": [2, 3, 72], \"name\": \"Queenstown\"}, {\"type\": \"bar\", \"x\": [\"First\", \"Second\", \"Third\"], \"y\": [127, 164, 353], \"name\": \"Southampton\"}], {\"title\": \"D'o\\u00f9 venaient les passagers du Titanic ?\", \"yaxis\": {\"title\": \"nombre de passagers\"}, \"xaxis\": {\"title\": \"classe de passager\"}, \"barmode\": \"stack\"}, {\"showLink\": true, \"linkText\": \"Export to plot.ly\"})});</script>"
      ],
      "text/vnd.plotly.v1+html": [
       "<div id=\"027271f8-1d9b-454c-a147-17ccd24565a3\" style=\"height: 525px; width: 100%;\" class=\"plotly-graph-div\"></div><script type=\"text/javascript\">require([\"plotly\"], function(Plotly) { window.PLOTLYENV=window.PLOTLYENV || {};window.PLOTLYENV.BASE_URL=\"https://plot.ly\";Plotly.newPlot(\"027271f8-1d9b-454c-a147-17ccd24565a3\", [{\"type\": \"bar\", \"x\": [\"First\", \"Second\", \"Third\"], \"y\": [85, 17, 66], \"name\": \"Cherbourg\"}, {\"type\": \"bar\", \"x\": [\"First\", \"Second\", \"Third\"], \"y\": [2, 3, 72], \"name\": \"Queenstown\"}, {\"type\": \"bar\", \"x\": [\"First\", \"Second\", \"Third\"], \"y\": [127, 164, 353], \"name\": \"Southampton\"}], {\"title\": \"D'o\\u00f9 venaient les passagers du Titanic ?\", \"yaxis\": {\"title\": \"nombre de passagers\"}, \"xaxis\": {\"title\": \"classe de passager\"}, \"barmode\": \"stack\"}, {\"showLink\": true, \"linkText\": \"Export to plot.ly\"})});</script>"
      ]
     },
     "metadata": {},
     "output_type": "display_data"
    }
   ],
   "source": [
    "traces = []\n",
    "for col in dft: # ici col=embark_town\n",
    "    traces.append(\n",
    "        go.Bar(\n",
    "            x=dft.index,\n",
    "            y=dft[col],\n",
    "            name=col\n",
    "        )\n",
    "    )\n",
    "\n",
    "layout = go.Layout(\n",
    "    title=\"D'où venaient les passagers du Titanic ?\",\n",
    "    yaxis={\n",
    "        'title': \"nombre de passagers\"\n",
    "    },\n",
    "    xaxis={\n",
    "        'title': \"classe de passager\"\n",
    "    },\n",
    "    barmode='stack'\n",
    ")\n",
    "\n",
    "figure = go.Figure(\n",
    "    data=go.Data(traces),\n",
    "    layout=layout\n",
    ")\n",
    "\n",
    "iplot(figure)"
   ]
  },
  {
   "cell_type": "markdown",
   "metadata": {},
   "source": [
    "# 3. Si on faisait des cartes ?"
   ]
  },
  {
   "cell_type": "code",
   "execution_count": 19,
   "metadata": {},
   "outputs": [
    {
     "data": {
      "application/vnd.plotly.v1+json": {
       "data": [
        {
         "lat": [
          9.95,
          6.43,
          14.5,
          8.46
         ],
         "lon": [
          -9.7,
          -9.43,
          -14.45,
          -11.78
         ],
         "marker": {
          "color": "rgb(33,113,181)",
          "line": {
           "width": 0
          },
          "size": [
           20.44,
           67.24,
           0.06,
           38.8
          ]
         },
         "mode": "markers+text",
         "name": "Sept",
         "text": [
          "1022 Guinea",
          "3362 Liberia",
          "3 Senegal",
          "1940 Sierra Leone"
         ],
         "textposition": "bottom center",
         "type": "scattergeo"
        },
        {
         "lat": [
          9.95,
          6.43,
          14.5,
          8.46
         ],
         "lon": [
          -9.7,
          -9.43,
          -14.45,
          -11.78
         ],
         "marker": {
          "color": "rgb(107,174,214)",
          "line": {
           "width": 0
          },
          "size": [
           15.42,
           27.9,
           0.02,
           24.32
          ]
         },
         "name": "Aug",
         "text": [
          771,
          1395,
          1,
          1216
         ],
         "type": "scattergeo"
        },
        {
         "lat": [
          9.95,
          6.43,
          8.46
         ],
         "lon": [
          -9.7,
          -9.43,
          -11.78
         ],
         "marker": {
          "color": "rgb(189,215,231)",
          "line": {
           "width": 0
          },
          "size": [
           9.2,
           6.58,
           10.66
          ]
         },
         "name": "July",
         "text": [
          460,
          329,
          533
         ],
         "type": "scattergeo"
        },
        {
         "lat": [
          9.95,
          6.43,
          8.46
         ],
         "lon": [
          -9.7,
          -9.43,
          -11.78
         ],
         "marker": {
          "color": "rgb(239,243,255)",
          "line": {
           "width": 0
          },
          "size": [
           8.26,
           2.14,
           4.78
          ]
         },
         "name": "June",
         "text": [
          413,
          107,
          239
         ],
         "type": "scattergeo"
        },
        {
         "autocolorscale": false,
         "colorscale": [
          [
           0,
           "rgb(0, 0, 0)"
          ],
          [
           1,
           "rgb(0, 0, 0)"
          ]
         ],
         "geo": "geo2",
         "locationmode": "country names",
         "locations": [
          "Guinea",
          "Liberia",
          "Senegal",
          "Sierra Leone"
         ],
         "showscale": false,
         "text": [
          "Guinea",
          "Liberia",
          "Senegal",
          "Sierra Leone"
         ],
         "type": "choropleth",
         "z": [
          1022,
          3362,
          3,
          1940
         ]
        },
        {
         "geo": "geo2",
         "lat": [
          7.1881
         ],
         "lon": [
          21.0936
         ],
         "mode": "text",
         "showlegend": false,
         "text": [
          "Africa"
         ],
         "type": "scattergeo"
        }
       ],
       "layout": {
        "geo": {
         "coastlinecolor": "rgb(255, 255, 255)",
         "countrycolor": "rgb(255, 255, 255)",
         "domain": {
          "x": [
           0,
           1
          ],
          "y": [
           0,
           1
          ]
         },
         "landcolor": "rgb(229, 229, 229)",
         "lataxis": {
          "range": [
           0,
           12
          ]
         },
         "lonaxis": {
          "range": [
           -15,
           -5
          ]
         },
         "projection": {
          "type": "Mercator"
         },
         "resolution": 50,
         "scope": "africa",
         "showcoastlines": true,
         "showframe": false,
         "showland": true
        },
        "geo2": {
         "bgcolor": "rgba(255, 255, 255, 0.0)",
         "domain": {
          "x": [
           0,
           0.6
          ],
          "y": [
           0,
           0.6
          ]
         },
         "landcolor": "rgb(229, 229, 229)",
         "scope": "africa",
         "showcountries": false,
         "showframe": false,
         "showland": true
        },
        "legend": {
         "traceorder": "reversed"
        },
        "title": "Ebola cases reported by month in West Africa 2014<br> Source: <a href=\"https://data.hdx.rwlabs.org/dataset/rowca-ebola-cases\">HDX</a>"
       }
      },
      "text/html": [
       "<div id=\"22af8f50-59ba-47ef-8dc3-7384c36b7422\" style=\"height: 525px; width: 100%;\" class=\"plotly-graph-div\"></div><script type=\"text/javascript\">require([\"plotly\"], function(Plotly) { window.PLOTLYENV=window.PLOTLYENV || {};window.PLOTLYENV.BASE_URL=\"https://plot.ly\";Plotly.newPlot(\"22af8f50-59ba-47ef-8dc3-7384c36b7422\", [{\"type\": \"scattergeo\", \"lon\": [-9.7, -9.43, -14.45, -11.78], \"lat\": [9.95, 6.43, 14.5, 8.46], \"text\": [\"1022 Guinea\", \"3362 Liberia\", \"3 Senegal\", \"1940 Sierra Leone\"], \"name\": \"Sept\", \"marker\": {\"size\": [20.44, 67.24, 0.06, 38.8], \"color\": \"rgb(33,113,181)\", \"line\": {\"width\": 0}}, \"mode\": \"markers+text\", \"textposition\": \"bottom center\"}, {\"type\": \"scattergeo\", \"lon\": [-9.7, -9.43, -14.45, -11.78], \"lat\": [9.95, 6.43, 14.5, 8.46], \"text\": [771.0, 1395.0, 1.0, 1216.0], \"name\": \"Aug\", \"marker\": {\"size\": [15.42, 27.9, 0.02, 24.32], \"color\": \"rgb(107,174,214)\", \"line\": {\"width\": 0}}}, {\"type\": \"scattergeo\", \"lon\": [-9.7, -9.43, -11.78], \"lat\": [9.95, 6.43, 8.46], \"text\": [460.0, 329.0, 533.0], \"name\": \"July\", \"marker\": {\"size\": [9.2, 6.58, 10.66], \"color\": \"rgb(189,215,231)\", \"line\": {\"width\": 0}}}, {\"type\": \"scattergeo\", \"lon\": [-9.7, -9.43, -11.78], \"lat\": [9.95, 6.43, 8.46], \"text\": [413.0, 107.0, 239.0], \"name\": \"June\", \"marker\": {\"size\": [8.26, 2.14, 4.78], \"color\": \"rgb(239,243,255)\", \"line\": {\"width\": 0}}}, {\"type\": \"choropleth\", \"locationmode\": \"country names\", \"locations\": [\"Guinea\", \"Liberia\", \"Senegal\", \"Sierra Leone\"], \"z\": [1022.0, 3362.0, 3.0, 1940.0], \"text\": [\"Guinea\", \"Liberia\", \"Senegal\", \"Sierra Leone\"], \"colorscale\": [[0, \"rgb(0, 0, 0)\"], [1, \"rgb(0, 0, 0)\"]], \"autocolorscale\": false, \"showscale\": false, \"geo\": \"geo2\"}, {\"type\": \"scattergeo\", \"lon\": [21.0936], \"lat\": [7.1881], \"text\": [\"Africa\"], \"mode\": \"text\", \"showlegend\": false, \"geo\": \"geo2\"}], {\"title\": \"Ebola cases reported by month in West Africa 2014<br> Source: <a href=\\\"https://data.hdx.rwlabs.org/dataset/rowca-ebola-cases\\\">HDX</a>\", \"geo\": {\"resolution\": 50, \"scope\": \"africa\", \"showframe\": false, \"showcoastlines\": true, \"showland\": true, \"landcolor\": \"rgb(229, 229, 229)\", \"countrycolor\": \"rgb(255, 255, 255)\", \"coastlinecolor\": \"rgb(255, 255, 255)\", \"projection\": {\"type\": \"Mercator\"}, \"lonaxis\": {\"range\": [-15.0, -5.0]}, \"lataxis\": {\"range\": [0.0, 12.0]}, \"domain\": {\"x\": [0, 1], \"y\": [0, 1]}}, \"geo2\": {\"scope\": \"africa\", \"showframe\": false, \"showland\": true, \"landcolor\": \"rgb(229, 229, 229)\", \"showcountries\": false, \"domain\": {\"x\": [0, 0.6], \"y\": [0, 0.6]}, \"bgcolor\": \"rgba(255, 255, 255, 0.0)\"}, \"legend\": {\"traceorder\": \"reversed\"}}, {\"showLink\": true, \"linkText\": \"Export to plot.ly\"})});</script>"
      ],
      "text/vnd.plotly.v1+html": [
       "<div id=\"22af8f50-59ba-47ef-8dc3-7384c36b7422\" style=\"height: 525px; width: 100%;\" class=\"plotly-graph-div\"></div><script type=\"text/javascript\">require([\"plotly\"], function(Plotly) { window.PLOTLYENV=window.PLOTLYENV || {};window.PLOTLYENV.BASE_URL=\"https://plot.ly\";Plotly.newPlot(\"22af8f50-59ba-47ef-8dc3-7384c36b7422\", [{\"type\": \"scattergeo\", \"lon\": [-9.7, -9.43, -14.45, -11.78], \"lat\": [9.95, 6.43, 14.5, 8.46], \"text\": [\"1022 Guinea\", \"3362 Liberia\", \"3 Senegal\", \"1940 Sierra Leone\"], \"name\": \"Sept\", \"marker\": {\"size\": [20.44, 67.24, 0.06, 38.8], \"color\": \"rgb(33,113,181)\", \"line\": {\"width\": 0}}, \"mode\": \"markers+text\", \"textposition\": \"bottom center\"}, {\"type\": \"scattergeo\", \"lon\": [-9.7, -9.43, -14.45, -11.78], \"lat\": [9.95, 6.43, 14.5, 8.46], \"text\": [771.0, 1395.0, 1.0, 1216.0], \"name\": \"Aug\", \"marker\": {\"size\": [15.42, 27.9, 0.02, 24.32], \"color\": \"rgb(107,174,214)\", \"line\": {\"width\": 0}}}, {\"type\": \"scattergeo\", \"lon\": [-9.7, -9.43, -11.78], \"lat\": [9.95, 6.43, 8.46], \"text\": [460.0, 329.0, 533.0], \"name\": \"July\", \"marker\": {\"size\": [9.2, 6.58, 10.66], \"color\": \"rgb(189,215,231)\", \"line\": {\"width\": 0}}}, {\"type\": \"scattergeo\", \"lon\": [-9.7, -9.43, -11.78], \"lat\": [9.95, 6.43, 8.46], \"text\": [413.0, 107.0, 239.0], \"name\": \"June\", \"marker\": {\"size\": [8.26, 2.14, 4.78], \"color\": \"rgb(239,243,255)\", \"line\": {\"width\": 0}}}, {\"type\": \"choropleth\", \"locationmode\": \"country names\", \"locations\": [\"Guinea\", \"Liberia\", \"Senegal\", \"Sierra Leone\"], \"z\": [1022.0, 3362.0, 3.0, 1940.0], \"text\": [\"Guinea\", \"Liberia\", \"Senegal\", \"Sierra Leone\"], \"colorscale\": [[0, \"rgb(0, 0, 0)\"], [1, \"rgb(0, 0, 0)\"]], \"autocolorscale\": false, \"showscale\": false, \"geo\": \"geo2\"}, {\"type\": \"scattergeo\", \"lon\": [21.0936], \"lat\": [7.1881], \"text\": [\"Africa\"], \"mode\": \"text\", \"showlegend\": false, \"geo\": \"geo2\"}], {\"title\": \"Ebola cases reported by month in West Africa 2014<br> Source: <a href=\\\"https://data.hdx.rwlabs.org/dataset/rowca-ebola-cases\\\">HDX</a>\", \"geo\": {\"resolution\": 50, \"scope\": \"africa\", \"showframe\": false, \"showcoastlines\": true, \"showland\": true, \"landcolor\": \"rgb(229, 229, 229)\", \"countrycolor\": \"rgb(255, 255, 255)\", \"coastlinecolor\": \"rgb(255, 255, 255)\", \"projection\": {\"type\": \"Mercator\"}, \"lonaxis\": {\"range\": [-15.0, -5.0]}, \"lataxis\": {\"range\": [0.0, 12.0]}, \"domain\": {\"x\": [0, 1], \"y\": [0, 1]}}, \"geo2\": {\"scope\": \"africa\", \"showframe\": false, \"showland\": true, \"landcolor\": \"rgb(229, 229, 229)\", \"showcountries\": false, \"domain\": {\"x\": [0, 0.6], \"y\": [0, 0.6]}, \"bgcolor\": \"rgba(255, 255, 255, 0.0)\"}, \"legend\": {\"traceorder\": \"reversed\"}}, {\"showLink\": true, \"linkText\": \"Export to plot.ly\"})});</script>"
      ]
     },
     "metadata": {},
     "output_type": "display_data"
    }
   ],
   "source": [
    "df = pd.read_csv('https://raw.githubusercontent.com/plotly/datasets/master/2014_ebola.csv')\n",
    "df.head()\n",
    "\n",
    "cases = []\n",
    "colors = ['rgb(239,243,255)','rgb(189,215,231)','rgb(107,174,214)','rgb(33,113,181)']\n",
    "months = {6:'June',7:'July',8:'Aug',9:'Sept'}\n",
    "\n",
    "for i in range(6,10)[::-1]:\n",
    "    cases.append(go.Scattergeo(\n",
    "            lon = df[ df['Month'] == i ]['Lon'], #-(max(range(6,10))-i),\n",
    "            lat = df[ df['Month'] == i ]['Lat'],\n",
    "            text = df[ df['Month'] == i ]['Value'],\n",
    "            name = months[i],\n",
    "            marker = dict(\n",
    "                size = df[ df['Month'] == i ]['Value']/50,\n",
    "                color = colors[i-6],\n",
    "                line = dict(width = 0)\n",
    "            )\n",
    "        )\n",
    "    )\n",
    "\n",
    "cases[0]['text'] = df[ df['Month'] == 9 ]['Value'].map('{:.0f}'.format).astype(str)+' '+\\\n",
    "    df[ df['Month'] == 9 ]['Country']\n",
    "cases[0]['mode'] = 'markers+text'\n",
    "cases[0]['textposition'] = 'bottom center'\n",
    "\n",
    "inset = [\n",
    "    go.Choropleth(\n",
    "        locationmode = 'country names',\n",
    "        locations = df[ df['Month'] == 9 ]['Country'],\n",
    "        z = df[ df['Month'] == 9 ]['Value'],\n",
    "        text = df[ df['Month'] == 9 ]['Country'],\n",
    "        colorscale = [[0,'rgb(0, 0, 0)'],[1,'rgb(0, 0, 0)']],\n",
    "        autocolorscale = False,\n",
    "        showscale = False,\n",
    "        geo = 'geo2'\n",
    "    ),\n",
    "    go.Scattergeo(\n",
    "        lon = [21.0936],\n",
    "        lat = [7.1881],\n",
    "        text = ['Africa'],\n",
    "        mode = 'text',\n",
    "        showlegend = False,\n",
    "        geo = 'geo2'\n",
    "    )\n",
    "]\n",
    "\n",
    "layout = go.Layout(\n",
    "    title = 'Ebola cases reported by month in West Africa 2014<br> \\\n",
    "Source: <a href=\"https://data.hdx.rwlabs.org/dataset/rowca-ebola-cases\">\\\n",
    "HDX</a>',\n",
    "    geo = dict(\n",
    "        resolution = 50,\n",
    "        scope = 'africa',\n",
    "        showframe = False,\n",
    "        showcoastlines = True,\n",
    "        showland = True,\n",
    "        landcolor = \"rgb(229, 229, 229)\",\n",
    "        countrycolor = \"rgb(255, 255, 255)\" ,\n",
    "        coastlinecolor = \"rgb(255, 255, 255)\",\n",
    "        projection = dict(\n",
    "            type = 'Mercator'\n",
    "        ),\n",
    "        lonaxis = dict( range= [ -15.0, -5.0 ] ),\n",
    "        lataxis = dict( range= [ 0.0, 12.0 ] ),\n",
    "        domain = dict(\n",
    "            x = [ 0, 1 ],\n",
    "            y = [ 0, 1 ]\n",
    "        )\n",
    "    ),\n",
    "    geo2 = dict(\n",
    "        scope = 'africa',\n",
    "        showframe = False,\n",
    "        showland = True,\n",
    "        landcolor = \"rgb(229, 229, 229)\",\n",
    "        showcountries = False,\n",
    "        domain = dict(\n",
    "            x = [ 0, 0.6 ],\n",
    "            y = [ 0, 0.6 ]\n",
    "        ),\n",
    "        bgcolor = 'rgba(255, 255, 255, 0.0)',\n",
    "    ),\n",
    "    legend = dict(\n",
    "           traceorder = 'reversed'\n",
    "    )\n",
    ")\n",
    "\n",
    "fig = go.Figure(layout=layout, data=cases+inset)\n",
    "\n",
    "iplot(fig, validate=False, filename='West Africa Ebola cases 2014' )"
   ]
  },
  {
   "cell_type": "code",
   "execution_count": 20,
   "metadata": {},
   "outputs": [
    {
     "data": {
      "text/html": [
       "<div>\n",
       "<style scoped>\n",
       "    .dataframe tbody tr th:only-of-type {\n",
       "        vertical-align: middle;\n",
       "    }\n",
       "\n",
       "    .dataframe tbody tr th {\n",
       "        vertical-align: top;\n",
       "    }\n",
       "\n",
       "    .dataframe thead th {\n",
       "        text-align: right;\n",
       "    }\n",
       "</style>\n",
       "<table border=\"1\" class=\"dataframe\">\n",
       "  <thead>\n",
       "    <tr style=\"text-align: right;\">\n",
       "      <th></th>\n",
       "      <th>ville</th>\n",
       "      <th>lat</th>\n",
       "      <th>lon</th>\n",
       "      <th>code</th>\n",
       "      <th>population</th>\n",
       "    </tr>\n",
       "  </thead>\n",
       "  <tbody>\n",
       "    <tr>\n",
       "      <th>0</th>\n",
       "      <td>Nantes</td>\n",
       "      <td>47.216667</td>\n",
       "      <td>-1.550000</td>\n",
       "      <td>44109</td>\n",
       "      <td>934165</td>\n",
       "    </tr>\n",
       "    <tr>\n",
       "      <th>1</th>\n",
       "      <td>Paris</td>\n",
       "      <td>48.866667</td>\n",
       "      <td>2.333333</td>\n",
       "      <td>75100</td>\n",
       "      <td>2206488</td>\n",
       "    </tr>\n",
       "    <tr>\n",
       "      <th>2</th>\n",
       "      <td>Marseille</td>\n",
       "      <td>43.300000</td>\n",
       "      <td>5.400000</td>\n",
       "      <td>13200</td>\n",
       "      <td>861635</td>\n",
       "    </tr>\n",
       "  </tbody>\n",
       "</table>\n",
       "</div>"
      ],
      "text/plain": [
       "       ville        lat       lon   code  population\n",
       "0     Nantes  47.216667 -1.550000  44109      934165\n",
       "1      Paris  48.866667  2.333333  75100     2206488\n",
       "2  Marseille  43.300000  5.400000  13200      861635"
      ]
     },
     "execution_count": 20,
     "metadata": {},
     "output_type": "execute_result"
    }
   ],
   "source": [
    "df = pd.DataFrame({\n",
    "    'ville': ['Nantes', 'Paris', 'Marseille'],\n",
    "    'lat': [47.216667, 48.866667, 43.300000],\n",
    "    'lon': [-1.550000, 2.333333, 5.400000],\n",
    "    'code': ['44109', '75100', '13200'],\n",
    "    'population': [934165, 2206488, 861635]\n",
    "})\n",
    "\n",
    "df"
   ]
  },
  {
   "cell_type": "code",
   "execution_count": 21,
   "metadata": {},
   "outputs": [
    {
     "data": {
      "application/vnd.plotly.v1+json": {
       "data": [
        {
         "lat": [
          47.216667,
          48.866667,
          43.3
         ],
         "lon": [
          -1.55,
          2.333333,
          5.4
         ],
         "marker": {
          "size": [
           21.168594617328534,
           50,
           19.525032540399042
          ]
         },
         "text": [
          "Nantes",
          "Paris",
          "Marseille"
         ],
         "type": "scattergeo"
        }
       ],
       "layout": {
        "geo": {
         "countrycolor": "rgb(255, 255, 255)",
         "landcolor": "rgb(229, 229, 229)",
         "lataxis": {
          "range": [
           42,
           51
          ]
         },
         "lonaxis": {
          "range": [
           -5,
           8
          ]
         },
         "projection": {
          "type": "Mercator"
         },
         "resolution": 50,
         "scope": "europe",
         "showland": true
        },
        "title": "Principales villes de France"
       }
      },
      "text/html": [
       "<div id=\"9bc3e3dc-1f39-49b9-b0ce-a03968c7b08c\" style=\"height: 525px; width: 100%;\" class=\"plotly-graph-div\"></div><script type=\"text/javascript\">require([\"plotly\"], function(Plotly) { window.PLOTLYENV=window.PLOTLYENV || {};window.PLOTLYENV.BASE_URL=\"https://plot.ly\";Plotly.newPlot(\"9bc3e3dc-1f39-49b9-b0ce-a03968c7b08c\", [{\"type\": \"scattergeo\", \"lon\": [-1.55, 2.333333, 5.4], \"lat\": [47.216667, 48.866667, 43.3], \"text\": [\"Nantes\", \"Paris\", \"Marseille\"], \"marker\": {\"size\": [21.168594617328534, 50.0, 19.525032540399042]}}], {\"title\": \"Principales villes de France\", \"geo\": {\"scope\": \"europe\", \"resolution\": 50, \"showland\": true, \"landcolor\": \"rgb(229, 229, 229)\", \"countrycolor\": \"rgb(255, 255, 255)\", \"projection\": {\"type\": \"Mercator\"}, \"lonaxis\": {\"range\": [-5.0, 8.0]}, \"lataxis\": {\"range\": [42.0, 51.0]}}}, {\"showLink\": true, \"linkText\": \"Export to plot.ly\"})});</script>"
      ],
      "text/vnd.plotly.v1+html": [
       "<div id=\"9bc3e3dc-1f39-49b9-b0ce-a03968c7b08c\" style=\"height: 525px; width: 100%;\" class=\"plotly-graph-div\"></div><script type=\"text/javascript\">require([\"plotly\"], function(Plotly) { window.PLOTLYENV=window.PLOTLYENV || {};window.PLOTLYENV.BASE_URL=\"https://plot.ly\";Plotly.newPlot(\"9bc3e3dc-1f39-49b9-b0ce-a03968c7b08c\", [{\"type\": \"scattergeo\", \"lon\": [-1.55, 2.333333, 5.4], \"lat\": [47.216667, 48.866667, 43.3], \"text\": [\"Nantes\", \"Paris\", \"Marseille\"], \"marker\": {\"size\": [21.168594617328534, 50.0, 19.525032540399042]}}], {\"title\": \"Principales villes de France\", \"geo\": {\"scope\": \"europe\", \"resolution\": 50, \"showland\": true, \"landcolor\": \"rgb(229, 229, 229)\", \"countrycolor\": \"rgb(255, 255, 255)\", \"projection\": {\"type\": \"Mercator\"}, \"lonaxis\": {\"range\": [-5.0, 8.0]}, \"lataxis\": {\"range\": [42.0, 51.0]}}}, {\"showLink\": true, \"linkText\": \"Export to plot.ly\"})});</script>"
      ]
     },
     "metadata": {},
     "output_type": "display_data"
    }
   ],
   "source": [
    "trace = go.Scattergeo(\n",
    "    lon=df['lon'],\n",
    "    lat=df['lat'],\n",
    "    text=df['ville'],\n",
    "    marker={\n",
    "        'size': 50. * df['population'] / df['population'].max()\n",
    "    }\n",
    ")\n",
    "\n",
    "layout = go.Layout(\n",
    "    title=\"Principales villes de France\",\n",
    "    geo={\n",
    "        'scope': 'europe',\n",
    "        'resolution': 50,\n",
    "        'showland': True,\n",
    "        'landcolor': \"rgb(229, 229, 229)\",\n",
    "        'countrycolor': \"rgb(255, 255, 255)\",\n",
    "        'projection': {'type': 'Mercator'},\n",
    "        'lonaxis': {\n",
    "            'range': [-5.0, 8.0]\n",
    "        },\n",
    "        'lataxis': {\n",
    "            'range': [42.0, 51.0]\n",
    "        }\n",
    "    }\n",
    ")\n",
    "\n",
    "figure = go.Figure(layout=layout, data=go.Data([trace]))\n",
    "iplot(figure)"
   ]
  },
  {
   "cell_type": "markdown",
   "metadata": {},
   "source": [
    "`Scattergeo` est pratique pour les cartes à grande échelle, mais si vous voulez une carte avec des villes et des rues, etc., vous serez vite limités.\n",
    "\n",
    "`Plotly` propose de s'aider de la solution [Mapbox](https://www.mapbox.com/) pour cela."
   ]
  },
  {
   "cell_type": "markdown",
   "metadata": {},
   "source": [
    "On a besoin d'avoir un compte sur mapbox et de récupérer une clé pour l'utiliser. Voici une petite fonction qui permettra de lire la clé."
   ]
  },
  {
   "cell_type": "code",
   "execution_count": 26,
   "metadata": {},
   "outputs": [],
   "source": [
    "def get_mapbox_access_token(folderpath='.', filename=\"mapbox.txt\"):\n",
    "    import os\n",
    "    \n",
    "    with open(os.path.join(folderpath, filename), 'r') as file:\n",
    "        s = file.read()\n",
    "    \n",
    "    return s"
   ]
  },
  {
   "cell_type": "code",
   "execution_count": 27,
   "metadata": {},
   "outputs": [
    {
     "data": {
      "application/vnd.plotly.v1+json": {
       "data": [
        {
         "lat": [
          "38.91427",
          "38.91538",
          "38.91458",
          "38.92239",
          "38.93222",
          "38.90842",
          "38.91931",
          "38.93260",
          "38.91368",
          "38.88516",
          "38.921894",
          "38.93206",
          "38.91275"
         ],
         "lon": [
          "-77.02827",
          "-77.02013",
          "-77.03155",
          "-77.04227",
          "-77.02854",
          "-77.02419",
          "-77.02518",
          "-77.03304",
          "-77.04509",
          "-76.99656",
          "-77.042438",
          "-77.02821",
          "-77.01239"
         ],
         "marker": {
          "size": 9
         },
         "mode": "markers",
         "text": [
          "The coffee bar",
          "Bistro Bohem",
          "Black Cat",
          "Snap",
          "Columbia Heights Coffee",
          "Azi's Cafe",
          "Blind Dog Cafe",
          "Le Caprice",
          "Filter",
          "Peregrine",
          "Tryst",
          "The Coupe",
          "Big Bear Cafe"
         ],
         "type": "scattermapbox"
        }
       ],
       "layout": {
        "autosize": true,
        "hovermode": "closest",
        "mapbox": {
         "accesstoken": "pk.eyJ1IjoibG9sb2Rlc2JvaXMiLCJhIjoiY2owdXJmbGF2MDA0aDMybXMxcG55MHUzdyJ9._aIlS4r9r4n4jNp3QqKcLQ",
         "bearing": 0,
         "center": {
          "lat": 38.92,
          "lon": -77.07
         },
         "pitch": 0,
         "zoom": 10
        }
       }
      },
      "text/html": [
       "<div id=\"44453dae-90a2-4adf-a801-fd11414679c9\" style=\"height: 525px; width: 100%;\" class=\"plotly-graph-div\"></div><script type=\"text/javascript\">require([\"plotly\"], function(Plotly) { window.PLOTLYENV=window.PLOTLYENV || {};window.PLOTLYENV.BASE_URL=\"https://plot.ly\";Plotly.newPlot(\"44453dae-90a2-4adf-a801-fd11414679c9\", [{\"type\": \"scattermapbox\", \"lat\": [\"38.91427\", \"38.91538\", \"38.91458\", \"38.92239\", \"38.93222\", \"38.90842\", \"38.91931\", \"38.93260\", \"38.91368\", \"38.88516\", \"38.921894\", \"38.93206\", \"38.91275\"], \"lon\": [\"-77.02827\", \"-77.02013\", \"-77.03155\", \"-77.04227\", \"-77.02854\", \"-77.02419\", \"-77.02518\", \"-77.03304\", \"-77.04509\", \"-76.99656\", \"-77.042438\", \"-77.02821\", \"-77.01239\"], \"mode\": \"markers\", \"marker\": {\"size\": 9}, \"text\": [\"The coffee bar\", \"Bistro Bohem\", \"Black Cat\", \"Snap\", \"Columbia Heights Coffee\", \"Azi's Cafe\", \"Blind Dog Cafe\", \"Le Caprice\", \"Filter\", \"Peregrine\", \"Tryst\", \"The Coupe\", \"Big Bear Cafe\"]}], {\"autosize\": true, \"hovermode\": \"closest\", \"mapbox\": {\"accesstoken\": \"pk.eyJ1IjoibG9sb2Rlc2JvaXMiLCJhIjoiY2owdXJmbGF2MDA0aDMybXMxcG55MHUzdyJ9._aIlS4r9r4n4jNp3QqKcLQ\", \"bearing\": 0, \"center\": {\"lat\": 38.92, \"lon\": -77.07}, \"pitch\": 0, \"zoom\": 10}}, {\"showLink\": true, \"linkText\": \"Export to plot.ly\"})});</script>"
      ],
      "text/vnd.plotly.v1+html": [
       "<div id=\"44453dae-90a2-4adf-a801-fd11414679c9\" style=\"height: 525px; width: 100%;\" class=\"plotly-graph-div\"></div><script type=\"text/javascript\">require([\"plotly\"], function(Plotly) { window.PLOTLYENV=window.PLOTLYENV || {};window.PLOTLYENV.BASE_URL=\"https://plot.ly\";Plotly.newPlot(\"44453dae-90a2-4adf-a801-fd11414679c9\", [{\"type\": \"scattermapbox\", \"lat\": [\"38.91427\", \"38.91538\", \"38.91458\", \"38.92239\", \"38.93222\", \"38.90842\", \"38.91931\", \"38.93260\", \"38.91368\", \"38.88516\", \"38.921894\", \"38.93206\", \"38.91275\"], \"lon\": [\"-77.02827\", \"-77.02013\", \"-77.03155\", \"-77.04227\", \"-77.02854\", \"-77.02419\", \"-77.02518\", \"-77.03304\", \"-77.04509\", \"-76.99656\", \"-77.042438\", \"-77.02821\", \"-77.01239\"], \"mode\": \"markers\", \"marker\": {\"size\": 9}, \"text\": [\"The coffee bar\", \"Bistro Bohem\", \"Black Cat\", \"Snap\", \"Columbia Heights Coffee\", \"Azi's Cafe\", \"Blind Dog Cafe\", \"Le Caprice\", \"Filter\", \"Peregrine\", \"Tryst\", \"The Coupe\", \"Big Bear Cafe\"]}], {\"autosize\": true, \"hovermode\": \"closest\", \"mapbox\": {\"accesstoken\": \"pk.eyJ1IjoibG9sb2Rlc2JvaXMiLCJhIjoiY2owdXJmbGF2MDA0aDMybXMxcG55MHUzdyJ9._aIlS4r9r4n4jNp3QqKcLQ\", \"bearing\": 0, \"center\": {\"lat\": 38.92, \"lon\": -77.07}, \"pitch\": 0, \"zoom\": 10}}, {\"showLink\": true, \"linkText\": \"Export to plot.ly\"})});</script>"
      ]
     },
     "metadata": {},
     "output_type": "display_data"
    }
   ],
   "source": [
    "mapbox_access_token = get_mapbox_access_token()\n",
    "\n",
    "data = [\n",
    "    go.Scattermapbox(\n",
    "        lat=['38.91427','38.91538','38.91458',\n",
    "             '38.92239','38.93222','38.90842',\n",
    "             '38.91931','38.93260','38.91368',\n",
    "             '38.88516','38.921894','38.93206',\n",
    "             '38.91275'],\n",
    "        lon=['-77.02827','-77.02013','-77.03155',\n",
    "             '-77.04227','-77.02854','-77.02419',\n",
    "             '-77.02518','-77.03304','-77.04509',\n",
    "             '-76.99656','-77.042438','-77.02821',\n",
    "             '-77.01239'],\n",
    "        mode='markers',\n",
    "        marker=dict(\n",
    "            size=9\n",
    "        ),\n",
    "        text=[\"The coffee bar\",\"Bistro Bohem\",\"Black Cat\",\n",
    "             \"Snap\",\"Columbia Heights Coffee\",\"Azi's Cafe\",\n",
    "             \"Blind Dog Cafe\",\"Le Caprice\",\"Filter\",\n",
    "             \"Peregrine\",\"Tryst\",\"The Coupe\",\n",
    "             \"Big Bear Cafe\"],\n",
    "    )\n",
    "]\n",
    "\n",
    "layout = go.Layout(\n",
    "    autosize=True,\n",
    "    hovermode='closest',\n",
    "    mapbox=dict(\n",
    "        accesstoken=mapbox_access_token,\n",
    "        bearing=0,\n",
    "        center=dict(\n",
    "            lat=38.92,\n",
    "            lon=-77.07\n",
    "        ),\n",
    "        pitch=0,\n",
    "        zoom=10\n",
    "    ),\n",
    ")\n",
    "\n",
    "fig = dict(data=data, layout=layout)\n",
    "iplot(fig, filename='Multiple Mapbox')"
   ]
  },
  {
   "cell_type": "markdown",
   "metadata": {},
   "source": [
    "# Et si je veux plus de types de graphiques ?"
   ]
  },
  {
   "cell_type": "markdown",
   "metadata": {},
   "source": [
    "Alors je vais voir [ici](https://plot.ly/python/)."
   ]
  },
  {
   "cell_type": "code",
   "execution_count": null,
   "metadata": {
    "collapsed": true
   },
   "outputs": [],
   "source": []
  }
 ],
 "metadata": {
  "kernelspec": {
   "display_name": "Python 3",
   "language": "python",
   "name": "python3"
  },
  "language_info": {
   "codemirror_mode": {
    "name": "ipython",
    "version": 3
   },
   "file_extension": ".py",
   "mimetype": "text/x-python",
   "name": "python",
   "nbconvert_exporter": "python",
   "pygments_lexer": "ipython3",
   "version": "3.6.4"
  }
 },
 "nbformat": 4,
 "nbformat_minor": 2
}
