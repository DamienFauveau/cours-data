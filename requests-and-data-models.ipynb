{
 "cells": [
  {
   "cell_type": "markdown",
   "metadata": {},
   "source": [
    "# Import des modules nécessaires"
   ]
  },
  {
   "cell_type": "code",
   "execution_count": 1,
   "metadata": {},
   "outputs": [],
   "source": [
    "# Pour manipuler efficacement des tables de données dans Python\n",
    "import pandas as pd\n",
    "\n",
    "# Pour faire des requêtes GET et POST\n",
    "import requests"
   ]
  },
  {
   "cell_type": "code",
   "execution_count": 2,
   "metadata": {},
   "outputs": [
    {
     "name": "stdout",
     "output_type": "stream",
     "text": [
      "0.22.0\n"
     ]
    }
   ],
   "source": [
    "print(pd.__version__)"
   ]
  },
  {
   "cell_type": "code",
   "execution_count": 3,
   "metadata": {},
   "outputs": [
    {
     "name": "stdout",
     "output_type": "stream",
     "text": [
      "2.18.4\n"
     ]
    }
   ],
   "source": [
    "print(requests.__version__)"
   ]
  },
  {
   "cell_type": "markdown",
   "metadata": {},
   "source": [
    "# Requêtage d'une API REST"
   ]
  },
  {
   "cell_type": "markdown",
   "metadata": {},
   "source": [
    "Pour lancer une requête GET, c'est ultra-simple : on utilise `requests.get(url)`.\n",
    "\n",
    "Si vous voulez glisser des paramètres avec la requête, utilisez l'argument optionnel `params`, qui accepte un simple dictionnaire."
   ]
  },
  {
   "cell_type": "code",
   "execution_count": 4,
   "metadata": {},
   "outputs": [],
   "source": [
    "r = requests.get(\"https://data.angers.fr/api/records/1.0/search/\",\n",
    "                 params={\n",
    "                     'dataset': 'horaires-theoriques-et-arrets-du-reseau-irigo-gtfs',\n",
    "                     'rows': 10\n",
    "                 })"
   ]
  },
  {
   "cell_type": "markdown",
   "metadata": {},
   "source": [
    "Regardons la nature de ce qui nous est renvoyé."
   ]
  },
  {
   "cell_type": "code",
   "execution_count": 5,
   "metadata": {},
   "outputs": [
    {
     "data": {
      "text/plain": [
       "requests.models.Response"
      ]
     },
     "execution_count": 5,
     "metadata": {},
     "output_type": "execute_result"
    }
   ],
   "source": [
    "type(r)"
   ]
  },
  {
   "cell_type": "markdown",
   "metadata": {},
   "source": [
    "C'est un objet de la classe `Response`. Si vous voulez connaitre toutes les méthodes attachées, faites `help(r)`"
   ]
  },
  {
   "cell_type": "code",
   "execution_count": 6,
   "metadata": {},
   "outputs": [
    {
     "name": "stdout",
     "output_type": "stream",
     "text": [
      "Help on Response in module requests.models object:\n",
      "\n",
      "class Response(builtins.object)\n",
      " |  The :class:`Response <Response>` object, which contains a\n",
      " |  server's response to an HTTP request.\n",
      " |  \n",
      " |  Methods defined here:\n",
      " |  \n",
      " |  __bool__(self)\n",
      " |      Returns True if :attr:`status_code` is less than 400.\n",
      " |      \n",
      " |      This attribute checks if the status code of the response is between\n",
      " |      400 and 600 to see if there was a client error or a server error. If\n",
      " |      the status code, is between 200 and 400, this will return True. This\n",
      " |      is **not** a check to see if the response code is ``200 OK``.\n",
      " |  \n",
      " |  __enter__(self)\n",
      " |  \n",
      " |  __exit__(self, *args)\n",
      " |  \n",
      " |  __getstate__(self)\n",
      " |  \n",
      " |  __init__(self)\n",
      " |      Initialize self.  See help(type(self)) for accurate signature.\n",
      " |  \n",
      " |  __iter__(self)\n",
      " |      Allows you to use a response as an iterator.\n",
      " |  \n",
      " |  __nonzero__(self)\n",
      " |      Returns True if :attr:`status_code` is less than 400.\n",
      " |      \n",
      " |      This attribute checks if the status code of the response is between\n",
      " |      400 and 600 to see if there was a client error or a server error. If\n",
      " |      the status code, is between 200 and 400, this will return True. This\n",
      " |      is **not** a check to see if the response code is ``200 OK``.\n",
      " |  \n",
      " |  __repr__(self)\n",
      " |      Return repr(self).\n",
      " |  \n",
      " |  __setstate__(self, state)\n",
      " |  \n",
      " |  close(self)\n",
      " |      Releases the connection back to the pool. Once this method has been\n",
      " |      called the underlying ``raw`` object must not be accessed again.\n",
      " |      \n",
      " |      *Note: Should not normally need to be called explicitly.*\n",
      " |  \n",
      " |  iter_content(self, chunk_size=1, decode_unicode=False)\n",
      " |      Iterates over the response data.  When stream=True is set on the\n",
      " |      request, this avoids reading the content at once into memory for\n",
      " |      large responses.  The chunk size is the number of bytes it should\n",
      " |      read into memory.  This is not necessarily the length of each item\n",
      " |      returned as decoding can take place.\n",
      " |      \n",
      " |      chunk_size must be of type int or None. A value of None will\n",
      " |      function differently depending on the value of `stream`.\n",
      " |      stream=True will read data as it arrives in whatever size the\n",
      " |      chunks are received. If stream=False, data is returned as\n",
      " |      a single chunk.\n",
      " |      \n",
      " |      If decode_unicode is True, content will be decoded using the best\n",
      " |      available encoding based on the response.\n",
      " |  \n",
      " |  iter_lines(self, chunk_size=512, decode_unicode=None, delimiter=None)\n",
      " |      Iterates over the response data, one line at a time.  When\n",
      " |      stream=True is set on the request, this avoids reading the\n",
      " |      content at once into memory for large responses.\n",
      " |      \n",
      " |      .. note:: This method is not reentrant safe.\n",
      " |  \n",
      " |  json(self, **kwargs)\n",
      " |      Returns the json-encoded content of a response, if any.\n",
      " |      \n",
      " |      :param \\*\\*kwargs: Optional arguments that ``json.loads`` takes.\n",
      " |      :raises ValueError: If the response body does not contain valid json.\n",
      " |  \n",
      " |  raise_for_status(self)\n",
      " |      Raises stored :class:`HTTPError`, if one occurred.\n",
      " |  \n",
      " |  ----------------------------------------------------------------------\n",
      " |  Data descriptors defined here:\n",
      " |  \n",
      " |  __dict__\n",
      " |      dictionary for instance variables (if defined)\n",
      " |  \n",
      " |  __weakref__\n",
      " |      list of weak references to the object (if defined)\n",
      " |  \n",
      " |  apparent_encoding\n",
      " |      The apparent encoding, provided by the chardet library.\n",
      " |  \n",
      " |  content\n",
      " |      Content of the response, in bytes.\n",
      " |  \n",
      " |  is_permanent_redirect\n",
      " |      True if this Response one of the permanent versions of redirect.\n",
      " |  \n",
      " |  is_redirect\n",
      " |      True if this Response is a well-formed HTTP redirect that could have\n",
      " |      been processed automatically (by :meth:`Session.resolve_redirects`).\n",
      " |  \n",
      " |  links\n",
      " |      Returns the parsed header links of the response, if any.\n",
      " |  \n",
      " |  next\n",
      " |      Returns a PreparedRequest for the next request in a redirect chain, if there is one.\n",
      " |  \n",
      " |  ok\n",
      " |      Returns True if :attr:`status_code` is less than 400.\n",
      " |      \n",
      " |      This attribute checks if the status code of the response is between\n",
      " |      400 and 600 to see if there was a client error or a server error. If\n",
      " |      the status code, is between 200 and 400, this will return True. This\n",
      " |      is **not** a check to see if the response code is ``200 OK``.\n",
      " |  \n",
      " |  text\n",
      " |      Content of the response, in unicode.\n",
      " |      \n",
      " |      If Response.encoding is None, encoding will be guessed using\n",
      " |      ``chardet``.\n",
      " |      \n",
      " |      The encoding of the response content is determined based solely on HTTP\n",
      " |      headers, following RFC 2616 to the letter. If you can take advantage of\n",
      " |      non-HTTP knowledge to make a better guess at the encoding, you should\n",
      " |      set ``r.encoding`` appropriately before accessing this property.\n",
      " |  \n",
      " |  ----------------------------------------------------------------------\n",
      " |  Data and other attributes defined here:\n",
      " |  \n",
      " |  __attrs__ = ['_content', 'status_code', 'headers', 'url', 'history', '...\n",
      "\n"
     ]
    }
   ],
   "source": [
    "help(r)"
   ]
  },
  {
   "cell_type": "markdown",
   "metadata": {},
   "source": [
    "Pour tester que tout a bien fonctionnné, on va vérifié le statut."
   ]
  },
  {
   "cell_type": "code",
   "execution_count": 7,
   "metadata": {},
   "outputs": [],
   "source": [
    "r.raise_for_status()"
   ]
  },
  {
   "cell_type": "markdown",
   "metadata": {},
   "source": [
    "Si ça dit rien c'est que c'est bon :) Dans le doute, regardons le statut..."
   ]
  },
  {
   "cell_type": "code",
   "execution_count": 8,
   "metadata": {},
   "outputs": [
    {
     "data": {
      "text/plain": [
       "200"
      ]
     },
     "execution_count": 8,
     "metadata": {},
     "output_type": "execute_result"
    }
   ],
   "source": [
    "r.status_code"
   ]
  },
  {
   "cell_type": "markdown",
   "metadata": {},
   "source": [
    "Statut 200 = succès !!"
   ]
  },
  {
   "cell_type": "markdown",
   "metadata": {},
   "source": [
    "Pour récupérer le contenu de la réponse, vous pouvez utiliser `r.text`.\n",
    "\n",
    "Il y a aussi un décodeur JSON, si on sait que la réponse est dans ce format. Du coup, il parse le JSON et rend un dictionnaire !"
   ]
  },
  {
   "cell_type": "code",
   "execution_count": 9,
   "metadata": {
    "scrolled": true
   },
   "outputs": [
    {
     "data": {
      "text/plain": [
       "{'nhits': 2345,\n",
       " 'parameters': {'dataset': ['horaires-theoriques-et-arrets-du-reseau-irigo-gtfs'],\n",
       "  'format': 'json',\n",
       "  'rows': 10,\n",
       "  'timezone': 'UTC'},\n",
       " 'records': [{'datasetid': 'horaires-theoriques-et-arrets-du-reseau-irigo-gtfs',\n",
       "   'fields': {'location_type': '0',\n",
       "    'stop_code': '5009',\n",
       "    'stop_coordinates': [47.51151, -0.59615],\n",
       "    'stop_id': '1AARD',\n",
       "    'stop_name': 'AVRILLE - ARDENNE'},\n",
       "   'geometry': {'coordinates': [-0.59615, 47.51151], 'type': 'Point'},\n",
       "   'record_timestamp': '2018-06-05T08:42:29+00:00',\n",
       "   'recordid': '5bd0b33b1cebfc78f65c4a9b3f7c3bc2b694fad2'},\n",
       "  {'datasetid': 'horaires-theoriques-et-arrets-du-reseau-irigo-gtfs',\n",
       "   'fields': {'location_type': '0',\n",
       "    'stop_code': '4827',\n",
       "    'stop_coordinates': [47.508797, -0.591643],\n",
       "    'stop_id': '1BASC',\n",
       "    'stop_name': 'BASCULE'},\n",
       "   'geometry': {'coordinates': [-0.591643, 47.508797], 'type': 'Point'},\n",
       "   'record_timestamp': '2018-06-05T08:42:29+00:00',\n",
       "   'recordid': '81f22ac7f1433f2bc9397eb11095b88f608bdb31'},\n",
       "  {'datasetid': 'horaires-theoriques-et-arrets-du-reseau-irigo-gtfs',\n",
       "   'fields': {'location_type': '0',\n",
       "    'stop_code': '20509',\n",
       "    'stop_coordinates': [47.444925, -0.562352],\n",
       "    'stop_id': '1JVIL',\n",
       "    'stop_name': 'JEAN VILAR'},\n",
       "   'geometry': {'coordinates': [-0.562352, 47.444925], 'type': 'Point'},\n",
       "   'record_timestamp': '2018-06-05T08:42:29+00:00',\n",
       "   'recordid': '99e597201477d4f3d075ecbdd409f6a63d2a0170'},\n",
       "  {'datasetid': 'horaires-theoriques-et-arrets-du-reseau-irigo-gtfs',\n",
       "   'fields': {'location_type': '0',\n",
       "    'stop_code': '24847',\n",
       "    'stop_coordinates': [47.471211, -0.551782],\n",
       "    'stop_id': '1RALL',\n",
       "    'stop_name': 'RALLIEMENT'},\n",
       "   'geometry': {'coordinates': [-0.551782, 47.471211], 'type': 'Point'},\n",
       "   'record_timestamp': '2018-06-05T08:42:29+00:00',\n",
       "   'recordid': '5523b428309bfc4fa958a67f4f3e0500ba161a62'},\n",
       "  {'datasetid': 'horaires-theoriques-et-arrets-du-reseau-irigo-gtfs',\n",
       "   'fields': {'location_type': '0',\n",
       "    'stop_code': '28864',\n",
       "    'stop_coordinates': [47.479325, -0.549421],\n",
       "    'stop_id': '2BMAI',\n",
       "    'stop_name': 'BERGES DE MAINE'},\n",
       "   'geometry': {'coordinates': [-0.549421, 47.479325], 'type': 'Point'},\n",
       "   'record_timestamp': '2018-06-05T08:42:29+00:00',\n",
       "   'recordid': '6663fa2bdfe991e1c5e6b63b7990210cba21cb76'},\n",
       "  {'datasetid': 'horaires-theoriques-et-arrets-du-reseau-irigo-gtfs',\n",
       "   'fields': {'location_type': '0',\n",
       "    'stop_code': '4486',\n",
       "    'stop_coordinates': [47.444918, -0.562259],\n",
       "    'stop_id': '2JVIL',\n",
       "    'stop_name': 'JEAN VILAR'},\n",
       "   'geometry': {'coordinates': [-0.562259, 47.444918], 'type': 'Point'},\n",
       "   'record_timestamp': '2018-06-05T08:42:29+00:00',\n",
       "   'recordid': '8ee1c740ae7c66587f3fca8deb98d9eace71b81a'},\n",
       "  {'datasetid': 'horaires-theoriques-et-arrets-du-reseau-irigo-gtfs',\n",
       "   'fields': {'location_type': '0',\n",
       "    'stop_code': '22040',\n",
       "    'stop_coordinates': [47.471285, -0.55168],\n",
       "    'stop_id': '2RALL',\n",
       "    'stop_name': 'RALLIEMENT'},\n",
       "   'geometry': {'coordinates': [-0.55168, 47.471285], 'type': 'Point'},\n",
       "   'record_timestamp': '2018-06-05T08:42:29+00:00',\n",
       "   'recordid': 'acea4af1354802b3267929d02c07fe204721496d'},\n",
       "  {'datasetid': 'horaires-theoriques-et-arrets-du-reseau-irigo-gtfs',\n",
       "   'fields': {'location_type': '0',\n",
       "    'stop_code': '180',\n",
       "    'stop_coordinates': [47.481325, -0.688601],\n",
       "    'stop_id': 'ABI',\n",
       "    'stop_name': 'AVICENNE'},\n",
       "   'geometry': {'coordinates': [-0.688601, 47.481325], 'type': 'Point'},\n",
       "   'record_timestamp': '2018-06-05T08:42:29+00:00',\n",
       "   'recordid': 'd315149b21e21514f75768fa61d4685f68f41f43'},\n",
       "  {'datasetid': 'horaires-theoriques-et-arrets-du-reseau-irigo-gtfs',\n",
       "   'fields': {'location_type': '0',\n",
       "    'stop_code': '9581',\n",
       "    'stop_coordinates': [47.502728, -0.585677],\n",
       "    'stop_id': 'ACAS-7C',\n",
       "    'stop_name': 'ACACIAS'},\n",
       "   'geometry': {'coordinates': [-0.585677, 47.502728], 'type': 'Point'},\n",
       "   'record_timestamp': '2018-06-05T08:42:29+00:00',\n",
       "   'recordid': '58422dee79d8db1cd50ce0b7b3592e44b67cfb4d'},\n",
       "  {'datasetid': 'horaires-theoriques-et-arrets-du-reseau-irigo-gtfs',\n",
       "   'fields': {'location_type': '0',\n",
       "    'stop_code': '19485',\n",
       "    'stop_coordinates': [47.503235, -0.585904],\n",
       "    'stop_id': 'ACAS-7E',\n",
       "    'stop_name': 'ACACIAS'},\n",
       "   'geometry': {'coordinates': [-0.585904, 47.503235], 'type': 'Point'},\n",
       "   'record_timestamp': '2018-06-05T08:42:29+00:00',\n",
       "   'recordid': 'e8aec17e998a1070c3badd76b05978fd329b5d13'}]}"
      ]
     },
     "execution_count": 9,
     "metadata": {},
     "output_type": "execute_result"
    }
   ],
   "source": [
    "r.json()"
   ]
  },
  {
   "cell_type": "markdown",
   "metadata": {
    "collapsed": true
   },
   "source": [
    "# Remplissage de DataFrame"
   ]
  },
  {
   "cell_type": "markdown",
   "metadata": {},
   "source": [
    "On peut construire une `DataFrame` directement à partir d'un \"dictionnaires de colonnes\"."
   ]
  },
  {
   "cell_type": "code",
   "execution_count": 10,
   "metadata": {},
   "outputs": [
    {
     "data": {
      "text/html": [
       "<div>\n",
       "<style scoped>\n",
       "    .dataframe tbody tr th:only-of-type {\n",
       "        vertical-align: middle;\n",
       "    }\n",
       "\n",
       "    .dataframe tbody tr th {\n",
       "        vertical-align: top;\n",
       "    }\n",
       "\n",
       "    .dataframe thead th {\n",
       "        text-align: right;\n",
       "    }\n",
       "</style>\n",
       "<table border=\"1\" class=\"dataframe\">\n",
       "  <thead>\n",
       "    <tr style=\"text-align: right;\">\n",
       "      <th></th>\n",
       "      <th>a</th>\n",
       "      <th>b</th>\n",
       "    </tr>\n",
       "  </thead>\n",
       "  <tbody>\n",
       "    <tr>\n",
       "      <th>0</th>\n",
       "      <td>1</td>\n",
       "      <td>3</td>\n",
       "    </tr>\n",
       "    <tr>\n",
       "      <th>1</th>\n",
       "      <td>2</td>\n",
       "      <td>4</td>\n",
       "    </tr>\n",
       "    <tr>\n",
       "      <th>2</th>\n",
       "      <td>3</td>\n",
       "      <td>1</td>\n",
       "    </tr>\n",
       "  </tbody>\n",
       "</table>\n",
       "</div>"
      ],
      "text/plain": [
       "   a  b\n",
       "0  1  3\n",
       "1  2  4\n",
       "2  3  1"
      ]
     },
     "execution_count": 10,
     "metadata": {},
     "output_type": "execute_result"
    }
   ],
   "source": [
    "df = pd.DataFrame({\n",
    "    'a': [1, 2, 3],\n",
    "    'b': [3, 4, 1]\n",
    "})\n",
    "\n",
    "df"
   ]
  },
  {
   "cell_type": "markdown",
   "metadata": {},
   "source": [
    "Par exemple, listons les arrêts, leur id, leur nom et leurs coordonnées GPS."
   ]
  },
  {
   "cell_type": "code",
   "execution_count": 11,
   "metadata": {},
   "outputs": [],
   "source": [
    "dd = r.json()['records']"
   ]
  },
  {
   "cell_type": "code",
   "execution_count": 12,
   "metadata": {},
   "outputs": [
    {
     "data": {
      "text/plain": [
       "{'datasetid': 'horaires-theoriques-et-arrets-du-reseau-irigo-gtfs',\n",
       " 'fields': {'location_type': '0',\n",
       "  'stop_code': '5009',\n",
       "  'stop_coordinates': [47.51151, -0.59615],\n",
       "  'stop_id': '1AARD',\n",
       "  'stop_name': 'AVRILLE - ARDENNE'},\n",
       " 'geometry': {'coordinates': [-0.59615, 47.51151], 'type': 'Point'},\n",
       " 'record_timestamp': '2018-06-05T08:42:29+00:00',\n",
       " 'recordid': '5bd0b33b1cebfc78f65c4a9b3f7c3bc2b694fad2'}"
      ]
     },
     "execution_count": 12,
     "metadata": {},
     "output_type": "execute_result"
    }
   ],
   "source": [
    "dd[0]"
   ]
  },
  {
   "cell_type": "code",
   "execution_count": 15,
   "metadata": {},
   "outputs": [
    {
     "name": "stderr",
     "output_type": "stream",
     "text": [
      "C:\\Users\\Puppybutthole\\Anaconda3\\lib\\site-packages\\ipykernel_launcher.py:13: UserWarning: Pandas doesn't allow columns to be created via a new attribute name - see https://pandas.pydata.org/pandas-docs/stable/indexing.html#attribute-access\n",
      "  del sys.path[0]\n"
     ]
    }
   ],
   "source": [
    "ids = [elem['fields']['stop_id'] for elem in dd]\n",
    "names = [elem['fields']['stop_name'] for elem in dd]\n",
    "lats = [elem['fields']['stop_coordinates'][0] for elem in dd]\n",
    "lons = [elem['fields']['stop_coordinates'][1] for elem in dd]\n",
    "\n",
    "df = pd.DataFrame({\n",
    "    'id': ids,\n",
    "    'name': names,\n",
    "    'latitude': lats,\n",
    "    'longitude': lons\n",
    "})\n",
    "\n",
    "df"
   ]
  },
  {
   "cell_type": "code",
   "execution_count": null,
   "metadata": {},
   "outputs": [],
   "source": []
  },
  {
   "cell_type": "code",
   "execution_count": null,
   "metadata": {},
   "outputs": [],
   "source": []
  }
 ],
 "metadata": {
  "kernelspec": {
   "display_name": "Python 3",
   "language": "python",
   "name": "python3"
  },
  "language_info": {
   "codemirror_mode": {
    "name": "ipython",
    "version": 3
   },
   "file_extension": ".py",
   "mimetype": "text/x-python",
   "name": "python",
   "nbconvert_exporter": "python",
   "pygments_lexer": "ipython3",
   "version": "3.6.4"
  }
 },
 "nbformat": 4,
 "nbformat_minor": 2
}
